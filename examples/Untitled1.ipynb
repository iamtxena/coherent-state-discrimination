{
 "cells": [
  {
   "cell_type": "code",
   "execution_count": 1,
   "id": "e6dd4eab",
   "metadata": {},
   "outputs": [],
   "source": [
    "import numpy as np\n",
    "import strawberryfields as sf\n",
    "import random\n",
    "from typing import List"
   ]
  },
  {
   "cell_type": "code",
   "execution_count": 2,
   "id": "ce0c8233",
   "metadata": {},
   "outputs": [],
   "source": [
    "batch_size = 100\n",
    "alphas = list(np.arange(0.0, 2.1, 0.05))\n",
    "betas = list(np.arange(-8.0, 2.0, 0.1))\n",
    "A = 1\n",
    "A = -1"
   ]
  },
  {
   "cell_type": "code",
   "execution_count": 3,
   "id": "8ec7bdb9",
   "metadata": {},
   "outputs": [],
   "source": [
    "def create_codeword(letters: List[float], codeword_size=10) -> List[float]:\n",
    "        return [random.choice(letters) for _ in range(codeword_size)]"
   ]
  },
  {
   "cell_type": "code",
   "execution_count": 4,
   "id": "a5aaf58c",
   "metadata": {},
   "outputs": [],
   "source": [
    "codeword = create_codeword([A*alphas[15], -A*alphas[15]], codeword_size=batch_size)"
   ]
  },
  {
   "cell_type": "code",
   "execution_count": 5,
   "id": "9d06ed67",
   "metadata": {},
   "outputs": [],
   "source": [
    "p_1 = codeword.count(A*alphas[15])/len(codeword)\n",
    "p_0 = 1 - p_1"
   ]
  },
  {
   "cell_type": "code",
   "execution_count": 6,
   "id": "97f75dd3",
   "metadata": {},
   "outputs": [
    {
     "data": {
      "text/plain": [
       "100"
      ]
     },
     "execution_count": 6,
     "metadata": {},
     "output_type": "execute_result"
    }
   ],
   "source": [
    "len(betas)\n"
   ]
  },
  {
   "cell_type": "code",
   "execution_count": 7,
   "id": "1229350d",
   "metadata": {},
   "outputs": [
    {
     "data": {
      "text/plain": [
       "100"
      ]
     },
     "execution_count": 7,
     "metadata": {},
     "output_type": "execute_result"
    }
   ],
   "source": [
    "len(codeword)"
   ]
  },
  {
   "cell_type": "code",
   "execution_count": 8,
   "id": "6c9dcf98",
   "metadata": {},
   "outputs": [],
   "source": [
    "eng = sf.Engine(backend=\"fock\", backend_options={\n",
    "        \"cutoff_dim\": 7,\n",
    "        \"batch_size\": len(codeword),\n",
    "    })"
   ]
  },
  {
   "cell_type": "code",
   "execution_count": 9,
   "id": "8a2d001b",
   "metadata": {},
   "outputs": [],
   "source": [
    "circuit = sf.Program(1)\n",
    "\n",
    "beta = circuit.params(\"beta\")\n",
    "alpha = circuit.params(\"alpha\")\n",
    "\n",
    "with circuit.context as q:\n",
    "    sf.ops.Dgate(alpha, 0.0) | q[0]\n",
    "    sf.ops.Dgate(beta, 0.0) | q[0]"
   ]
  },
  {
   "cell_type": "code",
   "execution_count": 11,
   "id": "3ee66b97",
   "metadata": {},
   "outputs": [],
   "source": [
    "results = eng.run(circuit, args={\n",
    "            \"beta\": betas[0],\n",
    "            \"alpha\": codeword[0]\n",
    "        })\n",
    "        \n",
    "# get the probability of |0>\n",
    "p_zero = results.state.fock_prob([0])\n",
    "\n",
    "# get the porbability of anything by |0>\n",
    "p_one = 1 - p_zero"
   ]
  },
  {
   "cell_type": "code",
   "execution_count": null,
   "id": "dd9e2366",
   "metadata": {},
   "outputs": [],
   "source": []
  }
 ],
 "metadata": {
  "kernelspec": {
   "display_name": "Python 3 (ipykernel)",
   "language": "python",
   "name": "python3"
  },
  "language_info": {
   "codemirror_mode": {
    "name": "ipython",
    "version": 3
   },
   "file_extension": ".py",
   "mimetype": "text/x-python",
   "name": "python",
   "nbconvert_exporter": "python",
   "pygments_lexer": "ipython3",
   "version": "3.9.5"
  }
 },
 "nbformat": 4,
 "nbformat_minor": 5
}
