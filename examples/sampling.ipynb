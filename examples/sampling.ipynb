{
 "cells": [
  {
   "cell_type": "code",
   "execution_count": 15,
   "id": "1cf554e7",
   "metadata": {},
   "outputs": [],
   "source": [
    "import numpy as np\n",
    "import strawberryfields as sf\n",
    "from strawberryfields.ops import *\n",
    "import os\n",
    "os.environ['TF_CPP_MIN_LOG_LEVEL'] = '3'\n",
    "os.environ[\"TF_FORCE_GPU_ALLOW_GROWTH\"] = \"true\""
   ]
  },
  {
   "cell_type": "code",
   "execution_count": 35,
   "id": "928eda7a",
   "metadata": {},
   "outputs": [],
   "source": [
    "from csd.utils.util import create_optimized_parameters_to_print"
   ]
  },
  {
   "cell_type": "code",
   "execution_count": 36,
   "id": "e7e7b5f7",
   "metadata": {},
   "outputs": [],
   "source": [
    "modes=2\n",
    "optimized_parameters = [-0.008990095928311348,\n",
    "                             -1.7685526609420776,\n",
    "                             -0.00886836089193821,\n",
    "                            -0.008727652952075005,\n",
    "                           0.6994574666023254,\n",
    "                             0.7021579742431641]\n",
    "circuit_parameters = [alpha_0, alpha_1, theta_1_0, phi_1_0, varphi_1_0, varphi_1_1, a_0, a_1]"
   ]
  },
  {
   "cell_type": "code",
   "execution_count": null,
   "id": "5a64bc38",
   "metadata": {},
   "outputs": [],
   "source": [
    "{'theta_1_0': -0.008990095928311348, \n",
    " 'phi_1_0': -1.7685526609420776, \n",
    " 'varphi_1_0': -0.00886836089193821, \n",
    " 'varphi_1_1': -0.008727652952075005, \n",
    " 'a_0': 0.6994574666023254, \n",
    " 'a_1': 0.7021579742431641}"
   ]
  },
  {
   "cell_type": "code",
   "execution_count": 37,
   "id": "5a4e43af",
   "metadata": {},
   "outputs": [
    {
     "data": {
      "text/plain": [
       "{{theta_1_0}: -0.008990095928311348,\n",
       " {phi_1_0}: -1.7685526609420776,\n",
       " {varphi_1_0}: -0.00886836089193821,\n",
       " {varphi_1_1}: -0.008727652952075005,\n",
       " {a_0}: 0.6994574666023254,\n",
       " {a_1}: 0.7021579742431641}"
      ]
     },
     "execution_count": 37,
     "metadata": {},
     "output_type": "execute_result"
    }
   ],
   "source": [
    "create_optimized_parameters_to_print(modes=2, optimized_parameters=optimized_parameters, circuit_parameters=circuit_parameters)"
   ]
  },
  {
   "cell_type": "code",
   "execution_count": null,
   "id": "b21f23b9",
   "metadata": {},
   "outputs": [],
   "source": []
  },
  {
   "cell_type": "code",
   "execution_count": null,
   "id": "d6b8cd62",
   "metadata": {},
   "outputs": [],
   "source": []
  },
  {
   "cell_type": "code",
   "execution_count": 9,
   "id": "b91702cc",
   "metadata": {},
   "outputs": [],
   "source": [
    "[tf_alpha_0, tf_alpha_1, tf_alpha_2] = [0.6687499999999998, 0.6687499999999998, 0.6687499999999998]"
   ]
  },
  {
   "cell_type": "code",
   "execution_count": 12,
   "id": "17612218",
   "metadata": {},
   "outputs": [],
   "source": [
    "[tf_theta_1_0, tf_theta_1_1, tf_theta_1_2, tf_phi_1_0, tf_phi_1_1, tf_phi_1_2, tf_varphi_1_0, tf_varphi_1_1, tf_varphi_1_2, tf_a_0, tf_a_1, tf_a_2] = [0.6989617347717285, -0.4482949376106262, 0.5959842205047607, -0.0008065046276897192, 0.007647479884326458, 0.0014407442649826407, -0.0009840255370363593, 0.0004724813625216484, -0.0002699749602470547, 0.6797224283218384, 0.7170392274856567, 0.6569817662239075]"
   ]
  },
  {
   "cell_type": "code",
   "execution_count": 14,
   "id": "afb367fe",
   "metadata": {},
   "outputs": [
    {
     "data": {
      "text/plain": [
       "-0.0008065046276897192"
      ]
     },
     "execution_count": 14,
     "metadata": {},
     "output_type": "execute_result"
    }
   ],
   "source": [
    "tf_phi_1_0"
   ]
  },
  {
   "cell_type": "code",
   "execution_count": 2,
   "id": "b62dab3d",
   "metadata": {},
   "outputs": [
    {
     "data": {
      "text/plain": [
       "12"
      ]
     },
     "execution_count": 2,
     "metadata": {},
     "output_type": "execute_result"
    }
   ],
   "source": [
    "len([0.6989617347717285, -0.4482949376106262, 0.5959842205047607, -0.0008065046276897192, 0.007647479884326458, 0.0014407442649826407, -0.0009840255370363593, 0.0004724813625216484, -0.0002699749602470547, 0.6797224283218384, 0.7170392274856567, 0.6569817662239075])"
   ]
  },
  {
   "cell_type": "code",
   "execution_count": null,
   "id": "f7af24fd",
   "metadata": {},
   "outputs": [],
   "source": [
    "{'theta_1_0': 0.6989617347717285, \n",
    " 'theta_1_1': -0.4482949376106262, \n",
    " 'theta_1_2': 0.5959842205047607, \n",
    " 'phi_1_0': -0.0008065046276897192, \n",
    " 'phi_1_1': 0.007647479884326458, \n",
    " 'phi_1_2': 0.0014407442649826407, \n",
    " 'varphi_1_0': -0.0009840255370363593, \n",
    " 'varphi_1_1': 0.0004724813625216484, \n",
    " 'varphi_1_2': -0.0002699749602470547, \n",
    " 'a_0': 0.6797224283218384, \n",
    " 'a_1': 0.7170392274856567, \n",
    " 'a_2': 0.6569817662239075}"
   ]
  },
  {
   "cell_type": "code",
   "execution_count": 16,
   "id": "c5f6af5f",
   "metadata": {},
   "outputs": [],
   "source": [
    "alpha_0 = tf_alpha_0\n",
    "alpha_1=tf_alpha_1\n",
    "alpha_2=tf_alpha_2\n",
    "theta_1_0=tf_theta_1_0\n",
    "theta_1_1=tf_theta_1_1\n",
    "theta_1_2=tf_theta_1_2\n",
    "phi_1_0=tf_phi_1_0\n",
    "phi_1_1=tf_phi_1_0\n",
    "phi_1_2=tf_phi_1_0\n",
    "varphi_1_0=tf_varphi_1_0\n",
    "varphi_1_1=tf_varphi_1_1\n",
    "varphi_1_2=tf_varphi_1_2\n",
    "a_0=tf_a_0\n",
    "a_1=tf_a_1\n",
    "a_2=tf_a_2"
   ]
  },
  {
   "cell_type": "code",
   "execution_count": 17,
   "id": "627b35ee",
   "metadata": {},
   "outputs": [],
   "source": [
    "input_modes=3"
   ]
  },
  {
   "cell_type": "code",
   "execution_count": 18,
   "id": "4775a331",
   "metadata": {},
   "outputs": [],
   "source": [
    "# create an engine\n",
    "# eng = sf.Engine(\"gaussian\")\n",
    "eng = sf.Engine(backend=\"tf\", backend_options={\n",
    "        \"cutoff_dim\": 10,\n",
    "        \"batch_size\": None,\n",
    "    })"
   ]
  },
  {
   "cell_type": "code",
   "execution_count": 19,
   "id": "46023e27",
   "metadata": {},
   "outputs": [],
   "source": [
    "# create a program\n",
    "prog = sf.Program(input_modes)\n",
    "\n",
    "alpha_0 = prog.params(\"alpha_0\")\n",
    "alpha_1 = prog.params(\"alpha_1\")\n",
    "alpha_2 = prog.params(\"alpha_2\")\n",
    "theta_1_0 = prog.params(\"theta_1_0\")\n",
    "theta_1_1 = prog.params(\"theta_1_1\")\n",
    "theta_1_2 = prog.params(\"theta_1_2\")\n",
    "phi_1_0 = prog.params(\"phi_1_0\")\n",
    "phi_1_1 = prog.params(\"phi_1_1\")\n",
    "phi_1_2 = prog.params(\"phi_1_2\")\n",
    "varphi_1_0 = prog.params(\"varphi_1_0\")\n",
    "varphi_1_1 = prog.params(\"varphi_1_1\")\n",
    "varphi_1_2 = prog.params(\"varphi_1_2\")\n",
    "a_0 = prog.params(\"a_0\")\n",
    "a_1 = prog.params(\"a_1\")\n",
    "a_2 = prog.params(\"a_2\")\n",
    "\n",
    "with prog.context as q:\n",
    "    Dgate(alpha_0, 0) | (q[0])\n",
    "    Dgate(alpha_1, 0) | (q[1])\n",
    "    Dgate(alpha_2, 0) | (q[2])\n",
    "    BSgate(theta_1_0, phi_1_0) | (q[0], q[1])\n",
    "    BSgate(theta_1_1, phi_1_1) | (q[1], q[2])\n",
    "    BSgate(theta_1_2, phi_1_2) | (q[0], q[1])\n",
    "    Rgate(varphi_1_0) | (q[0])\n",
    "    Rgate(varphi_1_1) | (q[1])\n",
    "    Rgate(varphi_1_2) | (q[2])\n",
    "    Dgate(a_0, 0) | (q[0])\n",
    "    Dgate(a_1, 0) | (q[1])\n",
    "    Dgate(a_2, 0) | (q[2])\n",
    "\n"
   ]
  },
  {
   "cell_type": "code",
   "execution_count": 20,
   "id": "0baef954",
   "metadata": {},
   "outputs": [],
   "source": [
    "# eng.reset()\n",
    "# result = eng.run(prog)\n",
    "result = eng.run(prog, args={\n",
    "            \"alpha_0\": tf_alpha_0,\n",
    "            \"alpha_1\": tf_alpha_1,\n",
    "            \"alpha_2\": tf_alpha_2,\n",
    "    \"theta_1_0\": tf_theta_1_0,\n",
    "    \"theta_1_1\": tf_theta_1_1,\n",
    "    \"theta_1_2\": tf_theta_1_2,\n",
    "    \"phi_1_0\": tf_phi_1_0,\n",
    "    \"phi_1_1\": tf_phi_1_1,\n",
    "    \"phi_1_2\": tf_phi_1_2,\n",
    "    \"varphi_1_0\": tf_varphi_1_0,\n",
    "    \"varphi_1_1\": tf_varphi_1_1,\n",
    "    \"varphi_1_2\": tf_varphi_1_2,\n",
    "    \"a_0\": tf_a_0,\n",
    "    \"a_1\": tf_a_1,\n",
    "    \"a_2\": tf_a_2\n",
    "        })"
   ]
  },
  {
   "cell_type": "code",
   "execution_count": 21,
   "id": "a07df7ab",
   "metadata": {},
   "outputs": [
    {
     "name": "stdout",
     "output_type": "stream",
     "text": [
      "Mode: 0, Expectation: 0.21573884785175323, Variance: 0.9991664886474609\n",
      "Mode: 1, Expectation: 3.40030837059021, Variance: 0.9949750900268555\n",
      "Mode: 2, Expectation: 1.701050043106079, Variance: 1.0016653537750244\n"
     ]
    }
   ],
   "source": [
    "for i in range(input_modes):\n",
    "    e, v = result.state.quad_expectation(mode=i)\n",
    "    print(f'Mode: {i}, Expectation: {e.numpy()}, Variance: {v.numpy()}')"
   ]
  },
  {
   "cell_type": "code",
   "execution_count": 22,
   "id": "75a95a9e",
   "metadata": {},
   "outputs": [],
   "source": [
    "all_fock_probs = result.state.all_fock_probs()"
   ]
  },
  {
   "cell_type": "code",
   "execution_count": 23,
   "id": "5ece9c9c",
   "metadata": {},
   "outputs": [],
   "source": [
    "alpha_0=0.6687499999999998\n",
    "alpha_1=0.6687499999999998\n",
    "alpha_2=0.6687499999999998"
   ]
  },
  {
   "cell_type": "code",
   "execution_count": 91,
   "id": "adba7531",
   "metadata": {},
   "outputs": [],
   "source": [
    "alpha_0=0.6687499999999998\n",
    "alpha_1=-0.6687499999999998\n",
    "alpha_2=-0.6687499999999998"
   ]
  },
  {
   "cell_type": "code",
   "execution_count": 97,
   "id": "8d7d5bba",
   "metadata": {},
   "outputs": [],
   "source": [
    "alpha_0=-0.6687499999999998\n",
    "alpha_1=0.6687499999999998\n",
    "alpha_2=-0.6687499999999998"
   ]
  },
  {
   "cell_type": "code",
   "execution_count": 103,
   "id": "e83121a1",
   "metadata": {},
   "outputs": [],
   "source": [
    "alpha_0=-0.6687499999999998\n",
    "alpha_1=-0.6687499999999998\n",
    "alpha_2=0.6687499999999998"
   ]
  },
  {
   "cell_type": "code",
   "execution_count": 25,
   "id": "0b79457d",
   "metadata": {},
   "outputs": [],
   "source": [
    "eng = sf.Engine(\"gaussian\")"
   ]
  },
  {
   "cell_type": "code",
   "execution_count": 24,
   "id": "cf41c5a3",
   "metadata": {},
   "outputs": [],
   "source": [
    "# create a program\n",
    "prog = sf.Program(input_modes)\n",
    "\n",
    "with prog.context as q:\n",
    "    Dgate(alpha_0, 0) | (q[0])\n",
    "    Dgate(alpha_1, 0) | (q[1])\n",
    "    Dgate(alpha_2, 0) | (q[2])\n",
    "    BSgate(theta_1_0, phi_1_0) | (q[0], q[1])\n",
    "    BSgate(theta_1_1, phi_1_1) | (q[1], q[2])\n",
    "    BSgate(theta_1_2, phi_1_2) | (q[0], q[1])\n",
    "    Rgate(varphi_1_0) | (q[0])\n",
    "    Rgate(varphi_1_1) | (q[1])\n",
    "    Rgate(varphi_1_2) | (q[2])\n",
    "    Dgate(a_0, 0) | (q[0])\n",
    "    Dgate(a_1, 0) | (q[1])\n",
    "    Dgate(a_2, 0) | (q[2])"
   ]
  },
  {
   "cell_type": "code",
   "execution_count": 26,
   "id": "02bf1237",
   "metadata": {},
   "outputs": [],
   "source": [
    "# eng.reset()\n",
    "result = eng.run(prog)"
   ]
  },
  {
   "cell_type": "code",
   "execution_count": 27,
   "id": "ba716ba9",
   "metadata": {},
   "outputs": [],
   "source": [
    "means = result.state.means()"
   ]
  },
  {
   "cell_type": "code",
   "execution_count": 28,
   "id": "5b27ccf8",
   "metadata": {},
   "outputs": [],
   "source": [
    "cov = result.state.cov()"
   ]
  },
  {
   "cell_type": "code",
   "execution_count": 29,
   "id": "93c9b718",
   "metadata": {},
   "outputs": [],
   "source": [
    "import itertools"
   ]
  },
  {
   "cell_type": "code",
   "execution_count": 30,
   "id": "ae2cca16",
   "metadata": {},
   "outputs": [],
   "source": [
    "def generate_all_outcomes(modes=int):\n",
    "    options = [0, 1]\n",
    "    return [*itertools.product(options, repeat=modes)]"
   ]
  },
  {
   "cell_type": "code",
   "execution_count": 31,
   "id": "afb08f24",
   "metadata": {},
   "outputs": [],
   "source": [
    "outcomes = generate_all_outcomes(3)"
   ]
  },
  {
   "cell_type": "code",
   "execution_count": 34,
   "id": "29d1b1f8",
   "metadata": {},
   "outputs": [
    {
     "name": "stdout",
     "output_type": "stream",
     "text": [
      "outcome: (0, 0, 0) -> 0.02612163226169674\n",
      "outcome: (0, 0, 1) -> 0.027794974396216945\n",
      "outcome: (0, 1, 0) -> 0.45274238775697906\n",
      "outcome: (0, 1, 1) -> 0.48174489824051914\n",
      "outcome: (1, 0, 0) -> 0.0003064630299145291\n",
      "outcome: (1, 0, 1) -> 0.0003260949386517459\n",
      "outcome: (1, 1, 0) -> 0.005311643718612322\n",
      "outcome: (1, 1, 1) -> 0.005651905657409612\n",
      "Total: 1.0000000000000002\n"
     ]
    }
   ],
   "source": [
    "total = 0\n",
    "for outcome in outcomes:\n",
    "    interm = thewalrus.threshold_detection_prob(means, cov, outcome)\n",
    "    total += interm\n",
    "    print(f'outcome: {outcome} -> {interm}')\n",
    "print(f'Total: {total}')"
   ]
  },
  {
   "cell_type": "code",
   "execution_count": 96,
   "id": "eb8297c7",
   "metadata": {},
   "outputs": [
    {
     "name": "stdout",
     "output_type": "stream",
     "text": [
      "outcome: (0, 0, 0) -> 0.03178489158974361\n",
      "outcome: (0, 0, 1) -> 0.00013097359763974436\n",
      "outcome: (0, 1, 0) -> 0.048009392769148625\n",
      "outcome: (0, 1, 1) -> 0.00019782867195633627\n",
      "outcome: (1, 0, 0) -> 0.364915896250877\n",
      "outcome: (1, 0, 1) -> 0.0015036813208238564\n",
      "outcome: (1, 1, 0) -> 0.5511861049250024\n",
      "outcome: (1, 1, 1) -> 0.0022712308748085303\n",
      "Total: 1.0000000000000002\n"
     ]
    }
   ],
   "source": [
    "total = 0\n",
    "for outcome in outcomes:\n",
    "    interm = thewalrus.threshold_detection_prob(means, cov, outcome)\n",
    "    total += interm\n",
    "    print(f'outcome: {outcome} -> {interm}')\n",
    "print(f'Total: {total}')"
   ]
  },
  {
   "cell_type": "code",
   "execution_count": 102,
   "id": "79d959d1",
   "metadata": {},
   "outputs": [
    {
     "name": "stdout",
     "output_type": "stream",
     "text": [
      "outcome: (0, 0, 0) -> 0.2099493264269784\n",
      "outcome: (0, 0, 1) -> 0.010534298366176777\n",
      "outcome: (0, 1, 0) -> 0.6645379317898834\n",
      "outcome: (0, 1, 1) -> 0.03334347848718367\n",
      "outcome: (1, 0, 0) -> 0.018662737849755265\n",
      "outcome: (1, 0, 1) -> 0.0009364109529898718\n",
      "outcome: (1, 1, 0) -> 0.059071859973443\n",
      "outcome: (1, 1, 1) -> 0.002963956153589964\n",
      "Total: 1.0000000000000004\n"
     ]
    }
   ],
   "source": [
    "total = 0\n",
    "for outcome in outcomes:\n",
    "    interm = thewalrus.threshold_detection_prob(means, cov, outcome)\n",
    "    total += interm\n",
    "    print(f'outcome: {outcome} -> {interm}')\n",
    "print(f'Total: {total}')"
   ]
  },
  {
   "cell_type": "code",
   "execution_count": 108,
   "id": "db213cd6",
   "metadata": {},
   "outputs": [
    {
     "name": "stdout",
     "output_type": "stream",
     "text": [
      "outcome: (0, 0, 0) -> 0.29324499107221447\n",
      "outcome: (0, 0, 1) -> 0.32096519814538754\n",
      "outcome: (0, 1, 0) -> 0.04206391062558518\n",
      "outcome: (0, 1, 1) -> 0.046040177393468495\n",
      "outcome: (1, 0, 0) -> 0.12429598819710069\n",
      "outcome: (1, 0, 1) -> 0.13604558541473846\n",
      "outcome: (1, 1, 0) -> 0.017829376452517476\n",
      "outcome: (1, 1, 1) -> 0.01951477269898788\n",
      "Total: 1.0\n"
     ]
    }
   ],
   "source": [
    "total = 0\n",
    "for outcome in outcomes:\n",
    "    interm = thewalrus.threshold_detection_prob(means, cov, outcome)\n",
    "    total += interm\n",
    "    print(f'outcome: {outcome} -> {interm}')\n",
    "print(f'Total: {total}')"
   ]
  },
  {
   "cell_type": "code",
   "execution_count": null,
   "id": "238fd1aa",
   "metadata": {},
   "outputs": [],
   "source": [
    "total = 0\n",
    "for outcome in outcomes:\n",
    "    interm = thewalrus.threshold_detection_prob(means, cov, outcome)\n",
    "    total += interm\n",
    "    print(f'outcome: {outcome} -> {interm}')\n",
    "print(f'Total: {total}')"
   ]
  },
  {
   "cell_type": "code",
   "execution_count": null,
   "id": "3be48d34",
   "metadata": {},
   "outputs": [],
   "source": []
  },
  {
   "cell_type": "code",
   "execution_count": 28,
   "id": "81711cf7",
   "metadata": {},
   "outputs": [],
   "source": [
    "eng = sf.Engine(\"gaussian\")"
   ]
  },
  {
   "cell_type": "code",
   "execution_count": 55,
   "id": "8076415e",
   "metadata": {},
   "outputs": [],
   "source": [
    "alpha_0=-0.6687499999999998\n",
    "alpha_1=-0.6687499999999998\n",
    "theta_1_0=-0.008990096\n",
    "phi_1_0=-1.7685527\n",
    "varphi_1_0=-0.008868361\n",
    "varphi_1_1=-0.008727653\n",
    "a_0=0.69945747\n",
    "a_1=0.702158"
   ]
  },
  {
   "cell_type": "code",
   "execution_count": 56,
   "id": "0856824d",
   "metadata": {},
   "outputs": [],
   "source": [
    "input_modes=2"
   ]
  },
  {
   "cell_type": "code",
   "execution_count": 57,
   "id": "fbe7d233",
   "metadata": {},
   "outputs": [],
   "source": [
    "prog = sf.Program(input_modes)\n",
    "\n",
    "with prog.context as q:\n",
    "    Dgate(alpha_0, 0) | (q[0])\n",
    "    Dgate(alpha_1, 0) | (q[1])\n",
    "    BSgate(theta_1_0, phi_1_0) | (q[0], q[1])\n",
    "    Rgate(varphi_1_0) | (q[0])\n",
    "    Rgate(varphi_1_1) | (q[1])\n",
    "    Dgate(a_0, 0) | (q[0])\n",
    "    Dgate(a_1, 0) | (q[1])"
   ]
  },
  {
   "cell_type": "code",
   "execution_count": 58,
   "id": "8d4f67a7",
   "metadata": {},
   "outputs": [],
   "source": [
    "eng.reset()\n",
    "result = eng.run(prog)"
   ]
  },
  {
   "cell_type": "code",
   "execution_count": 59,
   "id": "d940fee1",
   "metadata": {},
   "outputs": [],
   "source": [
    "means = result.state.means()"
   ]
  },
  {
   "cell_type": "code",
   "execution_count": 60,
   "id": "1c2526af",
   "metadata": {},
   "outputs": [],
   "source": [
    "cov = result.state.cov()"
   ]
  },
  {
   "cell_type": "code",
   "execution_count": 61,
   "id": "09135d26",
   "metadata": {},
   "outputs": [
    {
     "data": {
      "text/plain": [
       "array([[1., 0., 0., 0.],\n",
       "       [0., 1., 0., 0.],\n",
       "       [0., 0., 1., 0.],\n",
       "       [0., 0., 0., 1.]])"
      ]
     },
     "execution_count": 61,
     "metadata": {},
     "output_type": "execute_result"
    }
   ],
   "source": [
    "cov"
   ]
  },
  {
   "cell_type": "code",
   "execution_count": 62,
   "id": "75c84a14",
   "metadata": {},
   "outputs": [
    {
     "data": {
      "text/plain": [
       "array([ 6.37793077e-02,  6.44558090e-02,  5.05714649e-05, -9.60573901e-05])"
      ]
     },
     "execution_count": 62,
     "metadata": {},
     "output_type": "execute_result"
    }
   ],
   "source": [
    "means"
   ]
  },
  {
   "cell_type": "code",
   "execution_count": 33,
   "id": "105850f9",
   "metadata": {},
   "outputs": [],
   "source": [
    "import thewalrus"
   ]
  },
  {
   "cell_type": "code",
   "execution_count": 63,
   "id": "749e3a3b",
   "metadata": {},
   "outputs": [
    {
     "data": {
      "text/plain": [
       "0.9979465204844343"
      ]
     },
     "execution_count": 63,
     "metadata": {},
     "output_type": "execute_result"
    }
   ],
   "source": [
    "thewalrus.threshold_detection_prob(means, cov, [0,0])"
   ]
  },
  {
   "cell_type": "code",
   "execution_count": 64,
   "id": "e40ba3fe",
   "metadata": {},
   "outputs": [
    {
     "data": {
      "text/plain": [
       "0.001037045773001743"
      ]
     },
     "execution_count": 64,
     "metadata": {},
     "output_type": "execute_result"
    }
   ],
   "source": [
    "thewalrus.threshold_detection_prob(means, cov, [0,1])"
   ]
  },
  {
   "cell_type": "code",
   "execution_count": 65,
   "id": "a17dc233",
   "metadata": {},
   "outputs": [
    {
     "data": {
      "text/plain": [
       "0.0010153785817466727"
      ]
     },
     "execution_count": 65,
     "metadata": {},
     "output_type": "execute_result"
    }
   ],
   "source": [
    "thewalrus.threshold_detection_prob(means, cov, [1,0])"
   ]
  },
  {
   "cell_type": "code",
   "execution_count": 66,
   "id": "1e3838dd",
   "metadata": {},
   "outputs": [
    {
     "data": {
      "text/plain": [
       "1.0551608173869909e-06"
      ]
     },
     "execution_count": 66,
     "metadata": {},
     "output_type": "execute_result"
    }
   ],
   "source": [
    "\n",
    "thewalrus.threshold_detection_prob(means, cov, [1,1])"
   ]
  },
  {
   "cell_type": "code",
   "execution_count": 3,
   "id": "d6b6956f",
   "metadata": {},
   "outputs": [],
   "source": [
    "from run_test_one_codebook import execute_testing_circuit_one_codeword, create_codeword_from_binary, create_alphas\n",
    "from csd.typings.typing import CutOffDimensions"
   ]
  },
  {
   "cell_type": "code",
   "execution_count": 12,
   "id": "9a65bca4",
   "metadata": {},
   "outputs": [],
   "source": [
    "alphas = create_alphas()\n",
    "one_alpha = alphas[7]\n",
    "input_modes = 3"
   ]
  },
  {
   "cell_type": "code",
   "execution_count": 13,
   "id": "9ee66aa4",
   "metadata": {},
   "outputs": [],
   "source": [
    "one_binary_codeword = [0, 0, 0]\n",
    "one_codeword = create_codeword_from_binary(binary_codeword=one_binary_codeword, one_alpha=one_alpha)\n",
    "cutoff_dim = CutOffDimensions(default=10,high=15,extreme=30)"
   ]
  },
  {
   "cell_type": "code",
   "execution_count": 14,
   "id": "6f9a3b0d",
   "metadata": {},
   "outputs": [
    {
     "name": "stdout",
     "output_type": "stream",
     "text": [
      "0.6687499999999998 [0.6687499999999998, 0.6687499999999998, 0.6687499999999998]\n"
     ]
    }
   ],
   "source": [
    "print(one_alpha, one_codeword)"
   ]
  },
  {
   "cell_type": "code",
   "execution_count": 10,
   "id": "99cb949b",
   "metadata": {},
   "outputs": [],
   "source": [
    "optimized_parameters = [-0.008990096, -1.7685527, -0.008868361, -0.008727653, 0.69945747, 0.702158]"
   ]
  },
  {
   "cell_type": "code",
   "execution_count": 15,
   "id": "3f629589",
   "metadata": {},
   "outputs": [],
   "source": [
    "optimized_parameters = [0.6989617347717285, -0.4482949376106262, 0.5959842205047607, -0.0008065046276897192, 0.007647479884326458, 0.0014407442649826407, -0.0009840255370363593, 0.0004724813625216484, -0.0002699749602470547, 0.6797224283218384, 0.7170392274856567, 0.6569817662239075]"
   ]
  },
  {
   "cell_type": "code",
   "execution_count": 16,
   "id": "b8348526",
   "metadata": {},
   "outputs": [
    {
     "name": "stderr",
     "output_type": "stream",
     "text": [
      "[CSD] 0.0.1|DEBUG|2022-03-19 09:10:27]: current codebook: [[0.6687499999999998, 0.6687499999999998, 0.6687499999999998]]\n",
      "[CSD] 0.0.1|DEBUG|2022-03-19 09:10:27]: Going to test with the trained optimized parameters: [0.6989617347717285, -0.4482949376106262, 0.5959842205047607, -0.0008065046276897192, 0.007647479884326458, 0.0014407442649826407, -0.0009840255370363593, 0.0004724813625216484, -0.0002699749602470547, 0.6797224283218384, 0.7170392274856567, 0.6569817662239075]\n",
      "[CSD] 0.0.1|DEBUG|2022-03-19 09:10:28]: TESTING Success probability from trained parameters: 0.9999995231628418\n",
      "[CSD] 0.0.1|INFO|2022-03-19 09:10:28]: \n",
      "\n",
      "---------------------------------------------------------------------\n",
      "  ALPHA:0.67 -> CODEBOOK[1/1]: \n",
      "\n",
      "  TOTAL computation time: 0 seconds\n",
      "  Current codebook iteration time: 0 seconds\n",
      "  Estimated codebook REMAINING time: 0 seconds\n",
      "---------------------------------------------------------------------\n",
      "\n",
      "\n",
      "[CSD] 0.0.1|DEBUG|2022-03-19 09:10:28]: pSucc: 0.9999995231628418 codebook_size:1\n",
      "[CSD] 0.0.1|DEBUG|2022-03-19 09:10:28]: Tested for alpha: 0.67 pSucc: 0.9999995231628418 batch_size:1 plays:1 modes:3, cutoff_dim: [10,15,30] squeezing: False\n",
      "[CSD] 0.0.1|DEBUG|2022-03-19 09:10:28]: TESTING IDEAL HELSTROM: 0.7522557300498584\n",
      "TESTING IDEAL HOMODYNE: 0.8745594136633257\n",
      "BEST TESTING success probability: 0.9999995231628418\n",
      "Best TESTING codebook: {\"alpha\": 0.6687499999999998, \"modes\": 3, \"best_success_probability\": 0.9999995231628418, \"helstrom_probability\": 0.8745594136633257, \"homodyne_probability\": 0.7522557300498584, \"best_codebook\": [[0, 0, 0]], \"measurements\": [{\"input_codeword\": [0, 0, 0], \"guessed_codeword\": [0, 0, 0], \"output_codeword\": [0, 0, 0], \"psucc\": 0.026121659204363823}, {\"input_codeword\": [0, 0, 0], \"guessed_codeword\": [0, 0, 1], \"output_codeword\": [0, 0, 1], \"psucc\": 0.02779499627649784}, {\"input_codeword\": [0, 0, 0], \"guessed_codeword\": [0, 1, 0], \"output_codeword\": [0, 1, 0], \"psucc\": 0.4527420997619629}, {\"input_codeword\": [0, 0, 0], \"guessed_codeword\": [0, 1, 1], \"output_codeword\": [0, 1, 1], \"psucc\": 0.4817446768283844}, {\"input_codeword\": [0, 0, 0], \"guessed_codeword\": [1, 0, 0], \"output_codeword\": [1, 0, 0], \"psucc\": 0.00030646382947452366}, {\"input_codeword\": [0, 0, 0], \"guessed_codeword\": [1, 0, 1], \"output_codeword\": [1, 0, 1], \"psucc\": 0.00032609509071335196}, {\"input_codeword\": [0, 0, 0], \"guessed_codeword\": [1, 1, 0], \"output_codeword\": [1, 1, 0], \"psucc\": 0.005311636254191399}, {\"input_codeword\": [0, 0, 0], \"guessed_codeword\": [1, 1, 1], \"output_codeword\": [1, 1, 1], \"psucc\": 0.005651901476085186}], \"optimized_parameters\": [0.6989617347717285, -0.4482949376106262, 0.5959842205047607, -0.0008065046276897192, 0.007647479884326458, 0.0014407442649826407, -0.0009840255370363593, 0.0004724813625216484, -0.0002699749602470547, 0.6797224283218384, 0.7170392274856567, 0.6569817662239075]}\n",
      "\n",
      "\n",
      "[CSD] 0.0.1|DEBUG|2022-03-19 09:10:28]: execute_testing_circuit_one_codeword, took: 0 seconds\n"
     ]
    },
    {
     "name": "stdout",
     "output_type": "stream",
     "text": [
      "Mode: 0, Expectation: 0.21593521535396576, Variance: 0.9999996423721313\n",
      "Mode: 1, Expectation: 3.4109439849853516, Variance: 0.9999761581420898\n",
      "Mode: 2, Expectation: 1.7025452852249146, Variance: 1.0000004768371582\n",
      "[0.6989617347717285, -0.4482949376106262, 0.5959842205047607, -0.0008065046276897192, 0.007647479884326458, 0.0014407442649826407, -0.0009840255370363593, 0.0004724813625216484, -0.0002699749602470547, 0.6797224283218384, 0.7170392274856567, 0.6569817662239075]\n",
      "\n",
      "\n",
      "****************************************\n",
      "\n",
      "CIRCUIT for alpha: 0.67 codebook_size:1 modes:3 ancillas: 0 \n",
      "  cutoff_dim: [10,15,30] squeezing: False: \n",
      "\n",
      "Dgate({alpha_0}, 0) | (q[0])\n",
      "Dgate({alpha_1}, 0) | (q[1])\n",
      "Dgate({alpha_2}, 0) | (q[2])\n",
      "BSgate({theta_1_0}, {phi_1_0}) | (q[0], q[1])\n",
      "BSgate({theta_1_1}, {phi_1_1}) | (q[1], q[2])\n",
      "BSgate({theta_1_2}, {phi_1_2}) | (q[0], q[1])\n",
      "Rgate({varphi_1_0}) | (q[0])\n",
      "Rgate({varphi_1_1}) | (q[1])\n",
      "Rgate({varphi_1_2}) | (q[2])\n",
      "Dgate({a_0}, 0) | (q[0])\n",
      "Dgate({a_1}, 0) | (q[1])\n",
      "Dgate({a_2}, 0) | (q[2])\n",
      "\n",
      "\n",
      "****************************************\n",
      "\n",
      "\n",
      "[0.6989617347717285, -0.4482949376106262, 0.5959842205047607, -0.0008065046276897192, 0.007647479884326458, 0.0014407442649826407, -0.0009840255370363593, 0.0004724813625216484, -0.0002699749602470547, 0.6797224283218384, 0.7170392274856567, 0.6569817662239075]\n",
      "{'alphas': [0.67], 'batches': [], 'opt_params': [[0.6989617347717285, -0.4482949376106262, 0.5959842205047607, -0.0008065046276897192, 0.007647479884326458, 0.0014407442649826407, -0.0009840255370363593, 0.0004724813625216484, -0.0002699749602470547, 0.6797224283218384, 0.7170392274856567, 0.6569817662239075]], 'p_err': [4.76837158203125e-07], 'p_succ': [0.9999995], 'result_backend': 'tf', 'measuring_type': 'probabilities', 'plot_label': 'pTFProb(a)', 'plot_title': 'backend:tf, measuring:probabilities, \\nbatch size:1, plays:1, modes:3, ancillas:0, \\nsteps: [300,500,2000], l_rate: [0.01,0.001,0.001], cutoff_dim: [10,15,30], \\nlayers,1, squeezing:False', 'total_time': 0.06640791893005371, 'p_helstrom': [0.8745594136633257], 'p_homodyne': [0.7522557300498584], 'number_modes': [3]}\n"
     ]
    }
   ],
   "source": [
    "execute_testing_circuit_one_codeword(alpha_value=one_alpha,\n",
    "                                         number_modes=input_modes,\n",
    "                                         cutoff_dimension=cutoff_dim,\n",
    "                                         one_codeword=one_codeword,\n",
    "                                         optimized_parameters=optimized_parameters)"
   ]
  },
  {
   "cell_type": "code",
   "execution_count": null,
   "id": "98d69349",
   "metadata": {},
   "outputs": [],
   "source": []
  },
  {
   "cell_type": "code",
   "execution_count": null,
   "id": "ad551e2a",
   "metadata": {},
   "outputs": [],
   "source": []
  },
  {
   "cell_type": "code",
   "execution_count": null,
   "id": "a5b4a17e",
   "metadata": {},
   "outputs": [],
   "source": []
  },
  {
   "cell_type": "code",
   "execution_count": null,
   "id": "96216a58",
   "metadata": {},
   "outputs": [],
   "source": []
  },
  {
   "cell_type": "code",
   "execution_count": null,
   "id": "fda13a0f",
   "metadata": {},
   "outputs": [],
   "source": []
  },
  {
   "cell_type": "code",
   "execution_count": null,
   "id": "8c042b5b",
   "metadata": {},
   "outputs": [],
   "source": []
  },
  {
   "cell_type": "code",
   "execution_count": null,
   "id": "5949bcfd",
   "metadata": {},
   "outputs": [],
   "source": []
  },
  {
   "cell_type": "code",
   "execution_count": null,
   "id": "9b7cda39",
   "metadata": {},
   "outputs": [],
   "source": []
  },
  {
   "cell_type": "code",
   "execution_count": null,
   "id": "f7bdc138",
   "metadata": {},
   "outputs": [],
   "source": []
  },
  {
   "cell_type": "code",
   "execution_count": null,
   "id": "4bb35bd2",
   "metadata": {},
   "outputs": [],
   "source": []
  },
  {
   "cell_type": "code",
   "execution_count": null,
   "id": "d42f2d85",
   "metadata": {},
   "outputs": [],
   "source": []
  },
  {
   "cell_type": "code",
   "execution_count": 5,
   "id": "ca316a30",
   "metadata": {},
   "outputs": [],
   "source": [
    "eng = sf.Engine(backend=\"tf\", backend_options={\"cutoff_dim\": 7})a"
   ]
  },
  {
   "cell_type": "code",
   "execution_count": 16,
   "id": "3618b268",
   "metadata": {},
   "outputs": [
    {
     "name": "stdout",
     "output_type": "stream",
     "text": [
      "Mean photon number of mode 0: tf.Tensor(0.63983303, shape=(), dtype=float32)\n",
      "Mean photon number of mode 1: tf.Tensor(0.0, shape=(), dtype=float32)\n"
     ]
    }
   ],
   "source": [
    "\n",
    "eng.reset()\n",
    "prog = sf.Program(2)\n",
    "\n",
    "with prog.context as q:\n",
    "    Dgate(0.9) | q[0]\n",
    "    Dgate(-0.1) | q[0]\n",
    "\n",
    "result = eng.run(prog)\n",
    "# print(\"Measured Homodyne sample from mode 0:\", result.samples[0][0])\n",
    "\n",
    "mean, var = result.state.mean_photon(0)\n",
    "print(\"Mean photon number of mode 0:\", mean)\n",
    "\n",
    "mean, var = result.state.mean_photon(1)\n",
    "print(\"Mean photon number of mode 1:\", mean)"
   ]
  },
  {
   "cell_type": "code",
   "execution_count": 14,
   "id": "56e8801a",
   "metadata": {},
   "outputs": [
    {
     "data": {
      "text/plain": [
       "0.09999999999999999"
      ]
     },
     "execution_count": 14,
     "metadata": {},
     "output_type": "execute_result"
    }
   ],
   "source": [
    "0.01/0.1"
   ]
  },
  {
   "cell_type": "code",
   "execution_count": null,
   "id": "8d832bce",
   "metadata": {},
   "outputs": [],
   "source": []
  },
  {
   "cell_type": "code",
   "execution_count": null,
   "id": "69369a49",
   "metadata": {},
   "outputs": [],
   "source": []
  },
  {
   "cell_type": "code",
   "execution_count": null,
   "id": "83af2f87",
   "metadata": {},
   "outputs": [],
   "source": []
  },
  {
   "cell_type": "code",
   "execution_count": null,
   "id": "18a223da",
   "metadata": {},
   "outputs": [],
   "source": []
  },
  {
   "cell_type": "code",
   "execution_count": null,
   "id": "009dd7eb",
   "metadata": {},
   "outputs": [],
   "source": []
  },
  {
   "cell_type": "code",
   "execution_count": null,
   "id": "84e3255f",
   "metadata": {},
   "outputs": [],
   "source": []
  },
  {
   "cell_type": "code",
   "execution_count": null,
   "id": "f46a0850",
   "metadata": {},
   "outputs": [],
   "source": []
  },
  {
   "cell_type": "code",
   "execution_count": 54,
   "id": "10677188",
   "metadata": {},
   "outputs": [],
   "source": [
    "NUM_SHOTS = 1\n",
    "number_modes = 2\n",
    "batch_size = 2**number_modes\n",
    "alpha_val = 0.7\n",
    "batch = generate_all_codewords(word_size=number_modes, alpha_value=alpha_val)"
   ]
  },
  {
   "cell_type": "code",
   "execution_count": 55,
   "id": "5d947f3d",
   "metadata": {},
   "outputs": [],
   "source": [
    "def single_layer(params):\n",
    "    # Creates a single mode quantum \"program\".\n",
    "    # https://strawberryfields.readthedocs.io/en/stable/code/api/strawberryfields.Program.html\n",
    "    prog = sf.Program(number_modes)\n",
    "\n",
    "    # Instantiate the Gaussian backend.\n",
    "    # https://strawberryfields.readthedocs.io/en/stable/introduction/circuits.html\n",
    "    eng = sf.Engine(\"tf\", backend_options={\"cutoff_dim\": 5, \"batch_size\": batch_size})\n",
    "\n",
    "    with prog.context as q:\n",
    "        # Phase space squeezing gate.\n",
    "        # https://strawberryfields.readthedocs.io/en/stable/code/api/strawberryfields.ops.Sgate.html\n",
    "        sf.ops.Dgate(params[\"displacement_magnitude\"])  | q[0]\n",
    "        sf.ops.Dgate(params[\"displacement_magnitude\"])  | q[1]\n",
    "\n",
    "        # Measures whether a mode contains zero or nonzero photons.\n",
    "        # https://strawberryfields.readthedocs.io/en/stable/code/api/strawberryfields.ops.MeasureThreshold.html\n",
    "        sf.ops.MeasureFock()                       | q\n",
    "\n",
    "    return eng.run(prog, shots=NUM_SHOTS)"
   ]
  },
  {
   "cell_type": "code",
   "execution_count": 56,
   "id": "500289d1",
   "metadata": {},
   "outputs": [],
   "source": [
    "# Parameters\n",
    "params = {\n",
    "    \"displacement_magnitude\": 0.5\n",
    "}"
   ]
  },
  {
   "cell_type": "code",
   "execution_count": 57,
   "id": "031a9a26",
   "metadata": {},
   "outputs": [],
   "source": [
    "# Execute the single layer of the quantum \"program\".\n",
    "result = single_layer(params=params)"
   ]
  },
  {
   "cell_type": "code",
   "execution_count": 58,
   "id": "c6f9fe70",
   "metadata": {},
   "outputs": [
    {
     "name": "stdout",
     "output_type": "stream",
     "text": [
      "tf.Tensor(\n",
      "[[[0 0]]\n",
      "\n",
      " [[0 0]]\n",
      "\n",
      " [[0 1]]\n",
      "\n",
      " [[0 0]]], shape=(4, 1, 2), dtype=int32)\n"
     ]
    }
   ],
   "source": [
    "# Obtain results.\n",
    "print(result.samples)"
   ]
  },
  {
   "cell_type": "code",
   "execution_count": 60,
   "id": "e7dabab1",
   "metadata": {},
   "outputs": [
    {
     "name": "stdout",
     "output_type": "stream",
     "text": [
      "tf.Tensor([[0 0]], shape=(1, 2), dtype=int32)\n",
      "tf.Tensor([[0 0]], shape=(1, 2), dtype=int32)\n",
      "tf.Tensor([[0 1]], shape=(1, 2), dtype=int32)\n",
      "tf.Tensor([[0 0]], shape=(1, 2), dtype=int32)\n"
     ]
    },
    {
     "data": {
      "text/plain": [
       "[None, None, None, None]"
      ]
     },
     "execution_count": 60,
     "metadata": {},
     "output_type": "execute_result"
    }
   ],
   "source": [
    "[print(sample) for sample in result.samples]"
   ]
  },
  {
   "cell_type": "code",
   "execution_count": 61,
   "id": "61136685",
   "metadata": {},
   "outputs": [],
   "source": [
    "one_sample = result.samples[0]"
   ]
  },
  {
   "cell_type": "code",
   "execution_count": 70,
   "id": "236a8cc7",
   "metadata": {},
   "outputs": [
    {
     "data": {
      "text/plain": [
       "<tf.Tensor: shape=(2,), dtype=int32, numpy=array([0, 0], dtype=int32)>"
      ]
     },
     "execution_count": 70,
     "metadata": {},
     "output_type": "execute_result"
    }
   ],
   "source": [
    "one_sample[0]"
   ]
  },
  {
   "cell_type": "code",
   "execution_count": 72,
   "id": "eb3a254e",
   "metadata": {},
   "outputs": [
    {
     "name": "stdout",
     "output_type": "stream",
     "text": [
      "tf.Tensor([[0 0]], shape=(1, 2), dtype=int32)\n",
      "[0.5, 0.5]\n",
      "tf.Tensor([0.5 0.5], shape=(2,), dtype=float32)\n",
      "tf.Tensor([[0 0]], shape=(1, 2), dtype=int32)\n",
      "[0.5, 0.5]\n",
      "tf.Tensor([0.5 0.5], shape=(2,), dtype=float32)\n",
      "tf.Tensor([[0 1]], shape=(1, 2), dtype=int32)\n",
      "[0.5, -0.5]\n",
      "tf.Tensor([ 0.5 -0.5], shape=(2,), dtype=float32)\n",
      "tf.Tensor([[0 0]], shape=(1, 2), dtype=int32)\n",
      "[0.5, 0.5]\n",
      "tf.Tensor([0.5 0.5], shape=(2,), dtype=float32)\n"
     ]
    },
    {
     "data": {
      "text/plain": [
       "[tf.Tensor([0.5 0.5], shape=(2,), dtype=float32),\n",
       " tf.Tensor([0.5 0.5], shape=(2,), dtype=float32),\n",
       " tf.Tensor([ 0.5 -0.5], shape=(2,), dtype=float32),\n",
       " tf.Tensor([0.5 0.5], shape=(2,), dtype=float32)]"
      ]
     },
     "execution_count": 72,
     "metadata": {},
     "output_type": "execute_result"
    }
   ],
   "source": [
    "convert_batch_sampling_output_to_codeword_list(alpha_value=0.5, batch_samples=result.samples)"
   ]
  },
  {
   "cell_type": "code",
   "execution_count": null,
   "id": "4d824504",
   "metadata": {},
   "outputs": [],
   "source": []
  },
  {
   "cell_type": "code",
   "execution_count": 66,
   "id": "5f045fd8",
   "metadata": {},
   "outputs": [],
   "source": [
    "def convert_batch_sampling_output_to_codeword_list(alpha_value: float, batch_samples) -> List[CodeWord]:\n",
    "    return [convert_sampling_output_to_codeword(alpha_value=alpha_value, one_codeword_output=one_codeword_output) for one_codeword_output in batch_samples]"
   ]
  },
  {
   "cell_type": "code",
   "execution_count": 71,
   "id": "b0fe57be",
   "metadata": {},
   "outputs": [],
   "source": [
    "def convert_sampling_output_to_codeword(alpha_value: float, one_codeword_output) -> CodeWord:\n",
    "    ON = -1\n",
    "    OFF = 1\n",
    "    print(one_codeword_output)\n",
    "    word = [alpha_value * (ON if one_mode_output != 0 else OFF) for one_mode_output in one_codeword_output[0]]\n",
    "    print(word)\n",
    "    tf_word=tf.constant(word)\n",
    "    cw = CodeWord(word=tf_word)\n",
    "    print(cw)\n",
    "    return cw\n"
   ]
  },
  {
   "cell_type": "code",
   "execution_count": 11,
   "id": "55f14727",
   "metadata": {},
   "outputs": [
    {
     "name": "stdout",
     "output_type": "stream",
     "text": [
      "tf.Tensor([0 0], shape=(2,), dtype=int64)\n",
      "[0.5, 0.5]\n",
      "tf.Tensor([0.5 0.5], shape=(2,), dtype=float32)\n"
     ]
    }
   ],
   "source": [
    "codeword = convert_sampling_output_to_codeword(alpha_value=0.5, \n",
    "                                               tf_samples=result.samples)"
   ]
  },
  {
   "cell_type": "code",
   "execution_count": 12,
   "id": "5a9ba042",
   "metadata": {},
   "outputs": [
    {
     "name": "stdout",
     "output_type": "stream",
     "text": [
      "tf.Tensor([0.5 0.5], shape=(2,), dtype=float32)\n"
     ]
    }
   ],
   "source": [
    "print(codeword)"
   ]
  },
  {
   "cell_type": "code",
   "execution_count": 13,
   "id": "27507e47",
   "metadata": {},
   "outputs": [],
   "source": [
    "results = [single_layer(params=params).samples for _ in range(100)]"
   ]
  },
  {
   "cell_type": "code",
   "execution_count": 14,
   "id": "b5ebdf18",
   "metadata": {},
   "outputs": [
    {
     "name": "stdout",
     "output_type": "stream",
     "text": [
      "tf.Tensor([2 0], shape=(2,), dtype=int64)\n",
      "[-0.5, 0.5]\n",
      "tf.Tensor([-0.5  0.5], shape=(2,), dtype=float32)\n",
      "tf.Tensor([2 0], shape=(2,), dtype=int64)\n",
      "[-0.5, 0.5]\n",
      "tf.Tensor([-0.5  0.5], shape=(2,), dtype=float32)\n",
      "tf.Tensor([1 0], shape=(2,), dtype=int64)\n",
      "[-0.5, 0.5]\n",
      "tf.Tensor([-0.5  0.5], shape=(2,), dtype=float32)\n",
      "tf.Tensor([0 0], shape=(2,), dtype=int64)\n",
      "[0.5, 0.5]\n",
      "tf.Tensor([0.5 0.5], shape=(2,), dtype=float32)\n",
      "tf.Tensor([0 0], shape=(2,), dtype=int64)\n",
      "[0.5, 0.5]\n",
      "tf.Tensor([0.5 0.5], shape=(2,), dtype=float32)\n",
      "tf.Tensor([0 1], shape=(2,), dtype=int64)\n",
      "[0.5, -0.5]\n",
      "tf.Tensor([ 0.5 -0.5], shape=(2,), dtype=float32)\n",
      "tf.Tensor([1 0], shape=(2,), dtype=int64)\n",
      "[-0.5, 0.5]\n",
      "tf.Tensor([-0.5  0.5], shape=(2,), dtype=float32)\n",
      "tf.Tensor([0 0], shape=(2,), dtype=int64)\n",
      "[0.5, 0.5]\n",
      "tf.Tensor([0.5 0.5], shape=(2,), dtype=float32)\n",
      "tf.Tensor([0 0], shape=(2,), dtype=int64)\n",
      "[0.5, 0.5]\n",
      "tf.Tensor([0.5 0.5], shape=(2,), dtype=float32)\n",
      "tf.Tensor([0 1], shape=(2,), dtype=int64)\n",
      "[0.5, -0.5]\n",
      "tf.Tensor([ 0.5 -0.5], shape=(2,), dtype=float32)\n",
      "tf.Tensor([0 0], shape=(2,), dtype=int64)\n",
      "[0.5, 0.5]\n",
      "tf.Tensor([0.5 0.5], shape=(2,), dtype=float32)\n",
      "tf.Tensor([0 0], shape=(2,), dtype=int64)\n",
      "[0.5, 0.5]\n",
      "tf.Tensor([0.5 0.5], shape=(2,), dtype=float32)\n",
      "tf.Tensor([0 1], shape=(2,), dtype=int64)\n",
      "[0.5, -0.5]\n",
      "tf.Tensor([ 0.5 -0.5], shape=(2,), dtype=float32)\n",
      "tf.Tensor([0 0], shape=(2,), dtype=int64)\n",
      "[0.5, 0.5]\n",
      "tf.Tensor([0.5 0.5], shape=(2,), dtype=float32)\n",
      "tf.Tensor([0 0], shape=(2,), dtype=int64)\n",
      "[0.5, 0.5]\n",
      "tf.Tensor([0.5 0.5], shape=(2,), dtype=float32)\n",
      "tf.Tensor([1 0], shape=(2,), dtype=int64)\n",
      "[-0.5, 0.5]\n",
      "tf.Tensor([-0.5  0.5], shape=(2,), dtype=float32)\n",
      "tf.Tensor([0 0], shape=(2,), dtype=int64)\n",
      "[0.5, 0.5]\n",
      "tf.Tensor([0.5 0.5], shape=(2,), dtype=float32)\n",
      "tf.Tensor([0 0], shape=(2,), dtype=int64)\n",
      "[0.5, 0.5]\n",
      "tf.Tensor([0.5 0.5], shape=(2,), dtype=float32)\n",
      "tf.Tensor([0 0], shape=(2,), dtype=int64)\n",
      "[0.5, 0.5]\n",
      "tf.Tensor([0.5 0.5], shape=(2,), dtype=float32)\n",
      "tf.Tensor([0 0], shape=(2,), dtype=int64)\n",
      "[0.5, 0.5]\n",
      "tf.Tensor([0.5 0.5], shape=(2,), dtype=float32)\n",
      "tf.Tensor([0 0], shape=(2,), dtype=int64)\n",
      "[0.5, 0.5]\n",
      "tf.Tensor([0.5 0.5], shape=(2,), dtype=float32)\n",
      "tf.Tensor([0 0], shape=(2,), dtype=int64)\n",
      "[0.5, 0.5]\n",
      "tf.Tensor([0.5 0.5], shape=(2,), dtype=float32)\n",
      "tf.Tensor([0 0], shape=(2,), dtype=int64)\n",
      "[0.5, 0.5]\n",
      "tf.Tensor([0.5 0.5], shape=(2,), dtype=float32)\n",
      "tf.Tensor([0 2], shape=(2,), dtype=int64)\n",
      "[0.5, -0.5]\n",
      "tf.Tensor([ 0.5 -0.5], shape=(2,), dtype=float32)\n",
      "tf.Tensor([0 1], shape=(2,), dtype=int64)\n",
      "[0.5, -0.5]\n",
      "tf.Tensor([ 0.5 -0.5], shape=(2,), dtype=float32)\n",
      "tf.Tensor([0 0], shape=(2,), dtype=int64)\n",
      "[0.5, 0.5]\n",
      "tf.Tensor([0.5 0.5], shape=(2,), dtype=float32)\n",
      "tf.Tensor([0 0], shape=(2,), dtype=int64)\n",
      "[0.5, 0.5]\n",
      "tf.Tensor([0.5 0.5], shape=(2,), dtype=float32)\n",
      "tf.Tensor([1 0], shape=(2,), dtype=int64)\n",
      "[-0.5, 0.5]\n",
      "tf.Tensor([-0.5  0.5], shape=(2,), dtype=float32)\n",
      "tf.Tensor([0 1], shape=(2,), dtype=int64)\n",
      "[0.5, -0.5]\n",
      "tf.Tensor([ 0.5 -0.5], shape=(2,), dtype=float32)\n",
      "tf.Tensor([0 0], shape=(2,), dtype=int64)\n",
      "[0.5, 0.5]\n",
      "tf.Tensor([0.5 0.5], shape=(2,), dtype=float32)\n",
      "tf.Tensor([0 0], shape=(2,), dtype=int64)\n",
      "[0.5, 0.5]\n",
      "tf.Tensor([0.5 0.5], shape=(2,), dtype=float32)\n",
      "tf.Tensor([0 0], shape=(2,), dtype=int64)\n",
      "[0.5, 0.5]\n",
      "tf.Tensor([0.5 0.5], shape=(2,), dtype=float32)\n",
      "tf.Tensor([0 0], shape=(2,), dtype=int64)\n",
      "[0.5, 0.5]\n",
      "tf.Tensor([0.5 0.5], shape=(2,), dtype=float32)\n",
      "tf.Tensor([0 0], shape=(2,), dtype=int64)\n",
      "[0.5, 0.5]\n",
      "tf.Tensor([0.5 0.5], shape=(2,), dtype=float32)\n",
      "tf.Tensor([0 0], shape=(2,), dtype=int64)\n",
      "[0.5, 0.5]\n",
      "tf.Tensor([0.5 0.5], shape=(2,), dtype=float32)\n",
      "tf.Tensor([0 0], shape=(2,), dtype=int64)\n",
      "[0.5, 0.5]\n",
      "tf.Tensor([0.5 0.5], shape=(2,), dtype=float32)\n",
      "tf.Tensor([0 1], shape=(2,), dtype=int64)\n",
      "[0.5, -0.5]\n",
      "tf.Tensor([ 0.5 -0.5], shape=(2,), dtype=float32)\n",
      "tf.Tensor([0 0], shape=(2,), dtype=int64)\n",
      "[0.5, 0.5]\n",
      "tf.Tensor([0.5 0.5], shape=(2,), dtype=float32)\n",
      "tf.Tensor([0 0], shape=(2,), dtype=int64)\n",
      "[0.5, 0.5]\n",
      "tf.Tensor([0.5 0.5], shape=(2,), dtype=float32)\n",
      "tf.Tensor([0 0], shape=(2,), dtype=int64)\n",
      "[0.5, 0.5]\n",
      "tf.Tensor([0.5 0.5], shape=(2,), dtype=float32)\n",
      "tf.Tensor([0 0], shape=(2,), dtype=int64)\n",
      "[0.5, 0.5]\n",
      "tf.Tensor([0.5 0.5], shape=(2,), dtype=float32)\n",
      "tf.Tensor([0 0], shape=(2,), dtype=int64)\n",
      "[0.5, 0.5]\n",
      "tf.Tensor([0.5 0.5], shape=(2,), dtype=float32)\n",
      "tf.Tensor([0 0], shape=(2,), dtype=int64)\n",
      "[0.5, 0.5]\n",
      "tf.Tensor([0.5 0.5], shape=(2,), dtype=float32)\n",
      "tf.Tensor([1 1], shape=(2,), dtype=int64)\n",
      "[-0.5, -0.5]\n",
      "tf.Tensor([-0.5 -0.5], shape=(2,), dtype=float32)\n",
      "tf.Tensor([0 0], shape=(2,), dtype=int64)\n",
      "[0.5, 0.5]\n",
      "tf.Tensor([0.5 0.5], shape=(2,), dtype=float32)\n",
      "tf.Tensor([1 0], shape=(2,), dtype=int64)\n",
      "[-0.5, 0.5]\n",
      "tf.Tensor([-0.5  0.5], shape=(2,), dtype=float32)\n",
      "tf.Tensor([0 0], shape=(2,), dtype=int64)\n",
      "[0.5, 0.5]\n",
      "tf.Tensor([0.5 0.5], shape=(2,), dtype=float32)\n",
      "tf.Tensor([1 1], shape=(2,), dtype=int64)\n",
      "[-0.5, -0.5]\n",
      "tf.Tensor([-0.5 -0.5], shape=(2,), dtype=float32)\n",
      "tf.Tensor([0 0], shape=(2,), dtype=int64)\n",
      "[0.5, 0.5]\n",
      "tf.Tensor([0.5 0.5], shape=(2,), dtype=float32)\n",
      "tf.Tensor([0 0], shape=(2,), dtype=int64)\n",
      "[0.5, 0.5]\n",
      "tf.Tensor([0.5 0.5], shape=(2,), dtype=float32)\n",
      "tf.Tensor([0 0], shape=(2,), dtype=int64)\n",
      "[0.5, 0.5]\n",
      "tf.Tensor([0.5 0.5], shape=(2,), dtype=float32)\n",
      "tf.Tensor([0 0], shape=(2,), dtype=int64)\n",
      "[0.5, 0.5]\n",
      "tf.Tensor([0.5 0.5], shape=(2,), dtype=float32)\n",
      "tf.Tensor([0 0], shape=(2,), dtype=int64)\n",
      "[0.5, 0.5]\n",
      "tf.Tensor([0.5 0.5], shape=(2,), dtype=float32)\n",
      "tf.Tensor([0 0], shape=(2,), dtype=int64)\n",
      "[0.5, 0.5]\n",
      "tf.Tensor([0.5 0.5], shape=(2,), dtype=float32)\n",
      "tf.Tensor([0 0], shape=(2,), dtype=int64)\n",
      "[0.5, 0.5]\n",
      "tf.Tensor([0.5 0.5], shape=(2,), dtype=float32)\n",
      "tf.Tensor([0 1], shape=(2,), dtype=int64)\n",
      "[0.5, -0.5]\n",
      "tf.Tensor([ 0.5 -0.5], shape=(2,), dtype=float32)\n",
      "tf.Tensor([1 0], shape=(2,), dtype=int64)\n",
      "[-0.5, 0.5]\n",
      "tf.Tensor([-0.5  0.5], shape=(2,), dtype=float32)\n",
      "tf.Tensor([0 0], shape=(2,), dtype=int64)\n",
      "[0.5, 0.5]\n",
      "tf.Tensor([0.5 0.5], shape=(2,), dtype=float32)\n",
      "tf.Tensor([0 1], shape=(2,), dtype=int64)\n",
      "[0.5, -0.5]\n",
      "tf.Tensor([ 0.5 -0.5], shape=(2,), dtype=float32)\n",
      "tf.Tensor([0 1], shape=(2,), dtype=int64)\n",
      "[0.5, -0.5]\n",
      "tf.Tensor([ 0.5 -0.5], shape=(2,), dtype=float32)\n",
      "tf.Tensor([0 0], shape=(2,), dtype=int64)\n",
      "[0.5, 0.5]\n",
      "tf.Tensor([0.5 0.5], shape=(2,), dtype=float32)\n",
      "tf.Tensor([0 0], shape=(2,), dtype=int64)\n",
      "[0.5, 0.5]\n",
      "tf.Tensor([0.5 0.5], shape=(2,), dtype=float32)\n",
      "tf.Tensor([1 0], shape=(2,), dtype=int64)\n",
      "[-0.5, 0.5]\n",
      "tf.Tensor([-0.5  0.5], shape=(2,), dtype=float32)\n",
      "tf.Tensor([1 0], shape=(2,), dtype=int64)\n",
      "[-0.5, 0.5]\n",
      "tf.Tensor([-0.5  0.5], shape=(2,), dtype=float32)\n",
      "tf.Tensor([0 0], shape=(2,), dtype=int64)\n",
      "[0.5, 0.5]\n",
      "tf.Tensor([0.5 0.5], shape=(2,), dtype=float32)\n",
      "tf.Tensor([0 0], shape=(2,), dtype=int64)\n",
      "[0.5, 0.5]\n",
      "tf.Tensor([0.5 0.5], shape=(2,), dtype=float32)\n",
      "tf.Tensor([0 1], shape=(2,), dtype=int64)\n",
      "[0.5, -0.5]\n",
      "tf.Tensor([ 0.5 -0.5], shape=(2,), dtype=float32)\n",
      "tf.Tensor([0 0], shape=(2,), dtype=int64)\n",
      "[0.5, 0.5]\n",
      "tf.Tensor([0.5 0.5], shape=(2,), dtype=float32)\n",
      "tf.Tensor([0 0], shape=(2,), dtype=int64)\n",
      "[0.5, 0.5]\n",
      "tf.Tensor([0.5 0.5], shape=(2,), dtype=float32)\n",
      "tf.Tensor([0 0], shape=(2,), dtype=int64)\n",
      "[0.5, 0.5]\n",
      "tf.Tensor([0.5 0.5], shape=(2,), dtype=float32)\n",
      "tf.Tensor([0 2], shape=(2,), dtype=int64)\n",
      "[0.5, -0.5]\n",
      "tf.Tensor([ 0.5 -0.5], shape=(2,), dtype=float32)\n",
      "tf.Tensor([0 0], shape=(2,), dtype=int64)\n",
      "[0.5, 0.5]\n",
      "tf.Tensor([0.5 0.5], shape=(2,), dtype=float32)\n",
      "tf.Tensor([0 0], shape=(2,), dtype=int64)\n",
      "[0.5, 0.5]\n",
      "tf.Tensor([0.5 0.5], shape=(2,), dtype=float32)\n",
      "tf.Tensor([0 1], shape=(2,), dtype=int64)\n",
      "[0.5, -0.5]\n",
      "tf.Tensor([ 0.5 -0.5], shape=(2,), dtype=float32)\n",
      "tf.Tensor([0 0], shape=(2,), dtype=int64)\n",
      "[0.5, 0.5]\n",
      "tf.Tensor([0.5 0.5], shape=(2,), dtype=float32)\n",
      "tf.Tensor([0 0], shape=(2,), dtype=int64)\n",
      "[0.5, 0.5]\n",
      "tf.Tensor([0.5 0.5], shape=(2,), dtype=float32)\n",
      "tf.Tensor([0 0], shape=(2,), dtype=int64)\n",
      "[0.5, 0.5]\n",
      "tf.Tensor([0.5 0.5], shape=(2,), dtype=float32)\n",
      "tf.Tensor([2 0], shape=(2,), dtype=int64)\n",
      "[-0.5, 0.5]\n",
      "tf.Tensor([-0.5  0.5], shape=(2,), dtype=float32)\n",
      "tf.Tensor([0 0], shape=(2,), dtype=int64)\n",
      "[0.5, 0.5]\n",
      "tf.Tensor([0.5 0.5], shape=(2,), dtype=float32)\n",
      "tf.Tensor([0 1], shape=(2,), dtype=int64)\n",
      "[0.5, -0.5]\n",
      "tf.Tensor([ 0.5 -0.5], shape=(2,), dtype=float32)\n",
      "tf.Tensor([1 0], shape=(2,), dtype=int64)\n",
      "[-0.5, 0.5]\n",
      "tf.Tensor([-0.5  0.5], shape=(2,), dtype=float32)\n",
      "tf.Tensor([0 0], shape=(2,), dtype=int64)\n",
      "[0.5, 0.5]\n",
      "tf.Tensor([0.5 0.5], shape=(2,), dtype=float32)\n",
      "tf.Tensor([0 0], shape=(2,), dtype=int64)\n",
      "[0.5, 0.5]\n",
      "tf.Tensor([0.5 0.5], shape=(2,), dtype=float32)\n",
      "tf.Tensor([1 0], shape=(2,), dtype=int64)\n",
      "[-0.5, 0.5]\n",
      "tf.Tensor([-0.5  0.5], shape=(2,), dtype=float32)\n",
      "tf.Tensor([0 0], shape=(2,), dtype=int64)\n",
      "[0.5, 0.5]\n",
      "tf.Tensor([0.5 0.5], shape=(2,), dtype=float32)\n",
      "tf.Tensor([0 0], shape=(2,), dtype=int64)\n",
      "[0.5, 0.5]\n",
      "tf.Tensor([0.5 0.5], shape=(2,), dtype=float32)\n",
      "tf.Tensor([0 0], shape=(2,), dtype=int64)\n",
      "[0.5, 0.5]\n",
      "tf.Tensor([0.5 0.5], shape=(2,), dtype=float32)\n",
      "tf.Tensor([0 0], shape=(2,), dtype=int64)\n",
      "[0.5, 0.5]\n",
      "tf.Tensor([0.5 0.5], shape=(2,), dtype=float32)\n",
      "tf.Tensor([0 0], shape=(2,), dtype=int64)\n",
      "[0.5, 0.5]\n",
      "tf.Tensor([0.5 0.5], shape=(2,), dtype=float32)\n",
      "tf.Tensor([1 0], shape=(2,), dtype=int64)\n",
      "[-0.5, 0.5]\n",
      "tf.Tensor([-0.5  0.5], shape=(2,), dtype=float32)\n",
      "tf.Tensor([0 1], shape=(2,), dtype=int64)\n",
      "[0.5, -0.5]\n",
      "tf.Tensor([ 0.5 -0.5], shape=(2,), dtype=float32)\n",
      "tf.Tensor([1 1], shape=(2,), dtype=int64)\n",
      "[-0.5, -0.5]\n",
      "tf.Tensor([-0.5 -0.5], shape=(2,), dtype=float32)\n",
      "tf.Tensor([0 1], shape=(2,), dtype=int64)\n",
      "[0.5, -0.5]\n",
      "tf.Tensor([ 0.5 -0.5], shape=(2,), dtype=float32)\n",
      "tf.Tensor([0 0], shape=(2,), dtype=int64)\n",
      "[0.5, 0.5]\n",
      "tf.Tensor([0.5 0.5], shape=(2,), dtype=float32)\n",
      "tf.Tensor([0 0], shape=(2,), dtype=int64)\n",
      "[0.5, 0.5]\n",
      "tf.Tensor([0.5 0.5], shape=(2,), dtype=float32)\n",
      "tf.Tensor([0 0], shape=(2,), dtype=int64)\n",
      "[0.5, 0.5]\n",
      "tf.Tensor([0.5 0.5], shape=(2,), dtype=float32)\n",
      "tf.Tensor([0 0], shape=(2,), dtype=int64)\n",
      "[0.5, 0.5]\n",
      "tf.Tensor([0.5 0.5], shape=(2,), dtype=float32)\n",
      "tf.Tensor([0 1], shape=(2,), dtype=int64)\n",
      "[0.5, -0.5]\n",
      "tf.Tensor([ 0.5 -0.5], shape=(2,), dtype=float32)\n",
      "tf.Tensor([1 0], shape=(2,), dtype=int64)\n",
      "[-0.5, 0.5]\n",
      "tf.Tensor([-0.5  0.5], shape=(2,), dtype=float32)\n",
      "tf.Tensor([0 0], shape=(2,), dtype=int64)\n",
      "[0.5, 0.5]\n",
      "tf.Tensor([0.5 0.5], shape=(2,), dtype=float32)\n"
     ]
    }
   ],
   "source": [
    "codewords = [convert_sampling_output_to_codeword(alpha_value=0.5, \n",
    "                                               tf_samples=result) for result in results]"
   ]
  },
  {
   "cell_type": "code",
   "execution_count": 139,
   "id": "ab19a883",
   "metadata": {},
   "outputs": [],
   "source": [
    "one_result = results[0][0]"
   ]
  },
  {
   "cell_type": "code",
   "execution_count": 148,
   "id": "eeca42d3",
   "metadata": {},
   "outputs": [
    {
     "data": {
      "text/plain": [
       "<tf.Tensor: shape=(2,), dtype=int64, numpy=array([0, 0])>"
      ]
     },
     "execution_count": 148,
     "metadata": {},
     "output_type": "execute_result"
    }
   ],
   "source": [
    "one_result"
   ]
  },
  {
   "cell_type": "code",
   "execution_count": 152,
   "id": "77baee42",
   "metadata": {},
   "outputs": [],
   "source": [
    "tf_alpha = tf.constant(([alpha_value, alpha_value]))"
   ]
  },
  {
   "cell_type": "code",
   "execution_count": 154,
   "id": "756da4ce",
   "metadata": {},
   "outputs": [
    {
     "ename": "InvalidArgumentError",
     "evalue": "cannot compute Mul as input #1(zero-based) was expected to be a int64 tensor but is a float tensor [Op:Mul]",
     "output_type": "error",
     "traceback": [
      "\u001b[0;31m---------------------------------------------------------------------------\u001b[0m",
      "\u001b[0;31mInvalidArgumentError\u001b[0m                      Traceback (most recent call last)",
      "\u001b[0;32m/tmp/ipykernel_1995807/948992563.py\u001b[0m in \u001b[0;36m<module>\u001b[0;34m\u001b[0m\n\u001b[0;32m----> 1\u001b[0;31m \u001b[0mtf\u001b[0m\u001b[0;34m.\u001b[0m\u001b[0mmath\u001b[0m\u001b[0;34m.\u001b[0m\u001b[0mmultiply\u001b[0m\u001b[0;34m(\u001b[0m\u001b[0mone_result\u001b[0m\u001b[0;34m,\u001b[0m\u001b[0mtf_alpha\u001b[0m\u001b[0;34m)\u001b[0m\u001b[0;34m\u001b[0m\u001b[0;34m\u001b[0m\u001b[0m\n\u001b[0m",
      "\u001b[0;32m~/environments/csd/lib/python3.9/site-packages/tensorflow/python/util/dispatch.py\u001b[0m in \u001b[0;36mwrapper\u001b[0;34m(*args, **kwargs)\u001b[0m\n\u001b[1;32m    204\u001b[0m     \u001b[0;34m\"\"\"Call target, and fall back on dispatchers if there is a TypeError.\"\"\"\u001b[0m\u001b[0;34m\u001b[0m\u001b[0;34m\u001b[0m\u001b[0m\n\u001b[1;32m    205\u001b[0m     \u001b[0;32mtry\u001b[0m\u001b[0;34m:\u001b[0m\u001b[0;34m\u001b[0m\u001b[0;34m\u001b[0m\u001b[0m\n\u001b[0;32m--> 206\u001b[0;31m       \u001b[0;32mreturn\u001b[0m \u001b[0mtarget\u001b[0m\u001b[0;34m(\u001b[0m\u001b[0;34m*\u001b[0m\u001b[0margs\u001b[0m\u001b[0;34m,\u001b[0m \u001b[0;34m**\u001b[0m\u001b[0mkwargs\u001b[0m\u001b[0;34m)\u001b[0m\u001b[0;34m\u001b[0m\u001b[0;34m\u001b[0m\u001b[0m\n\u001b[0m\u001b[1;32m    207\u001b[0m     \u001b[0;32mexcept\u001b[0m \u001b[0;34m(\u001b[0m\u001b[0mTypeError\u001b[0m\u001b[0;34m,\u001b[0m \u001b[0mValueError\u001b[0m\u001b[0;34m)\u001b[0m\u001b[0;34m:\u001b[0m\u001b[0;34m\u001b[0m\u001b[0;34m\u001b[0m\u001b[0m\n\u001b[1;32m    208\u001b[0m       \u001b[0;31m# Note: convert_to_eager_tensor currently raises a ValueError, not a\u001b[0m\u001b[0;34m\u001b[0m\u001b[0;34m\u001b[0m\u001b[0m\n",
      "\u001b[0;32m~/environments/csd/lib/python3.9/site-packages/tensorflow/python/ops/math_ops.py\u001b[0m in \u001b[0;36mmultiply\u001b[0;34m(x, y, name)\u001b[0m\n\u001b[1;32m    528\u001b[0m   \"\"\"\n\u001b[1;32m    529\u001b[0m \u001b[0;34m\u001b[0m\u001b[0m\n\u001b[0;32m--> 530\u001b[0;31m   \u001b[0;32mreturn\u001b[0m \u001b[0mgen_math_ops\u001b[0m\u001b[0;34m.\u001b[0m\u001b[0mmul\u001b[0m\u001b[0;34m(\u001b[0m\u001b[0mx\u001b[0m\u001b[0;34m,\u001b[0m \u001b[0my\u001b[0m\u001b[0;34m,\u001b[0m \u001b[0mname\u001b[0m\u001b[0;34m)\u001b[0m\u001b[0;34m\u001b[0m\u001b[0;34m\u001b[0m\u001b[0m\n\u001b[0m\u001b[1;32m    531\u001b[0m \u001b[0;34m\u001b[0m\u001b[0m\n\u001b[1;32m    532\u001b[0m \u001b[0;34m\u001b[0m\u001b[0m\n",
      "\u001b[0;32m~/environments/csd/lib/python3.9/site-packages/tensorflow/python/ops/gen_math_ops.py\u001b[0m in \u001b[0;36mmul\u001b[0;34m(x, y, name)\u001b[0m\n\u001b[1;32m   6234\u001b[0m       \u001b[0;32mreturn\u001b[0m \u001b[0m_result\u001b[0m\u001b[0;34m\u001b[0m\u001b[0;34m\u001b[0m\u001b[0m\n\u001b[1;32m   6235\u001b[0m     \u001b[0;32mexcept\u001b[0m \u001b[0m_core\u001b[0m\u001b[0;34m.\u001b[0m\u001b[0m_NotOkStatusException\u001b[0m \u001b[0;32mas\u001b[0m \u001b[0me\u001b[0m\u001b[0;34m:\u001b[0m\u001b[0;34m\u001b[0m\u001b[0;34m\u001b[0m\u001b[0m\n\u001b[0;32m-> 6236\u001b[0;31m       \u001b[0m_ops\u001b[0m\u001b[0;34m.\u001b[0m\u001b[0mraise_from_not_ok_status\u001b[0m\u001b[0;34m(\u001b[0m\u001b[0me\u001b[0m\u001b[0;34m,\u001b[0m \u001b[0mname\u001b[0m\u001b[0;34m)\u001b[0m\u001b[0;34m\u001b[0m\u001b[0;34m\u001b[0m\u001b[0m\n\u001b[0m\u001b[1;32m   6237\u001b[0m     \u001b[0;32mexcept\u001b[0m \u001b[0m_core\u001b[0m\u001b[0;34m.\u001b[0m\u001b[0m_FallbackException\u001b[0m\u001b[0;34m:\u001b[0m\u001b[0;34m\u001b[0m\u001b[0;34m\u001b[0m\u001b[0m\n\u001b[1;32m   6238\u001b[0m       \u001b[0;32mpass\u001b[0m\u001b[0;34m\u001b[0m\u001b[0;34m\u001b[0m\u001b[0m\n",
      "\u001b[0;32m~/environments/csd/lib/python3.9/site-packages/tensorflow/python/framework/ops.py\u001b[0m in \u001b[0;36mraise_from_not_ok_status\u001b[0;34m(e, name)\u001b[0m\n\u001b[1;32m   6939\u001b[0m   \u001b[0mmessage\u001b[0m \u001b[0;34m=\u001b[0m \u001b[0me\u001b[0m\u001b[0;34m.\u001b[0m\u001b[0mmessage\u001b[0m \u001b[0;34m+\u001b[0m \u001b[0;34m(\u001b[0m\u001b[0;34m\" name: \"\u001b[0m \u001b[0;34m+\u001b[0m \u001b[0mname\u001b[0m \u001b[0;32mif\u001b[0m \u001b[0mname\u001b[0m \u001b[0;32mis\u001b[0m \u001b[0;32mnot\u001b[0m \u001b[0;32mNone\u001b[0m \u001b[0;32melse\u001b[0m \u001b[0;34m\"\"\u001b[0m\u001b[0;34m)\u001b[0m\u001b[0;34m\u001b[0m\u001b[0;34m\u001b[0m\u001b[0m\n\u001b[1;32m   6940\u001b[0m   \u001b[0;31m# pylint: disable=protected-access\u001b[0m\u001b[0;34m\u001b[0m\u001b[0;34m\u001b[0m\u001b[0m\n\u001b[0;32m-> 6941\u001b[0;31m   \u001b[0msix\u001b[0m\u001b[0;34m.\u001b[0m\u001b[0mraise_from\u001b[0m\u001b[0;34m(\u001b[0m\u001b[0mcore\u001b[0m\u001b[0;34m.\u001b[0m\u001b[0m_status_to_exception\u001b[0m\u001b[0;34m(\u001b[0m\u001b[0me\u001b[0m\u001b[0;34m.\u001b[0m\u001b[0mcode\u001b[0m\u001b[0;34m,\u001b[0m \u001b[0mmessage\u001b[0m\u001b[0;34m)\u001b[0m\u001b[0;34m,\u001b[0m \u001b[0;32mNone\u001b[0m\u001b[0;34m)\u001b[0m\u001b[0;34m\u001b[0m\u001b[0;34m\u001b[0m\u001b[0m\n\u001b[0m\u001b[1;32m   6942\u001b[0m   \u001b[0;31m# pylint: enable=protected-access\u001b[0m\u001b[0;34m\u001b[0m\u001b[0;34m\u001b[0m\u001b[0m\n\u001b[1;32m   6943\u001b[0m \u001b[0;34m\u001b[0m\u001b[0m\n",
      "\u001b[0;32m~/environments/csd/lib/python3.9/site-packages/six.py\u001b[0m in \u001b[0;36mraise_from\u001b[0;34m(value, from_value)\u001b[0m\n",
      "\u001b[0;31mInvalidArgumentError\u001b[0m: cannot compute Mul as input #1(zero-based) was expected to be a int64 tensor but is a float tensor [Op:Mul]"
     ]
    }
   ],
   "source": [
    "tf.math.multiply(one_result,tf_alpha)"
   ]
  },
  {
   "cell_type": "code",
   "execution_count": null,
   "id": "1dcba558",
   "metadata": {},
   "outputs": [],
   "source": []
  },
  {
   "cell_type": "code",
   "execution_count": null,
   "id": "cacd4446",
   "metadata": {},
   "outputs": [],
   "source": []
  },
  {
   "cell_type": "code",
   "execution_count": 155,
   "id": "91a28ad9",
   "metadata": {},
   "outputs": [],
   "source": [
    "alpha_value = 0.5\n",
    "ON = -1\n",
    "OFF = 1\n",
    "word = [alpha_value * (ON if sample != 0 else OFF) for sample in one_result]"
   ]
  },
  {
   "cell_type": "code",
   "execution_count": 158,
   "id": "a62e307c",
   "metadata": {},
   "outputs": [
    {
     "data": {
      "text/plain": [
       "<tf.Tensor: shape=(2,), dtype=float32, numpy=array([0.5, 0.5], dtype=float32)>"
      ]
     },
     "execution_count": 158,
     "metadata": {},
     "output_type": "execute_result"
    }
   ],
   "source": [
    "tf.constant(word)"
   ]
  },
  {
   "cell_type": "code",
   "execution_count": null,
   "id": "f3856ef7",
   "metadata": {},
   "outputs": [],
   "source": []
  },
  {
   "cell_type": "code",
   "execution_count": 52,
   "id": "1aa6381b",
   "metadata": {},
   "outputs": [],
   "source": [
    "import os\n",
    "import tensorflow as tf\n",
    "import random\n",
    "from typing import List\n",
    "import itertools\n",
    "os.environ[\"TF_FORCE_GPU_ALLOW_GROWTH\"] = \"true\""
   ]
  },
  {
   "cell_type": "code",
   "execution_count": null,
   "id": "1de3ff51",
   "metadata": {},
   "outputs": [],
   "source": []
  },
  {
   "cell_type": "code",
   "execution_count": 53,
   "id": "a5424ed6",
   "metadata": {},
   "outputs": [],
   "source": [
    "def generate_all_codewords(word_size: int, alpha_value: float) -> List[List[float]]:\n",
    "    letters = [alpha_value, -alpha_value]\n",
    "    codewords = [CodeWord(size=len(word), alpha_value=alpha_value, word=list(word))\n",
    "            for word in itertools.product(letters, repeat=word_size)]\n",
    "    return [codeword.word for codeword in codewords]"
   ]
  },
  {
   "cell_type": "code",
   "execution_count": 50,
   "id": "19efee62",
   "metadata": {},
   "outputs": [
    {
     "name": "stdout",
     "output_type": "stream",
     "text": [
      "[[0.7, 0.7], [0.7, -0.7], [-0.7, 0.7], [-0.7, -0.7]]\n",
      "Result samples: [[[0 0]]\n",
      "\n",
      " [[0 0]]\n",
      "\n",
      " [[1 0]]\n",
      "\n",
      " [[0 0]]]\n",
      "tf.Tensor([[0 0]], shape=(1, 2), dtype=int32)\n"
     ]
    },
    {
     "ename": "ValueError",
     "evalue": "The truth value of an array with more than one element is ambiguous. Use a.any() or a.all()",
     "output_type": "error",
     "traceback": [
      "\u001b[0;31m---------------------------------------------------------------------------\u001b[0m",
      "\u001b[0;31mValueError\u001b[0m                                Traceback (most recent call last)",
      "\u001b[0;32m/tmp/ipykernel_3229268/1777463175.py\u001b[0m in \u001b[0;36m<module>\u001b[0;34m\u001b[0m\n\u001b[1;32m     38\u001b[0m         })\n\u001b[1;32m     39\u001b[0m         \u001b[0mprint\u001b[0m\u001b[0;34m(\u001b[0m\u001b[0;34mf\"Result samples: {result.samples}\"\u001b[0m\u001b[0;34m)\u001b[0m\u001b[0;34m\u001b[0m\u001b[0;34m\u001b[0m\u001b[0m\n\u001b[0;32m---> 40\u001b[0;31m         codeword = convert_sampling_output_to_codeword(alpha_value=alpha_val, \n\u001b[0m\u001b[1;32m     41\u001b[0m                                                tf_samples=result.samples)\n\u001b[1;32m     42\u001b[0m \u001b[0;34m\u001b[0m\u001b[0m\n",
      "\u001b[0;32m/tmp/ipykernel_3229268/174615443.py\u001b[0m in \u001b[0;36mconvert_sampling_output_to_codeword\u001b[0;34m(alpha_value, tf_samples)\u001b[0m\n\u001b[1;32m      4\u001b[0m     \u001b[0msamples\u001b[0m \u001b[0;34m=\u001b[0m \u001b[0mtf_samples\u001b[0m\u001b[0;34m[\u001b[0m\u001b[0;36m0\u001b[0m\u001b[0;34m]\u001b[0m\u001b[0;34m\u001b[0m\u001b[0;34m\u001b[0m\u001b[0m\n\u001b[1;32m      5\u001b[0m     \u001b[0mprint\u001b[0m\u001b[0;34m(\u001b[0m\u001b[0msamples\u001b[0m\u001b[0;34m)\u001b[0m\u001b[0;34m\u001b[0m\u001b[0;34m\u001b[0m\u001b[0m\n\u001b[0;32m----> 6\u001b[0;31m     \u001b[0mword\u001b[0m \u001b[0;34m=\u001b[0m \u001b[0;34m[\u001b[0m\u001b[0malpha_value\u001b[0m \u001b[0;34m*\u001b[0m \u001b[0;34m(\u001b[0m\u001b[0mON\u001b[0m \u001b[0;32mif\u001b[0m \u001b[0msample\u001b[0m \u001b[0;34m!=\u001b[0m \u001b[0;36m0\u001b[0m \u001b[0;32melse\u001b[0m \u001b[0mOFF\u001b[0m\u001b[0;34m)\u001b[0m \u001b[0;32mfor\u001b[0m \u001b[0msample\u001b[0m \u001b[0;32min\u001b[0m \u001b[0msamples\u001b[0m\u001b[0;34m]\u001b[0m\u001b[0;34m\u001b[0m\u001b[0;34m\u001b[0m\u001b[0m\n\u001b[0m\u001b[1;32m      7\u001b[0m     \u001b[0mprint\u001b[0m\u001b[0;34m(\u001b[0m\u001b[0mword\u001b[0m\u001b[0;34m)\u001b[0m\u001b[0;34m\u001b[0m\u001b[0;34m\u001b[0m\u001b[0m\n\u001b[1;32m      8\u001b[0m     \u001b[0mtf_word\u001b[0m\u001b[0;34m=\u001b[0m\u001b[0mtf\u001b[0m\u001b[0;34m.\u001b[0m\u001b[0mconstant\u001b[0m\u001b[0;34m(\u001b[0m\u001b[0mword\u001b[0m\u001b[0;34m)\u001b[0m\u001b[0;34m\u001b[0m\u001b[0;34m\u001b[0m\u001b[0m\n",
      "\u001b[0;32m/tmp/ipykernel_3229268/174615443.py\u001b[0m in \u001b[0;36m<listcomp>\u001b[0;34m(.0)\u001b[0m\n\u001b[1;32m      4\u001b[0m     \u001b[0msamples\u001b[0m \u001b[0;34m=\u001b[0m \u001b[0mtf_samples\u001b[0m\u001b[0;34m[\u001b[0m\u001b[0;36m0\u001b[0m\u001b[0;34m]\u001b[0m\u001b[0;34m\u001b[0m\u001b[0;34m\u001b[0m\u001b[0m\n\u001b[1;32m      5\u001b[0m     \u001b[0mprint\u001b[0m\u001b[0;34m(\u001b[0m\u001b[0msamples\u001b[0m\u001b[0;34m)\u001b[0m\u001b[0;34m\u001b[0m\u001b[0;34m\u001b[0m\u001b[0m\n\u001b[0;32m----> 6\u001b[0;31m     \u001b[0mword\u001b[0m \u001b[0;34m=\u001b[0m \u001b[0;34m[\u001b[0m\u001b[0malpha_value\u001b[0m \u001b[0;34m*\u001b[0m \u001b[0;34m(\u001b[0m\u001b[0mON\u001b[0m \u001b[0;32mif\u001b[0m \u001b[0msample\u001b[0m \u001b[0;34m!=\u001b[0m \u001b[0;36m0\u001b[0m \u001b[0;32melse\u001b[0m \u001b[0mOFF\u001b[0m\u001b[0;34m)\u001b[0m \u001b[0;32mfor\u001b[0m \u001b[0msample\u001b[0m \u001b[0;32min\u001b[0m \u001b[0msamples\u001b[0m\u001b[0;34m]\u001b[0m\u001b[0;34m\u001b[0m\u001b[0;34m\u001b[0m\u001b[0m\n\u001b[0m\u001b[1;32m      7\u001b[0m     \u001b[0mprint\u001b[0m\u001b[0;34m(\u001b[0m\u001b[0mword\u001b[0m\u001b[0;34m)\u001b[0m\u001b[0;34m\u001b[0m\u001b[0;34m\u001b[0m\u001b[0m\n\u001b[1;32m      8\u001b[0m     \u001b[0mtf_word\u001b[0m\u001b[0;34m=\u001b[0m\u001b[0mtf\u001b[0m\u001b[0;34m.\u001b[0m\u001b[0mconstant\u001b[0m\u001b[0;34m(\u001b[0m\u001b[0mword\u001b[0m\u001b[0;34m)\u001b[0m\u001b[0;34m\u001b[0m\u001b[0;34m\u001b[0m\u001b[0m\n",
      "\u001b[0;32m~/environments/csd/lib/python3.9/site-packages/tensorflow/python/framework/ops.py\u001b[0m in \u001b[0;36m__bool__\u001b[0;34m(self)\u001b[0m\n\u001b[1;32m   1005\u001b[0m \u001b[0;34m\u001b[0m\u001b[0m\n\u001b[1;32m   1006\u001b[0m   \u001b[0;32mdef\u001b[0m \u001b[0m__bool__\u001b[0m\u001b[0;34m(\u001b[0m\u001b[0mself\u001b[0m\u001b[0;34m)\u001b[0m\u001b[0;34m:\u001b[0m\u001b[0;34m\u001b[0m\u001b[0;34m\u001b[0m\u001b[0m\n\u001b[0;32m-> 1007\u001b[0;31m     \u001b[0;32mreturn\u001b[0m \u001b[0mbool\u001b[0m\u001b[0;34m(\u001b[0m\u001b[0mself\u001b[0m\u001b[0;34m.\u001b[0m\u001b[0m_numpy\u001b[0m\u001b[0;34m(\u001b[0m\u001b[0;34m)\u001b[0m\u001b[0;34m)\u001b[0m\u001b[0;34m\u001b[0m\u001b[0;34m\u001b[0m\u001b[0m\n\u001b[0m\u001b[1;32m   1008\u001b[0m \u001b[0;34m\u001b[0m\u001b[0m\n\u001b[1;32m   1009\u001b[0m   \u001b[0m__nonzero__\u001b[0m \u001b[0;34m=\u001b[0m \u001b[0m__bool__\u001b[0m\u001b[0;34m\u001b[0m\u001b[0;34m\u001b[0m\u001b[0m\n",
      "\u001b[0;31mValueError\u001b[0m: The truth value of an array with more than one element is ambiguous. Use a.any() or a.all()"
     ]
    }
   ],
   "source": [
    "\n",
    "tf_b1 = tf.Variable(0.1)\n",
    "tf_b2 = tf.Variable(0.1)\n",
    "\n",
    "opt = tf.keras.optimizers.Adam(learning_rate=0.01)\n",
    "steps = 40\n",
    "\n",
    "number_modes = 2\n",
    "batch_size = 2**number_modes\n",
    "alpha_val = 0.7\n",
    "batch = generate_all_codewords(word_size=number_modes, alpha_value=alpha_val)\n",
    "print(batch)\n",
    "for step in range(steps):    \n",
    "    eng = sf.Engine(backend=\"tf\", backend_options={\n",
    "        \"cutoff_dim\": 7,\n",
    "        \"batch_size\": batch_size,\n",
    "    })\n",
    "    \n",
    "    circuit = sf.Program(number_modes)\n",
    "    \n",
    "    b1 = circuit.params(\"b1\")\n",
    "    b2 = circuit.params(\"b2\")\n",
    "    alpha1 = circuit.params(\"alpha1\")\n",
    "    alpha2 = circuit.params(\"alpha2\")\n",
    "\n",
    "    with circuit.context as q:\n",
    "        sf.ops.Dgate(alpha1, 0.0) | q[0]\n",
    "        sf.ops.Dgate(alpha2, 0.0) | q[1]\n",
    "        sf.ops.Dgate(b1, 0.0) | q[0]\n",
    "        sf.ops.Dgate(b2, 0.0) | q[1]\n",
    "        sf.ops.MeasureFock()  | q\n",
    "        \n",
    "    with tf.GradientTape() as tape:\n",
    "        results = eng.run(circuit, args={\n",
    "            \"alpha1\": alpha_val,\n",
    "            \"alpha2\": alpha_val,\n",
    "            \"b1\": tf_b1,\n",
    "            \"b2\": tf_b2\n",
    "        })\n",
    "        print(f\"Result samples: {result.samples}\")\n",
    "        codeword = convert_sampling_output_to_codeword(alpha_value=alpha_val, \n",
    "                                               tf_samples=result.samples)\n",
    "        \n",
    "        print(f\"codeword: {codeword}\")\n",
    "        # get the probability of |0>\n",
    "        p_zero = results.state.fock_prob([0])\n",
    "        print(f\"p_zero: {p_zero}\")\n",
    "        print(f\"bach_size: {batch_size}\")\n",
    "                \n",
    "        loss /= p_zero/batch_size\n",
    "        print(f\"loss: {loss}\")\n",
    "        \n",
    "    gradients = tape.gradient(loss, [tf_b1, tf_b2])\n",
    "    opt.apply_gradients(zip(gradients, [tf_b1,tf_b2]))\n",
    "    \n",
    "    if (step + 1) % 10 == 0:\n",
    "        print(\"Learned displacement value at step {}: {}\".format(step+1, tf_displacement_magnitude.numpy()))"
   ]
  },
  {
   "cell_type": "code",
   "execution_count": null,
   "id": "30b5aaa9",
   "metadata": {},
   "outputs": [],
   "source": []
  }
 ],
 "metadata": {
  "kernelspec": {
   "display_name": "Python 3 (ipykernel)",
   "language": "python",
   "name": "python3"
  },
  "language_info": {
   "codemirror_mode": {
    "name": "ipython",
    "version": 3
   },
   "file_extension": ".py",
   "mimetype": "text/x-python",
   "name": "python",
   "nbconvert_exporter": "python",
   "pygments_lexer": "ipython3",
   "version": "3.9.7"
  }
 },
 "nbformat": 4,
 "nbformat_minor": 5
}
