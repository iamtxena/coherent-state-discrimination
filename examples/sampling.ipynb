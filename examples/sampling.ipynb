{
 "cells": [
  {
   "cell_type": "code",
   "execution_count": 51,
   "id": "1cf554e7",
   "metadata": {},
   "outputs": [],
   "source": [
    "import numpy as np\n",
    "import strawberryfields as sf\n",
    "from csd.codeword import CodeWord"
   ]
  },
  {
   "cell_type": "code",
   "execution_count": 54,
   "id": "10677188",
   "metadata": {},
   "outputs": [],
   "source": [
    "NUM_SHOTS = 1\n",
    "number_modes = 2\n",
    "batch_size = 2**number_modes\n",
    "alpha_val = 0.7\n",
    "batch = generate_all_codewords(word_size=number_modes, alpha_value=alpha_val)"
   ]
  },
  {
   "cell_type": "code",
   "execution_count": 55,
   "id": "5d947f3d",
   "metadata": {},
   "outputs": [],
   "source": [
    "def single_layer(params):\n",
    "    # Creates a single mode quantum \"program\".\n",
    "    # https://strawberryfields.readthedocs.io/en/stable/code/api/strawberryfields.Program.html\n",
    "    prog = sf.Program(number_modes)\n",
    "\n",
    "    # Instantiate the Gaussian backend.\n",
    "    # https://strawberryfields.readthedocs.io/en/stable/introduction/circuits.html\n",
    "    eng = sf.Engine(\"tf\", backend_options={\"cutoff_dim\": 5, \"batch_size\": batch_size})\n",
    "\n",
    "    with prog.context as q:\n",
    "        # Phase space squeezing gate.\n",
    "        # https://strawberryfields.readthedocs.io/en/stable/code/api/strawberryfields.ops.Sgate.html\n",
    "        sf.ops.Dgate(params[\"displacement_magnitude\"])  | q[0]\n",
    "        sf.ops.Dgate(params[\"displacement_magnitude\"])  | q[1]\n",
    "\n",
    "        # Measures whether a mode contains zero or nonzero photons.\n",
    "        # https://strawberryfields.readthedocs.io/en/stable/code/api/strawberryfields.ops.MeasureThreshold.html\n",
    "        sf.ops.MeasureFock()                       | q\n",
    "\n",
    "    return eng.run(prog, shots=NUM_SHOTS)"
   ]
  },
  {
   "cell_type": "code",
   "execution_count": 56,
   "id": "500289d1",
   "metadata": {},
   "outputs": [],
   "source": [
    "# Parameters\n",
    "params = {\n",
    "    \"displacement_magnitude\": 0.5\n",
    "}"
   ]
  },
  {
   "cell_type": "code",
   "execution_count": 57,
   "id": "031a9a26",
   "metadata": {},
   "outputs": [],
   "source": [
    "# Execute the single layer of the quantum \"program\".\n",
    "result = single_layer(params=params)"
   ]
  },
  {
   "cell_type": "code",
   "execution_count": 58,
   "id": "c6f9fe70",
   "metadata": {},
   "outputs": [
    {
     "name": "stdout",
     "output_type": "stream",
     "text": [
      "tf.Tensor(\n",
      "[[[0 0]]\n",
      "\n",
      " [[0 0]]\n",
      "\n",
      " [[0 1]]\n",
      "\n",
      " [[0 0]]], shape=(4, 1, 2), dtype=int32)\n"
     ]
    }
   ],
   "source": [
    "# Obtain results.\n",
    "print(result.samples)"
   ]
  },
  {
   "cell_type": "code",
   "execution_count": 60,
   "id": "e7dabab1",
   "metadata": {},
   "outputs": [
    {
     "name": "stdout",
     "output_type": "stream",
     "text": [
      "tf.Tensor([[0 0]], shape=(1, 2), dtype=int32)\n",
      "tf.Tensor([[0 0]], shape=(1, 2), dtype=int32)\n",
      "tf.Tensor([[0 1]], shape=(1, 2), dtype=int32)\n",
      "tf.Tensor([[0 0]], shape=(1, 2), dtype=int32)\n"
     ]
    },
    {
     "data": {
      "text/plain": [
       "[None, None, None, None]"
      ]
     },
     "execution_count": 60,
     "metadata": {},
     "output_type": "execute_result"
    }
   ],
   "source": [
    "[print(sample) for sample in result.samples]"
   ]
  },
  {
   "cell_type": "code",
   "execution_count": 61,
   "id": "61136685",
   "metadata": {},
   "outputs": [],
   "source": [
    "one_sample = result.samples[0]"
   ]
  },
  {
   "cell_type": "code",
   "execution_count": 70,
   "id": "236a8cc7",
   "metadata": {},
   "outputs": [
    {
     "data": {
      "text/plain": [
       "<tf.Tensor: shape=(2,), dtype=int32, numpy=array([0, 0], dtype=int32)>"
      ]
     },
     "execution_count": 70,
     "metadata": {},
     "output_type": "execute_result"
    }
   ],
   "source": [
    "one_sample[0]"
   ]
  },
  {
   "cell_type": "code",
   "execution_count": 72,
   "id": "eb3a254e",
   "metadata": {},
   "outputs": [
    {
     "name": "stdout",
     "output_type": "stream",
     "text": [
      "tf.Tensor([[0 0]], shape=(1, 2), dtype=int32)\n",
      "[0.5, 0.5]\n",
      "tf.Tensor([0.5 0.5], shape=(2,), dtype=float32)\n",
      "tf.Tensor([[0 0]], shape=(1, 2), dtype=int32)\n",
      "[0.5, 0.5]\n",
      "tf.Tensor([0.5 0.5], shape=(2,), dtype=float32)\n",
      "tf.Tensor([[0 1]], shape=(1, 2), dtype=int32)\n",
      "[0.5, -0.5]\n",
      "tf.Tensor([ 0.5 -0.5], shape=(2,), dtype=float32)\n",
      "tf.Tensor([[0 0]], shape=(1, 2), dtype=int32)\n",
      "[0.5, 0.5]\n",
      "tf.Tensor([0.5 0.5], shape=(2,), dtype=float32)\n"
     ]
    },
    {
     "data": {
      "text/plain": [
       "[tf.Tensor([0.5 0.5], shape=(2,), dtype=float32),\n",
       " tf.Tensor([0.5 0.5], shape=(2,), dtype=float32),\n",
       " tf.Tensor([ 0.5 -0.5], shape=(2,), dtype=float32),\n",
       " tf.Tensor([0.5 0.5], shape=(2,), dtype=float32)]"
      ]
     },
     "execution_count": 72,
     "metadata": {},
     "output_type": "execute_result"
    }
   ],
   "source": [
    "convert_batch_sampling_output_to_codeword_list(alpha_value=0.5, batch_samples=result.samples)"
   ]
  },
  {
   "cell_type": "code",
   "execution_count": null,
   "id": "4d824504",
   "metadata": {},
   "outputs": [],
   "source": []
  },
  {
   "cell_type": "code",
   "execution_count": 66,
   "id": "5f045fd8",
   "metadata": {},
   "outputs": [],
   "source": [
    "def convert_batch_sampling_output_to_codeword_list(alpha_value: float, batch_samples) -> List[CodeWord]:\n",
    "    return [convert_sampling_output_to_codeword(alpha_value=alpha_value, one_codeword_output=one_codeword_output) for one_codeword_output in batch_samples]"
   ]
  },
  {
   "cell_type": "code",
   "execution_count": 71,
   "id": "b0fe57be",
   "metadata": {},
   "outputs": [],
   "source": [
    "def convert_sampling_output_to_codeword(alpha_value: float, one_codeword_output) -> CodeWord:\n",
    "    ON = -1\n",
    "    OFF = 1\n",
    "    print(one_codeword_output)\n",
    "    word = [alpha_value * (ON if one_mode_output != 0 else OFF) for one_mode_output in one_codeword_output[0]]\n",
    "    print(word)\n",
    "    tf_word=tf.constant(word)\n",
    "    cw = CodeWord(word=tf_word)\n",
    "    print(cw)\n",
    "    return cw\n"
   ]
  },
  {
   "cell_type": "code",
   "execution_count": 11,
   "id": "55f14727",
   "metadata": {},
   "outputs": [
    {
     "name": "stdout",
     "output_type": "stream",
     "text": [
      "tf.Tensor([0 0], shape=(2,), dtype=int64)\n",
      "[0.5, 0.5]\n",
      "tf.Tensor([0.5 0.5], shape=(2,), dtype=float32)\n"
     ]
    }
   ],
   "source": [
    "codeword = convert_sampling_output_to_codeword(alpha_value=0.5, \n",
    "                                               tf_samples=result.samples)"
   ]
  },
  {
   "cell_type": "code",
   "execution_count": 12,
   "id": "5a9ba042",
   "metadata": {},
   "outputs": [
    {
     "name": "stdout",
     "output_type": "stream",
     "text": [
      "tf.Tensor([0.5 0.5], shape=(2,), dtype=float32)\n"
     ]
    }
   ],
   "source": [
    "print(codeword)"
   ]
  },
  {
   "cell_type": "code",
   "execution_count": 13,
   "id": "27507e47",
   "metadata": {},
   "outputs": [],
   "source": [
    "results = [single_layer(params=params).samples for _ in range(100)]"
   ]
  },
  {
   "cell_type": "code",
   "execution_count": 14,
   "id": "b5ebdf18",
   "metadata": {},
   "outputs": [
    {
     "name": "stdout",
     "output_type": "stream",
     "text": [
      "tf.Tensor([2 0], shape=(2,), dtype=int64)\n",
      "[-0.5, 0.5]\n",
      "tf.Tensor([-0.5  0.5], shape=(2,), dtype=float32)\n",
      "tf.Tensor([2 0], shape=(2,), dtype=int64)\n",
      "[-0.5, 0.5]\n",
      "tf.Tensor([-0.5  0.5], shape=(2,), dtype=float32)\n",
      "tf.Tensor([1 0], shape=(2,), dtype=int64)\n",
      "[-0.5, 0.5]\n",
      "tf.Tensor([-0.5  0.5], shape=(2,), dtype=float32)\n",
      "tf.Tensor([0 0], shape=(2,), dtype=int64)\n",
      "[0.5, 0.5]\n",
      "tf.Tensor([0.5 0.5], shape=(2,), dtype=float32)\n",
      "tf.Tensor([0 0], shape=(2,), dtype=int64)\n",
      "[0.5, 0.5]\n",
      "tf.Tensor([0.5 0.5], shape=(2,), dtype=float32)\n",
      "tf.Tensor([0 1], shape=(2,), dtype=int64)\n",
      "[0.5, -0.5]\n",
      "tf.Tensor([ 0.5 -0.5], shape=(2,), dtype=float32)\n",
      "tf.Tensor([1 0], shape=(2,), dtype=int64)\n",
      "[-0.5, 0.5]\n",
      "tf.Tensor([-0.5  0.5], shape=(2,), dtype=float32)\n",
      "tf.Tensor([0 0], shape=(2,), dtype=int64)\n",
      "[0.5, 0.5]\n",
      "tf.Tensor([0.5 0.5], shape=(2,), dtype=float32)\n",
      "tf.Tensor([0 0], shape=(2,), dtype=int64)\n",
      "[0.5, 0.5]\n",
      "tf.Tensor([0.5 0.5], shape=(2,), dtype=float32)\n",
      "tf.Tensor([0 1], shape=(2,), dtype=int64)\n",
      "[0.5, -0.5]\n",
      "tf.Tensor([ 0.5 -0.5], shape=(2,), dtype=float32)\n",
      "tf.Tensor([0 0], shape=(2,), dtype=int64)\n",
      "[0.5, 0.5]\n",
      "tf.Tensor([0.5 0.5], shape=(2,), dtype=float32)\n",
      "tf.Tensor([0 0], shape=(2,), dtype=int64)\n",
      "[0.5, 0.5]\n",
      "tf.Tensor([0.5 0.5], shape=(2,), dtype=float32)\n",
      "tf.Tensor([0 1], shape=(2,), dtype=int64)\n",
      "[0.5, -0.5]\n",
      "tf.Tensor([ 0.5 -0.5], shape=(2,), dtype=float32)\n",
      "tf.Tensor([0 0], shape=(2,), dtype=int64)\n",
      "[0.5, 0.5]\n",
      "tf.Tensor([0.5 0.5], shape=(2,), dtype=float32)\n",
      "tf.Tensor([0 0], shape=(2,), dtype=int64)\n",
      "[0.5, 0.5]\n",
      "tf.Tensor([0.5 0.5], shape=(2,), dtype=float32)\n",
      "tf.Tensor([1 0], shape=(2,), dtype=int64)\n",
      "[-0.5, 0.5]\n",
      "tf.Tensor([-0.5  0.5], shape=(2,), dtype=float32)\n",
      "tf.Tensor([0 0], shape=(2,), dtype=int64)\n",
      "[0.5, 0.5]\n",
      "tf.Tensor([0.5 0.5], shape=(2,), dtype=float32)\n",
      "tf.Tensor([0 0], shape=(2,), dtype=int64)\n",
      "[0.5, 0.5]\n",
      "tf.Tensor([0.5 0.5], shape=(2,), dtype=float32)\n",
      "tf.Tensor([0 0], shape=(2,), dtype=int64)\n",
      "[0.5, 0.5]\n",
      "tf.Tensor([0.5 0.5], shape=(2,), dtype=float32)\n",
      "tf.Tensor([0 0], shape=(2,), dtype=int64)\n",
      "[0.5, 0.5]\n",
      "tf.Tensor([0.5 0.5], shape=(2,), dtype=float32)\n",
      "tf.Tensor([0 0], shape=(2,), dtype=int64)\n",
      "[0.5, 0.5]\n",
      "tf.Tensor([0.5 0.5], shape=(2,), dtype=float32)\n",
      "tf.Tensor([0 0], shape=(2,), dtype=int64)\n",
      "[0.5, 0.5]\n",
      "tf.Tensor([0.5 0.5], shape=(2,), dtype=float32)\n",
      "tf.Tensor([0 0], shape=(2,), dtype=int64)\n",
      "[0.5, 0.5]\n",
      "tf.Tensor([0.5 0.5], shape=(2,), dtype=float32)\n",
      "tf.Tensor([0 2], shape=(2,), dtype=int64)\n",
      "[0.5, -0.5]\n",
      "tf.Tensor([ 0.5 -0.5], shape=(2,), dtype=float32)\n",
      "tf.Tensor([0 1], shape=(2,), dtype=int64)\n",
      "[0.5, -0.5]\n",
      "tf.Tensor([ 0.5 -0.5], shape=(2,), dtype=float32)\n",
      "tf.Tensor([0 0], shape=(2,), dtype=int64)\n",
      "[0.5, 0.5]\n",
      "tf.Tensor([0.5 0.5], shape=(2,), dtype=float32)\n",
      "tf.Tensor([0 0], shape=(2,), dtype=int64)\n",
      "[0.5, 0.5]\n",
      "tf.Tensor([0.5 0.5], shape=(2,), dtype=float32)\n",
      "tf.Tensor([1 0], shape=(2,), dtype=int64)\n",
      "[-0.5, 0.5]\n",
      "tf.Tensor([-0.5  0.5], shape=(2,), dtype=float32)\n",
      "tf.Tensor([0 1], shape=(2,), dtype=int64)\n",
      "[0.5, -0.5]\n",
      "tf.Tensor([ 0.5 -0.5], shape=(2,), dtype=float32)\n",
      "tf.Tensor([0 0], shape=(2,), dtype=int64)\n",
      "[0.5, 0.5]\n",
      "tf.Tensor([0.5 0.5], shape=(2,), dtype=float32)\n",
      "tf.Tensor([0 0], shape=(2,), dtype=int64)\n",
      "[0.5, 0.5]\n",
      "tf.Tensor([0.5 0.5], shape=(2,), dtype=float32)\n",
      "tf.Tensor([0 0], shape=(2,), dtype=int64)\n",
      "[0.5, 0.5]\n",
      "tf.Tensor([0.5 0.5], shape=(2,), dtype=float32)\n",
      "tf.Tensor([0 0], shape=(2,), dtype=int64)\n",
      "[0.5, 0.5]\n",
      "tf.Tensor([0.5 0.5], shape=(2,), dtype=float32)\n",
      "tf.Tensor([0 0], shape=(2,), dtype=int64)\n",
      "[0.5, 0.5]\n",
      "tf.Tensor([0.5 0.5], shape=(2,), dtype=float32)\n",
      "tf.Tensor([0 0], shape=(2,), dtype=int64)\n",
      "[0.5, 0.5]\n",
      "tf.Tensor([0.5 0.5], shape=(2,), dtype=float32)\n",
      "tf.Tensor([0 0], shape=(2,), dtype=int64)\n",
      "[0.5, 0.5]\n",
      "tf.Tensor([0.5 0.5], shape=(2,), dtype=float32)\n",
      "tf.Tensor([0 1], shape=(2,), dtype=int64)\n",
      "[0.5, -0.5]\n",
      "tf.Tensor([ 0.5 -0.5], shape=(2,), dtype=float32)\n",
      "tf.Tensor([0 0], shape=(2,), dtype=int64)\n",
      "[0.5, 0.5]\n",
      "tf.Tensor([0.5 0.5], shape=(2,), dtype=float32)\n",
      "tf.Tensor([0 0], shape=(2,), dtype=int64)\n",
      "[0.5, 0.5]\n",
      "tf.Tensor([0.5 0.5], shape=(2,), dtype=float32)\n",
      "tf.Tensor([0 0], shape=(2,), dtype=int64)\n",
      "[0.5, 0.5]\n",
      "tf.Tensor([0.5 0.5], shape=(2,), dtype=float32)\n",
      "tf.Tensor([0 0], shape=(2,), dtype=int64)\n",
      "[0.5, 0.5]\n",
      "tf.Tensor([0.5 0.5], shape=(2,), dtype=float32)\n",
      "tf.Tensor([0 0], shape=(2,), dtype=int64)\n",
      "[0.5, 0.5]\n",
      "tf.Tensor([0.5 0.5], shape=(2,), dtype=float32)\n",
      "tf.Tensor([0 0], shape=(2,), dtype=int64)\n",
      "[0.5, 0.5]\n",
      "tf.Tensor([0.5 0.5], shape=(2,), dtype=float32)\n",
      "tf.Tensor([1 1], shape=(2,), dtype=int64)\n",
      "[-0.5, -0.5]\n",
      "tf.Tensor([-0.5 -0.5], shape=(2,), dtype=float32)\n",
      "tf.Tensor([0 0], shape=(2,), dtype=int64)\n",
      "[0.5, 0.5]\n",
      "tf.Tensor([0.5 0.5], shape=(2,), dtype=float32)\n",
      "tf.Tensor([1 0], shape=(2,), dtype=int64)\n",
      "[-0.5, 0.5]\n",
      "tf.Tensor([-0.5  0.5], shape=(2,), dtype=float32)\n",
      "tf.Tensor([0 0], shape=(2,), dtype=int64)\n",
      "[0.5, 0.5]\n",
      "tf.Tensor([0.5 0.5], shape=(2,), dtype=float32)\n",
      "tf.Tensor([1 1], shape=(2,), dtype=int64)\n",
      "[-0.5, -0.5]\n",
      "tf.Tensor([-0.5 -0.5], shape=(2,), dtype=float32)\n",
      "tf.Tensor([0 0], shape=(2,), dtype=int64)\n",
      "[0.5, 0.5]\n",
      "tf.Tensor([0.5 0.5], shape=(2,), dtype=float32)\n",
      "tf.Tensor([0 0], shape=(2,), dtype=int64)\n",
      "[0.5, 0.5]\n",
      "tf.Tensor([0.5 0.5], shape=(2,), dtype=float32)\n",
      "tf.Tensor([0 0], shape=(2,), dtype=int64)\n",
      "[0.5, 0.5]\n",
      "tf.Tensor([0.5 0.5], shape=(2,), dtype=float32)\n",
      "tf.Tensor([0 0], shape=(2,), dtype=int64)\n",
      "[0.5, 0.5]\n",
      "tf.Tensor([0.5 0.5], shape=(2,), dtype=float32)\n",
      "tf.Tensor([0 0], shape=(2,), dtype=int64)\n",
      "[0.5, 0.5]\n",
      "tf.Tensor([0.5 0.5], shape=(2,), dtype=float32)\n",
      "tf.Tensor([0 0], shape=(2,), dtype=int64)\n",
      "[0.5, 0.5]\n",
      "tf.Tensor([0.5 0.5], shape=(2,), dtype=float32)\n",
      "tf.Tensor([0 0], shape=(2,), dtype=int64)\n",
      "[0.5, 0.5]\n",
      "tf.Tensor([0.5 0.5], shape=(2,), dtype=float32)\n",
      "tf.Tensor([0 1], shape=(2,), dtype=int64)\n",
      "[0.5, -0.5]\n",
      "tf.Tensor([ 0.5 -0.5], shape=(2,), dtype=float32)\n",
      "tf.Tensor([1 0], shape=(2,), dtype=int64)\n",
      "[-0.5, 0.5]\n",
      "tf.Tensor([-0.5  0.5], shape=(2,), dtype=float32)\n",
      "tf.Tensor([0 0], shape=(2,), dtype=int64)\n",
      "[0.5, 0.5]\n",
      "tf.Tensor([0.5 0.5], shape=(2,), dtype=float32)\n",
      "tf.Tensor([0 1], shape=(2,), dtype=int64)\n",
      "[0.5, -0.5]\n",
      "tf.Tensor([ 0.5 -0.5], shape=(2,), dtype=float32)\n",
      "tf.Tensor([0 1], shape=(2,), dtype=int64)\n",
      "[0.5, -0.5]\n",
      "tf.Tensor([ 0.5 -0.5], shape=(2,), dtype=float32)\n",
      "tf.Tensor([0 0], shape=(2,), dtype=int64)\n",
      "[0.5, 0.5]\n",
      "tf.Tensor([0.5 0.5], shape=(2,), dtype=float32)\n",
      "tf.Tensor([0 0], shape=(2,), dtype=int64)\n",
      "[0.5, 0.5]\n",
      "tf.Tensor([0.5 0.5], shape=(2,), dtype=float32)\n",
      "tf.Tensor([1 0], shape=(2,), dtype=int64)\n",
      "[-0.5, 0.5]\n",
      "tf.Tensor([-0.5  0.5], shape=(2,), dtype=float32)\n",
      "tf.Tensor([1 0], shape=(2,), dtype=int64)\n",
      "[-0.5, 0.5]\n",
      "tf.Tensor([-0.5  0.5], shape=(2,), dtype=float32)\n",
      "tf.Tensor([0 0], shape=(2,), dtype=int64)\n",
      "[0.5, 0.5]\n",
      "tf.Tensor([0.5 0.5], shape=(2,), dtype=float32)\n",
      "tf.Tensor([0 0], shape=(2,), dtype=int64)\n",
      "[0.5, 0.5]\n",
      "tf.Tensor([0.5 0.5], shape=(2,), dtype=float32)\n",
      "tf.Tensor([0 1], shape=(2,), dtype=int64)\n",
      "[0.5, -0.5]\n",
      "tf.Tensor([ 0.5 -0.5], shape=(2,), dtype=float32)\n",
      "tf.Tensor([0 0], shape=(2,), dtype=int64)\n",
      "[0.5, 0.5]\n",
      "tf.Tensor([0.5 0.5], shape=(2,), dtype=float32)\n",
      "tf.Tensor([0 0], shape=(2,), dtype=int64)\n",
      "[0.5, 0.5]\n",
      "tf.Tensor([0.5 0.5], shape=(2,), dtype=float32)\n",
      "tf.Tensor([0 0], shape=(2,), dtype=int64)\n",
      "[0.5, 0.5]\n",
      "tf.Tensor([0.5 0.5], shape=(2,), dtype=float32)\n",
      "tf.Tensor([0 2], shape=(2,), dtype=int64)\n",
      "[0.5, -0.5]\n",
      "tf.Tensor([ 0.5 -0.5], shape=(2,), dtype=float32)\n",
      "tf.Tensor([0 0], shape=(2,), dtype=int64)\n",
      "[0.5, 0.5]\n",
      "tf.Tensor([0.5 0.5], shape=(2,), dtype=float32)\n",
      "tf.Tensor([0 0], shape=(2,), dtype=int64)\n",
      "[0.5, 0.5]\n",
      "tf.Tensor([0.5 0.5], shape=(2,), dtype=float32)\n",
      "tf.Tensor([0 1], shape=(2,), dtype=int64)\n",
      "[0.5, -0.5]\n",
      "tf.Tensor([ 0.5 -0.5], shape=(2,), dtype=float32)\n",
      "tf.Tensor([0 0], shape=(2,), dtype=int64)\n",
      "[0.5, 0.5]\n",
      "tf.Tensor([0.5 0.5], shape=(2,), dtype=float32)\n",
      "tf.Tensor([0 0], shape=(2,), dtype=int64)\n",
      "[0.5, 0.5]\n",
      "tf.Tensor([0.5 0.5], shape=(2,), dtype=float32)\n",
      "tf.Tensor([0 0], shape=(2,), dtype=int64)\n",
      "[0.5, 0.5]\n",
      "tf.Tensor([0.5 0.5], shape=(2,), dtype=float32)\n",
      "tf.Tensor([2 0], shape=(2,), dtype=int64)\n",
      "[-0.5, 0.5]\n",
      "tf.Tensor([-0.5  0.5], shape=(2,), dtype=float32)\n",
      "tf.Tensor([0 0], shape=(2,), dtype=int64)\n",
      "[0.5, 0.5]\n",
      "tf.Tensor([0.5 0.5], shape=(2,), dtype=float32)\n",
      "tf.Tensor([0 1], shape=(2,), dtype=int64)\n",
      "[0.5, -0.5]\n",
      "tf.Tensor([ 0.5 -0.5], shape=(2,), dtype=float32)\n",
      "tf.Tensor([1 0], shape=(2,), dtype=int64)\n",
      "[-0.5, 0.5]\n",
      "tf.Tensor([-0.5  0.5], shape=(2,), dtype=float32)\n",
      "tf.Tensor([0 0], shape=(2,), dtype=int64)\n",
      "[0.5, 0.5]\n",
      "tf.Tensor([0.5 0.5], shape=(2,), dtype=float32)\n",
      "tf.Tensor([0 0], shape=(2,), dtype=int64)\n",
      "[0.5, 0.5]\n",
      "tf.Tensor([0.5 0.5], shape=(2,), dtype=float32)\n",
      "tf.Tensor([1 0], shape=(2,), dtype=int64)\n",
      "[-0.5, 0.5]\n",
      "tf.Tensor([-0.5  0.5], shape=(2,), dtype=float32)\n",
      "tf.Tensor([0 0], shape=(2,), dtype=int64)\n",
      "[0.5, 0.5]\n",
      "tf.Tensor([0.5 0.5], shape=(2,), dtype=float32)\n",
      "tf.Tensor([0 0], shape=(2,), dtype=int64)\n",
      "[0.5, 0.5]\n",
      "tf.Tensor([0.5 0.5], shape=(2,), dtype=float32)\n",
      "tf.Tensor([0 0], shape=(2,), dtype=int64)\n",
      "[0.5, 0.5]\n",
      "tf.Tensor([0.5 0.5], shape=(2,), dtype=float32)\n",
      "tf.Tensor([0 0], shape=(2,), dtype=int64)\n",
      "[0.5, 0.5]\n",
      "tf.Tensor([0.5 0.5], shape=(2,), dtype=float32)\n",
      "tf.Tensor([0 0], shape=(2,), dtype=int64)\n",
      "[0.5, 0.5]\n",
      "tf.Tensor([0.5 0.5], shape=(2,), dtype=float32)\n",
      "tf.Tensor([1 0], shape=(2,), dtype=int64)\n",
      "[-0.5, 0.5]\n",
      "tf.Tensor([-0.5  0.5], shape=(2,), dtype=float32)\n",
      "tf.Tensor([0 1], shape=(2,), dtype=int64)\n",
      "[0.5, -0.5]\n",
      "tf.Tensor([ 0.5 -0.5], shape=(2,), dtype=float32)\n",
      "tf.Tensor([1 1], shape=(2,), dtype=int64)\n",
      "[-0.5, -0.5]\n",
      "tf.Tensor([-0.5 -0.5], shape=(2,), dtype=float32)\n",
      "tf.Tensor([0 1], shape=(2,), dtype=int64)\n",
      "[0.5, -0.5]\n",
      "tf.Tensor([ 0.5 -0.5], shape=(2,), dtype=float32)\n",
      "tf.Tensor([0 0], shape=(2,), dtype=int64)\n",
      "[0.5, 0.5]\n",
      "tf.Tensor([0.5 0.5], shape=(2,), dtype=float32)\n",
      "tf.Tensor([0 0], shape=(2,), dtype=int64)\n",
      "[0.5, 0.5]\n",
      "tf.Tensor([0.5 0.5], shape=(2,), dtype=float32)\n",
      "tf.Tensor([0 0], shape=(2,), dtype=int64)\n",
      "[0.5, 0.5]\n",
      "tf.Tensor([0.5 0.5], shape=(2,), dtype=float32)\n",
      "tf.Tensor([0 0], shape=(2,), dtype=int64)\n",
      "[0.5, 0.5]\n",
      "tf.Tensor([0.5 0.5], shape=(2,), dtype=float32)\n",
      "tf.Tensor([0 1], shape=(2,), dtype=int64)\n",
      "[0.5, -0.5]\n",
      "tf.Tensor([ 0.5 -0.5], shape=(2,), dtype=float32)\n",
      "tf.Tensor([1 0], shape=(2,), dtype=int64)\n",
      "[-0.5, 0.5]\n",
      "tf.Tensor([-0.5  0.5], shape=(2,), dtype=float32)\n",
      "tf.Tensor([0 0], shape=(2,), dtype=int64)\n",
      "[0.5, 0.5]\n",
      "tf.Tensor([0.5 0.5], shape=(2,), dtype=float32)\n"
     ]
    }
   ],
   "source": [
    "codewords = [convert_sampling_output_to_codeword(alpha_value=0.5, \n",
    "                                               tf_samples=result) for result in results]"
   ]
  },
  {
   "cell_type": "code",
   "execution_count": 139,
   "id": "ab19a883",
   "metadata": {},
   "outputs": [],
   "source": [
    "one_result = results[0][0]"
   ]
  },
  {
   "cell_type": "code",
   "execution_count": 148,
   "id": "eeca42d3",
   "metadata": {},
   "outputs": [
    {
     "data": {
      "text/plain": [
       "<tf.Tensor: shape=(2,), dtype=int64, numpy=array([0, 0])>"
      ]
     },
     "execution_count": 148,
     "metadata": {},
     "output_type": "execute_result"
    }
   ],
   "source": [
    "one_result"
   ]
  },
  {
   "cell_type": "code",
   "execution_count": 152,
   "id": "77baee42",
   "metadata": {},
   "outputs": [],
   "source": [
    "tf_alpha = tf.constant(([alpha_value, alpha_value]))"
   ]
  },
  {
   "cell_type": "code",
   "execution_count": 154,
   "id": "756da4ce",
   "metadata": {},
   "outputs": [
    {
     "ename": "InvalidArgumentError",
     "evalue": "cannot compute Mul as input #1(zero-based) was expected to be a int64 tensor but is a float tensor [Op:Mul]",
     "output_type": "error",
     "traceback": [
      "\u001b[0;31m---------------------------------------------------------------------------\u001b[0m",
      "\u001b[0;31mInvalidArgumentError\u001b[0m                      Traceback (most recent call last)",
      "\u001b[0;32m/tmp/ipykernel_1995807/948992563.py\u001b[0m in \u001b[0;36m<module>\u001b[0;34m\u001b[0m\n\u001b[0;32m----> 1\u001b[0;31m \u001b[0mtf\u001b[0m\u001b[0;34m.\u001b[0m\u001b[0mmath\u001b[0m\u001b[0;34m.\u001b[0m\u001b[0mmultiply\u001b[0m\u001b[0;34m(\u001b[0m\u001b[0mone_result\u001b[0m\u001b[0;34m,\u001b[0m\u001b[0mtf_alpha\u001b[0m\u001b[0;34m)\u001b[0m\u001b[0;34m\u001b[0m\u001b[0;34m\u001b[0m\u001b[0m\n\u001b[0m",
      "\u001b[0;32m~/environments/csd/lib/python3.9/site-packages/tensorflow/python/util/dispatch.py\u001b[0m in \u001b[0;36mwrapper\u001b[0;34m(*args, **kwargs)\u001b[0m\n\u001b[1;32m    204\u001b[0m     \u001b[0;34m\"\"\"Call target, and fall back on dispatchers if there is a TypeError.\"\"\"\u001b[0m\u001b[0;34m\u001b[0m\u001b[0;34m\u001b[0m\u001b[0m\n\u001b[1;32m    205\u001b[0m     \u001b[0;32mtry\u001b[0m\u001b[0;34m:\u001b[0m\u001b[0;34m\u001b[0m\u001b[0;34m\u001b[0m\u001b[0m\n\u001b[0;32m--> 206\u001b[0;31m       \u001b[0;32mreturn\u001b[0m \u001b[0mtarget\u001b[0m\u001b[0;34m(\u001b[0m\u001b[0;34m*\u001b[0m\u001b[0margs\u001b[0m\u001b[0;34m,\u001b[0m \u001b[0;34m**\u001b[0m\u001b[0mkwargs\u001b[0m\u001b[0;34m)\u001b[0m\u001b[0;34m\u001b[0m\u001b[0;34m\u001b[0m\u001b[0m\n\u001b[0m\u001b[1;32m    207\u001b[0m     \u001b[0;32mexcept\u001b[0m \u001b[0;34m(\u001b[0m\u001b[0mTypeError\u001b[0m\u001b[0;34m,\u001b[0m \u001b[0mValueError\u001b[0m\u001b[0;34m)\u001b[0m\u001b[0;34m:\u001b[0m\u001b[0;34m\u001b[0m\u001b[0;34m\u001b[0m\u001b[0m\n\u001b[1;32m    208\u001b[0m       \u001b[0;31m# Note: convert_to_eager_tensor currently raises a ValueError, not a\u001b[0m\u001b[0;34m\u001b[0m\u001b[0;34m\u001b[0m\u001b[0m\n",
      "\u001b[0;32m~/environments/csd/lib/python3.9/site-packages/tensorflow/python/ops/math_ops.py\u001b[0m in \u001b[0;36mmultiply\u001b[0;34m(x, y, name)\u001b[0m\n\u001b[1;32m    528\u001b[0m   \"\"\"\n\u001b[1;32m    529\u001b[0m \u001b[0;34m\u001b[0m\u001b[0m\n\u001b[0;32m--> 530\u001b[0;31m   \u001b[0;32mreturn\u001b[0m \u001b[0mgen_math_ops\u001b[0m\u001b[0;34m.\u001b[0m\u001b[0mmul\u001b[0m\u001b[0;34m(\u001b[0m\u001b[0mx\u001b[0m\u001b[0;34m,\u001b[0m \u001b[0my\u001b[0m\u001b[0;34m,\u001b[0m \u001b[0mname\u001b[0m\u001b[0;34m)\u001b[0m\u001b[0;34m\u001b[0m\u001b[0;34m\u001b[0m\u001b[0m\n\u001b[0m\u001b[1;32m    531\u001b[0m \u001b[0;34m\u001b[0m\u001b[0m\n\u001b[1;32m    532\u001b[0m \u001b[0;34m\u001b[0m\u001b[0m\n",
      "\u001b[0;32m~/environments/csd/lib/python3.9/site-packages/tensorflow/python/ops/gen_math_ops.py\u001b[0m in \u001b[0;36mmul\u001b[0;34m(x, y, name)\u001b[0m\n\u001b[1;32m   6234\u001b[0m       \u001b[0;32mreturn\u001b[0m \u001b[0m_result\u001b[0m\u001b[0;34m\u001b[0m\u001b[0;34m\u001b[0m\u001b[0m\n\u001b[1;32m   6235\u001b[0m     \u001b[0;32mexcept\u001b[0m \u001b[0m_core\u001b[0m\u001b[0;34m.\u001b[0m\u001b[0m_NotOkStatusException\u001b[0m \u001b[0;32mas\u001b[0m \u001b[0me\u001b[0m\u001b[0;34m:\u001b[0m\u001b[0;34m\u001b[0m\u001b[0;34m\u001b[0m\u001b[0m\n\u001b[0;32m-> 6236\u001b[0;31m       \u001b[0m_ops\u001b[0m\u001b[0;34m.\u001b[0m\u001b[0mraise_from_not_ok_status\u001b[0m\u001b[0;34m(\u001b[0m\u001b[0me\u001b[0m\u001b[0;34m,\u001b[0m \u001b[0mname\u001b[0m\u001b[0;34m)\u001b[0m\u001b[0;34m\u001b[0m\u001b[0;34m\u001b[0m\u001b[0m\n\u001b[0m\u001b[1;32m   6237\u001b[0m     \u001b[0;32mexcept\u001b[0m \u001b[0m_core\u001b[0m\u001b[0;34m.\u001b[0m\u001b[0m_FallbackException\u001b[0m\u001b[0;34m:\u001b[0m\u001b[0;34m\u001b[0m\u001b[0;34m\u001b[0m\u001b[0m\n\u001b[1;32m   6238\u001b[0m       \u001b[0;32mpass\u001b[0m\u001b[0;34m\u001b[0m\u001b[0;34m\u001b[0m\u001b[0m\n",
      "\u001b[0;32m~/environments/csd/lib/python3.9/site-packages/tensorflow/python/framework/ops.py\u001b[0m in \u001b[0;36mraise_from_not_ok_status\u001b[0;34m(e, name)\u001b[0m\n\u001b[1;32m   6939\u001b[0m   \u001b[0mmessage\u001b[0m \u001b[0;34m=\u001b[0m \u001b[0me\u001b[0m\u001b[0;34m.\u001b[0m\u001b[0mmessage\u001b[0m \u001b[0;34m+\u001b[0m \u001b[0;34m(\u001b[0m\u001b[0;34m\" name: \"\u001b[0m \u001b[0;34m+\u001b[0m \u001b[0mname\u001b[0m \u001b[0;32mif\u001b[0m \u001b[0mname\u001b[0m \u001b[0;32mis\u001b[0m \u001b[0;32mnot\u001b[0m \u001b[0;32mNone\u001b[0m \u001b[0;32melse\u001b[0m \u001b[0;34m\"\"\u001b[0m\u001b[0;34m)\u001b[0m\u001b[0;34m\u001b[0m\u001b[0;34m\u001b[0m\u001b[0m\n\u001b[1;32m   6940\u001b[0m   \u001b[0;31m# pylint: disable=protected-access\u001b[0m\u001b[0;34m\u001b[0m\u001b[0;34m\u001b[0m\u001b[0m\n\u001b[0;32m-> 6941\u001b[0;31m   \u001b[0msix\u001b[0m\u001b[0;34m.\u001b[0m\u001b[0mraise_from\u001b[0m\u001b[0;34m(\u001b[0m\u001b[0mcore\u001b[0m\u001b[0;34m.\u001b[0m\u001b[0m_status_to_exception\u001b[0m\u001b[0;34m(\u001b[0m\u001b[0me\u001b[0m\u001b[0;34m.\u001b[0m\u001b[0mcode\u001b[0m\u001b[0;34m,\u001b[0m \u001b[0mmessage\u001b[0m\u001b[0;34m)\u001b[0m\u001b[0;34m,\u001b[0m \u001b[0;32mNone\u001b[0m\u001b[0;34m)\u001b[0m\u001b[0;34m\u001b[0m\u001b[0;34m\u001b[0m\u001b[0m\n\u001b[0m\u001b[1;32m   6942\u001b[0m   \u001b[0;31m# pylint: enable=protected-access\u001b[0m\u001b[0;34m\u001b[0m\u001b[0;34m\u001b[0m\u001b[0m\n\u001b[1;32m   6943\u001b[0m \u001b[0;34m\u001b[0m\u001b[0m\n",
      "\u001b[0;32m~/environments/csd/lib/python3.9/site-packages/six.py\u001b[0m in \u001b[0;36mraise_from\u001b[0;34m(value, from_value)\u001b[0m\n",
      "\u001b[0;31mInvalidArgumentError\u001b[0m: cannot compute Mul as input #1(zero-based) was expected to be a int64 tensor but is a float tensor [Op:Mul]"
     ]
    }
   ],
   "source": [
    "tf.math.multiply(one_result,tf_alpha)"
   ]
  },
  {
   "cell_type": "code",
   "execution_count": null,
   "id": "1dcba558",
   "metadata": {},
   "outputs": [],
   "source": []
  },
  {
   "cell_type": "code",
   "execution_count": null,
   "id": "cacd4446",
   "metadata": {},
   "outputs": [],
   "source": []
  },
  {
   "cell_type": "code",
   "execution_count": 155,
   "id": "91a28ad9",
   "metadata": {},
   "outputs": [],
   "source": [
    "alpha_value = 0.5\n",
    "ON = -1\n",
    "OFF = 1\n",
    "word = [alpha_value * (ON if sample != 0 else OFF) for sample in one_result]"
   ]
  },
  {
   "cell_type": "code",
   "execution_count": 158,
   "id": "a62e307c",
   "metadata": {},
   "outputs": [
    {
     "data": {
      "text/plain": [
       "<tf.Tensor: shape=(2,), dtype=float32, numpy=array([0.5, 0.5], dtype=float32)>"
      ]
     },
     "execution_count": 158,
     "metadata": {},
     "output_type": "execute_result"
    }
   ],
   "source": [
    "tf.constant(word)"
   ]
  },
  {
   "cell_type": "code",
   "execution_count": null,
   "id": "f3856ef7",
   "metadata": {},
   "outputs": [],
   "source": []
  },
  {
   "cell_type": "code",
   "execution_count": 52,
   "id": "1aa6381b",
   "metadata": {},
   "outputs": [],
   "source": [
    "import os\n",
    "import tensorflow as tf\n",
    "import random\n",
    "from typing import List\n",
    "import itertools\n",
    "os.environ[\"TF_FORCE_GPU_ALLOW_GROWTH\"] = \"true\""
   ]
  },
  {
   "cell_type": "code",
   "execution_count": null,
   "id": "1de3ff51",
   "metadata": {},
   "outputs": [],
   "source": []
  },
  {
   "cell_type": "code",
   "execution_count": 53,
   "id": "a5424ed6",
   "metadata": {},
   "outputs": [],
   "source": [
    "def generate_all_codewords(word_size: int, alpha_value: float) -> List[List[float]]:\n",
    "    letters = [alpha_value, -alpha_value]\n",
    "    codewords = [CodeWord(size=len(word), alpha_value=alpha_value, word=list(word))\n",
    "            for word in itertools.product(letters, repeat=word_size)]\n",
    "    return [codeword.word for codeword in codewords]"
   ]
  },
  {
   "cell_type": "code",
   "execution_count": 50,
   "id": "19efee62",
   "metadata": {},
   "outputs": [
    {
     "name": "stdout",
     "output_type": "stream",
     "text": [
      "[[0.7, 0.7], [0.7, -0.7], [-0.7, 0.7], [-0.7, -0.7]]\n",
      "Result samples: [[[0 0]]\n",
      "\n",
      " [[0 0]]\n",
      "\n",
      " [[1 0]]\n",
      "\n",
      " [[0 0]]]\n",
      "tf.Tensor([[0 0]], shape=(1, 2), dtype=int32)\n"
     ]
    },
    {
     "ename": "ValueError",
     "evalue": "The truth value of an array with more than one element is ambiguous. Use a.any() or a.all()",
     "output_type": "error",
     "traceback": [
      "\u001b[0;31m---------------------------------------------------------------------------\u001b[0m",
      "\u001b[0;31mValueError\u001b[0m                                Traceback (most recent call last)",
      "\u001b[0;32m/tmp/ipykernel_3229268/1777463175.py\u001b[0m in \u001b[0;36m<module>\u001b[0;34m\u001b[0m\n\u001b[1;32m     38\u001b[0m         })\n\u001b[1;32m     39\u001b[0m         \u001b[0mprint\u001b[0m\u001b[0;34m(\u001b[0m\u001b[0;34mf\"Result samples: {result.samples}\"\u001b[0m\u001b[0;34m)\u001b[0m\u001b[0;34m\u001b[0m\u001b[0;34m\u001b[0m\u001b[0m\n\u001b[0;32m---> 40\u001b[0;31m         codeword = convert_sampling_output_to_codeword(alpha_value=alpha_val, \n\u001b[0m\u001b[1;32m     41\u001b[0m                                                tf_samples=result.samples)\n\u001b[1;32m     42\u001b[0m \u001b[0;34m\u001b[0m\u001b[0m\n",
      "\u001b[0;32m/tmp/ipykernel_3229268/174615443.py\u001b[0m in \u001b[0;36mconvert_sampling_output_to_codeword\u001b[0;34m(alpha_value, tf_samples)\u001b[0m\n\u001b[1;32m      4\u001b[0m     \u001b[0msamples\u001b[0m \u001b[0;34m=\u001b[0m \u001b[0mtf_samples\u001b[0m\u001b[0;34m[\u001b[0m\u001b[0;36m0\u001b[0m\u001b[0;34m]\u001b[0m\u001b[0;34m\u001b[0m\u001b[0;34m\u001b[0m\u001b[0m\n\u001b[1;32m      5\u001b[0m     \u001b[0mprint\u001b[0m\u001b[0;34m(\u001b[0m\u001b[0msamples\u001b[0m\u001b[0;34m)\u001b[0m\u001b[0;34m\u001b[0m\u001b[0;34m\u001b[0m\u001b[0m\n\u001b[0;32m----> 6\u001b[0;31m     \u001b[0mword\u001b[0m \u001b[0;34m=\u001b[0m \u001b[0;34m[\u001b[0m\u001b[0malpha_value\u001b[0m \u001b[0;34m*\u001b[0m \u001b[0;34m(\u001b[0m\u001b[0mON\u001b[0m \u001b[0;32mif\u001b[0m \u001b[0msample\u001b[0m \u001b[0;34m!=\u001b[0m \u001b[0;36m0\u001b[0m \u001b[0;32melse\u001b[0m \u001b[0mOFF\u001b[0m\u001b[0;34m)\u001b[0m \u001b[0;32mfor\u001b[0m \u001b[0msample\u001b[0m \u001b[0;32min\u001b[0m \u001b[0msamples\u001b[0m\u001b[0;34m]\u001b[0m\u001b[0;34m\u001b[0m\u001b[0;34m\u001b[0m\u001b[0m\n\u001b[0m\u001b[1;32m      7\u001b[0m     \u001b[0mprint\u001b[0m\u001b[0;34m(\u001b[0m\u001b[0mword\u001b[0m\u001b[0;34m)\u001b[0m\u001b[0;34m\u001b[0m\u001b[0;34m\u001b[0m\u001b[0m\n\u001b[1;32m      8\u001b[0m     \u001b[0mtf_word\u001b[0m\u001b[0;34m=\u001b[0m\u001b[0mtf\u001b[0m\u001b[0;34m.\u001b[0m\u001b[0mconstant\u001b[0m\u001b[0;34m(\u001b[0m\u001b[0mword\u001b[0m\u001b[0;34m)\u001b[0m\u001b[0;34m\u001b[0m\u001b[0;34m\u001b[0m\u001b[0m\n",
      "\u001b[0;32m/tmp/ipykernel_3229268/174615443.py\u001b[0m in \u001b[0;36m<listcomp>\u001b[0;34m(.0)\u001b[0m\n\u001b[1;32m      4\u001b[0m     \u001b[0msamples\u001b[0m \u001b[0;34m=\u001b[0m \u001b[0mtf_samples\u001b[0m\u001b[0;34m[\u001b[0m\u001b[0;36m0\u001b[0m\u001b[0;34m]\u001b[0m\u001b[0;34m\u001b[0m\u001b[0;34m\u001b[0m\u001b[0m\n\u001b[1;32m      5\u001b[0m     \u001b[0mprint\u001b[0m\u001b[0;34m(\u001b[0m\u001b[0msamples\u001b[0m\u001b[0;34m)\u001b[0m\u001b[0;34m\u001b[0m\u001b[0;34m\u001b[0m\u001b[0m\n\u001b[0;32m----> 6\u001b[0;31m     \u001b[0mword\u001b[0m \u001b[0;34m=\u001b[0m \u001b[0;34m[\u001b[0m\u001b[0malpha_value\u001b[0m \u001b[0;34m*\u001b[0m \u001b[0;34m(\u001b[0m\u001b[0mON\u001b[0m \u001b[0;32mif\u001b[0m \u001b[0msample\u001b[0m \u001b[0;34m!=\u001b[0m \u001b[0;36m0\u001b[0m \u001b[0;32melse\u001b[0m \u001b[0mOFF\u001b[0m\u001b[0;34m)\u001b[0m \u001b[0;32mfor\u001b[0m \u001b[0msample\u001b[0m \u001b[0;32min\u001b[0m \u001b[0msamples\u001b[0m\u001b[0;34m]\u001b[0m\u001b[0;34m\u001b[0m\u001b[0;34m\u001b[0m\u001b[0m\n\u001b[0m\u001b[1;32m      7\u001b[0m     \u001b[0mprint\u001b[0m\u001b[0;34m(\u001b[0m\u001b[0mword\u001b[0m\u001b[0;34m)\u001b[0m\u001b[0;34m\u001b[0m\u001b[0;34m\u001b[0m\u001b[0m\n\u001b[1;32m      8\u001b[0m     \u001b[0mtf_word\u001b[0m\u001b[0;34m=\u001b[0m\u001b[0mtf\u001b[0m\u001b[0;34m.\u001b[0m\u001b[0mconstant\u001b[0m\u001b[0;34m(\u001b[0m\u001b[0mword\u001b[0m\u001b[0;34m)\u001b[0m\u001b[0;34m\u001b[0m\u001b[0;34m\u001b[0m\u001b[0m\n",
      "\u001b[0;32m~/environments/csd/lib/python3.9/site-packages/tensorflow/python/framework/ops.py\u001b[0m in \u001b[0;36m__bool__\u001b[0;34m(self)\u001b[0m\n\u001b[1;32m   1005\u001b[0m \u001b[0;34m\u001b[0m\u001b[0m\n\u001b[1;32m   1006\u001b[0m   \u001b[0;32mdef\u001b[0m \u001b[0m__bool__\u001b[0m\u001b[0;34m(\u001b[0m\u001b[0mself\u001b[0m\u001b[0;34m)\u001b[0m\u001b[0;34m:\u001b[0m\u001b[0;34m\u001b[0m\u001b[0;34m\u001b[0m\u001b[0m\n\u001b[0;32m-> 1007\u001b[0;31m     \u001b[0;32mreturn\u001b[0m \u001b[0mbool\u001b[0m\u001b[0;34m(\u001b[0m\u001b[0mself\u001b[0m\u001b[0;34m.\u001b[0m\u001b[0m_numpy\u001b[0m\u001b[0;34m(\u001b[0m\u001b[0;34m)\u001b[0m\u001b[0;34m)\u001b[0m\u001b[0;34m\u001b[0m\u001b[0;34m\u001b[0m\u001b[0m\n\u001b[0m\u001b[1;32m   1008\u001b[0m \u001b[0;34m\u001b[0m\u001b[0m\n\u001b[1;32m   1009\u001b[0m   \u001b[0m__nonzero__\u001b[0m \u001b[0;34m=\u001b[0m \u001b[0m__bool__\u001b[0m\u001b[0;34m\u001b[0m\u001b[0;34m\u001b[0m\u001b[0m\n",
      "\u001b[0;31mValueError\u001b[0m: The truth value of an array with more than one element is ambiguous. Use a.any() or a.all()"
     ]
    }
   ],
   "source": [
    "\n",
    "tf_b1 = tf.Variable(0.1)\n",
    "tf_b2 = tf.Variable(0.1)\n",
    "\n",
    "opt = tf.keras.optimizers.Adam(learning_rate=0.01)\n",
    "steps = 40\n",
    "\n",
    "number_modes = 2\n",
    "batch_size = 2**number_modes\n",
    "alpha_val = 0.7\n",
    "batch = generate_all_codewords(word_size=number_modes, alpha_value=alpha_val)\n",
    "print(batch)\n",
    "for step in range(steps):    \n",
    "    eng = sf.Engine(backend=\"tf\", backend_options={\n",
    "        \"cutoff_dim\": 7,\n",
    "        \"batch_size\": batch_size,\n",
    "    })\n",
    "    \n",
    "    circuit = sf.Program(number_modes)\n",
    "    \n",
    "    b1 = circuit.params(\"b1\")\n",
    "    b2 = circuit.params(\"b2\")\n",
    "    alpha1 = circuit.params(\"alpha1\")\n",
    "    alpha2 = circuit.params(\"alpha2\")\n",
    "\n",
    "    with circuit.context as q:\n",
    "        sf.ops.Dgate(alpha1, 0.0) | q[0]\n",
    "        sf.ops.Dgate(alpha2, 0.0) | q[1]\n",
    "        sf.ops.Dgate(b1, 0.0) | q[0]\n",
    "        sf.ops.Dgate(b2, 0.0) | q[1]\n",
    "        sf.ops.MeasureFock()  | q\n",
    "        \n",
    "    with tf.GradientTape() as tape:\n",
    "        results = eng.run(circuit, args={\n",
    "            \"alpha1\": alpha_val,\n",
    "            \"alpha2\": alpha_val,\n",
    "            \"b1\": tf_b1,\n",
    "            \"b2\": tf_b2\n",
    "        })\n",
    "        print(f\"Result samples: {result.samples}\")\n",
    "        codeword = convert_sampling_output_to_codeword(alpha_value=alpha_val, \n",
    "                                               tf_samples=result.samples)\n",
    "        \n",
    "        print(f\"codeword: {codeword}\")\n",
    "        # get the probability of |0>\n",
    "        p_zero = results.state.fock_prob([0])\n",
    "        print(f\"p_zero: {p_zero}\")\n",
    "        print(f\"bach_size: {batch_size}\")\n",
    "                \n",
    "        loss /= p_zero/batch_size\n",
    "        print(f\"loss: {loss}\")\n",
    "        \n",
    "    gradients = tape.gradient(loss, [tf_b1, tf_b2])\n",
    "    opt.apply_gradients(zip(gradients, [tf_b1,tf_b2]))\n",
    "    \n",
    "    if (step + 1) % 10 == 0:\n",
    "        print(\"Learned displacement value at step {}: {}\".format(step+1, tf_displacement_magnitude.numpy()))"
   ]
  },
  {
   "cell_type": "code",
   "execution_count": null,
   "id": "30b5aaa9",
   "metadata": {},
   "outputs": [],
   "source": []
  }
 ],
 "metadata": {
  "kernelspec": {
   "display_name": "Python 3 (ipykernel)",
   "language": "python",
   "name": "python3"
  },
  "language_info": {
   "codemirror_mode": {
    "name": "ipython",
    "version": 3
   },
   "file_extension": ".py",
   "mimetype": "text/x-python",
   "name": "python",
   "nbconvert_exporter": "python",
   "pygments_lexer": "ipython3",
   "version": "3.9.7"
  }
 },
 "nbformat": 4,
 "nbformat_minor": 5
}
