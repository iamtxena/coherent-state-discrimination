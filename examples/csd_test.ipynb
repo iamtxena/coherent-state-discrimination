{
 "cells": [
  {
   "cell_type": "code",
   "execution_count": 1,
   "source": [
    "from csd import CSD\n"
   ],
   "outputs": [],
   "metadata": {}
  },
  {
   "cell_type": "code",
   "execution_count": 2,
   "source": [
    "example_csd = CSD()"
   ],
   "outputs": [
    {
     "output_type": "stream",
     "name": "stderr",
     "text": [
      "[CSD] 0.0.1|INFO|2021-09-11 08:53:53]: Just a test that logger is working. Happy coding!\n"
     ]
    }
   ],
   "metadata": {}
  },
  {
   "cell_type": "code",
   "execution_count": null,
   "source": [],
   "outputs": [],
   "metadata": {}
  }
 ],
 "metadata": {
  "orig_nbformat": 4,
  "language_info": {
   "name": "python",
   "version": "3.9.7",
   "mimetype": "text/x-python",
   "codemirror_mode": {
    "name": "ipython",
    "version": 3
   },
   "pygments_lexer": "ipython3",
   "nbconvert_exporter": "python",
   "file_extension": ".py"
  },
  "kernelspec": {
   "name": "python3",
   "display_name": "Python 3.9.7 64-bit ('coherent': conda)"
  },
  "interpreter": {
   "hash": "b4a62cf06e41ff0d2ddc7fc133a4c1acecd350d81d146ce6fb6329fb049278cb"
  }
 },
 "nbformat": 4,
 "nbformat_minor": 2
}