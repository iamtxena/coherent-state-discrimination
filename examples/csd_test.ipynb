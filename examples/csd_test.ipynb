{
 "cells": [
  {
   "cell_type": "code",
   "execution_count": 1,
   "metadata": {},
   "outputs": [],
   "source": [
    "from csd import CSD\n"
   ]
  },
  {
   "cell_type": "code",
   "execution_count": 2,
   "metadata": {},
   "outputs": [
    {
     "name": "stderr",
     "output_type": "stream",
     "text": [
      "[CSD] 0.0.1|INFO|2021-09-20 17:29:05]: Just a test that logger is working. Happy coding!\n"
     ]
    }
   ],
   "source": [
    "example_csd = CSD()"
   ]
  },
  {
   "cell_type": "code",
   "execution_count": 8,
   "metadata": {},
   "outputs": [],
   "source": [
    "import strawberryfields as sf"
   ]
  },
  {
   "cell_type": "code",
   "execution_count": 33,
   "metadata": {},
   "outputs": [],
   "source": [
    "\n",
    "\n",
    "def single_layer(params):\n",
    "    # Creates a single mode quantum \"program\".\n",
    "    # https://strawberryfields.readthedocs.io/en/stable/code/api/strawberryfields.Program.html\n",
    "    prog = sf.Program(1)\n",
    "\n",
    "    # Instantiate the Gaussian backend.\n",
    "    # https://strawberryfields.readthedocs.io/en/stable/introduction/circuits.html\n",
    "    eng = sf.Engine(\"fock\", backend_options={\"cutoff_dim\": 5})\n",
    "\n",
    "    with prog.context as q:\n",
    "        # Phase space squeezing gate.\n",
    "        # https://strawberryfields.readthedocs.io/en/stable/code/api/strawberryfields.ops.Sgate.html\n",
    "        sf.ops.Dgate(params[\"displacement_magnitude\"])  | q[0]\n",
    "\n",
    "        # Measures whether a mode contains zero or nonzero photons.\n",
    "        # https://strawberryfields.readthedocs.io/en/stable/code/api/strawberryfields.ops.MeasureThreshold.html\n",
    "        sf.ops.MeasureFock()                       | q[0]\n",
    "\n",
    "    return eng.run(prog)"
   ]
  },
  {
   "cell_type": "code",
   "execution_count": 34,
   "metadata": {},
   "outputs": [],
   "source": [
    "# Parameters\n",
    "params = { \"displacement_magnitude\": 0.5 }\n",
    "\n",
    "# Execute the single layer of the quantum \"program\".\n",
    "result = single_layer(params=params)"
   ]
  },
  {
   "cell_type": "code",
   "execution_count": 71,
   "metadata": {},
   "outputs": [
    {
     "name": "stdout",
     "output_type": "stream",
     "text": [
      "[[0]]\n"
     ]
    }
   ],
   "source": [
    "print(result.samples)"
   ]
  },
  {
   "cell_type": "code",
   "execution_count": 72,
   "metadata": {},
   "outputs": [],
   "source": [
    "def compute_probability(nshots: int) -> float:\n",
    "    return sum([x for x in [single_layer(params=params).samples[0][0] for _ in range(0,shots)] if x > 0])/shots"
   ]
  },
  {
   "cell_type": "code",
   "execution_count": 73,
   "metadata": {},
   "outputs": [
    {
     "data": {
      "text/plain": [
       "0.24"
      ]
     },
     "execution_count": 73,
     "metadata": {},
     "output_type": "execute_result"
    }
   ],
   "source": [
    "compute_probability(nshots=10000)"
   ]
  },
  {
   "cell_type": "code",
   "execution_count": 74,
   "metadata": {},
   "outputs": [
    {
     "data": {
      "text/plain": [
       "0.26"
      ]
     },
     "execution_count": 74,
     "metadata": {},
     "output_type": "execute_result"
    }
   ],
   "source": [
    "compute_probability(nshots=10000)"
   ]
  },
  {
   "cell_type": "code",
   "execution_count": 75,
   "metadata": {},
   "outputs": [
    {
     "data": {
      "text/plain": [
       "0.22"
      ]
     },
     "execution_count": 75,
     "metadata": {},
     "output_type": "execute_result"
    }
   ],
   "source": [
    "compute_probability(nshots=10000)"
   ]
  },
  {
   "cell_type": "code",
   "execution_count": null,
   "metadata": {},
   "outputs": [],
   "source": []
  }
 ],
 "metadata": {
  "interpreter": {
   "hash": "b4a62cf06e41ff0d2ddc7fc133a4c1acecd350d81d146ce6fb6329fb049278cb"
  },
  "kernelspec": {
   "display_name": "Python 3",
   "language": "python",
   "name": "python3"
  },
  "language_info": {
   "codemirror_mode": {
    "name": "ipython",
    "version": 3
   },
   "file_extension": ".py",
   "mimetype": "text/x-python",
   "name": "python",
   "nbconvert_exporter": "python",
   "pygments_lexer": "ipython3",
   "version": "3.9.5"
  }
 },
 "nbformat": 4,
 "nbformat_minor": 2
}
