{
 "cells": [
  {
   "cell_type": "code",
   "execution_count": 1,
   "metadata": {
    "ExecuteTime": {
     "end_time": "2021-09-27T06:39:10.735041Z",
     "start_time": "2021-09-27T06:39:04.411445Z"
    }
   },
   "outputs": [],
   "source": [
    "import numpy as np\n",
    "import strawberryfields as sf\n",
    "import tensorflow as tf\n",
    "import random"
   ]
  },
  {
   "cell_type": "code",
   "execution_count": 12,
   "metadata": {
    "ExecuteTime": {
     "end_time": "2021-09-27T06:53:46.564062Z",
     "start_time": "2021-09-27T06:53:27.370884Z"
    },
    "scrolled": false
   },
   "outputs": [
    {
     "name": "stdout",
     "output_type": "stream",
     "text": [
      "Learned displacement value at step 10: 0.2002868354320526\n",
      "Learned displacement value at step 20: 0.29916319251060486\n",
      "Learned displacement value at step 30: 0.3954797387123108\n",
      "Learned displacement value at step 40: 0.4836708605289459\n",
      "Learned displacement value at step 50: 0.5603189468383789\n",
      "Learned displacement value at step 60: 0.6281559467315674\n",
      "Learned displacement value at step 70: 0.6888529062271118\n",
      "Learned displacement value at step 80: 0.7404367923736572\n",
      "Learned displacement value at step 90: 0.7718182802200317\n",
      "Learned displacement value at step 100: 0.8033789992332458\n",
      "Learned displacement value at step 110: 0.8323858380317688\n",
      "Learned displacement value at step 120: 0.8447498679161072\n",
      "Learned displacement value at step 130: 0.8436397910118103\n",
      "Learned displacement value at step 140: 0.8403850793838501\n",
      "Learned displacement value at step 150: 0.8485214114189148\n",
      "Learned displacement value at step 160: 0.8519872426986694\n",
      "Learned displacement value at step 170: 0.8461380004882812\n",
      "Learned displacement value at step 180: 0.8429856896400452\n",
      "Learned displacement value at step 190: 0.8390655517578125\n",
      "Learned displacement value at step 200: 0.8352252840995789\n",
      "Learned displacement value at step 210: 0.8329870104789734\n",
      "Learned displacement value at step 220: 0.826423704624176\n",
      "Learned displacement value at step 230: 0.8426612019538879\n",
      "Learned displacement value at step 240: 0.8527258634567261\n",
      "Learned displacement value at step 250: 0.8529384136199951\n",
      "Learned displacement value at step 260: 0.8445780873298645\n",
      "Learned displacement value at step 270: 0.8452708125114441\n",
      "Learned displacement value at step 280: 0.8571266531944275\n",
      "Learned displacement value at step 290: 0.847797155380249\n",
      "Learned displacement value at step 300: 0.8304652571678162\n",
      "Learned displacement value at step 310: 0.8301587700843811\n",
      "Learned displacement value at step 320: 0.842603325843811\n",
      "Learned displacement value at step 330: 0.8528783917427063\n",
      "Learned displacement value at step 340: 0.8678645491600037\n",
      "Learned displacement value at step 350: 0.8579574823379517\n",
      "Learned displacement value at step 360: 0.8417993783950806\n",
      "Learned displacement value at step 370: 0.843061625957489\n",
      "Learned displacement value at step 380: 0.8448123335838318\n",
      "Learned displacement value at step 390: 0.8333438038825989\n",
      "Learned displacement value at step 400: 0.8428264260292053\n",
      "Learned displacement value at step 410: 0.8565428256988525\n",
      "Learned displacement value at step 420: 0.8695531487464905\n",
      "Learned displacement value at step 430: 0.8633795380592346\n",
      "Learned displacement value at step 440: 0.8460639119148254\n",
      "Learned displacement value at step 450: 0.8455164432525635\n",
      "Learned displacement value at step 460: 0.829334020614624\n",
      "Learned displacement value at step 470: 0.8168467283248901\n",
      "Learned displacement value at step 480: 0.8413432240486145\n",
      "Learned displacement value at step 490: 0.8557338714599609\n",
      "Learned displacement value at step 500: 0.8787145614624023\n"
     ]
    }
   ],
   "source": [
    "tf_displacement_magnitude = tf.Variable(0.1)\n",
    "\n",
    "opt = tf.keras.optimizers.Adam(learning_rate=0.01)\n",
    "steps = 500\n",
    "\n",
    "batch_size = 10\n",
    "threshold = 0.5\n",
    "\n",
    "for step in range(steps):\n",
    "    batch = [1 if random.random() > threshold else -1 for _ in range(batch_size)]\n",
    "    alpha_val = 0.7 * np.array(batch)\n",
    "    \n",
    "    p_1 = batch.count(1)/batch_size\n",
    "    p_0 = 1 - p_1\n",
    "        \n",
    "    eng = sf.Engine(backend=\"tf\", backend_options={\n",
    "        \"cutoff_dim\": 7,\n",
    "        \"batch_size\": batch_size,\n",
    "    })\n",
    "    \n",
    "    circuit = sf.Program(1)\n",
    "\n",
    "    displacement_magnitude = circuit.params(\"displacement_magnitude\")\n",
    "    \n",
    "    alpha = circuit.params(\"alpha\")\n",
    "\n",
    "    with circuit.context as q:\n",
    "        sf.ops.Dgate(alpha, 0.0) | q[0]\n",
    "        sf.ops.Dgate(displacement_magnitude, 0.0) | q[0]\n",
    "        \n",
    "    with tf.GradientTape() as tape:\n",
    "        results = eng.run(circuit, args={\n",
    "            \"displacement_magnitude\": tf_displacement_magnitude,\n",
    "            \"alpha\": alpha_val\n",
    "        })\n",
    "        \n",
    "        # get the probability of |0>\n",
    "        p_zero = results.state.fock_prob([0])\n",
    "        \n",
    "        # get the porbability of anything by |0>\n",
    "        p_one = 1 - p_zero\n",
    "        \n",
    "        loss = 0\n",
    "        \n",
    "        # p(a|1) = [p(1|a) p(1)] / p(a)\n",
    "        # p(-a|0) = [p(0|-a) p(0)] / p(-a)\n",
    "        \n",
    "        for i, mult in enumerate(batch):\n",
    "            if mult == 1:\n",
    "                loss += - (p_one[i] * p_1) / 2\n",
    "            else:\n",
    "                loss += - (p_zero[i] * p_0) / 2\n",
    "                \n",
    "        loss /= batch_size\n",
    "        \n",
    "    gradients = tape.gradient(loss, [tf_displacement_magnitude])\n",
    "    opt.apply_gradients(zip(gradients, [tf_displacement_magnitude]))\n",
    "    \n",
    "    if (step + 1) % 10 == 0:\n",
    "        print(\"Learned displacement value at step {}: {}\".format(step+1, tf_displacement_magnitude.numpy()))"
   ]
  },
  {
   "cell_type": "code",
   "execution_count": null,
   "metadata": {},
   "outputs": [],
   "source": []
  }
 ],
 "metadata": {
  "interpreter": {
   "hash": "500ed5d60f3999408640ffd6434d49f0877dd25c7f518e20d2e5bd748d2fd58b"
  },
  "kernelspec": {
   "display_name": "Python 3",
   "language": "python",
   "name": "python3"
  },
  "language_info": {
   "codemirror_mode": {
    "name": "ipython",
    "version": 3
   },
   "file_extension": ".py",
   "mimetype": "text/x-python",
   "name": "python",
   "nbconvert_exporter": "python",
   "pygments_lexer": "ipython3",
   "version": "3.9.7"
  },
  "toc": {
   "base_numbering": 1,
   "nav_menu": {},
   "number_sections": true,
   "sideBar": true,
   "skip_h1_title": false,
   "title_cell": "Table of Contents",
   "title_sidebar": "Contents",
   "toc_cell": false,
   "toc_position": {},
   "toc_section_display": true,
   "toc_window_display": false
  },
  "varInspector": {
   "cols": {
    "lenName": 16,
    "lenType": 16,
    "lenVar": 40
   },
   "kernels_config": {
    "python": {
     "delete_cmd_postfix": "",
     "delete_cmd_prefix": "del ",
     "library": "var_list.py",
     "varRefreshCmd": "print(var_dic_list())"
    },
    "r": {
     "delete_cmd_postfix": ") ",
     "delete_cmd_prefix": "rm(",
     "library": "var_list.r",
     "varRefreshCmd": "cat(var_dic_list()) "
    }
   },
   "types_to_exclude": [
    "module",
    "function",
    "builtin_function_or_method",
    "instance",
    "_Feature"
   ],
   "window_display": false
  }
 },
 "nbformat": 4,
 "nbformat_minor": 2
}
