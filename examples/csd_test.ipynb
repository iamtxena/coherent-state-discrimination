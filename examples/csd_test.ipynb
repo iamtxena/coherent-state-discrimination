{
 "cells": [
  {
   "cell_type": "code",
   "execution_count": 1,
   "metadata": {
    "ExecuteTime": {
     "end_time": "2021-09-27T06:39:10.735041Z",
     "start_time": "2021-09-27T06:39:04.411445Z"
    }
   },
   "outputs": [],
   "source": [
    "import numpy as np\n",
    "import strawberryfields as sf\n",
    "import tensorflow as tf\n",
    "import random"
   ]
  },
  {
   "cell_type": "code",
   "execution_count": 2,
   "metadata": {
    "ExecuteTime": {
     "end_time": "2021-09-27T06:53:46.564062Z",
     "start_time": "2021-09-27T06:53:27.370884Z"
    },
    "scrolled": false
   },
   "outputs": [
    {
     "name": "stderr",
     "output_type": "stream",
     "text": [
      "2021-10-15 14:48:27.467286: I tensorflow/stream_executor/cuda/cuda_gpu_executor.cc:937] successful NUMA node read from SysFS had negative value (-1), but there must be at least one NUMA node, so returning NUMA node zero\n",
      "2021-10-15 14:48:27.472439: I tensorflow/stream_executor/cuda/cuda_gpu_executor.cc:937] successful NUMA node read from SysFS had negative value (-1), but there must be at least one NUMA node, so returning NUMA node zero\n",
      "2021-10-15 14:48:27.472943: I tensorflow/stream_executor/cuda/cuda_gpu_executor.cc:937] successful NUMA node read from SysFS had negative value (-1), but there must be at least one NUMA node, so returning NUMA node zero\n",
      "2021-10-15 14:48:27.473721: I tensorflow/core/platform/cpu_feature_guard.cc:142] This TensorFlow binary is optimized with oneAPI Deep Neural Network Library (oneDNN) to use the following CPU instructions in performance-critical operations:  AVX2 FMA\n",
      "To enable them in other operations, rebuild TensorFlow with the appropriate compiler flags.\n",
      "2021-10-15 14:48:27.474111: I tensorflow/stream_executor/cuda/cuda_gpu_executor.cc:937] successful NUMA node read from SysFS had negative value (-1), but there must be at least one NUMA node, so returning NUMA node zero\n",
      "2021-10-15 14:48:27.474592: I tensorflow/stream_executor/cuda/cuda_gpu_executor.cc:937] successful NUMA node read from SysFS had negative value (-1), but there must be at least one NUMA node, so returning NUMA node zero\n",
      "2021-10-15 14:48:27.475059: I tensorflow/stream_executor/cuda/cuda_gpu_executor.cc:937] successful NUMA node read from SysFS had negative value (-1), but there must be at least one NUMA node, so returning NUMA node zero\n",
      "2021-10-15 14:48:27.772642: I tensorflow/stream_executor/cuda/cuda_gpu_executor.cc:937] successful NUMA node read from SysFS had negative value (-1), but there must be at least one NUMA node, so returning NUMA node zero\n",
      "2021-10-15 14:48:27.773134: I tensorflow/stream_executor/cuda/cuda_gpu_executor.cc:937] successful NUMA node read from SysFS had negative value (-1), but there must be at least one NUMA node, so returning NUMA node zero\n",
      "2021-10-15 14:48:27.773582: I tensorflow/stream_executor/cuda/cuda_gpu_executor.cc:937] successful NUMA node read from SysFS had negative value (-1), but there must be at least one NUMA node, so returning NUMA node zero\n",
      "2021-10-15 14:48:27.774024: I tensorflow/core/common_runtime/gpu/gpu_device.cc:1510] Created device /job:localhost/replica:0/task:0/device:GPU:0 with 22095 MB memory:  -> device: 0, name: NVIDIA GeForce RTX 3090, pci bus id: 0000:01:00.0, compute capability: 8.6\n"
     ]
    },
    {
     "name": "stdout",
     "output_type": "stream",
     "text": [
      "Learned displacement value at step 10: 0.19944506883621216\n",
      "Learned displacement value at step 20: 0.29802724719047546\n",
      "Learned displacement value at step 30: 0.3932643532752991\n",
      "Learned displacement value at step 40: 0.48026978969573975\n",
      "Learned displacement value at step 50: 0.5585140585899353\n",
      "Learned displacement value at step 60: 0.6269962787628174\n",
      "Learned displacement value at step 70: 0.6847254037857056\n",
      "Learned displacement value at step 80: 0.7314314246177673\n",
      "Learned displacement value at step 90: 0.7733591198921204\n",
      "Learned displacement value at step 100: 0.8051719665527344\n",
      "Learned displacement value at step 110: 0.8300434350967407\n",
      "Learned displacement value at step 120: 0.8469008207321167\n",
      "Learned displacement value at step 130: 0.8509359955787659\n",
      "Learned displacement value at step 140: 0.8581244945526123\n",
      "Learned displacement value at step 150: 0.8601717352867126\n",
      "Learned displacement value at step 160: 0.8630684018135071\n",
      "Learned displacement value at step 170: 0.8592459559440613\n",
      "Learned displacement value at step 180: 0.8562711477279663\n",
      "Learned displacement value at step 190: 0.841691792011261\n",
      "Learned displacement value at step 200: 0.8403042554855347\n",
      "Learned displacement value at step 210: 0.8501589894294739\n",
      "Learned displacement value at step 220: 0.8559221625328064\n",
      "Learned displacement value at step 230: 0.8706313967704773\n",
      "Learned displacement value at step 240: 0.8726693987846375\n",
      "Learned displacement value at step 250: 0.8565028309822083\n",
      "Learned displacement value at step 260: 0.8336074352264404\n",
      "Learned displacement value at step 270: 0.8231583833694458\n",
      "Learned displacement value at step 280: 0.8149434328079224\n",
      "Learned displacement value at step 290: 0.8275590538978577\n",
      "Learned displacement value at step 300: 0.8244006037712097\n",
      "Learned displacement value at step 310: 0.825121283531189\n",
      "Learned displacement value at step 320: 0.8295736908912659\n",
      "Learned displacement value at step 330: 0.827791690826416\n",
      "Learned displacement value at step 340: 0.8242587447166443\n",
      "Learned displacement value at step 350: 0.8273121118545532\n",
      "Learned displacement value at step 360: 0.8255179524421692\n",
      "Learned displacement value at step 370: 0.8310720324516296\n",
      "Learned displacement value at step 380: 0.8376449346542358\n",
      "Learned displacement value at step 390: 0.8451711535453796\n",
      "Learned displacement value at step 400: 0.8304208517074585\n",
      "Learned displacement value at step 410: 0.8259100914001465\n",
      "Learned displacement value at step 420: 0.8190349340438843\n",
      "Learned displacement value at step 430: 0.8203160762786865\n",
      "Learned displacement value at step 440: 0.8300533294677734\n",
      "Learned displacement value at step 450: 0.8409170508384705\n",
      "Learned displacement value at step 460: 0.8506189584732056\n",
      "Learned displacement value at step 470: 0.8433824777603149\n",
      "Learned displacement value at step 480: 0.834862232208252\n",
      "Learned displacement value at step 490: 0.8461111783981323\n",
      "Learned displacement value at step 500: 0.8416818976402283\n"
     ]
    }
   ],
   "source": [
    "tf_displacement_magnitude = tf.Variable(0.1)\n",
    "\n",
    "opt = tf.keras.optimizers.Adam(learning_rate=0.01)\n",
    "steps = 500\n",
    "\n",
    "batch_size = 10\n",
    "threshold = 0.5\n",
    "\n",
    "for step in range(steps):\n",
    "    batch = [1 if random.random() > threshold else -1 for _ in range(batch_size)]\n",
    "    alpha_val = 0.7 * np.array(batch)\n",
    "    \n",
    "    p_1 = batch.count(1)/batch_size\n",
    "    p_0 = 1 - p_1\n",
    "        \n",
    "    eng = sf.Engine(backend=\"tf\", backend_options={\n",
    "        \"cutoff_dim\": 7,\n",
    "        \"batch_size\": batch_size,\n",
    "    })\n",
    "    \n",
    "    circuit = sf.Program(1)\n",
    "\n",
    "    displacement_magnitude = circuit.params(\"displacement_magnitude\")\n",
    "    \n",
    "    alpha = circuit.params(\"alpha\")\n",
    "\n",
    "    with circuit.context as q:\n",
    "        sf.ops.Dgate(alpha, 0.0) | q[0]\n",
    "        sf.ops.Dgate(displacement_magnitude, 0.0) | q[0]\n",
    "        \n",
    "    with tf.GradientTape() as tape:\n",
    "        results = eng.run(circuit, args={\n",
    "            \"displacement_magnitude\": tf_displacement_magnitude,\n",
    "            \"alpha\": alpha_val\n",
    "        })\n",
    "        \n",
    "        # get the probability of |0>\n",
    "        p_zero = results.state.fock_prob([0])\n",
    "        \n",
    "        # get the porbability of anything by |0>\n",
    "        p_one = 1 - p_zero\n",
    "        \n",
    "        loss = 0\n",
    "        \n",
    "        # p(a|1) = [p(1|a) p(1)] / p(a)\n",
    "        # p(-a|0) = [p(0|-a) p(0)] / p(-a)\n",
    "        \n",
    "        for i, mult in enumerate(batch):\n",
    "            if mult == 1:\n",
    "                loss += - (p_one[i] * p_1) / 2\n",
    "            else:\n",
    "                loss += - (p_zero[i] * p_0) / 2\n",
    "                \n",
    "        loss /= batch_size\n",
    "        \n",
    "    gradients = tape.gradient(loss, [tf_displacement_magnitude])\n",
    "    opt.apply_gradients(zip(gradients, [tf_displacement_magnitude]))\n",
    "    \n",
    "    if (step + 1) % 10 == 0:\n",
    "        print(\"Learned displacement value at step {}: {}\".format(step+1, tf_displacement_magnitude.numpy()))"
   ]
  },
  {
   "cell_type": "code",
   "execution_count": null,
   "metadata": {},
   "outputs": [],
   "source": []
  }
 ],
 "metadata": {
  "interpreter": {
   "hash": "8db341d3e5f565abe931b6406495b9d46abd4f9e275f231b1c42c9f22f414534"
  },
  "kernelspec": {
   "display_name": "Python 3 (ipykernel)",
   "language": "python",
   "name": "python3"
  },
  "language_info": {
   "codemirror_mode": {
    "name": "ipython",
    "version": 3
   },
   "file_extension": ".py",
   "mimetype": "text/x-python",
   "name": "python",
   "nbconvert_exporter": "python",
   "pygments_lexer": "ipython3",
   "version": "3.9.5"
  },
  "toc": {
   "base_numbering": 1,
   "nav_menu": {},
   "number_sections": true,
   "sideBar": true,
   "skip_h1_title": false,
   "title_cell": "Table of Contents",
   "title_sidebar": "Contents",
   "toc_cell": false,
   "toc_position": {},
   "toc_section_display": true,
   "toc_window_display": false
  },
  "varInspector": {
   "cols": {
    "lenName": 16,
    "lenType": 16,
    "lenVar": 40
   },
   "kernels_config": {
    "python": {
     "delete_cmd_postfix": "",
     "delete_cmd_prefix": "del ",
     "library": "var_list.py",
     "varRefreshCmd": "print(var_dic_list())"
    },
    "r": {
     "delete_cmd_postfix": ") ",
     "delete_cmd_prefix": "rm(",
     "library": "var_list.r",
     "varRefreshCmd": "cat(var_dic_list()) "
    }
   },
   "types_to_exclude": [
    "module",
    "function",
    "builtin_function_or_method",
    "instance",
    "_Feature"
   ],
   "window_display": false
  }
 },
 "nbformat": 4,
 "nbformat_minor": 2
}
