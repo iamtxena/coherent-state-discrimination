{
 "cells": [
  {
   "cell_type": "code",
   "execution_count": 1,
   "metadata": {
    "ExecuteTime": {
     "end_time": "2021-09-22T04:42:07.895331Z",
     "start_time": "2021-09-22T04:42:01.629703Z"
    }
   },
   "outputs": [],
   "source": [
    "import strawberryfields as sf\n",
    "import tensorflow as tf"
   ]
  },
  {
   "cell_type": "code",
   "execution_count": 2,
   "metadata": {
    "ExecuteTime": {
     "end_time": "2021-09-22T04:42:10.645698Z",
     "start_time": "2021-09-22T04:42:07.897275Z"
    },
    "scrolled": false
   },
   "outputs": [
    {
     "name": "stderr",
     "output_type": "stream",
     "text": [
      "2021-09-22 10:12:07.908126: I tensorflow/core/platform/cpu_feature_guard.cc:142] This TensorFlow binary is optimized with oneAPI Deep Neural Network Library (oneDNN) to use the following CPU instructions in performance-critical operations:  AVX2 FMA\n",
      "To enable them in other operations, rebuild TensorFlow with the appropriate compiler flags.\n"
     ]
    },
    {
     "name": "stdout",
     "output_type": "stream",
     "text": [
      "Probability at step 0: 0.009900497272610664\n",
      "Probability at step 1: 0.01195443980395794\n",
      "Probability at step 2: 0.014197170734405518\n",
      "Probability at step 3: 0.016628870740532875\n",
      "Probability at step 4: 0.019249871373176575\n",
      "Probability at step 5: 0.022060640156269073\n",
      "Probability at step 6: 0.025061653926968575\n",
      "Probability at step 7: 0.02825329639017582\n",
      "Probability at step 8: 0.031635820865631104\n",
      "Probability at step 9: 0.03520926088094711\n",
      "Probability at step 10: 0.0389733612537384\n",
      "Probability at step 11: 0.04292750731110573\n",
      "Probability at step 12: 0.047070689499378204\n",
      "Probability at step 13: 0.05140143260359764\n",
      "Probability at step 14: 0.055917784571647644\n",
      "Probability at step 15: 0.06061722710728645\n",
      "Probability at step 16: 0.06549666076898575\n",
      "Probability at step 17: 0.07055237889289856\n",
      "Probability at step 18: 0.07578006386756897\n",
      "Probability at step 19: 0.08117467164993286\n",
      "Probability at step 20: 0.08673057705163956\n",
      "Probability at step 21: 0.0924413800239563\n",
      "Probability at step 22: 0.09830008447170258\n",
      "Probability at step 23: 0.10429894179105759\n",
      "Probability at step 24: 0.11042957007884979\n",
      "Probability at step 25: 0.11668292433023453\n",
      "Probability at step 26: 0.1230493113398552\n",
      "Probability at step 27: 0.12951847910881042\n",
      "Probability at step 28: 0.1360795646905899\n",
      "Probability at step 29: 0.14272119104862213\n",
      "Probability at step 30: 0.149431511759758\n",
      "Probability at step 31: 0.15619821846485138\n",
      "Probability at step 32: 0.1630087047815323\n",
      "Probability at step 33: 0.16984997689723969\n",
      "Probability at step 34: 0.1767088621854782\n",
      "Probability at step 35: 0.18357199430465698\n",
      "Probability at step 36: 0.19042594730854034\n",
      "Probability at step 37: 0.19725720584392548\n",
      "Probability at step 38: 0.20405232906341553\n",
      "Probability at step 39: 0.21079818904399872\n",
      "Probability at step 40: 0.2174815833568573\n",
      "Probability at step 41: 0.2240898609161377\n",
      "Probability at step 42: 0.23061060905456543\n",
      "Probability at step 43: 0.23703190684318542\n",
      "Probability at step 44: 0.2433422952890396\n",
      "Probability at step 45: 0.24953095614910126\n",
      "Probability at step 46: 0.25558769702911377\n",
      "Probability at step 47: 0.2615030109882355\n",
      "Probability at step 48: 0.26726818084716797\n",
      "Probability at step 49: 0.27287518978118896\n",
      "Probability at step 50: 0.2783169746398926\n",
      "Probability at step 51: 0.28358718752861023\n",
      "Probability at step 52: 0.28868040442466736\n",
      "Probability at step 53: 0.2935922145843506\n",
      "Probability at step 54: 0.29831886291503906\n",
      "Probability at step 55: 0.3028576374053955\n",
      "Probability at step 56: 0.3072066903114319\n",
      "Probability at step 57: 0.31136494874954224\n",
      "Probability at step 58: 0.3153322637081146\n",
      "Probability at step 59: 0.3191092312335968\n",
      "Probability at step 60: 0.32269716262817383\n",
      "Probability at step 61: 0.32609823346138\n",
      "Probability at step 62: 0.3293151557445526\n",
      "Probability at step 63: 0.33235129714012146\n",
      "Probability at step 64: 0.33521056175231934\n",
      "Probability at step 65: 0.33789750933647156\n",
      "Probability at step 66: 0.34041690826416016\n",
      "Probability at step 67: 0.34277409315109253\n",
      "Probability at step 68: 0.34497472643852234\n",
      "Probability at step 69: 0.34702470898628235\n",
      "Probability at step 70: 0.3489300608634949\n",
      "Probability at step 71: 0.35069721937179565\n",
      "Probability at step 72: 0.3523324728012085\n",
      "Probability at step 73: 0.3538424074649811\n",
      "Probability at step 74: 0.35523349046707153\n",
      "Probability at step 75: 0.3565122187137604\n",
      "Probability at step 76: 0.3576849102973938\n",
      "Probability at step 77: 0.3587580621242523\n",
      "Probability at step 78: 0.35973772406578064\n",
      "Probability at step 79: 0.36063000559806824\n",
      "Probability at step 80: 0.36144083738327026\n",
      "Probability at step 81: 0.3621758222579956\n",
      "Probability at step 82: 0.36284053325653076\n",
      "Probability at step 83: 0.36344006657600403\n",
      "Probability at step 84: 0.36397963762283325\n",
      "Probability at step 85: 0.364463746547699\n",
      "Probability at step 86: 0.3648971915245056\n",
      "Probability at step 87: 0.36528414487838745\n",
      "Probability at step 88: 0.36562854051589966\n",
      "Probability at step 89: 0.36593422293663025\n",
      "Probability at step 90: 0.36620476841926575\n",
      "Probability at step 91: 0.3664435148239136\n",
      "Probability at step 92: 0.3666534125804901\n",
      "Probability at step 93: 0.36683735251426697\n",
      "Probability at step 94: 0.36699792742729187\n",
      "Probability at step 95: 0.36713775992393494\n",
      "Probability at step 96: 0.36725884675979614\n",
      "Probability at step 97: 0.3673633933067322\n",
      "Probability at step 98: 0.36745312809944153\n",
      "Probability at step 99: 0.36752980947494507\n",
      "tf_alpha = <tf.Variable 'Variable:0' shape=() dtype=float32, numpy=0.980402>\n"
     ]
    }
   ],
   "source": [
    "eng = sf.Engine(backend=\"tf\", backend_options={\"cutoff_dim\": 7})\n",
    "circuit = sf.Program(1)\n",
    "\n",
    "tf_alpha = tf.Variable(0.1)\n",
    "\n",
    "alpha = circuit.params(\"alpha\")\n",
    "\n",
    "with circuit.context as q:\n",
    "    sf.ops.Dgate(alpha, 0.0) | q[0]\n",
    "\n",
    "opt = tf.keras.optimizers.Adam(learning_rate=0.01)\n",
    "steps = 100\n",
    "\n",
    "for step in range(steps):\n",
    "\n",
    "    # reset the engine if it has already been executed\n",
    "    if eng.run_progs:\n",
    "        eng.reset()\n",
    "\n",
    "    with tf.GradientTape() as tape:\n",
    "        # execute the engine\n",
    "        results = eng.run(circuit, args={\"alpha\": tf_alpha})\n",
    "        \n",
    "        # get the probability of fock state |1>\n",
    "        prob = results.state.fock_prob([1])\n",
    "        \n",
    "        # negative sign to maximize prob\n",
    "        loss = -prob\n",
    "\n",
    "    gradients = tape.gradient(loss, [tf_alpha])\n",
    "    opt.apply_gradients(zip(gradients, [tf_alpha]))\n",
    "    \n",
    "    print(\"Probability at step {}: {}\".format(step, prob))\n",
    "    \n",
    "print(f\"{tf_alpha = }\")"
   ]
  },
  {
   "cell_type": "code",
   "execution_count": null,
   "metadata": {},
   "outputs": [],
   "source": []
  }
 ],
 "metadata": {
  "interpreter": {
   "hash": "500ed5d60f3999408640ffd6434d49f0877dd25c7f518e20d2e5bd748d2fd58b"
  },
  "kernelspec": {
   "display_name": "Python 3",
   "language": "python",
   "name": "python3"
  },
  "language_info": {
   "codemirror_mode": {
    "name": "ipython",
    "version": 3
   },
   "file_extension": ".py",
   "mimetype": "text/x-python",
   "name": "python",
   "nbconvert_exporter": "python",
   "pygments_lexer": "ipython3",
   "version": "3.9.7"
  },
  "toc": {
   "base_numbering": 1,
   "nav_menu": {},
   "number_sections": true,
   "sideBar": true,
   "skip_h1_title": false,
   "title_cell": "Table of Contents",
   "title_sidebar": "Contents",
   "toc_cell": false,
   "toc_position": {},
   "toc_section_display": true,
   "toc_window_display": false
  },
  "varInspector": {
   "cols": {
    "lenName": 16,
    "lenType": 16,
    "lenVar": 40
   },
   "kernels_config": {
    "python": {
     "delete_cmd_postfix": "",
     "delete_cmd_prefix": "del ",
     "library": "var_list.py",
     "varRefreshCmd": "print(var_dic_list())"
    },
    "r": {
     "delete_cmd_postfix": ") ",
     "delete_cmd_prefix": "rm(",
     "library": "var_list.r",
     "varRefreshCmd": "cat(var_dic_list()) "
    }
   },
   "types_to_exclude": [
    "module",
    "function",
    "builtin_function_or_method",
    "instance",
    "_Feature"
   ],
   "window_display": false
  }
 },
 "nbformat": 4,
 "nbformat_minor": 2
}
