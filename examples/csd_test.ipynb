{
 "cells": [
  {
   "cell_type": "code",
   "execution_count": 1,
   "metadata": {
    "ExecuteTime": {
     "end_time": "2021-09-27T06:39:10.735041Z",
     "start_time": "2021-09-27T06:39:04.411445Z"
    }
   },
   "outputs": [],
   "source": [
    "import numpy as np\n",
    "import strawberryfields as sf\n",
    "import tensorflow as tf\n",
    "import random"
   ]
  },
  {
   "cell_type": "code",
   "execution_count": null,
   "metadata": {},
   "outputs": [],
   "source": []
  },
  {
   "cell_type": "code",
   "execution_count": 3,
   "metadata": {
    "ExecuteTime": {
     "end_time": "2021-09-27T06:53:46.564062Z",
     "start_time": "2021-09-27T06:53:27.370884Z"
    },
    "scrolled": false
   },
   "outputs": [
    {
     "name": "stdout",
     "output_type": "stream",
     "text": [
      "Learned displacement value at step 10: 0.20034204423427582\n",
      "Learned displacement value at step 20: 0.29898378252983093\n",
      "Learned displacement value at step 30: 0.390888512134552\n",
      "Learned displacement value at step 40: 0.47780612111091614\n",
      "Learned displacement value at step 50: 0.5543423891067505\n",
      "Learned displacement value at step 60: 0.6197811365127563\n",
      "Learned displacement value at step 70: 0.6746792197227478\n",
      "Learned displacement value at step 80: 0.7225795388221741\n",
      "Learned displacement value at step 90: 0.7576689720153809\n",
      "Learned displacement value at step 100: 0.7829961776733398\n",
      "Learned displacement value at step 110: 0.800122857093811\n",
      "Learned displacement value at step 120: 0.8175544738769531\n",
      "Learned displacement value at step 130: 0.8327378630638123\n",
      "Learned displacement value at step 140: 0.8400686383247375\n",
      "Learned displacement value at step 150: 0.8279145956039429\n",
      "Learned displacement value at step 160: 0.8193113207817078\n",
      "Learned displacement value at step 170: 0.8135433197021484\n",
      "Learned displacement value at step 180: 0.8109155297279358\n",
      "Learned displacement value at step 190: 0.8130325675010681\n",
      "Learned displacement value at step 200: 0.8146586418151855\n",
      "Learned displacement value at step 210: 0.8239833116531372\n",
      "Learned displacement value at step 220: 0.8429832458496094\n",
      "Learned displacement value at step 230: 0.858960747718811\n",
      "Learned displacement value at step 240: 0.8670903444290161\n",
      "Learned displacement value at step 250: 0.8647456765174866\n",
      "Learned displacement value at step 260: 0.8663617372512817\n",
      "Learned displacement value at step 270: 0.873885989189148\n",
      "Learned displacement value at step 280: 0.8599178791046143\n",
      "Learned displacement value at step 290: 0.8518931865692139\n",
      "Learned displacement value at step 300: 0.8609212636947632\n",
      "Learned displacement value at step 310: 0.8597726821899414\n",
      "Learned displacement value at step 320: 0.8652783632278442\n",
      "Learned displacement value at step 330: 0.8804463744163513\n",
      "Learned displacement value at step 340: 0.8926775455474854\n",
      "Learned displacement value at step 350: 0.8938977718353271\n",
      "Learned displacement value at step 360: 0.8787415027618408\n",
      "Learned displacement value at step 370: 0.8676079511642456\n",
      "Learned displacement value at step 380: 0.8555222153663635\n",
      "Learned displacement value at step 390: 0.8352875113487244\n",
      "Learned displacement value at step 400: 0.8183985948562622\n",
      "Learned displacement value at step 410: 0.824321985244751\n",
      "Learned displacement value at step 420: 0.8355070948600769\n",
      "Learned displacement value at step 430: 0.8452121615409851\n",
      "Learned displacement value at step 440: 0.8588735461235046\n",
      "Learned displacement value at step 450: 0.8591150045394897\n",
      "Learned displacement value at step 460: 0.8655222058296204\n",
      "Learned displacement value at step 470: 0.8619911074638367\n",
      "Learned displacement value at step 480: 0.8684635162353516\n",
      "Learned displacement value at step 490: 0.857312798500061\n",
      "Learned displacement value at step 500: 0.8219770193099976\n"
     ]
    }
   ],
   "source": [
    "tf_displacement_magnitude = tf.Variable(0.1)\n",
    "\n",
    "opt = tf.keras.optimizers.Adam(learning_rate=0.01)\n",
    "steps = 500\n",
    "\n",
    "batch_size = 10\n",
    "threshold = 0.5\n",
    "\n",
    "for step in range(steps):\n",
    "    batch = [1 if random.random() > threshold else -1 for _ in range(batch_size)]\n",
    "    alpha_val = 0.7 * np.array(batch)\n",
    "    \n",
    "    p_1 = batch.count(1)/batch_size\n",
    "    p_0 = 1 - p_1\n",
    "        \n",
    "    eng = sf.Engine(backend=\"tf\", backend_options={\n",
    "        \"cutoff_dim\": 7,\n",
    "        \"batch_size\": batch_size,\n",
    "    })\n",
    "    \n",
    "    circuit = sf.Program(1)\n",
    "\n",
    "    displacement_magnitude = circuit.params(\"displacement_magnitude\")\n",
    "    \n",
    "    alpha = circuit.params(\"alpha\")\n",
    "\n",
    "    with circuit.context as q:\n",
    "        sf.ops.Dgate(alpha, 0.0) | q[0]\n",
    "        sf.ops.Dgate(displacement_magnitude, 0.0) | q[0]\n",
    "        \n",
    "    with tf.GradientTape() as tape:\n",
    "        results = eng.run(circuit, args={\n",
    "            \"displacement_magnitude\": tf_displacement_magnitude,\n",
    "            \"alpha\": alpha_val\n",
    "        })\n",
    "        \n",
    "        # get the probability of |0>\n",
    "        p_zero = results.state.fock_prob([0])\n",
    "        \n",
    "        # get the porbability of anything by |0>\n",
    "        p_one = 1 - p_zero\n",
    "        \n",
    "        loss = 0\n",
    "        \n",
    "        # p(a|1) = [p(1|a) p(1)] / p(a)\n",
    "        # p(-a|0) = [p(0|-a) p(0)] / p(-a)\n",
    "        \n",
    "        for i, mult in enumerate(batch):\n",
    "            if mult == 1:\n",
    "                loss += - (p_one[i] * p_1) / 2\n",
    "            else:\n",
    "                loss += - (p_zero[i] * p_0) / 2\n",
    "                \n",
    "        loss /= batch_size\n",
    "        \n",
    "    gradients = tape.gradient(loss, [tf_displacement_magnitude])\n",
    "    opt.apply_gradients(zip(gradients, [tf_displacement_magnitude]))\n",
    "    \n",
    "    if (step + 1) % 10 == 0:\n",
    "        print(\"Learned displacement value at step {}: {}\".format(step+1, tf_displacement_magnitude.numpy()))"
   ]
  },
  {
   "cell_type": "code",
   "execution_count": 17,
   "metadata": {},
   "outputs": [],
   "source": [
    "def raise_exception(value_name: str):\n",
    "    raise ValueError(f'{value_name} parameter value must be set')"
   ]
  },
  {
   "cell_type": "code",
   "execution_count": 18,
   "metadata": {},
   "outputs": [
    {
     "ename": "ValueError",
     "evalue": "b parameter value must be set",
     "output_type": "error",
     "traceback": [
      "\u001b[0;31m-------------------------------------------------------------------\u001b[0m",
      "\u001b[0;31mValueError\u001b[0m                        Traceback (most recent call last)",
      "\u001b[0;32m<ipython-input-18-55a2418f6402>\u001b[0m in \u001b[0;36m<module>\u001b[0;34m\u001b[0m\n\u001b[0;32m----> 1\u001b[0;31m \u001b[0;34m{\u001b[0m\u001b[0;34m\"a\"\u001b[0m\u001b[0;34m:\u001b[0m\u001b[0;36m3\u001b[0m\u001b[0;34m}\u001b[0m\u001b[0;34m.\u001b[0m\u001b[0mget\u001b[0m\u001b[0;34m(\u001b[0m\u001b[0;34m\"b\"\u001b[0m\u001b[0;34m,\u001b[0m \u001b[0mraise_exception\u001b[0m\u001b[0;34m(\u001b[0m\u001b[0;34m'b'\u001b[0m\u001b[0;34m)\u001b[0m\u001b[0;34m)\u001b[0m\u001b[0;34m\u001b[0m\u001b[0;34m\u001b[0m\u001b[0m\n\u001b[0m",
      "\u001b[0;32m<ipython-input-17-2d2aed2fb5bd>\u001b[0m in \u001b[0;36mraise_exception\u001b[0;34m(value_name)\u001b[0m\n\u001b[1;32m      1\u001b[0m \u001b[0;32mdef\u001b[0m \u001b[0mraise_exception\u001b[0m\u001b[0;34m(\u001b[0m\u001b[0mvalue_name\u001b[0m\u001b[0;34m:\u001b[0m \u001b[0mstr\u001b[0m\u001b[0;34m)\u001b[0m\u001b[0;34m:\u001b[0m\u001b[0;34m\u001b[0m\u001b[0;34m\u001b[0m\u001b[0m\n\u001b[0;32m----> 2\u001b[0;31m     \u001b[0;32mraise\u001b[0m \u001b[0mValueError\u001b[0m\u001b[0;34m(\u001b[0m\u001b[0;34mf'{value_name} parameter value must be set'\u001b[0m\u001b[0;34m)\u001b[0m\u001b[0;34m\u001b[0m\u001b[0;34m\u001b[0m\u001b[0m\n\u001b[0m",
      "\u001b[0;31mValueError\u001b[0m: b parameter value must be set"
     ]
    }
   ],
   "source": [
    "{\"a\":3}.get(\"b\", raise_exception('b'))"
   ]
  },
  {
   "cell_type": "code",
   "execution_count": null,
   "metadata": {},
   "outputs": [],
   "source": []
  }
 ],
 "metadata": {
  "interpreter": {
   "hash": "8db341d3e5f565abe931b6406495b9d46abd4f9e275f231b1c42c9f22f414534"
  },
  "kernelspec": {
   "display_name": "Python 3",
   "language": "python",
   "name": "python3"
  },
  "language_info": {
   "codemirror_mode": {
    "name": "ipython",
    "version": 3
   },
   "file_extension": ".py",
   "mimetype": "text/x-python",
   "name": "python",
   "nbconvert_exporter": "python",
   "pygments_lexer": "ipython3",
   "version": "3.9.5"
  },
  "toc": {
   "base_numbering": 1,
   "nav_menu": {},
   "number_sections": true,
   "sideBar": true,
   "skip_h1_title": false,
   "title_cell": "Table of Contents",
   "title_sidebar": "Contents",
   "toc_cell": false,
   "toc_position": {},
   "toc_section_display": true,
   "toc_window_display": false
  },
  "varInspector": {
   "cols": {
    "lenName": 16,
    "lenType": 16,
    "lenVar": 40
   },
   "kernels_config": {
    "python": {
     "delete_cmd_postfix": "",
     "delete_cmd_prefix": "del ",
     "library": "var_list.py",
     "varRefreshCmd": "print(var_dic_list())"
    },
    "r": {
     "delete_cmd_postfix": ") ",
     "delete_cmd_prefix": "rm(",
     "library": "var_list.r",
     "varRefreshCmd": "cat(var_dic_list()) "
    }
   },
   "types_to_exclude": [
    "module",
    "function",
    "builtin_function_or_method",
    "instance",
    "_Feature"
   ],
   "window_display": false
  }
 },
 "nbformat": 4,
 "nbformat_minor": 2
}
