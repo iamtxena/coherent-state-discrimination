{
 "cells": [
  {
   "cell_type": "code",
   "execution_count": 1,
   "metadata": {
    "ExecuteTime": {
     "end_time": "2021-09-22T15:40:07.010702Z",
     "start_time": "2021-09-22T15:40:02.847864Z"
    }
   },
   "outputs": [],
   "source": [
    "import strawberryfields as sf\n",
    "import tensorflow as tf\n",
    "import random"
   ]
  },
  {
   "cell_type": "code",
   "execution_count": 2,
   "metadata": {
    "ExecuteTime": {
     "end_time": "2021-09-22T15:40:11.892387Z",
     "start_time": "2021-09-22T15:40:07.012728Z"
    },
    "scrolled": false
   },
   "outputs": [
    {
     "name": "stderr",
     "output_type": "stream",
     "text": [
      "2021-09-22 21:10:07.019728: I tensorflow/core/platform/cpu_feature_guard.cc:142] This TensorFlow binary is optimized with oneAPI Deep Neural Network Library (oneDNN) to use the following CPU instructions in performance-critical operations:  AVX2 FMA\n",
      "To enable them in other operations, rebuild TensorFlow with the appropriate compiler flags.\n"
     ]
    },
    {
     "name": "stdout",
     "output_type": "stream",
     "text": [
      "Learned displacement value at step 10: 0.1997651606798172\n",
      "Learned displacement value at step 20: 0.2982299029827118\n",
      "Learned displacement value at step 30: 0.3937018811702728\n",
      "Learned displacement value at step 40: 0.48198819160461426\n",
      "Learned displacement value at step 50: 0.5610660910606384\n",
      "Learned displacement value at step 60: 0.6287330389022827\n",
      "Learned displacement value at step 70: 0.6860527396202087\n",
      "Learned displacement value at step 80: 0.7300508618354797\n",
      "Learned displacement value at step 90: 0.7674557566642761\n",
      "Learned displacement value at step 100: 0.7883326411247253\n",
      "Learned displacement value at step 110: 0.8196666240692139\n",
      "Learned displacement value at step 120: 0.8507879972457886\n",
      "Learned displacement value at step 130: 0.8730281591415405\n",
      "Learned displacement value at step 140: 0.8753596544265747\n",
      "Learned displacement value at step 150: 0.8815778493881226\n",
      "Learned displacement value at step 160: 0.8705160617828369\n",
      "Learned displacement value at step 170: 0.8570134043693542\n",
      "Learned displacement value at step 180: 0.8501337170600891\n",
      "Learned displacement value at step 190: 0.8518885970115662\n",
      "Learned displacement value at step 200: 0.8761311173439026\n",
      "Learned displacement value at step 210: 0.895751416683197\n",
      "Learned displacement value at step 220: 0.9005236625671387\n",
      "Learned displacement value at step 230: 0.8978521823883057\n",
      "Learned displacement value at step 240: 0.9068828225135803\n",
      "Learned displacement value at step 250: 0.9036824107170105\n",
      "Learned displacement value at step 260: 0.901065468788147\n",
      "Learned displacement value at step 270: 0.875922441482544\n",
      "Learned displacement value at step 280: 0.850123941898346\n",
      "Learned displacement value at step 290: 0.8617150783538818\n",
      "Learned displacement value at step 300: 0.8655596971511841\n",
      "Learned displacement value at step 310: 0.8628863096237183\n",
      "Learned displacement value at step 320: 0.8729228377342224\n",
      "Learned displacement value at step 330: 0.8832278847694397\n",
      "Learned displacement value at step 340: 0.9071956276893616\n",
      "Learned displacement value at step 350: 0.8847275972366333\n",
      "Learned displacement value at step 360: 0.8567759394645691\n",
      "Learned displacement value at step 370: 0.8385927677154541\n",
      "Learned displacement value at step 380: 0.83075350522995\n",
      "Learned displacement value at step 390: 0.8218134641647339\n",
      "Learned displacement value at step 400: 0.8307169079780579\n",
      "Learned displacement value at step 410: 0.826583981513977\n",
      "Learned displacement value at step 420: 0.8247300386428833\n",
      "Learned displacement value at step 430: 0.8520433902740479\n",
      "Learned displacement value at step 440: 0.8758747577667236\n",
      "Learned displacement value at step 450: 0.8836270570755005\n",
      "Learned displacement value at step 460: 0.8831228017807007\n",
      "Learned displacement value at step 470: 0.8780937194824219\n",
      "Learned displacement value at step 480: 0.8525254726409912\n",
      "Learned displacement value at step 490: 0.8182131052017212\n",
      "Learned displacement value at step 500: 0.8107979893684387\n"
     ]
    }
   ],
   "source": [
    "tf_displacement_magnitude = tf.Variable(0.1)\n",
    "\n",
    "opt = tf.keras.optimizers.Adam(learning_rate=0.01)\n",
    "steps = 500\n",
    "\n",
    "for step in range(steps):\n",
    "    if random.random() > 0.5:\n",
    "        mult = 1\n",
    "    else:\n",
    "        mult = -1\n",
    "        \n",
    "    alpha = 0.7 * mult\n",
    "        \n",
    "    eng = sf.Engine(backend=\"tf\", backend_options={\"cutoff_dim\": 7})\n",
    "    circuit = sf.Program(1)\n",
    "\n",
    "    displacement_magnitude = circuit.params(\"displacement_magnitude\")\n",
    "\n",
    "    with circuit.context as q:\n",
    "        sf.ops.Dgate(alpha, 0.0) | q[0]\n",
    "        sf.ops.Dgate(displacement_magnitude, 0.0) | q[0]\n",
    "        \n",
    "    with tf.GradientTape() as tape:\n",
    "        results = eng.run(circuit, args={\"displacement_magnitude\": tf_displacement_magnitude})\n",
    "        \n",
    "        # get the probability of fock state |1>\n",
    "        p_zero = results.state.fock_prob([0])\n",
    "        p_one = 1 - p_zero\n",
    "        \n",
    "        if mult == 1:\n",
    "            loss = -p_one\n",
    "        else:\n",
    "            loss = -p_zero\n",
    "        \n",
    "    gradients = tape.gradient(loss, [tf_displacement_magnitude])\n",
    "    opt.apply_gradients(zip(gradients, [tf_displacement_magnitude]))\n",
    "    \n",
    "    if (step + 1) % 10 == 0:\n",
    "        print(\"Learned displacement value at step {}: {}\".format(step+1, tf_displacement_magnitude.numpy()))"
   ]
  },
  {
   "cell_type": "code",
   "execution_count": null,
   "metadata": {},
   "outputs": [],
   "source": []
  }
 ],
 "metadata": {
  "interpreter": {
   "hash": "500ed5d60f3999408640ffd6434d49f0877dd25c7f518e20d2e5bd748d2fd58b"
  },
  "kernelspec": {
   "display_name": "Python 3",
   "language": "python",
   "name": "python3"
  },
  "language_info": {
   "codemirror_mode": {
    "name": "ipython",
    "version": 3
   },
   "file_extension": ".py",
   "mimetype": "text/x-python",
   "name": "python",
   "nbconvert_exporter": "python",
   "pygments_lexer": "ipython3",
   "version": "3.9.7"
  },
  "toc": {
   "base_numbering": 1,
   "nav_menu": {},
   "number_sections": true,
   "sideBar": true,
   "skip_h1_title": false,
   "title_cell": "Table of Contents",
   "title_sidebar": "Contents",
   "toc_cell": false,
   "toc_position": {},
   "toc_section_display": true,
   "toc_window_display": false
  },
  "varInspector": {
   "cols": {
    "lenName": 16,
    "lenType": 16,
    "lenVar": 40
   },
   "kernels_config": {
    "python": {
     "delete_cmd_postfix": "",
     "delete_cmd_prefix": "del ",
     "library": "var_list.py",
     "varRefreshCmd": "print(var_dic_list())"
    },
    "r": {
     "delete_cmd_postfix": ") ",
     "delete_cmd_prefix": "rm(",
     "library": "var_list.r",
     "varRefreshCmd": "cat(var_dic_list()) "
    }
   },
   "types_to_exclude": [
    "module",
    "function",
    "builtin_function_or_method",
    "instance",
    "_Feature"
   ],
   "window_display": false
  }
 },
 "nbformat": 4,
 "nbformat_minor": 2
}
