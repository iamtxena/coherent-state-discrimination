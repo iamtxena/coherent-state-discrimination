{
 "cells": [
  {
   "cell_type": "code",
   "execution_count": 1,
   "metadata": {
    "ExecuteTime": {
     "end_time": "2021-09-27T06:39:10.735041Z",
     "start_time": "2021-09-27T06:39:04.411445Z"
    }
   },
   "outputs": [],
   "source": [
    "import numpy as np\n",
    "import strawberryfields as sf\n",
    "import tensorflow as tf\n",
    "import random"
   ]
  },
  {
   "cell_type": "code",
   "execution_count": 5,
   "metadata": {
    "ExecuteTime": {
     "end_time": "2021-09-27T06:53:46.564062Z",
     "start_time": "2021-09-27T06:53:27.370884Z"
    },
    "scrolled": false
   },
   "outputs": [
    {
     "name": "stdout",
     "output_type": "stream",
     "text": [
      "Learned displacement value at step 10: -8.555687963962555e-05\n",
      "Learned displacement value at step 20: -0.10022669285535812\n",
      "Learned displacement value at step 30: -0.1994660496711731\n",
      "Learned displacement value at step 40: -0.29590293765068054\n",
      "Learned displacement value at step 50: -0.38713476061820984\n",
      "Learned displacement value at step 60: -0.4713663160800934\n",
      "Learned displacement value at step 70: -0.5458700060844421\n",
      "Learned displacement value at step 80: -0.6106246113777161\n",
      "Learned displacement value at step 90: -0.663436770439148\n",
      "Learned displacement value at step 100: -0.7067794799804688\n",
      "Learned displacement value at step 110: -0.7424363493919373\n",
      "Learned displacement value at step 120: -0.7681866884231567\n",
      "Learned displacement value at step 130: -0.7864252924919128\n",
      "Learned displacement value at step 140: -0.7998858690261841\n",
      "Learned displacement value at step 150: -0.8065536022186279\n",
      "Learned displacement value at step 160: -0.8140542507171631\n",
      "Learned displacement value at step 170: -0.823983371257782\n",
      "Learned displacement value at step 180: -0.8305978775024414\n",
      "Learned displacement value at step 190: -0.832477867603302\n",
      "Learned displacement value at step 200: -0.831298291683197\n",
      "Learned displacement value at step 210: -0.8327404260635376\n",
      "Learned displacement value at step 220: -0.8314618468284607\n",
      "Learned displacement value at step 230: -0.8361780047416687\n",
      "Learned displacement value at step 240: -0.8371953964233398\n",
      "Learned displacement value at step 250: -0.837969958782196\n",
      "Learned displacement value at step 260: -0.8431375622749329\n",
      "Learned displacement value at step 270: -0.8501652479171753\n",
      "Learned displacement value at step 280: -0.8467703461647034\n",
      "Learned displacement value at step 290: -0.8375486135482788\n",
      "Learned displacement value at step 300: -0.83379727602005\n",
      "Learned displacement value at step 310: -0.8351297974586487\n",
      "Learned displacement value at step 320: -0.8385910987854004\n",
      "Learned displacement value at step 330: -0.8425515294075012\n",
      "Learned displacement value at step 340: -0.8487588167190552\n",
      "Learned displacement value at step 350: -0.8547835946083069\n",
      "Learned displacement value at step 360: -0.8537105321884155\n",
      "Learned displacement value at step 370: -0.8582743406295776\n",
      "Learned displacement value at step 380: -0.8588169813156128\n",
      "Learned displacement value at step 390: -0.8577256798744202\n",
      "Learned displacement value at step 400: -0.8570663332939148\n",
      "Learned displacement value at step 410: -0.8529834747314453\n",
      "Learned displacement value at step 420: -0.855341374874115\n",
      "Learned displacement value at step 430: -0.8506938815116882\n",
      "Learned displacement value at step 440: -0.8451930284500122\n",
      "Learned displacement value at step 450: -0.8469343781471252\n",
      "Learned displacement value at step 460: -0.8526660799980164\n",
      "Learned displacement value at step 470: -0.8462029695510864\n",
      "Learned displacement value at step 480: -0.8336077928543091\n",
      "Learned displacement value at step 490: -0.8249720335006714\n",
      "Learned displacement value at step 500: -0.8200154900550842\n"
     ]
    }
   ],
   "source": [
    "tf_displacement_magnitude = tf.Variable(0.1)\n",
    "\n",
    "opt = tf.keras.optimizers.Adam(learning_rate=0.01)\n",
    "steps = 500\n",
    "\n",
    "batch_size = 10\n",
    "threshold = 0.5\n",
    "\n",
    "for step in range(steps):\n",
    "    batch = [1 if random.random() > threshold else -1 for _ in range(batch_size)]\n",
    "    alpha_val = 0.7 * np.array(batch)\n",
    "    \n",
    "    p_1 = batch.count(1)/batch_size\n",
    "    p_0 = 1 - p_1\n",
    "        \n",
    "    eng = sf.Engine(backend=\"tf\", backend_options={\n",
    "        \"cutoff_dim\": 7,\n",
    "        \"batch_size\": batch_size,\n",
    "    })\n",
    "    \n",
    "    circuit = sf.Program(1)\n",
    "\n",
    "    displacement_magnitude = circuit.params(\"displacement_magnitude\")\n",
    "    \n",
    "    alpha = circuit.params(\"alpha\")\n",
    "\n",
    "    with circuit.context as q:\n",
    "        sf.ops.Dgate(alpha, 0.0) | q[0]\n",
    "        sf.ops.Dgate(displacement_magnitude, 0.0) | q[0]\n",
    "        \n",
    "    with tf.GradientTape() as tape:\n",
    "        results = eng.run(circuit, args={\n",
    "            \"displacement_magnitude\": tf_displacement_magnitude,\n",
    "            \"alpha\": alpha_val\n",
    "        })\n",
    "        \n",
    "        # get the probability of |0>\n",
    "        p_zero = results.state.fock_prob([0])\n",
    "        # print(p_zero)\n",
    "        \n",
    "        # get the porbability of anything by |0>\n",
    "        p_one = 1 - p_zero\n",
    "        \n",
    "        loss = 0\n",
    "        \n",
    "        # p(a|1) = [p(1|a) p(1)] / p(a)\n",
    "        # p(-a|0) = [p(0|-a) p(0)] / p(-a)\n",
    "        \n",
    "        for i, mult in enumerate(batch):\n",
    "            if mult == 1:\n",
    "                loss += p_one[i]\n",
    "            else:\n",
    "                loss += p_zero[i]\n",
    "                \n",
    "        loss /= batch_size\n",
    "        # print(f'loss: {loss}')\n",
    "        \n",
    "    gradients = tape.gradient(loss, [tf_displacement_magnitude])\n",
    "    opt.apply_gradients(zip(gradients, [tf_displacement_magnitude]))\n",
    "    \n",
    "    if (step + 1) % 10 == 0:\n",
    "        print(\"Learned displacement value at step {}: {}\".format(step+1, tf_displacement_magnitude.numpy()))"
   ]
  },
  {
   "cell_type": "code",
   "execution_count": null,
   "metadata": {},
   "outputs": [],
   "source": []
  }
 ],
 "metadata": {
  "interpreter": {
   "hash": "8db341d3e5f565abe931b6406495b9d46abd4f9e275f231b1c42c9f22f414534"
  },
  "kernelspec": {
   "display_name": "Python 3 (ipykernel)",
   "language": "python",
   "name": "python3"
  },
  "language_info": {
   "codemirror_mode": {
    "name": "ipython",
    "version": 3
   },
   "file_extension": ".py",
   "mimetype": "text/x-python",
   "name": "python",
   "nbconvert_exporter": "python",
   "pygments_lexer": "ipython3",
   "version": "3.9.7"
  },
  "toc": {
   "base_numbering": 1,
   "nav_menu": {},
   "number_sections": true,
   "sideBar": true,
   "skip_h1_title": false,
   "title_cell": "Table of Contents",
   "title_sidebar": "Contents",
   "toc_cell": false,
   "toc_position": {},
   "toc_section_display": true,
   "toc_window_display": false
  },
  "varInspector": {
   "cols": {
    "lenName": 16,
    "lenType": 16,
    "lenVar": 40
   },
   "kernels_config": {
    "python": {
     "delete_cmd_postfix": "",
     "delete_cmd_prefix": "del ",
     "library": "var_list.py",
     "varRefreshCmd": "print(var_dic_list())"
    },
    "r": {
     "delete_cmd_postfix": ") ",
     "delete_cmd_prefix": "rm(",
     "library": "var_list.r",
     "varRefreshCmd": "cat(var_dic_list()) "
    }
   },
   "types_to_exclude": [
    "module",
    "function",
    "builtin_function_or_method",
    "instance",
    "_Feature"
   ],
   "window_display": false
  }
 },
 "nbformat": 4,
 "nbformat_minor": 2
}
