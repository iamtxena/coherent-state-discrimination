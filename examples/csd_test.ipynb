{
 "cells": [
  {
   "cell_type": "code",
   "execution_count": 1,
   "metadata": {},
   "outputs": [],
   "source": [
    "from csd import CSD\n"
   ]
  },
  {
   "cell_type": "code",
   "execution_count": 2,
   "metadata": {},
   "outputs": [
    {
     "name": "stderr",
     "output_type": "stream",
     "text": [
      "[CSD] 0.0.1|INFO|2021-09-18 12:32:19]: Just a test that logger is working. Happy coding!\n"
     ]
    }
   ],
   "source": [
    "example_csd = CSD()"
   ]
  },
  {
   "cell_type": "code",
   "execution_count": 3,
   "metadata": {},
   "outputs": [],
   "source": [
    "import strawberryfields as sf"
   ]
  },
  {
   "cell_type": "code",
   "execution_count": 4,
   "metadata": {},
   "outputs": [],
   "source": [
    "displacement = 0.5\n",
    "\n",
    "def single_layer():\n",
    "    # Creates a single mode quantum \"program\".\n",
    "    # https://strawberryfields.readthedocs.io/en/stable/code/api/strawberryfields.Program.html\n",
    "    prog = sf.Program(1)\n",
    "\n",
    "    with prog.context as q:\n",
    "        # Phase space displacement gate.\n",
    "        # https://strawberryfields.readthedocs.io/en/stable/code/api/strawberryfields.ops.Dgate.html\n",
    "        sf.ops.Dgate(0.0, 0.0) | q[0]\n",
    "\n",
    "        # Measures whether a mode contain zero or nonzero photons.\n",
    "        # https://strawberryfields.readthedocs.io/en/stable/code/api/strawberryfields.ops.MeasureThreshold.html\n",
    "        sf.ops.MeasureThreshold()       | q[0]\n",
    "\n",
    "    return eng.run(prog)"
   ]
  },
  {
   "cell_type": "code",
   "execution_count": 5,
   "metadata": {},
   "outputs": [],
   "source": [
    "eng = sf.Engine('gaussian')"
   ]
  },
  {
   "cell_type": "code",
   "execution_count": 6,
   "metadata": {},
   "outputs": [
    {
     "name": "stderr",
     "output_type": "stream",
     "text": [
      "/opt/conda/lib/python3.9/site-packages/thewalrus/samples.py:367: ComplexWarning: Casting complex values to real discards the imaginary part\n",
      "/opt/conda/lib/python3.9/site-packages/thewalrus/samples.py:370: ComplexWarning: Casting complex values to real discards the imaginary part\n"
     ]
    }
   ],
   "source": [
    "result = single_layer()"
   ]
  },
  {
   "cell_type": "code",
   "execution_count": 7,
   "metadata": {},
   "outputs": [
    {
     "name": "stdout",
     "output_type": "stream",
     "text": [
      "[[0]]\n"
     ]
    }
   ],
   "source": [
    "print(result.samples)"
   ]
  },
  {
   "cell_type": "code",
   "execution_count": null,
   "metadata": {},
   "outputs": [],
   "source": []
  }
 ],
 "metadata": {
  "interpreter": {
   "hash": "b4a62cf06e41ff0d2ddc7fc133a4c1acecd350d81d146ce6fb6329fb049278cb"
  },
  "kernelspec": {
   "display_name": "Python 3 (ipykernel)",
   "language": "python",
   "name": "python3"
  },
  "language_info": {
   "codemirror_mode": {
    "name": "ipython",
    "version": 3
   },
   "file_extension": ".py",
   "mimetype": "text/x-python",
   "name": "python",
   "nbconvert_exporter": "python",
   "pygments_lexer": "ipython3",
   "version": "3.9.5"
  }
 },
 "nbformat": 4,
 "nbformat_minor": 2
}
