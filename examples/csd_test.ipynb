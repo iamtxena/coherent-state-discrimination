{
 "cells": [
  {
   "cell_type": "code",
   "execution_count": 1,
   "metadata": {
    "ExecuteTime": {
     "end_time": "2021-09-22T05:04:05.824955Z",
     "start_time": "2021-09-22T05:04:01.514335Z"
    }
   },
   "outputs": [],
   "source": [
    "import strawberryfields as sf\n",
    "import tensorflow as tf"
   ]
  },
  {
   "cell_type": "code",
   "execution_count": 2,
   "metadata": {
    "ExecuteTime": {
     "end_time": "2021-09-22T05:04:05.834892Z",
     "start_time": "2021-09-22T05:04:05.827073Z"
    },
    "scrolled": false
   },
   "outputs": [],
   "source": [
    "eng = sf.Engine(backend=\"tf\", backend_options={\"cutoff_dim\": 7})\n",
    "circuit = sf.Program(1)\n",
    "\n",
    "alpha = circuit.params(\"alpha\")\n",
    "\n",
    "with circuit.context as q:\n",
    "    sf.ops.Dgate(alpha, 0.0) | q[0]"
   ]
  },
  {
   "cell_type": "code",
   "execution_count": 3,
   "metadata": {
    "ExecuteTime": {
     "end_time": "2021-09-22T05:04:05.842149Z",
     "start_time": "2021-09-22T05:04:05.838066Z"
    }
   },
   "outputs": [],
   "source": [
    "def loss():\n",
    "    # reset the engine if it has already been executed\n",
    "    if eng.run_progs:\n",
    "        eng.reset()\n",
    "\n",
    "   \n",
    "    # execute the engine\n",
    "    results = eng.run(circuit, args={\"alpha\": tf_alpha})\n",
    "\n",
    "    # get the probability of fock state |1>\n",
    "    prob = results.state.fock_prob([1])\n",
    "    \n",
    "    return -prob"
   ]
  },
  {
   "cell_type": "code",
   "execution_count": 4,
   "metadata": {
    "ExecuteTime": {
     "end_time": "2021-09-22T05:04:08.464336Z",
     "start_time": "2021-09-22T05:04:05.846383Z"
    },
    "scrolled": false
   },
   "outputs": [
    {
     "name": "stderr",
     "output_type": "stream",
     "text": [
      "2021-09-22 10:34:05.849639: I tensorflow/core/platform/cpu_feature_guard.cc:142] This TensorFlow binary is optimized with oneAPI Deep Neural Network Library (oneDNN) to use the following CPU instructions in performance-critical operations:  AVX2 FMA\n",
      "To enable them in other operations, rebuild TensorFlow with the appropriate compiler flags.\n"
     ]
    },
    {
     "name": "stdout",
     "output_type": "stream",
     "text": [
      "Parameter value at step 0: [0.10999984]\n",
      "Parameter value at step 1: [0.12001306]\n",
      "Parameter value at step 2: [0.13004807]\n",
      "Parameter value at step 3: [0.14011249]\n",
      "Parameter value at step 4: [0.15021344]\n",
      "Parameter value at step 5: [0.16035728]\n",
      "Parameter value at step 6: [0.17054962]\n",
      "Parameter value at step 7: [0.18079543]\n",
      "Parameter value at step 8: [0.191099]\n",
      "Parameter value at step 9: [0.201464]\n",
      "Parameter value at step 10: [0.21189342]\n",
      "Parameter value at step 11: [0.22238974]\n",
      "Parameter value at step 12: [0.23295484]\n",
      "Parameter value at step 13: [0.2435901]\n",
      "Parameter value at step 14: [0.2542964]\n",
      "Parameter value at step 15: [0.26507407]\n",
      "Parameter value at step 16: [0.27592307]\n",
      "Parameter value at step 17: [0.28684288]\n",
      "Parameter value at step 18: [0.29783255]\n",
      "Parameter value at step 19: [0.30889073]\n",
      "Parameter value at step 20: [0.3200157]\n",
      "Parameter value at step 21: [0.33120534]\n",
      "Parameter value at step 22: [0.3424572]\n",
      "Parameter value at step 23: [0.35376847]\n",
      "Parameter value at step 24: [0.365136]\n",
      "Parameter value at step 25: [0.3765563]\n",
      "Parameter value at step 26: [0.38802564]\n",
      "Parameter value at step 27: [0.3995399]\n",
      "Parameter value at step 28: [0.4110947]\n",
      "Parameter value at step 29: [0.4226854]\n",
      "Parameter value at step 30: [0.43430713]\n",
      "Parameter value at step 31: [0.44595462]\n",
      "Parameter value at step 32: [0.4576225]\n",
      "Parameter value at step 33: [0.46930507]\n",
      "Parameter value at step 34: [0.48099646]\n",
      "Parameter value at step 35: [0.49269053]\n",
      "Parameter value at step 36: [0.504381]\n",
      "Parameter value at step 37: [0.5160613]\n",
      "Parameter value at step 38: [0.5277248]\n",
      "Parameter value at step 39: [0.53936464]\n",
      "Parameter value at step 40: [0.55097383]\n",
      "Parameter value at step 41: [0.56254524]\n",
      "Parameter value at step 42: [0.5740716]\n",
      "Parameter value at step 43: [0.58554554]\n",
      "Parameter value at step 44: [0.59695965]\n",
      "Parameter value at step 45: [0.60830647]\n",
      "Parameter value at step 46: [0.6195784]\n",
      "Parameter value at step 47: [0.63076794]\n",
      "Parameter value at step 48: [0.64186746]\n",
      "Parameter value at step 49: [0.65286946]\n",
      "Parameter value at step 50: [0.66376644]\n",
      "Parameter value at step 51: [0.674551]\n",
      "Parameter value at step 52: [0.68521583]\n",
      "Parameter value at step 53: [0.69575363]\n",
      "Parameter value at step 54: [0.70615745]\n",
      "Parameter value at step 55: [0.7164203]\n",
      "Parameter value at step 56: [0.72653556]\n",
      "Parameter value at step 57: [0.7364967]\n",
      "Parameter value at step 58: [0.7462975]\n",
      "Parameter value at step 59: [0.755932]\n",
      "Parameter value at step 60: [0.76539445]\n",
      "Parameter value at step 61: [0.77467954]\n",
      "Parameter value at step 62: [0.7837822]\n",
      "Parameter value at step 63: [0.7926977]\n",
      "Parameter value at step 64: [0.80142176]\n",
      "Parameter value at step 65: [0.80995035]\n",
      "Parameter value at step 66: [0.8182799]\n",
      "Parameter value at step 67: [0.82640725]\n",
      "Parameter value at step 68: [0.83432955]\n",
      "Parameter value at step 69: [0.8420445]\n",
      "Parameter value at step 70: [0.84955007]\n",
      "Parameter value at step 71: [0.8568448]\n",
      "Parameter value at step 72: [0.8639275]\n",
      "Parameter value at step 73: [0.8707974]\n",
      "Parameter value at step 74: [0.8774543]\n",
      "Parameter value at step 75: [0.88389814]\n",
      "Parameter value at step 76: [0.8901295]\n",
      "Parameter value at step 77: [0.89614916]\n",
      "Parameter value at step 78: [0.9019583]\n",
      "Parameter value at step 79: [0.9075585]\n",
      "Parameter value at step 80: [0.9129516]\n",
      "Parameter value at step 81: [0.9181398]\n",
      "Parameter value at step 82: [0.9231257]\n",
      "Parameter value at step 83: [0.92791194]\n",
      "Parameter value at step 84: [0.9325016]\n",
      "Parameter value at step 85: [0.936898]\n",
      "Parameter value at step 86: [0.9411046]\n",
      "Parameter value at step 87: [0.9451251]\n",
      "Parameter value at step 88: [0.9489634]\n",
      "Parameter value at step 89: [0.95262355]\n",
      "Parameter value at step 90: [0.95610976]\n",
      "Parameter value at step 91: [0.9594264]\n",
      "Parameter value at step 92: [0.9625779]\n",
      "Parameter value at step 93: [0.9655687]\n",
      "Parameter value at step 94: [0.9684035]\n",
      "Parameter value at step 95: [0.971087]\n",
      "Parameter value at step 96: [0.9736238]\n",
      "Parameter value at step 97: [0.9760187]\n",
      "Parameter value at step 98: [0.97827655]\n",
      "Parameter value at step 99: [0.980402]\n"
     ]
    }
   ],
   "source": [
    "tf_alpha = tf.Variable(0.1)\n",
    "\n",
    "opt = tf.keras.optimizers.Adam(learning_rate=0.01)\n",
    "steps = 100\n",
    "\n",
    "for step in range(steps):\n",
    "    _ = opt.minimize(loss, [tf_alpha])\n",
    "    parameter_vals = [tf_alpha.numpy()]\n",
    "    \n",
    "    print(\"Parameter value at step {}: {}\".format(step, parameter_vals))"
   ]
  }
 ],
 "metadata": {
  "interpreter": {
   "hash": "500ed5d60f3999408640ffd6434d49f0877dd25c7f518e20d2e5bd748d2fd58b"
  },
  "kernelspec": {
   "display_name": "Python 3",
   "language": "python",
   "name": "python3"
  },
  "language_info": {
   "codemirror_mode": {
    "name": "ipython",
    "version": 3
   },
   "file_extension": ".py",
   "mimetype": "text/x-python",
   "name": "python",
   "nbconvert_exporter": "python",
   "pygments_lexer": "ipython3",
   "version": "3.9.7"
  },
  "toc": {
   "base_numbering": 1,
   "nav_menu": {},
   "number_sections": true,
   "sideBar": true,
   "skip_h1_title": false,
   "title_cell": "Table of Contents",
   "title_sidebar": "Contents",
   "toc_cell": false,
   "toc_position": {},
   "toc_section_display": true,
   "toc_window_display": false
  },
  "varInspector": {
   "cols": {
    "lenName": 16,
    "lenType": 16,
    "lenVar": 40
   },
   "kernels_config": {
    "python": {
     "delete_cmd_postfix": "",
     "delete_cmd_prefix": "del ",
     "library": "var_list.py",
     "varRefreshCmd": "print(var_dic_list())"
    },
    "r": {
     "delete_cmd_postfix": ") ",
     "delete_cmd_prefix": "rm(",
     "library": "var_list.r",
     "varRefreshCmd": "cat(var_dic_list()) "
    }
   },
   "types_to_exclude": [
    "module",
    "function",
    "builtin_function_or_method",
    "instance",
    "_Feature"
   ],
   "window_display": false
  }
 },
 "nbformat": 4,
 "nbformat_minor": 2
}
