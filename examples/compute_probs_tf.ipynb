{
 "cells": [
  {
   "cell_type": "code",
   "execution_count": 6,
   "metadata": {},
   "outputs": [],
   "source": [
    "import os\n",
    "import numpy as np\n",
    "import itertools\n",
    "from typing import List, Tuple\n",
    "from tensorflow.python.ops.linalg.linear_operator import LinearOperator\n",
    "from tensorflow.python.framework.ops import EagerTensor\n",
    "import tensorflow as tf"
   ]
  },
  {
   "cell_type": "code",
   "execution_count": 7,
   "metadata": {},
   "outputs": [],
   "source": [
    "os.environ['TF_CPP_MIN_LOG_LEVEL'] = '3'\n",
    "os.environ[\"TF_FORCE_GPU_ALLOW_GROWTH\"] = \"true\"\n"
   ]
  },
  {
   "cell_type": "code",
   "execution_count": 3,
   "metadata": {},
   "outputs": [],
   "source": [
    "def set_diag_vector(diagonal_length: int) -> EagerTensor:\n",
    "    if diagonal_length <= 1:\n",
    "        raise ValueError(\"diagonal_length must be positive and greater than one.\")\n",
    "    if diagonal_length == 1:\n",
    "         return tf.constant([1], dtype=tf.complex64)\n",
    "    return tf.constant([1] + [0] * (diagonal_length - 1), dtype=tf.complex64)\n"
   ]
  },
  {
   "cell_type": "code",
   "execution_count": 16,
   "metadata": {},
   "outputs": [],
   "source": [
    "def set_on_off_measurement_one_outcome(outcome: int, cutoff_dim: int, diag_vector: EagerTensor = None) -> LinearOperator:\n",
    "    if outcome != 0 and outcome != 1:\n",
    "        raise ValueError(\"outcome must be either 0 or 1\")\n",
    "    if diag_vector is None:\n",
    "        diag_vector = set_diag_vector(diagonal_length=cutoff_dim + 1)\n",
    "    if outcome == 0:\n",
    "        return tf.linalg.LinearOperatorDiag(diag_vector)\n",
    "    return tf.linalg.LinearOperatorFullMatrix(\n",
    "        tf.linalg.LinearOperatorIdentity(num_rows=cutoff_dim+1, dtype=tf.complex64).to_dense() -\n",
    "        tf.linalg.LinearOperatorDiag(diag_vector).to_dense())\n",
    "    "
   ]
  },
  {
   "cell_type": "code",
   "execution_count": 17,
   "metadata": {},
   "outputs": [],
   "source": [
    "zero_op = set_on_off_measurement_one_outcome(outcome=0, cutoff_dim=2)\n"
   ]
  },
  {
   "cell_type": "code",
   "execution_count": 18,
   "metadata": {},
   "outputs": [
    {
     "data": {
      "text/plain": [
       "<tf.Tensor: shape=(3, 3), dtype=complex64, numpy=\n",
       "array([[1.+0.j, 0.+0.j, 0.+0.j],\n",
       "       [0.+0.j, 0.+0.j, 0.+0.j],\n",
       "       [0.+0.j, 0.+0.j, 0.+0.j]], dtype=complex64)>"
      ]
     },
     "execution_count": 18,
     "metadata": {},
     "output_type": "execute_result"
    }
   ],
   "source": [
    "zero_op.to_dense()"
   ]
  },
  {
   "cell_type": "code",
   "execution_count": 12,
   "metadata": {},
   "outputs": [],
   "source": [
    "one_op = set_on_off_measurement_one_outcome(outcome=1, cutoff_dim=2)\n"
   ]
  },
  {
   "cell_type": "code",
   "execution_count": 13,
   "metadata": {},
   "outputs": [
    {
     "data": {
      "text/plain": [
       "<tf.Tensor: shape=(3, 3), dtype=complex64, numpy=\n",
       "array([[0.+0.j, 0.+0.j, 0.+0.j],\n",
       "       [0.+0.j, 1.+0.j, 0.+0.j],\n",
       "       [0.+0.j, 0.+0.j, 1.+0.j]], dtype=complex64)>"
      ]
     },
     "execution_count": 13,
     "metadata": {},
     "output_type": "execute_result"
    }
   ],
   "source": [
    "one_op.to_dense()"
   ]
  },
  {
   "cell_type": "code",
   "execution_count": 19,
   "metadata": {},
   "outputs": [],
   "source": [
    "def generate_all_outcomes(modes=int) -> List[Tuple[int]]:\n",
    "    options = [0, 1]\n",
    "    return list(itertools.product(options, repeat=modes))\n"
   ]
  },
  {
   "cell_type": "code",
   "execution_count": 20,
   "metadata": {},
   "outputs": [
    {
     "data": {
      "text/plain": [
       "[(0, 0), (0, 1), (1, 0), (1, 1)]"
      ]
     },
     "execution_count": 20,
     "metadata": {},
     "output_type": "execute_result"
    }
   ],
   "source": [
    "generate_all_outcomes(modes=2)"
   ]
  },
  {
   "cell_type": "code",
   "execution_count": 21,
   "metadata": {},
   "outputs": [],
   "source": [
    "def compute_kronecker_matrices(matrices: List[LinearOperator]) -> LinearOperator:\n",
    "    if len(matrices) < 1:\n",
    "        raise ValueError(\"The number of matrices must be at least 1\")\n",
    "    return tf.linalg.LinearOperatorKronecker(matrices)\n"
   ]
  },
  {
   "cell_type": "code",
   "execution_count": 28,
   "metadata": {},
   "outputs": [],
   "source": [
    "def generate_on_off_measurement_one_outcome(one_outcome: Tuple[int], cutoff_dim: int, diag_vector: List[int] = None) -> LinearOperator:\n",
    "    if diag_vector is None:\n",
    "        diag_vector = set_diag_vector(diagonal_length=cutoff_dim + 1)\n",
    "    one_mode_measurements = [set_on_off_measurement_one_outcome(\n",
    "        outcome=outcome_i, cutoff_dim=cutoff_dim, diag_vector=diag_vector) for outcome_i in one_outcome]\n",
    "    return compute_kronecker_matrices(matrices=one_mode_measurements)\n",
    "    \n",
    "    "
   ]
  },
  {
   "cell_type": "code",
   "execution_count": 29,
   "metadata": {},
   "outputs": [],
   "source": [
    "def generate_all_on_off_measurements(modes: int, cutoff_dim: int) -> List[LinearOperator]:\n",
    "    outcomes = generate_all_outcomes(modes=modes)\n",
    "    diag_vector = set_diag_vector(diagonal_length=cutoff_dim + 1)\n",
    "    \n",
    "    return [generate_on_off_measurement_one_outcome(one_outcome=outcome, cutoff_dim=cutoff_dim, diag_vector=diag_vector) \n",
    "            for outcome in outcomes]\n"
   ]
  },
  {
   "cell_type": "code",
   "execution_count": 32,
   "metadata": {},
   "outputs": [],
   "source": [
    "ops_measurements = generate_all_on_off_measurements(modes=2, cutoff_dim=2)"
   ]
  },
  {
   "cell_type": "code",
   "execution_count": 33,
   "metadata": {},
   "outputs": [
    {
     "data": {
      "text/plain": [
       "[<tf.Tensor: shape=(9, 9), dtype=complex64, numpy=\n",
       " array([[1.+0.j, 0.+0.j, 0.+0.j, 0.+0.j, 0.+0.j, 0.+0.j, 0.+0.j, 0.+0.j,\n",
       "         0.+0.j],\n",
       "        [0.+0.j, 0.+0.j, 0.+0.j, 0.+0.j, 0.+0.j, 0.+0.j, 0.+0.j, 0.+0.j,\n",
       "         0.+0.j],\n",
       "        [0.+0.j, 0.+0.j, 0.+0.j, 0.+0.j, 0.+0.j, 0.+0.j, 0.+0.j, 0.+0.j,\n",
       "         0.+0.j],\n",
       "        [0.+0.j, 0.+0.j, 0.+0.j, 0.+0.j, 0.+0.j, 0.+0.j, 0.+0.j, 0.+0.j,\n",
       "         0.+0.j],\n",
       "        [0.+0.j, 0.+0.j, 0.+0.j, 0.+0.j, 0.+0.j, 0.+0.j, 0.+0.j, 0.+0.j,\n",
       "         0.+0.j],\n",
       "        [0.+0.j, 0.+0.j, 0.+0.j, 0.+0.j, 0.+0.j, 0.+0.j, 0.+0.j, 0.+0.j,\n",
       "         0.+0.j],\n",
       "        [0.+0.j, 0.+0.j, 0.+0.j, 0.+0.j, 0.+0.j, 0.+0.j, 0.+0.j, 0.+0.j,\n",
       "         0.+0.j],\n",
       "        [0.+0.j, 0.+0.j, 0.+0.j, 0.+0.j, 0.+0.j, 0.+0.j, 0.+0.j, 0.+0.j,\n",
       "         0.+0.j],\n",
       "        [0.+0.j, 0.+0.j, 0.+0.j, 0.+0.j, 0.+0.j, 0.+0.j, 0.+0.j, 0.+0.j,\n",
       "         0.+0.j]], dtype=complex64)>,\n",
       " <tf.Tensor: shape=(9, 9), dtype=complex64, numpy=\n",
       " array([[0.+0.j, 0.+0.j, 0.+0.j, 0.+0.j, 0.+0.j, 0.+0.j, 0.+0.j, 0.+0.j,\n",
       "         0.+0.j],\n",
       "        [0.+0.j, 1.+0.j, 0.+0.j, 0.+0.j, 0.+0.j, 0.+0.j, 0.+0.j, 0.+0.j,\n",
       "         0.+0.j],\n",
       "        [0.+0.j, 0.+0.j, 1.+0.j, 0.+0.j, 0.+0.j, 0.+0.j, 0.+0.j, 0.+0.j,\n",
       "         0.+0.j],\n",
       "        [0.+0.j, 0.+0.j, 0.+0.j, 0.+0.j, 0.+0.j, 0.+0.j, 0.+0.j, 0.+0.j,\n",
       "         0.+0.j],\n",
       "        [0.+0.j, 0.+0.j, 0.+0.j, 0.+0.j, 0.+0.j, 0.+0.j, 0.+0.j, 0.+0.j,\n",
       "         0.+0.j],\n",
       "        [0.+0.j, 0.+0.j, 0.+0.j, 0.+0.j, 0.+0.j, 0.+0.j, 0.+0.j, 0.+0.j,\n",
       "         0.+0.j],\n",
       "        [0.+0.j, 0.+0.j, 0.+0.j, 0.+0.j, 0.+0.j, 0.+0.j, 0.+0.j, 0.+0.j,\n",
       "         0.+0.j],\n",
       "        [0.+0.j, 0.+0.j, 0.+0.j, 0.+0.j, 0.+0.j, 0.+0.j, 0.+0.j, 0.+0.j,\n",
       "         0.+0.j],\n",
       "        [0.+0.j, 0.+0.j, 0.+0.j, 0.+0.j, 0.+0.j, 0.+0.j, 0.+0.j, 0.+0.j,\n",
       "         0.+0.j]], dtype=complex64)>,\n",
       " <tf.Tensor: shape=(9, 9), dtype=complex64, numpy=\n",
       " array([[0.+0.j, 0.+0.j, 0.+0.j, 0.+0.j, 0.+0.j, 0.+0.j, 0.+0.j, 0.+0.j,\n",
       "         0.+0.j],\n",
       "        [0.+0.j, 0.+0.j, 0.+0.j, 0.+0.j, 0.+0.j, 0.+0.j, 0.+0.j, 0.+0.j,\n",
       "         0.+0.j],\n",
       "        [0.+0.j, 0.+0.j, 0.+0.j, 0.+0.j, 0.+0.j, 0.+0.j, 0.+0.j, 0.+0.j,\n",
       "         0.+0.j],\n",
       "        [0.+0.j, 0.+0.j, 0.+0.j, 1.+0.j, 0.+0.j, 0.+0.j, 0.+0.j, 0.+0.j,\n",
       "         0.+0.j],\n",
       "        [0.+0.j, 0.+0.j, 0.+0.j, 0.+0.j, 0.+0.j, 0.+0.j, 0.+0.j, 0.+0.j,\n",
       "         0.+0.j],\n",
       "        [0.+0.j, 0.+0.j, 0.+0.j, 0.+0.j, 0.+0.j, 0.+0.j, 0.+0.j, 0.+0.j,\n",
       "         0.+0.j],\n",
       "        [0.+0.j, 0.+0.j, 0.+0.j, 0.+0.j, 0.+0.j, 0.+0.j, 1.+0.j, 0.+0.j,\n",
       "         0.+0.j],\n",
       "        [0.+0.j, 0.+0.j, 0.+0.j, 0.+0.j, 0.+0.j, 0.+0.j, 0.+0.j, 0.+0.j,\n",
       "         0.+0.j],\n",
       "        [0.+0.j, 0.+0.j, 0.+0.j, 0.+0.j, 0.+0.j, 0.+0.j, 0.+0.j, 0.+0.j,\n",
       "         0.+0.j]], dtype=complex64)>,\n",
       " <tf.Tensor: shape=(9, 9), dtype=complex64, numpy=\n",
       " array([[0.+0.j, 0.+0.j, 0.+0.j, 0.+0.j, 0.+0.j, 0.+0.j, 0.+0.j, 0.+0.j,\n",
       "         0.+0.j],\n",
       "        [0.+0.j, 0.+0.j, 0.+0.j, 0.+0.j, 0.+0.j, 0.+0.j, 0.+0.j, 0.+0.j,\n",
       "         0.+0.j],\n",
       "        [0.+0.j, 0.+0.j, 0.+0.j, 0.+0.j, 0.+0.j, 0.+0.j, 0.+0.j, 0.+0.j,\n",
       "         0.+0.j],\n",
       "        [0.+0.j, 0.+0.j, 0.+0.j, 0.+0.j, 0.+0.j, 0.+0.j, 0.+0.j, 0.+0.j,\n",
       "         0.+0.j],\n",
       "        [0.+0.j, 0.+0.j, 0.+0.j, 0.+0.j, 1.+0.j, 0.+0.j, 0.+0.j, 0.+0.j,\n",
       "         0.+0.j],\n",
       "        [0.+0.j, 0.+0.j, 0.+0.j, 0.+0.j, 0.+0.j, 1.+0.j, 0.+0.j, 0.+0.j,\n",
       "         0.+0.j],\n",
       "        [0.+0.j, 0.+0.j, 0.+0.j, 0.+0.j, 0.+0.j, 0.+0.j, 0.+0.j, 0.+0.j,\n",
       "         0.+0.j],\n",
       "        [0.+0.j, 0.+0.j, 0.+0.j, 0.+0.j, 0.+0.j, 0.+0.j, 0.+0.j, 1.+0.j,\n",
       "         0.+0.j],\n",
       "        [0.+0.j, 0.+0.j, 0.+0.j, 0.+0.j, 0.+0.j, 0.+0.j, 0.+0.j, 0.+0.j,\n",
       "         1.+0.j]], dtype=complex64)>]"
      ]
     },
     "execution_count": 33,
     "metadata": {},
     "output_type": "execute_result"
    }
   ],
   "source": [
    "[op_measurement.to_dense() for op_measurement in ops_measurements]"
   ]
  },
  {
   "cell_type": "code",
   "execution_count": 507,
   "metadata": {},
   "outputs": [],
   "source": [
    "import os\n",
    "import strawberryfields as sf\n",
    "from strawberryfields.backends.tfbackend.states import FockStateTF"
   ]
  },
  {
   "cell_type": "code",
   "execution_count": 563,
   "metadata": {},
   "outputs": [],
   "source": [
    "alphas = [0.7]\n",
    "betas = [0.3]\n",
    "betas = list(np.arange(-8.0, 2.0, 0.1))\n",
    "modes = 2\n",
    "cutoff_dim = 2"
   ]
  },
  {
   "cell_type": "code",
   "execution_count": 564,
   "metadata": {},
   "outputs": [],
   "source": [
    "eng = sf.Engine(backend=\"tf\", backend_options={\"cutoff_dim\": cutoff_dim})\n",
    "prog = sf.Program(modes)\n",
    "\n",
    "tf_alpha = tf.Variable(0.7)\n",
    "tf_beta = tf.Variable(0.3)\n",
    "\n",
    "par_alpha = prog.params(\"alpha\")\n",
    "par_beta = prog.params(\"beta\")\n",
    "\n",
    "with prog.context as q:\n",
    "    sf.ops.Dgate(par_alpha) | q[0]\n",
    "    sf.ops.Dgate(par_beta) | q[1]\n",
    "    sf.ops.BSgate() | (q[0], q[1])\n"
   ]
  },
  {
   "cell_type": "code",
   "execution_count": 565,
   "metadata": {},
   "outputs": [],
   "source": [
    "result = eng.run(prog, args={\n",
    "    \"alpha\": tf_alpha,\n",
    "    \"beta\": tf_beta,\n",
    "})"
   ]
  },
  {
   "cell_type": "code",
   "execution_count": 568,
   "metadata": {},
   "outputs": [],
   "source": [
    "ops_measurements = generate_all_on_off_measurements(modes=modes, cutoff_dim=cutoff_dim)\n"
   ]
  },
  {
   "cell_type": "code",
   "execution_count": 576,
   "metadata": {},
   "outputs": [
    {
     "data": {
      "text/plain": [
       "<tf.Tensor: shape=(4, 4), dtype=complex64, numpy=\n",
       "array([[0.+0.j, 0.+0.j, 0.+0.j, 0.+0.j],\n",
       "       [0.+0.j, 1.+0.j, 0.+0.j, 0.+0.j],\n",
       "       [0.+0.j, 0.+0.j, 0.+0.j, 0.+0.j],\n",
       "       [0.+0.j, 0.+0.j, 0.+0.j, 0.+0.j]], dtype=complex64)>"
      ]
     },
     "execution_count": 576,
     "metadata": {},
     "output_type": "execute_result"
    }
   ],
   "source": [
    "ops_measurements[1].to_dense()"
   ]
  },
  {
   "cell_type": "code",
   "execution_count": 574,
   "metadata": {},
   "outputs": [],
   "source": [
    "def compute_probability_all_outcomes(state: FockStateTF, ops_measurements: List[LinearOperator]) -> List[EagerTensor]:\n",
    "    ket_op = tf.linalg.LinearOperatorFullMatrix(state.data)\n",
    "    bra_op = tf.linalg.LinearOperatorAdjoint(ket_op)\n",
    "    dm_op = tf.linalg.LinearOperatorKronecker([ket_op, bra_op])\n",
    "    print(dm_op.to_dense())\n",
    "    return [tf.cast(op_measurement.matmul(dm_op).trace(), dtype=tf.float32) for op_measurement in ops_measurements]\n"
   ]
  },
  {
   "cell_type": "code",
   "execution_count": 575,
   "metadata": {},
   "outputs": [
    {
     "name": "stdout",
     "output_type": "stream",
     "text": [
      "tf.Tensor(\n",
      "[[0.5598983 +0.j 0.15836315+0.j 0.39590788+0.j 0.11197966+0.j]\n",
      " [0.39590788+0.j 0.        +0.j 0.27994916+0.j 0.        +0.j]\n",
      " [0.15836315+0.j 0.04479186+0.j 0.        +0.j 0.        +0.j]\n",
      " [0.11197966+0.j 0.        +0.j 0.        +0.j 0.        +0.j]], shape=(4, 4), dtype=complex64)\n"
     ]
    },
    {
     "data": {
      "text/plain": [
       "[<tf.Tensor: shape=(), dtype=float32, numpy=0.5598983>,\n",
       " <tf.Tensor: shape=(), dtype=float32, numpy=0.0>,\n",
       " <tf.Tensor: shape=(), dtype=float32, numpy=0.0>,\n",
       " <tf.Tensor: shape=(), dtype=float32, numpy=0.0>]"
      ]
     },
     "execution_count": 575,
     "metadata": {},
     "output_type": "execute_result"
    }
   ],
   "source": [
    "compute_probability_all_outcomes(state=result.state, ops_measurements=ops_measurements)\n"
   ]
  },
  {
   "cell_type": "code",
   "execution_count": 435,
   "metadata": {},
   "outputs": [
    {
     "data": {
      "text/plain": [
       "<tf.Tensor: shape=(), dtype=float32, numpy=0.5598983>"
      ]
     },
     "execution_count": 435,
     "metadata": {},
     "output_type": "execute_result"
    }
   ],
   "source": [
    "tf.reduce_sum(compute_probability_all_outcomes(state=result.state, ops_measurements=ops_measurements))\n"
   ]
  },
  {
   "cell_type": "code",
   "execution_count": 571,
   "metadata": {},
   "outputs": [
    {
     "data": {
      "text/plain": [
       "<tf.Tensor: shape=(), dtype=float32, numpy=0.55989826>"
      ]
     },
     "execution_count": 571,
     "metadata": {},
     "output_type": "execute_result"
    }
   ],
   "source": [
    "result.state.fock_prob([0,0])"
   ]
  },
  {
   "cell_type": "code",
   "execution_count": 434,
   "metadata": {},
   "outputs": [
    {
     "data": {
      "text/plain": [
       "<tf.Tensor: shape=(), dtype=float32, numpy=0.88463926>"
      ]
     },
     "execution_count": 434,
     "metadata": {},
     "output_type": "execute_result"
    }
   ],
   "source": [
    "tf.reduce_sum([result.state.fock_prob([0,0]),\n",
    "              result.state.fock_prob([0,1]),\n",
    "              result.state.fock_prob([1,0]),\n",
    "              result.state.fock_prob([1,1])])"
   ]
  },
  {
   "cell_type": "code",
   "execution_count": 577,
   "metadata": {},
   "outputs": [
    {
     "data": {
      "text/plain": [
       "<tf.Tensor: shape=(2, 2, 2, 2), dtype=complex64, numpy=\n",
       "array([[[[0.5598983 +0.j, 0.39590788+0.j],\n",
       "         [0.39590788+0.j, 0.27994916+0.j]],\n",
       "\n",
       "        [[0.15836315+0.j, 0.        +0.j],\n",
       "         [0.11197966+0.j, 0.        +0.j]]],\n",
       "\n",
       "\n",
       "       [[[0.15836315+0.j, 0.11197966+0.j],\n",
       "         [0.        +0.j, 0.        +0.j]],\n",
       "\n",
       "        [[0.04479186+0.j, 0.        +0.j],\n",
       "         [0.        +0.j, 0.        +0.j]]]], dtype=complex64)>"
      ]
     },
     "execution_count": 577,
     "metadata": {},
     "output_type": "execute_result"
    }
   ],
   "source": [
    "result.state.dm()"
   ]
  },
  {
   "cell_type": "code",
   "execution_count": null,
   "metadata": {},
   "outputs": [],
   "source": []
  }
 ],
 "metadata": {
  "interpreter": {
   "hash": "25b86e06c9b5094e93f7b2d5626e8b211817ce4830006cf267811337025258b9"
  },
  "kernelspec": {
   "display_name": "Python 3.9.7 64-bit ('csd': venv)",
   "language": "python",
   "name": "python3"
  },
  "language_info": {
   "codemirror_mode": {
    "name": "ipython",
    "version": 3
   },
   "file_extension": ".py",
   "mimetype": "text/x-python",
   "name": "python",
   "nbconvert_exporter": "python",
   "pygments_lexer": "ipython3",
   "version": "3.9.7"
  },
  "orig_nbformat": 4
 },
 "nbformat": 4,
 "nbformat_minor": 2
}
