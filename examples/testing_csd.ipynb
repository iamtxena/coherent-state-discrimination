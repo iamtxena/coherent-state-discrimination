{
 "cells": [
  {
   "cell_type": "code",
   "execution_count": 1,
   "id": "636d9409",
   "metadata": {},
   "outputs": [],
   "source": [
    "from csd import CSD\n",
    "from csd.typings import CSDConfiguration, Backends, RunConfiguration, MeasuringTypes\n",
    "import numpy as np"
   ]
  },
  {
   "cell_type": "code",
   "execution_count": 6,
   "id": "804330ad",
   "metadata": {},
   "outputs": [],
   "source": [
    "valid_backends = [\n",
    "    Backends.FOCK,\n",
    "    Backends.GAUSSIAN,\n",
    "    Backends.TENSORFLOW,\n",
    "]\n",
    "\n",
    "# alphas = np.arange(0.4, 1.4, 0.1)\n",
    "alphas = [0.7]\n",
    "betas = list(np.arange(0.0, 1.1, 0.1))"
   ]
  },
  {
   "cell_type": "code",
   "execution_count": 11,
   "id": "fcd7caf3",
   "metadata": {},
   "outputs": [],
   "source": [
    "run_configuration = RunConfiguration({\n",
    "        'alphas': alphas,\n",
    "        'params': {\n",
    "            'betas': betas,\n",
    "        },\n",
    "        'backend': Backends.FOCK,\n",
    "        'number_qumodes': 1,\n",
    "        'number_layers': 1,\n",
    "        'measuring_type': MeasuringTypes.PROBABILITIES,\n",
    "        'codeword_size': 10,\n",
    "        'cutoff_dim': 2\n",
    "    })"
   ]
  },
  {
   "cell_type": "code",
   "execution_count": 12,
   "id": "a7f9edcc",
   "metadata": {},
   "outputs": [
    {
     "name": "stderr",
     "output_type": "stream",
     "text": [
      "[CSD] 0.0.1|DEBUG|2021-10-11 10:15:04]: Executing One Layer circuit with Backend: fock, codeword: [0.7, -0.7, 0.7, 0.7, 0.7, 0.7, -0.7, -0.7, 0.7, 0.7] beta values: [0.0, 0.1, 0.2, 0.30000000000000004, 0.4, 0.5, 0.6000000000000001, 0.7000000000000001, 0.8, 0.9, 1.0] with measuring_type: probabilities\n"
     ]
    },
    {
     "data": {
      "text/plain": [
       "[{'alpha': 0.7,\n",
       "  'codeword': [0.7, -0.7, 0.7, 0.7, 0.7, 0.7, -0.7, -0.7, 0.7, 0.7],\n",
       "  'betas': [0.0,\n",
       "   0.1,\n",
       "   0.2,\n",
       "   0.30000000000000004,\n",
       "   0.4,\n",
       "   0.5,\n",
       "   0.6000000000000001,\n",
       "   0.7000000000000001,\n",
       "   0.8,\n",
       "   0.9,\n",
       "   1.0],\n",
       "  'p_err': [0.24494944232623356,\n",
       "   0.29544922559057574,\n",
       "   0.3455327962421446,\n",
       "   0.39255528828295744,\n",
       "   0.43437080202834616,\n",
       "   0.4694841016325956,\n",
       "   0.49711218446762684,\n",
       "   0.5171575111128872,\n",
       "   0.5301078091173871,\n",
       "   0.5368863696735715,\n",
       "   0.5386804935965188]}]"
      ]
     },
     "execution_count": 12,
     "metadata": {},
     "output_type": "execute_result"
    }
   ],
   "source": [
    "CSD().execute(configuration=run_configuration)"
   ]
  },
  {
   "cell_type": "code",
   "execution_count": 13,
   "id": "5a330dfc",
   "metadata": {},
   "outputs": [],
   "source": [
    "run_configuration = RunConfiguration({\n",
    "        'alphas': alphas,\n",
    "        'params': {\n",
    "            'betas': betas,\n",
    "        },\n",
    "        'backend': Backends.GAUSSIAN,\n",
    "        'number_qumodes': 1,\n",
    "        'number_layers': 1,\n",
    "        'measuring_type': MeasuringTypes.PROBABILITIES,\n",
    "        'codeword_size': 10,\n",
    "        'cutoff_dim': 2\n",
    "    })"
   ]
  },
  {
   "cell_type": "code",
   "execution_count": 14,
   "id": "0388db47",
   "metadata": {},
   "outputs": [
    {
     "name": "stderr",
     "output_type": "stream",
     "text": [
      "[CSD] 0.0.1|DEBUG|2021-10-11 10:16:36]: Executing One Layer circuit with Backend: gaussian, codeword: [0.7, -0.7, -0.7, 0.7, 0.7, 0.7, 0.7, -0.7, 0.7, 0.7] beta values: [0.0, 0.1, 0.2, 0.30000000000000004, 0.4, 0.5, 0.6000000000000001, 0.7000000000000001, 0.8, 0.9, 1.0] with measuring_type: probabilities\n"
     ]
    },
    {
     "data": {
      "text/plain": [
       "[{'alpha': 0.7,\n",
       "  'codeword': [0.7, -0.7, -0.7, 0.7, 0.7, 0.7, 0.7, -0.7, 0.7, 0.7],\n",
       "  'betas': [0.0,\n",
       "   0.1,\n",
       "   0.2,\n",
       "   0.30000000000000004,\n",
       "   0.4,\n",
       "   0.5,\n",
       "   0.6000000000000001,\n",
       "   0.7000000000000001,\n",
       "   0.8,\n",
       "   0.9,\n",
       "   1.0],\n",
       "  'p_err': [0.24494944232623356,\n",
       "   0.294417581565299,\n",
       "   0.34211161802718515,\n",
       "   0.3864320148329523,\n",
       "   0.42613713975376577,\n",
       "   0.46037644776946945,\n",
       "   0.48868991828086034,\n",
       "   0.5109793737486878,\n",
       "   0.5274588650021115,\n",
       "   0.5385917267064924,\n",
       "   0.5450214624947838]}]"
      ]
     },
     "execution_count": 14,
     "metadata": {},
     "output_type": "execute_result"
    }
   ],
   "source": [
    "CSD().execute(configuration=run_configuration)"
   ]
  },
  {
   "cell_type": "code",
   "execution_count": 15,
   "id": "d1c88a9c",
   "metadata": {},
   "outputs": [],
   "source": [
    "run_configuration = RunConfiguration({\n",
    "        'alphas': alphas,\n",
    "        'params': {\n",
    "            'betas': betas,\n",
    "        },\n",
    "        'backend': Backends.TENSORFLOW,\n",
    "        'number_qumodes': 1,\n",
    "        'number_layers': 1,\n",
    "        'measuring_type': MeasuringTypes.PROBABILITIES,\n",
    "        'codeword_size': 10,\n",
    "        'cutoff_dim': 2\n",
    "    })"
   ]
  },
  {
   "cell_type": "code",
   "execution_count": 16,
   "id": "04ba99f5",
   "metadata": {},
   "outputs": [
    {
     "name": "stderr",
     "output_type": "stream",
     "text": [
      "[CSD] 0.0.1|DEBUG|2021-10-11 10:17:20]: Executing One Layer circuit with Backend: tf, codeword: [-0.7, -0.7, 0.7, 0.7, 0.7, 0.7, -0.7, -0.7, 0.7, -0.7] beta values: [0.0, 0.1, 0.2, 0.30000000000000004, 0.4, 0.5, 0.6000000000000001, 0.7000000000000001, 0.8, 0.9, 1.0] with measuring_type: probabilities\n"
     ]
    },
    {
     "data": {
      "text/plain": [
       "[{'alpha': 0.7,\n",
       "  'codeword': [-0.7, -0.7, 0.7, 0.7, 0.7, 0.7, -0.7, -0.7, 0.7, -0.7],\n",
       "  'betas': [0.0,\n",
       "   0.1,\n",
       "   0.2,\n",
       "   0.30000000000000004,\n",
       "   0.4,\n",
       "   0.5,\n",
       "   0.6000000000000001,\n",
       "   0.7000000000000001,\n",
       "   0.8,\n",
       "   0.9,\n",
       "   1.0],\n",
       "  'p_err': [<tf.Tensor: shape=(), dtype=float32, numpy=0.25>,\n",
       "   <tf.Tensor: shape=(), dtype=float32, numpy=0.29245716>,\n",
       "   <tf.Tensor: shape=(), dtype=float32, numpy=0.33240467>,\n",
       "   <tf.Tensor: shape=(), dtype=float32, numpy=0.36757863>,\n",
       "   <tf.Tensor: shape=(), dtype=float32, numpy=0.39617276>,\n",
       "   <tf.Tensor: shape=(), dtype=float32, numpy=0.41698986>,\n",
       "   <tf.Tensor: shape=(), dtype=float32, numpy=0.42951423>,\n",
       "   <tf.Tensor: shape=(), dtype=float32, numpy=0.4339024>,\n",
       "   <tf.Tensor: shape=(), dtype=float32, numpy=0.4308986>,\n",
       "   <tf.Tensor: shape=(), dtype=float32, numpy=0.421695>,\n",
       "   <tf.Tensor: shape=(), dtype=float32, numpy=0.40776086>]}]"
      ]
     },
     "execution_count": 16,
     "metadata": {},
     "output_type": "execute_result"
    }
   ],
   "source": [
    "CSD().execute(configuration=run_configuration)"
   ]
  },
  {
   "cell_type": "code",
   "execution_count": 17,
   "id": "5c6a1c52",
   "metadata": {},
   "outputs": [],
   "source": [
    "run_configuration = RunConfiguration({\n",
    "        'alphas': alphas,\n",
    "        'params': {\n",
    "            'betas': betas,\n",
    "        },\n",
    "        'backend': Backends.FOCK,\n",
    "        'number_qumodes': 1,\n",
    "        'number_layers': 1,\n",
    "        'measuring_type': MeasuringTypes.SAMPLING,\n",
    "        'shots': 100,\n",
    "        'codeword_size': 10,\n",
    "        'cutoff_dim': 2\n",
    "    })"
   ]
  },
  {
   "cell_type": "code",
   "execution_count": 18,
   "id": "6d8aadfc",
   "metadata": {},
   "outputs": [
    {
     "name": "stderr",
     "output_type": "stream",
     "text": [
      "[CSD] 0.0.1|DEBUG|2021-10-11 10:18:07]: Executing One Layer circuit with Backend: fock, codeword: [-0.7, 0.7, 0.7, 0.7, 0.7, -0.7, -0.7, -0.7, -0.7, -0.7] beta values: [0.0, 0.1, 0.2, 0.30000000000000004, 0.4, 0.5, 0.6000000000000001, 0.7000000000000001, 0.8, 0.9, 1.0] with measuring_type: sampling\n"
     ]
    },
    {
     "data": {
      "text/plain": [
       "[{'alpha': 0.7,\n",
       "  'codeword': [-0.7, 0.7, 0.7, 0.7, 0.7, -0.7, -0.7, -0.7, -0.7, -0.7],\n",
       "  'betas': [0.0,\n",
       "   0.1,\n",
       "   0.2,\n",
       "   0.30000000000000004,\n",
       "   0.4,\n",
       "   0.5,\n",
       "   0.6000000000000001,\n",
       "   0.7000000000000001,\n",
       "   0.8,\n",
       "   0.9,\n",
       "   1.0],\n",
       "  'p_err': [0.305,\n",
       "   0.35200000000000004,\n",
       "   0.392,\n",
       "   0.42960000000000004,\n",
       "   0.45380000000000004,\n",
       "   0.4688,\n",
       "   0.4838000000000001,\n",
       "   0.47400000000000003,\n",
       "   0.4578000000000001,\n",
       "   0.4366,\n",
       "   0.41100000000000003]}]"
      ]
     },
     "execution_count": 18,
     "metadata": {},
     "output_type": "execute_result"
    }
   ],
   "source": [
    "CSD().execute(configuration=run_configuration)"
   ]
  },
  {
   "cell_type": "code",
   "execution_count": 19,
   "id": "555b3b53",
   "metadata": {},
   "outputs": [],
   "source": [
    "run_configuration = RunConfiguration({\n",
    "        'alphas': alphas,\n",
    "        'params': {\n",
    "            'betas': betas,\n",
    "        },\n",
    "        'backend': Backends.TENSORFLOW,\n",
    "        'number_qumodes': 1,\n",
    "        'number_layers': 1,\n",
    "        'measuring_type': MeasuringTypes.SAMPLING,\n",
    "        'shots': 100,\n",
    "        'codeword_size': 10,\n",
    "        'cutoff_dim': 2\n",
    "    })"
   ]
  },
  {
   "cell_type": "code",
   "execution_count": 20,
   "id": "2ff0f65e",
   "metadata": {},
   "outputs": [
    {
     "name": "stderr",
     "output_type": "stream",
     "text": [
      "[CSD] 0.0.1|DEBUG|2021-10-11 10:19:01]: Executing One Layer circuit with Backend: tf, codeword: [0.7, -0.7, -0.7, 0.7, -0.7, 0.7, -0.7, -0.7, 0.7, 0.7] beta values: [0.0, 0.1, 0.2, 0.30000000000000004, 0.4, 0.5, 0.6000000000000001, 0.7000000000000001, 0.8, 0.9, 1.0] with measuring_type: sampling\n"
     ]
    },
    {
     "data": {
      "text/plain": [
       "[{'alpha': 0.7,\n",
       "  'codeword': [0.7, -0.7, -0.7, 0.7, -0.7, 0.7, -0.7, -0.7, 0.7, 0.7],\n",
       "  'betas': [0.0,\n",
       "   0.1,\n",
       "   0.2,\n",
       "   0.30000000000000004,\n",
       "   0.4,\n",
       "   0.5,\n",
       "   0.6000000000000001,\n",
       "   0.7000000000000001,\n",
       "   0.8,\n",
       "   0.9,\n",
       "   1.0],\n",
       "  'p_err': [0.2425,\n",
       "   0.30649999999999994,\n",
       "   0.326,\n",
       "   0.3785,\n",
       "   0.4040000000000001,\n",
       "   0.4245,\n",
       "   0.4415,\n",
       "   0.4374999999999999,\n",
       "   0.42699999999999994,\n",
       "   0.417,\n",
       "   0.4125]}]"
      ]
     },
     "execution_count": 20,
     "metadata": {},
     "output_type": "execute_result"
    }
   ],
   "source": [
    "CSD().execute(configuration=run_configuration)"
   ]
  },
  {
   "cell_type": "code",
   "execution_count": null,
   "id": "d624bf25",
   "metadata": {},
   "outputs": [],
   "source": []
  },
  {
   "cell_type": "code",
   "execution_count": null,
   "id": "435f75c8",
   "metadata": {},
   "outputs": [],
   "source": []
  },
  {
   "cell_type": "code",
   "execution_count": null,
   "id": "c0ac0c18",
   "metadata": {},
   "outputs": [],
   "source": []
  }
 ],
 "metadata": {
  "kernelspec": {
   "display_name": "Python 3",
   "language": "python",
   "name": "python3"
  },
  "language_info": {
   "codemirror_mode": {
    "name": "ipython",
    "version": 3
   },
   "file_extension": ".py",
   "mimetype": "text/x-python",
   "name": "python",
   "nbconvert_exporter": "python",
   "pygments_lexer": "ipython3",
   "version": "3.9.5"
  }
 },
 "nbformat": 4,
 "nbformat_minor": 5
}
