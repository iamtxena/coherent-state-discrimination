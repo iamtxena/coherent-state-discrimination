{
 "cells": [
  {
   "cell_type": "code",
   "execution_count": 1,
   "id": "636d9409",
   "metadata": {},
   "outputs": [],
   "source": [
    "from csd import CSD\n",
    "from csd.typings import CSDConfiguration, Backends"
   ]
  },
  {
   "cell_type": "code",
   "execution_count": 2,
   "id": "e2cb4081",
   "metadata": {},
   "outputs": [],
   "source": [
    "initial_configuration = CSDConfiguration({\n",
    "        'displacement_magnitude': 0.1,\n",
    "        'steps': 500,\n",
    "        'learning_rate': 0.01,\n",
    "        'batch_size': 10,\n",
    "        'threshold': 0.5 })"
   ]
  },
  {
   "cell_type": "code",
   "execution_count": 3,
   "id": "2be24c7b",
   "metadata": {},
   "outputs": [],
   "source": [
    "csd = CSD(csd_config=initial_configuration)"
   ]
  },
  {
   "cell_type": "code",
   "execution_count": 6,
   "id": "6e3f80aa",
   "metadata": {},
   "outputs": [],
   "source": [
    "result = csd.single_layer(backend=Backends.TENSORFLOW)"
   ]
  },
  {
   "cell_type": "code",
   "execution_count": 5,
   "id": "2cd86dc6",
   "metadata": {},
   "outputs": [
    {
     "data": {
      "text/plain": [
       "{'result': '<Result: shots=1, num_modes=1, contains state=True>',\n",
       " 'state': '<FockState: num_modes=1, cutoff=5, pure=True, hbar=2>',\n",
       " 'trace': 0.9999999999999998,\n",
       " 'density_matrix': array([[1.+0.j, 0.+0.j, 0.+0.j, 0.+0.j, 0.+0.j],\n",
       "        [0.+0.j, 0.+0.j, 0.+0.j, 0.+0.j, 0.+0.j],\n",
       "        [0.+0.j, 0.+0.j, 0.+0.j, 0.+0.j, 0.+0.j],\n",
       "        [0.+0.j, 0.+0.j, 0.+0.j, 0.+0.j, 0.+0.j],\n",
       "        [0.+0.j, 0.+0.j, 0.+0.j, 0.+0.j, 0.+0.j]]),\n",
       " 'dm_shape': (5, 5),\n",
       " 'samples': array([[0]]),\n",
       " 'first_sample': array([0]),\n",
       " 'fock_probability': 0.9999999999999998}"
      ]
     },
     "execution_count": 5,
     "metadata": {},
     "output_type": "execute_result"
    }
   ],
   "source": [
    "csd.show_result()"
   ]
  },
  {
   "cell_type": "code",
   "execution_count": 5,
   "id": "a9894701",
   "metadata": {},
   "outputs": [
    {
     "data": {
      "text/plain": [
       "False"
      ]
     },
     "execution_count": 5,
     "metadata": {},
     "output_type": "execute_result"
    }
   ],
   "source": [
    "result.state.fock_prob([0]) == 1"
   ]
  },
  {
   "cell_type": "code",
   "execution_count": 6,
   "id": "394c4636",
   "metadata": {},
   "outputs": [
    {
     "data": {
      "text/plain": [
       "0.9999999999999998"
      ]
     },
     "execution_count": 6,
     "metadata": {},
     "output_type": "execute_result"
    }
   ],
   "source": [
    "result.state.fock_prob([0])"
   ]
  },
  {
   "cell_type": "code",
   "execution_count": 7,
   "id": "735c3d87",
   "metadata": {},
   "outputs": [
    {
     "data": {
      "text/plain": [
       "['BOSONIC',\n",
       " 'FOCK',\n",
       " 'GAUSSIAN',\n",
       " 'TENSORFLOW',\n",
       " '__class__',\n",
       " '__doc__',\n",
       " '__members__',\n",
       " '__module__']"
      ]
     },
     "execution_count": 7,
     "metadata": {},
     "output_type": "execute_result"
    }
   ],
   "source": [
    "dir(Backends)"
   ]
  },
  {
   "cell_type": "code",
   "execution_count": 8,
   "id": "54bdf7ce",
   "metadata": {},
   "outputs": [
    {
     "name": "stdout",
     "output_type": "stream",
     "text": [
      "<FockState: num_modes=1, cutoff=5, pure=True, hbar=2>\n"
     ]
    }
   ],
   "source": [
    "print(result.state)"
   ]
  },
  {
   "cell_type": "code",
   "execution_count": 9,
   "id": "ddfb85c4",
   "metadata": {},
   "outputs": [],
   "source": [
    "state = result.state"
   ]
  },
  {
   "cell_type": "code",
   "execution_count": 10,
   "id": "92e9cc95",
   "metadata": {},
   "outputs": [
    {
     "data": {
      "text/plain": [
       "0.9999999999999998"
      ]
     },
     "execution_count": 10,
     "metadata": {},
     "output_type": "execute_result"
    }
   ],
   "source": [
    "state.trace()"
   ]
  },
  {
   "cell_type": "code",
   "execution_count": 11,
   "id": "46ea92cc",
   "metadata": {},
   "outputs": [
    {
     "data": {
      "text/plain": [
       "(5, 5)"
      ]
     },
     "execution_count": 11,
     "metadata": {},
     "output_type": "execute_result"
    }
   ],
   "source": [
    "state.dm().shape"
   ]
  },
  {
   "cell_type": "code",
   "execution_count": 12,
   "id": "c825b733",
   "metadata": {},
   "outputs": [
    {
     "data": {
      "text/plain": [
       "array([[0]])"
      ]
     },
     "execution_count": 12,
     "metadata": {},
     "output_type": "execute_result"
    }
   ],
   "source": [
    "result.samples"
   ]
  },
  {
   "cell_type": "code",
   "execution_count": 14,
   "id": "56760306",
   "metadata": {},
   "outputs": [
    {
     "data": {
      "text/plain": [
       "<Result: shots=1, num_modes=1, contains state=True>"
      ]
     },
     "execution_count": 14,
     "metadata": {},
     "output_type": "execute_result"
    }
   ],
   "source": [
    "result"
   ]
  },
  {
   "cell_type": "code",
   "execution_count": 15,
   "id": "8fcd7455",
   "metadata": {},
   "outputs": [
    {
     "data": {
      "text/plain": [
       "array([[1.+0.j, 0.+0.j, 0.+0.j, 0.+0.j, 0.+0.j],\n",
       "       [0.+0.j, 0.+0.j, 0.+0.j, 0.+0.j, 0.+0.j],\n",
       "       [0.+0.j, 0.+0.j, 0.+0.j, 0.+0.j, 0.+0.j],\n",
       "       [0.+0.j, 0.+0.j, 0.+0.j, 0.+0.j, 0.+0.j],\n",
       "       [0.+0.j, 0.+0.j, 0.+0.j, 0.+0.j, 0.+0.j]])"
      ]
     },
     "execution_count": 15,
     "metadata": {},
     "output_type": "execute_result"
    }
   ],
   "source": [
    "state.dm()"
   ]
  },
  {
   "cell_type": "code",
   "execution_count": 16,
   "id": "d3f61f19",
   "metadata": {},
   "outputs": [
    {
     "name": "stdout",
     "output_type": "stream",
     "text": [
      "<FockState: num_modes=1, cutoff=5, pure=True, hbar=2>\n"
     ]
    }
   ],
   "source": [
    "print (result.state)"
   ]
  },
  {
   "cell_type": "code",
   "execution_count": null,
   "id": "3401e827",
   "metadata": {},
   "outputs": [],
   "source": []
  }
 ],
 "metadata": {
  "kernelspec": {
   "display_name": "Python 3",
   "language": "python",
   "name": "python3"
  },
  "language_info": {
   "codemirror_mode": {
    "name": "ipython",
    "version": 3
   },
   "file_extension": ".py",
   "mimetype": "text/x-python",
   "name": "python",
   "nbconvert_exporter": "python",
   "pygments_lexer": "ipython3",
   "version": "3.9.5"
  }
 },
 "nbformat": 4,
 "nbformat_minor": 5
}
