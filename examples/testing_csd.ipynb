{
 "cells": [
  {
   "cell_type": "code",
   "execution_count": 1,
   "id": "636d9409",
   "metadata": {},
   "outputs": [],
   "source": [
    "from csd import CSD\n",
    "from csd.typings import CSDConfiguration, Backends, RunConfiguration, MeasuringTypes\n",
    "import numpy as np"
   ]
  },
  {
   "cell_type": "code",
   "execution_count": 2,
   "id": "804330ad",
   "metadata": {},
   "outputs": [],
   "source": [
    "valid_backends = [\n",
    "    Backends.FOCK,\n",
    "    Backends.GAUSSIAN,\n",
    "    Backends.TENSORFLOW,\n",
    "]\n",
    "\n",
    "# alphas = np.arange(0.4, 1.4, 0.1)\n",
    "alphas = [0.7]\n",
    "betas = np.arange(0.0, 1.0, 0.1)"
   ]
  },
  {
   "cell_type": "code",
   "execution_count": 3,
   "id": "fcd7caf3",
   "metadata": {},
   "outputs": [],
   "source": [
    "run_configuration = RunConfiguration({\n",
    "        'alpha': 0.7,\n",
    "        'displacement_magnitude': 0.0,\n",
    "        'backend': Backends.FOCK,\n",
    "        'number_qumodes': 1,\n",
    "        'number_layers': 1,\n",
    "        'measuring_type': MeasuringTypes.PROBABILITIES\n",
    "    })"
   ]
  },
  {
   "cell_type": "code",
   "execution_count": 4,
   "id": "a7f9edcc",
   "metadata": {},
   "outputs": [
    {
     "name": "stderr",
     "output_type": "stream",
     "text": [
      "[CSD] 0.0.1|DEBUG|2021-10-07 18:40:31]: Executing One Layer circuit with Backend: fock, alpha: 0.7 beta: 0.0 with measuring_type: probabilities\n"
     ]
    },
    {
     "data": {
      "text/plain": [
       "0.612626394184416"
      ]
     },
     "execution_count": 4,
     "metadata": {},
     "output_type": "execute_result"
    }
   ],
   "source": [
    "CSD().execute(configuration=run_configuration)"
   ]
  },
  {
   "cell_type": "code",
   "execution_count": 6,
   "id": "887d4567",
   "metadata": {},
   "outputs": [
    {
     "name": "stderr",
     "output_type": "stream",
     "text": [
      "[CSD] 0.0.1|DEBUG|2021-10-07 18:06:56]: Executing One Layer circuit with Backend: fock, alpha: 0.7 beta: 0.0 with measuring_type: probabilities\n",
      "[CSD] 0.0.1|DEBUG|2021-10-07 18:06:56]: Executing One Layer circuit with Backend: fock, alpha: 0.7 beta: 0.1 with measuring_type: probabilities\n",
      "[CSD] 0.0.1|DEBUG|2021-10-07 18:06:56]: Executing One Layer circuit with Backend: fock, alpha: 0.7 beta: 0.2 with measuring_type: probabilities\n",
      "[CSD] 0.0.1|DEBUG|2021-10-07 18:06:56]: Executing One Layer circuit with Backend: fock, alpha: 0.7 beta: 0.30000000000000004 with measuring_type: probabilities\n",
      "[CSD] 0.0.1|DEBUG|2021-10-07 18:06:56]: Executing One Layer circuit with Backend: fock, alpha: 0.7 beta: 0.4 with measuring_type: probabilities\n",
      "[CSD] 0.0.1|DEBUG|2021-10-07 18:06:56]: Executing One Layer circuit with Backend: fock, alpha: 0.7 beta: 0.5 with measuring_type: probabilities\n",
      "[CSD] 0.0.1|DEBUG|2021-10-07 18:06:56]: Executing One Layer circuit with Backend: fock, alpha: 0.7 beta: 0.6000000000000001 with measuring_type: probabilities\n",
      "[CSD] 0.0.1|DEBUG|2021-10-07 18:06:56]: Executing One Layer circuit with Backend: fock, alpha: 0.7 beta: 0.7000000000000001 with measuring_type: probabilities\n",
      "[CSD] 0.0.1|DEBUG|2021-10-07 18:06:56]: Executing One Layer circuit with Backend: fock, alpha: 0.7 beta: 0.8 with measuring_type: probabilities\n",
      "[CSD] 0.0.1|DEBUG|2021-10-07 18:06:56]: Executing One Layer circuit with Backend: fock, alpha: 0.7 beta: 0.9 with measuring_type: probabilities\n"
     ]
    },
    {
     "data": {
      "text/plain": [
       "[0.612626394184416,\n",
       " 0.5272924240448807,\n",
       " 0.4448580664333042,\n",
       " 0.3678794443319496,\n",
       " 0.29819729983859644,\n",
       " 0.23692784090868343,\n",
       " 0.1845197680245963,\n",
       " 0.14085900379873356,\n",
       " 0.10540040587080655,\n",
       " 0.07730684234519926]"
      ]
     },
     "execution_count": 6,
     "metadata": {},
     "output_type": "execute_result"
    }
   ],
   "source": [
    "[CSD().execute(configuration = RunConfiguration({\n",
    "        'alpha': alpha,\n",
    "        'displacement_magnitude': beta,\n",
    "        'backend': Backends.FOCK,\n",
    "        'number_qumodes': 1,\n",
    "        'number_layers': 1,\n",
    "        'measuring_type': MeasuringTypes.PROBABILITIES\n",
    "    })) for alpha in alphas for beta in betas]"
   ]
  },
  {
   "cell_type": "code",
   "execution_count": 7,
   "id": "93f1c3aa",
   "metadata": {},
   "outputs": [
    {
     "name": "stderr",
     "output_type": "stream",
     "text": [
      "[CSD] 0.0.1|DEBUG|2021-10-07 18:07:27]: Executing One Layer circuit with Backend: gaussian, alpha: 0.7 beta: 0.0 with measuring_type: probabilities\n",
      "[CSD] 0.0.1|DEBUG|2021-10-07 18:07:27]: Executing One Layer circuit with Backend: gaussian, alpha: 0.7 beta: 0.1 with measuring_type: probabilities\n",
      "[CSD] 0.0.1|DEBUG|2021-10-07 18:07:27]: Executing One Layer circuit with Backend: gaussian, alpha: 0.7 beta: 0.2 with measuring_type: probabilities\n",
      "[CSD] 0.0.1|DEBUG|2021-10-07 18:07:27]: Executing One Layer circuit with Backend: gaussian, alpha: 0.7 beta: 0.30000000000000004 with measuring_type: probabilities\n",
      "[CSD] 0.0.1|DEBUG|2021-10-07 18:07:27]: Executing One Layer circuit with Backend: gaussian, alpha: 0.7 beta: 0.4 with measuring_type: probabilities\n",
      "[CSD] 0.0.1|DEBUG|2021-10-07 18:07:27]: Executing One Layer circuit with Backend: gaussian, alpha: 0.7 beta: 0.5 with measuring_type: probabilities\n",
      "[CSD] 0.0.1|DEBUG|2021-10-07 18:07:27]: Executing One Layer circuit with Backend: gaussian, alpha: 0.7 beta: 0.6000000000000001 with measuring_type: probabilities\n",
      "[CSD] 0.0.1|DEBUG|2021-10-07 18:07:27]: Executing One Layer circuit with Backend: gaussian, alpha: 0.7 beta: 0.7000000000000001 with measuring_type: probabilities\n",
      "[CSD] 0.0.1|DEBUG|2021-10-07 18:07:27]: Executing One Layer circuit with Backend: gaussian, alpha: 0.7 beta: 0.8 with measuring_type: probabilities\n",
      "[CSD] 0.0.1|DEBUG|2021-10-07 18:07:27]: Executing One Layer circuit with Backend: gaussian, alpha: 0.7 beta: 0.9 with measuring_type: probabilities\n"
     ]
    },
    {
     "data": {
      "text/plain": [
       "[0.612626394184416,\n",
       " 0.5272924240430485,\n",
       " 0.4448580662229413,\n",
       " 0.36787944117144233,\n",
       " 0.2981972794298874,\n",
       " 0.2369277586821218,\n",
       " 0.1845195239929892,\n",
       " 0.14085842092104503,\n",
       " 0.10539922456186435,\n",
       " 0.07730474044329971]"
      ]
     },
     "execution_count": 7,
     "metadata": {},
     "output_type": "execute_result"
    }
   ],
   "source": [
    "[CSD().execute(configuration = RunConfiguration({\n",
    "        'alpha': alpha,\n",
    "        'displacement_magnitude': beta,\n",
    "        'backend': Backends.GAUSSIAN,\n",
    "        'number_qumodes': 1,\n",
    "        'number_layers': 1,\n",
    "        'measuring_type': MeasuringTypes.PROBABILITIES\n",
    "    })) for alpha in alphas for beta in betas]"
   ]
  },
  {
   "cell_type": "code",
   "execution_count": 8,
   "id": "e03d9502",
   "metadata": {},
   "outputs": [
    {
     "name": "stderr",
     "output_type": "stream",
     "text": [
      "[CSD] 0.0.1|DEBUG|2021-10-07 18:07:40]: Executing One Layer circuit with Backend: tf, alpha: 0.7 beta: 0.0 with measuring_type: probabilities\n",
      "[CSD] 0.0.1|DEBUG|2021-10-07 18:07:40]: Executing One Layer circuit with Backend: tf, alpha: 0.7 beta: 0.1 with measuring_type: probabilities\n",
      "[CSD] 0.0.1|DEBUG|2021-10-07 18:07:40]: Executing One Layer circuit with Backend: tf, alpha: 0.7 beta: 0.2 with measuring_type: probabilities\n",
      "[CSD] 0.0.1|DEBUG|2021-10-07 18:07:40]: Executing One Layer circuit with Backend: tf, alpha: 0.7 beta: 0.30000000000000004 with measuring_type: probabilities\n",
      "[CSD] 0.0.1|DEBUG|2021-10-07 18:07:40]: Executing One Layer circuit with Backend: tf, alpha: 0.7 beta: 0.4 with measuring_type: probabilities\n",
      "[CSD] 0.0.1|DEBUG|2021-10-07 18:07:40]: Executing One Layer circuit with Backend: tf, alpha: 0.7 beta: 0.5 with measuring_type: probabilities\n",
      "[CSD] 0.0.1|DEBUG|2021-10-07 18:07:40]: Executing One Layer circuit with Backend: tf, alpha: 0.7 beta: 0.6000000000000001 with measuring_type: probabilities\n",
      "[CSD] 0.0.1|DEBUG|2021-10-07 18:07:40]: Executing One Layer circuit with Backend: tf, alpha: 0.7 beta: 0.7000000000000001 with measuring_type: probabilities\n",
      "[CSD] 0.0.1|DEBUG|2021-10-07 18:07:40]: Executing One Layer circuit with Backend: tf, alpha: 0.7 beta: 0.8 with measuring_type: probabilities\n",
      "[CSD] 0.0.1|DEBUG|2021-10-07 18:07:40]: Executing One Layer circuit with Backend: tf, alpha: 0.7 beta: 0.9 with measuring_type: probabilities\n"
     ]
    },
    {
     "data": {
      "text/plain": [
       "[<tf.Tensor: shape=(), dtype=float32, numpy=0.6126264>,\n",
       " <tf.Tensor: shape=(), dtype=float32, numpy=0.52729243>,\n",
       " <tf.Tensor: shape=(), dtype=float32, numpy=0.44485798>,\n",
       " <tf.Tensor: shape=(), dtype=float32, numpy=0.3678793>,\n",
       " <tf.Tensor: shape=(), dtype=float32, numpy=0.2981973>,\n",
       " <tf.Tensor: shape=(), dtype=float32, numpy=0.23692787>,\n",
       " <tf.Tensor: shape=(), dtype=float32, numpy=0.18451975>,\n",
       " <tf.Tensor: shape=(), dtype=float32, numpy=0.140859>,\n",
       " <tf.Tensor: shape=(), dtype=float32, numpy=0.105400406>,\n",
       " <tf.Tensor: shape=(), dtype=float32, numpy=0.07730688>]"
      ]
     },
     "execution_count": 8,
     "metadata": {},
     "output_type": "execute_result"
    }
   ],
   "source": [
    "[CSD().execute(configuration = RunConfiguration({\n",
    "        'alpha': alpha,\n",
    "        'displacement_magnitude': beta,\n",
    "        'backend': Backends.TENSORFLOW,\n",
    "        'number_qumodes': 1,\n",
    "        'number_layers': 1,\n",
    "        'measuring_type': MeasuringTypes.PROBABILITIES\n",
    "    })) for alpha in alphas for beta in betas]"
   ]
  },
  {
   "cell_type": "code",
   "execution_count": 13,
   "id": "807cf011",
   "metadata": {},
   "outputs": [],
   "source": [
    "run_configuration = RunConfiguration({\n",
    "        'alpha': 0.7,\n",
    "        'displacement_magnitude': 0,\n",
    "        'backend': Backends.TENSORFLOW,\n",
    "        'number_qumodes': 1,\n",
    "        'number_layers': 1,\n",
    "        'measuring_type': MeasuringTypes.SAMPLING,\n",
    "        'shots': 1000\n",
    "    })"
   ]
  },
  {
   "cell_type": "code",
   "execution_count": 14,
   "id": "e0acf2c7",
   "metadata": {},
   "outputs": [
    {
     "name": "stderr",
     "output_type": "stream",
     "text": [
      "[CSD] 0.0.1|DEBUG|2021-10-07 18:41:36]: Executing One Layer circuit with Backend: tf, alpha: 0.7 beta: 0 with measuring_type: sampling\n"
     ]
    },
    {
     "data": {
      "text/plain": [
       "0.626"
      ]
     },
     "execution_count": 14,
     "metadata": {},
     "output_type": "execute_result"
    }
   ],
   "source": [
    "CSD().execute(configuration=run_configuration)"
   ]
  },
  {
   "cell_type": "code",
   "execution_count": 15,
   "id": "e184ab52",
   "metadata": {},
   "outputs": [
    {
     "name": "stderr",
     "output_type": "stream",
     "text": [
      "[CSD] 0.0.1|DEBUG|2021-10-07 18:41:43]: Executing One Layer circuit with Backend: fock, alpha: 0.7 beta: 0.0 with measuring_type: sampling\n",
      "[CSD] 0.0.1|DEBUG|2021-10-07 18:41:44]: Executing One Layer circuit with Backend: fock, alpha: 0.7 beta: 0.1 with measuring_type: sampling\n",
      "[CSD] 0.0.1|DEBUG|2021-10-07 18:41:45]: Executing One Layer circuit with Backend: fock, alpha: 0.7 beta: 0.2 with measuring_type: sampling\n",
      "[CSD] 0.0.1|DEBUG|2021-10-07 18:41:45]: Executing One Layer circuit with Backend: fock, alpha: 0.7 beta: 0.30000000000000004 with measuring_type: sampling\n",
      "[CSD] 0.0.1|DEBUG|2021-10-07 18:41:46]: Executing One Layer circuit with Backend: fock, alpha: 0.7 beta: 0.4 with measuring_type: sampling\n",
      "[CSD] 0.0.1|DEBUG|2021-10-07 18:41:47]: Executing One Layer circuit with Backend: fock, alpha: 0.7 beta: 0.5 with measuring_type: sampling\n",
      "[CSD] 0.0.1|DEBUG|2021-10-07 18:41:47]: Executing One Layer circuit with Backend: fock, alpha: 0.7 beta: 0.6000000000000001 with measuring_type: sampling\n",
      "[CSD] 0.0.1|DEBUG|2021-10-07 18:41:48]: Executing One Layer circuit with Backend: fock, alpha: 0.7 beta: 0.7000000000000001 with measuring_type: sampling\n",
      "[CSD] 0.0.1|DEBUG|2021-10-07 18:41:49]: Executing One Layer circuit with Backend: fock, alpha: 0.7 beta: 0.8 with measuring_type: sampling\n",
      "[CSD] 0.0.1|DEBUG|2021-10-07 18:41:49]: Executing One Layer circuit with Backend: fock, alpha: 0.7 beta: 0.9 with measuring_type: sampling\n"
     ]
    },
    {
     "data": {
      "text/plain": [
       "[0.596, 0.517, 0.441, 0.375, 0.301, 0.227, 0.175, 0.159, 0.106, 0.081]"
      ]
     },
     "execution_count": 15,
     "metadata": {},
     "output_type": "execute_result"
    }
   ],
   "source": [
    "[CSD().execute(configuration = RunConfiguration({\n",
    "        'alpha': alpha,\n",
    "        'displacement_magnitude': beta,\n",
    "        'backend': Backends.FOCK,\n",
    "        'number_qumodes': 1,\n",
    "        'number_layers': 1,\n",
    "        'measuring_type': MeasuringTypes.SAMPLING,\n",
    "        'shots': 1000\n",
    "    })) for alpha in alphas for beta in betas]"
   ]
  },
  {
   "cell_type": "code",
   "execution_count": 17,
   "id": "56b7bdca",
   "metadata": {},
   "outputs": [
    {
     "name": "stderr",
     "output_type": "stream",
     "text": [
      "[CSD] 0.0.1|DEBUG|2021-10-07 18:42:12]: Executing One Layer circuit with Backend: tf, alpha: 0.7 beta: 0.0 with measuring_type: sampling\n",
      "[CSD] 0.0.1|DEBUG|2021-10-07 18:42:14]: Executing One Layer circuit with Backend: tf, alpha: 0.7 beta: 0.1 with measuring_type: sampling\n",
      "[CSD] 0.0.1|DEBUG|2021-10-07 18:42:17]: Executing One Layer circuit with Backend: tf, alpha: 0.7 beta: 0.2 with measuring_type: sampling\n",
      "[CSD] 0.0.1|DEBUG|2021-10-07 18:42:19]: Executing One Layer circuit with Backend: tf, alpha: 0.7 beta: 0.30000000000000004 with measuring_type: sampling\n",
      "[CSD] 0.0.1|DEBUG|2021-10-07 18:42:21]: Executing One Layer circuit with Backend: tf, alpha: 0.7 beta: 0.4 with measuring_type: sampling\n",
      "[CSD] 0.0.1|DEBUG|2021-10-07 18:42:23]: Executing One Layer circuit with Backend: tf, alpha: 0.7 beta: 0.5 with measuring_type: sampling\n",
      "[CSD] 0.0.1|DEBUG|2021-10-07 18:42:26]: Executing One Layer circuit with Backend: tf, alpha: 0.7 beta: 0.6000000000000001 with measuring_type: sampling\n",
      "[CSD] 0.0.1|DEBUG|2021-10-07 18:42:28]: Executing One Layer circuit with Backend: tf, alpha: 0.7 beta: 0.7000000000000001 with measuring_type: sampling\n",
      "[CSD] 0.0.1|DEBUG|2021-10-07 18:42:30]: Executing One Layer circuit with Backend: tf, alpha: 0.7 beta: 0.8 with measuring_type: sampling\n",
      "[CSD] 0.0.1|DEBUG|2021-10-07 18:42:32]: Executing One Layer circuit with Backend: tf, alpha: 0.7 beta: 0.9 with measuring_type: sampling\n"
     ]
    },
    {
     "data": {
      "text/plain": [
       "[0.622, 0.535, 0.442, 0.362, 0.259, 0.238, 0.178, 0.132, 0.12, 0.086]"
      ]
     },
     "execution_count": 17,
     "metadata": {},
     "output_type": "execute_result"
    }
   ],
   "source": [
    "[CSD().execute(configuration = RunConfiguration({\n",
    "        'alpha': alpha,\n",
    "        'displacement_magnitude': beta,\n",
    "        'backend': Backends.TENSORFLOW,\n",
    "        'number_qumodes': 1,\n",
    "        'number_layers': 1,\n",
    "        'measuring_type': MeasuringTypes.SAMPLING,\n",
    "        'shots': 1000\n",
    "    })) for alpha in alphas for beta in betas]"
   ]
  },
  {
   "cell_type": "code",
   "execution_count": null,
   "id": "c0ac0c18",
   "metadata": {},
   "outputs": [],
   "source": []
  }
 ],
 "metadata": {
  "kernelspec": {
   "display_name": "Python 3",
   "language": "python",
   "name": "python3"
  },
  "language_info": {
   "codemirror_mode": {
    "name": "ipython",
    "version": 3
   },
   "file_extension": ".py",
   "mimetype": "text/x-python",
   "name": "python",
   "nbconvert_exporter": "python",
   "pygments_lexer": "ipython3",
   "version": "3.9.5"
  }
 },
 "nbformat": 4,
 "nbformat_minor": 5
}
