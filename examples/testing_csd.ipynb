{
 "cells": [
  {
   "cell_type": "code",
   "execution_count": 1,
   "id": "636d9409",
   "metadata": {},
   "outputs": [],
   "source": [
    "from csd import CSD\n",
    "from csd.typings import CSDConfiguration, Backends, RunConfiguration, MeasuringTypes\n",
    "import numpy as np"
   ]
  },
  {
   "cell_type": "code",
   "execution_count": 2,
   "id": "804330ad",
   "metadata": {},
   "outputs": [],
   "source": [
    "valid_backends = [\n",
    "    Backends.FOCK,\n",
    "    Backends.GAUSSIAN,\n",
    "    Backends.TENSORFLOW,\n",
    "]\n",
    "\n",
    "# alphas = np.arange(0.4, 1.4, 0.1)\n",
    "alphas = [0.7]\n",
    "betas = np.arange(0.0, 1.1, 0.1)"
   ]
  },
  {
   "cell_type": "code",
   "execution_count": 9,
   "id": "fcd7caf3",
   "metadata": {},
   "outputs": [],
   "source": [
    "run_configuration = RunConfiguration({\n",
    "        'alpha': 0.7,\n",
    "        'displacement_magnitude': 0.2,\n",
    "        'backend': Backends.FOCK,\n",
    "        'number_qumodes': 1,\n",
    "        'number_layers': 1,\n",
    "        'measuring_type': MeasuringTypes.PROBABILITIES,\n",
    "        'codeword_size': 100,\n",
    "        'cutoff_dim': 7\n",
    "    })"
   ]
  },
  {
   "cell_type": "code",
   "execution_count": 10,
   "id": "a7f9edcc",
   "metadata": {},
   "outputs": [
    {
     "name": "stderr",
     "output_type": "stream",
     "text": [
      "[CSD] 0.0.1|DEBUG|2021-10-10 12:13:27]: Executing One Layer circuit with Backend: fock, codeword: [-0.7, 0.7, -0.7, -0.7, 0.7, 0.7, -0.7, -0.7, 0.7, 0.7, -0.7, 0.7, 0.7, -0.7, 0.7, -0.7, -0.7, 0.7, -0.7, -0.7, -0.7, 0.7, -0.7, -0.7, 0.7, 0.7, -0.7, -0.7, -0.7, -0.7, -0.7, 0.7, 0.7, -0.7, 0.7, 0.7, 0.7, 0.7, -0.7, -0.7, -0.7, 0.7, 0.7, 0.7, -0.7, 0.7, 0.7, -0.7, -0.7, -0.7, -0.7, -0.7, -0.7, 0.7, -0.7, 0.7, 0.7, 0.7, -0.7, 0.7, -0.7, 0.7, 0.7, -0.7, -0.7, 0.7, -0.7, -0.7, -0.7, -0.7, -0.7, 0.7, 0.7, 0.7, -0.7, -0.7, -0.7, 0.7, -0.7, 0.7, -0.7, -0.7, -0.7, 0.7, 0.7, -0.7, 0.7, -0.7, 0.7, -0.7, -0.7, 0.7, -0.7, 0.7, -0.7, 0.7, 0.7, -0.7, -0.7, 0.7] beta: 0.2 with measuring_type: probabilities\n"
     ]
    },
    {
     "data": {
      "text/plain": [
       "0.5128526560425721"
      ]
     },
     "execution_count": 10,
     "metadata": {},
     "output_type": "execute_result"
    }
   ],
   "source": [
    "CSD().execute(configuration=run_configuration)"
   ]
  },
  {
   "cell_type": "code",
   "execution_count": 11,
   "id": "4bb4c04b",
   "metadata": {},
   "outputs": [
    {
     "name": "stderr",
     "output_type": "stream",
     "text": [
      "[CSD] 0.0.1|DEBUG|2021-10-10 12:13:28]: Executing One Layer circuit with Backend: fock, codeword: [0.7, -0.7, 0.7, 0.7, 0.7, -0.7, 0.7, -0.7, -0.7, 0.7, -0.7, -0.7, 0.7, -0.7, 0.7, 0.7, -0.7, 0.7, 0.7, 0.7, -0.7, -0.7, 0.7, 0.7, -0.7, 0.7, 0.7, -0.7, 0.7, -0.7, -0.7, -0.7, -0.7, 0.7, -0.7, 0.7, -0.7, 0.7, 0.7, 0.7, -0.7, 0.7, 0.7, 0.7, -0.7, -0.7, -0.7, -0.7, -0.7, 0.7, -0.7, -0.7, -0.7, 0.7, -0.7, -0.7, -0.7, -0.7, 0.7, -0.7, 0.7, -0.7, 0.7, 0.7, -0.7, -0.7, -0.7, -0.7, 0.7, 0.7, -0.7, 0.7, 0.7, -0.7, 0.7, 0.7, 0.7, 0.7, 0.7, -0.7, -0.7, 0.7, 0.7, -0.7, 0.7, -0.7, 0.7, 0.7, -0.7, -0.7, 0.7, 0.7, -0.7, 0.7, -0.7, -0.7, -0.7, -0.7, -0.7, 0.7] beta: 0.2 with measuring_type: probabilities\n"
     ]
    },
    {
     "data": {
      "text/plain": [
       "0.5023033770354342"
      ]
     },
     "execution_count": 11,
     "metadata": {},
     "output_type": "execute_result"
    }
   ],
   "source": [
    "CSD().execute(configuration=run_configuration)"
   ]
  },
  {
   "cell_type": "code",
   "execution_count": null,
   "id": "792dbeb2",
   "metadata": {},
   "outputs": [],
   "source": []
  },
  {
   "cell_type": "code",
   "execution_count": null,
   "id": "6a0a9e0d",
   "metadata": {},
   "outputs": [],
   "source": []
  },
  {
   "cell_type": "code",
   "execution_count": null,
   "id": "ba05a06d",
   "metadata": {},
   "outputs": [],
   "source": []
  },
  {
   "cell_type": "code",
   "execution_count": 12,
   "id": "887d4567",
   "metadata": {},
   "outputs": [
    {
     "name": "stderr",
     "output_type": "stream",
     "text": [
      "[CSD] 0.0.1|DEBUG|2021-10-10 12:13:44]: Executing One Layer circuit with Backend: fock, codeword: [0.7, 0.7, -0.7, -0.7, -0.7, -0.7, 0.7, -0.7, 0.7, 0.7, 0.7, 0.7, -0.7, 0.7, -0.7, -0.7, -0.7, -0.7, -0.7, 0.7, -0.7, -0.7, -0.7, -0.7, -0.7, 0.7, -0.7, 0.7, -0.7, 0.7, 0.7, 0.7, -0.7, -0.7, -0.7, -0.7, 0.7, -0.7, -0.7, -0.7, -0.7, -0.7, 0.7, 0.7, -0.7, 0.7, -0.7, 0.7, 0.7, 0.7, 0.7, 0.7, 0.7, -0.7, 0.7, 0.7, -0.7, 0.7, 0.7, -0.7, -0.7, -0.7, 0.7, -0.7, 0.7, -0.7, 0.7, 0.7, -0.7, 0.7, 0.7, -0.7, 0.7, 0.7, -0.7, 0.7, -0.7, 0.7, -0.7, -0.7, -0.7, 0.7, 0.7, 0.7, -0.7, -0.7, 0.7, -0.7, 0.7, 0.7, -0.7, -0.7, 0.7, -0.7, 0.7, -0.7, -0.7, 0.7, -0.7, 0.7] beta: 0.0 with measuring_type: probabilities\n",
      "[CSD] 0.0.1|DEBUG|2021-10-10 12:13:44]: Executing One Layer circuit with Backend: fock, codeword: [0.7, -0.7, -0.7, 0.7, 0.7, 0.7, 0.7, 0.7, -0.7, -0.7, 0.7, 0.7, -0.7, -0.7, 0.7, -0.7, 0.7, -0.7, 0.7, 0.7, 0.7, -0.7, -0.7, 0.7, 0.7, -0.7, -0.7, 0.7, -0.7, -0.7, 0.7, -0.7, -0.7, 0.7, -0.7, 0.7, -0.7, 0.7, -0.7, -0.7, -0.7, 0.7, -0.7, -0.7, -0.7, -0.7, 0.7, 0.7, 0.7, 0.7, 0.7, 0.7, 0.7, -0.7, 0.7, -0.7, -0.7, 0.7, -0.7, -0.7, 0.7, -0.7, 0.7, -0.7, -0.7, 0.7, 0.7, 0.7, 0.7, -0.7, 0.7, 0.7, 0.7, -0.7, -0.7, 0.7, 0.7, 0.7, 0.7, 0.7, -0.7, -0.7, 0.7, -0.7, -0.7, -0.7, -0.7, -0.7, 0.7, 0.7, 0.7, -0.7, -0.7, 0.7, 0.7, 0.7, -0.7, -0.7, -0.7, 0.7] beta: 0.1 with measuring_type: probabilities\n",
      "[CSD] 0.0.1|DEBUG|2021-10-10 12:13:44]: Executing One Layer circuit with Backend: fock, codeword: [-0.7, 0.7, 0.7, 0.7, -0.7, 0.7, -0.7, -0.7, -0.7, 0.7, -0.7, -0.7, -0.7, -0.7, -0.7, 0.7, 0.7, 0.7, 0.7, 0.7, 0.7, -0.7, -0.7, -0.7, -0.7, 0.7, -0.7, 0.7, -0.7, 0.7, -0.7, -0.7, -0.7, 0.7, -0.7, -0.7, -0.7, -0.7, -0.7, 0.7, 0.7, 0.7, -0.7, 0.7, 0.7, 0.7, -0.7, 0.7, -0.7, -0.7, 0.7, -0.7, -0.7, -0.7, -0.7, -0.7, -0.7, 0.7, 0.7, -0.7, 0.7, -0.7, 0.7, 0.7, 0.7, -0.7, 0.7, -0.7, -0.7, -0.7, -0.7, -0.7, -0.7, -0.7, 0.7, 0.7, 0.7, -0.7, 0.7, 0.7, 0.7, 0.7, 0.7, 0.7, 0.7, 0.7, -0.7, -0.7, 0.7, -0.7, -0.7, -0.7, 0.7, 0.7, 0.7, -0.7, -0.7, 0.7, 0.7, 0.7] beta: 0.2 with measuring_type: probabilities\n",
      "[CSD] 0.0.1|DEBUG|2021-10-10 12:13:44]: Executing One Layer circuit with Backend: fock, codeword: [-0.7, -0.7, 0.7, -0.7, 0.7, 0.7, -0.7, 0.7, 0.7, 0.7, 0.7, -0.7, -0.7, 0.7, 0.7, -0.7, 0.7, 0.7, -0.7, -0.7, 0.7, 0.7, 0.7, -0.7, 0.7, 0.7, -0.7, -0.7, -0.7, -0.7, -0.7, -0.7, -0.7, 0.7, -0.7, 0.7, -0.7, -0.7, -0.7, -0.7, -0.7, -0.7, 0.7, 0.7, 0.7, -0.7, -0.7, -0.7, 0.7, 0.7, 0.7, 0.7, 0.7, -0.7, 0.7, 0.7, -0.7, -0.7, -0.7, -0.7, 0.7, -0.7, -0.7, 0.7, -0.7, 0.7, 0.7, 0.7, -0.7, 0.7, 0.7, -0.7, 0.7, 0.7, 0.7, 0.7, -0.7, -0.7, -0.7, 0.7, 0.7, -0.7, 0.7, -0.7, -0.7, 0.7, -0.7, 0.7, 0.7, 0.7, -0.7, 0.7, 0.7, -0.7, 0.7, -0.7, -0.7, 0.7, -0.7, -0.7] beta: 0.30000000000000004 with measuring_type: probabilities\n",
      "[CSD] 0.0.1|DEBUG|2021-10-10 12:13:44]: Executing One Layer circuit with Backend: fock, codeword: [0.7, 0.7, 0.7, -0.7, -0.7, 0.7, 0.7, 0.7, 0.7, 0.7, 0.7, -0.7, 0.7, -0.7, -0.7, -0.7, 0.7, -0.7, -0.7, -0.7, 0.7, -0.7, 0.7, 0.7, 0.7, 0.7, -0.7, -0.7, 0.7, 0.7, -0.7, 0.7, -0.7, 0.7, -0.7, -0.7, -0.7, 0.7, -0.7, -0.7, -0.7, 0.7, -0.7, -0.7, 0.7, -0.7, 0.7, -0.7, -0.7, -0.7, 0.7, -0.7, 0.7, -0.7, 0.7, 0.7, -0.7, -0.7, -0.7, -0.7, 0.7, 0.7, 0.7, -0.7, -0.7, -0.7, -0.7, 0.7, -0.7, 0.7, -0.7, 0.7, 0.7, -0.7, -0.7, 0.7, 0.7, -0.7, -0.7, -0.7, 0.7, 0.7, 0.7, 0.7, -0.7, -0.7, 0.7, 0.7, -0.7, -0.7, -0.7, 0.7, 0.7, -0.7, 0.7, -0.7, 0.7, 0.7, -0.7, -0.7] beta: 0.4 with measuring_type: probabilities\n",
      "[CSD] 0.0.1|DEBUG|2021-10-10 12:13:44]: Executing One Layer circuit with Backend: fock, codeword: [0.7, -0.7, 0.7, 0.7, 0.7, -0.7, 0.7, 0.7, 0.7, -0.7, -0.7, -0.7, -0.7, -0.7, 0.7, 0.7, -0.7, 0.7, -0.7, 0.7, 0.7, -0.7, 0.7, -0.7, 0.7, 0.7, 0.7, 0.7, 0.7, -0.7, 0.7, 0.7, 0.7, 0.7, -0.7, -0.7, -0.7, 0.7, 0.7, 0.7, 0.7, 0.7, -0.7, 0.7, 0.7, -0.7, -0.7, 0.7, 0.7, -0.7, -0.7, -0.7, -0.7, 0.7, 0.7, -0.7, 0.7, 0.7, -0.7, -0.7, -0.7, 0.7, -0.7, 0.7, -0.7, -0.7, -0.7, 0.7, 0.7, -0.7, 0.7, 0.7, -0.7, -0.7, 0.7, -0.7, 0.7, -0.7, 0.7, 0.7, -0.7, -0.7, 0.7, -0.7, 0.7, 0.7, 0.7, 0.7, -0.7, -0.7, -0.7, 0.7, -0.7, 0.7, -0.7, -0.7, -0.7, 0.7, 0.7, 0.7] beta: 0.5 with measuring_type: probabilities\n",
      "[CSD] 0.0.1|DEBUG|2021-10-10 12:13:44]: Executing One Layer circuit with Backend: fock, codeword: [0.7, 0.7, 0.7, -0.7, -0.7, 0.7, 0.7, 0.7, 0.7, 0.7, -0.7, 0.7, 0.7, 0.7, -0.7, 0.7, -0.7, -0.7, -0.7, -0.7, 0.7, 0.7, 0.7, -0.7, -0.7, 0.7, 0.7, -0.7, 0.7, 0.7, -0.7, -0.7, 0.7, 0.7, 0.7, 0.7, -0.7, -0.7, -0.7, -0.7, 0.7, -0.7, 0.7, 0.7, -0.7, 0.7, 0.7, 0.7, 0.7, 0.7, 0.7, -0.7, 0.7, -0.7, -0.7, 0.7, -0.7, -0.7, -0.7, -0.7, -0.7, 0.7, 0.7, -0.7, -0.7, 0.7, 0.7, 0.7, 0.7, -0.7, -0.7, 0.7, 0.7, 0.7, -0.7, 0.7, -0.7, -0.7, 0.7, 0.7, 0.7, -0.7, -0.7, -0.7, 0.7, 0.7, 0.7, -0.7, 0.7, 0.7, -0.7, -0.7, -0.7, 0.7, 0.7, 0.7, -0.7, -0.7, -0.7, -0.7] beta: 0.6000000000000001 with measuring_type: probabilities\n",
      "[CSD] 0.0.1|DEBUG|2021-10-10 12:13:44]: Executing One Layer circuit with Backend: fock, codeword: [-0.7, 0.7, -0.7, 0.7, 0.7, 0.7, 0.7, 0.7, -0.7, 0.7, 0.7, 0.7, -0.7, 0.7, 0.7, -0.7, 0.7, 0.7, -0.7, 0.7, -0.7, 0.7, -0.7, 0.7, 0.7, 0.7, 0.7, -0.7, 0.7, 0.7, 0.7, 0.7, 0.7, 0.7, 0.7, 0.7, 0.7, -0.7, 0.7, -0.7, -0.7, 0.7, -0.7, 0.7, 0.7, -0.7, -0.7, -0.7, 0.7, 0.7, -0.7, -0.7, -0.7, 0.7, -0.7, -0.7, 0.7, -0.7, 0.7, 0.7, 0.7, -0.7, -0.7, -0.7, 0.7, 0.7, -0.7, -0.7, -0.7, 0.7, 0.7, 0.7, -0.7, 0.7, -0.7, 0.7, -0.7, -0.7, -0.7, -0.7, 0.7, 0.7, 0.7, -0.7, -0.7, -0.7, 0.7, 0.7, -0.7, 0.7, -0.7, -0.7, 0.7, 0.7, 0.7, 0.7, 0.7, 0.7, 0.7, -0.7] beta: 0.7000000000000001 with measuring_type: probabilities\n",
      "[CSD] 0.0.1|DEBUG|2021-10-10 12:13:44]: Executing One Layer circuit with Backend: fock, codeword: [0.7, -0.7, 0.7, 0.7, 0.7, 0.7, -0.7, -0.7, 0.7, -0.7, -0.7, 0.7, 0.7, 0.7, 0.7, -0.7, 0.7, -0.7, 0.7, -0.7, 0.7, -0.7, 0.7, 0.7, 0.7, 0.7, -0.7, 0.7, -0.7, 0.7, -0.7, -0.7, -0.7, -0.7, 0.7, 0.7, 0.7, -0.7, -0.7, -0.7, -0.7, 0.7, 0.7, -0.7, -0.7, -0.7, 0.7, 0.7, -0.7, 0.7, -0.7, -0.7, 0.7, -0.7, -0.7, 0.7, -0.7, -0.7, -0.7, -0.7, 0.7, -0.7, -0.7, 0.7, -0.7, -0.7, -0.7, 0.7, 0.7, -0.7, -0.7, 0.7, -0.7, 0.7, 0.7, -0.7, 0.7, -0.7, 0.7, -0.7, 0.7, 0.7, -0.7, -0.7, -0.7, 0.7, 0.7, -0.7, 0.7, -0.7, 0.7, 0.7, 0.7, -0.7, 0.7, 0.7, -0.7, -0.7, 0.7, 0.7] beta: 0.8 with measuring_type: probabilities\n",
      "[CSD] 0.0.1|DEBUG|2021-10-10 12:13:44]: Executing One Layer circuit with Backend: fock, codeword: [0.7, 0.7, 0.7, -0.7, -0.7, -0.7, 0.7, 0.7, 0.7, -0.7, 0.7, -0.7, 0.7, 0.7, -0.7, 0.7, -0.7, -0.7, 0.7, 0.7, 0.7, -0.7, 0.7, 0.7, -0.7, 0.7, -0.7, 0.7, -0.7, -0.7, 0.7, -0.7, -0.7, 0.7, 0.7, 0.7, -0.7, 0.7, -0.7, -0.7, 0.7, -0.7, 0.7, 0.7, -0.7, 0.7, -0.7, 0.7, -0.7, -0.7, 0.7, -0.7, -0.7, -0.7, -0.7, -0.7, 0.7, 0.7, -0.7, 0.7, -0.7, 0.7, -0.7, -0.7, 0.7, -0.7, -0.7, -0.7, -0.7, -0.7, 0.7, 0.7, 0.7, 0.7, 0.7, 0.7, 0.7, -0.7, -0.7, 0.7, -0.7, -0.7, -0.7, -0.7, 0.7, -0.7, -0.7, 0.7, 0.7, 0.7, -0.7, -0.7, -0.7, 0.7, -0.7, -0.7, -0.7, -0.7, -0.7, 0.7] beta: 0.9 with measuring_type: probabilities\n",
      "[CSD] 0.0.1|DEBUG|2021-10-10 12:13:44]: Executing One Layer circuit with Backend: fock, codeword: [0.7, 0.7, -0.7, 0.7, -0.7, -0.7, -0.7, -0.7, 0.7, -0.7, 0.7, -0.7, 0.7, -0.7, -0.7, 0.7, -0.7, -0.7, -0.7, 0.7, -0.7, -0.7, -0.7, -0.7, -0.7, 0.7, -0.7, 0.7, 0.7, 0.7, -0.7, -0.7, 0.7, 0.7, -0.7, -0.7, -0.7, 0.7, -0.7, -0.7, -0.7, -0.7, -0.7, -0.7, -0.7, -0.7, 0.7, 0.7, 0.7, 0.7, -0.7, -0.7, 0.7, 0.7, 0.7, -0.7, -0.7, 0.7, -0.7, -0.7, -0.7, -0.7, -0.7, 0.7, -0.7, -0.7, -0.7, 0.7, 0.7, -0.7, -0.7, 0.7, -0.7, 0.7, -0.7, 0.7, 0.7, -0.7, 0.7, 0.7, 0.7, -0.7, 0.7, 0.7, -0.7, -0.7, -0.7, 0.7, 0.7, -0.7, 0.7, -0.7, -0.7, 0.7, -0.7, -0.7, 0.7, 0.7, -0.7, -0.7] beta: 1.0 with measuring_type: probabilities\n"
     ]
    },
    {
     "data": {
      "text/plain": [
       "[0.5045050557673764,\n",
       " 0.4957557564699673,\n",
       " 0.5042693601097779,\n",
       " 0.5,\n",
       " 0.5029867196423404,\n",
       " 0.49978376039141054,\n",
       " 0.5033091928339213,\n",
       " 0.5181406851473184,\n",
       " 0.5,\n",
       " 0.494078183914555,\n",
       " 0.4806678498709472]"
      ]
     },
     "execution_count": 12,
     "metadata": {},
     "output_type": "execute_result"
    }
   ],
   "source": [
    "[CSD().execute(configuration = RunConfiguration({\n",
    "        'alpha': 0.7,\n",
    "        'displacement_magnitude': beta,\n",
    "        'backend': Backends.FOCK,\n",
    "        'number_qumodes': 1,\n",
    "        'number_layers': 1,\n",
    "        'measuring_type': MeasuringTypes.PROBABILITIES,\n",
    "        'codeword_size': 100,\n",
    "        'cutoff_dim': 2\n",
    "    })) for alpha in alphas for beta in betas]"
   ]
  },
  {
   "cell_type": "code",
   "execution_count": 42,
   "id": "93f1c3aa",
   "metadata": {},
   "outputs": [
    {
     "name": "stderr",
     "output_type": "stream",
     "text": [
      "[CSD] 0.0.1|DEBUG|2021-10-10 11:54:41]: Executing One Layer circuit with Backend: gaussian, codeword: [0.7] beta: 0.0 with measuring_type: probabilities\n",
      "[CSD] 0.0.1|DEBUG|2021-10-10 11:54:41]: Executing One Layer circuit with Backend: gaussian, codeword: [-0.7] beta: 0.1 with measuring_type: probabilities\n",
      "[CSD] 0.0.1|DEBUG|2021-10-10 11:54:41]: Executing One Layer circuit with Backend: gaussian, codeword: [-0.7] beta: 0.2 with measuring_type: probabilities\n",
      "[CSD] 0.0.1|DEBUG|2021-10-10 11:54:41]: Executing One Layer circuit with Backend: gaussian, codeword: [0.7] beta: 0.30000000000000004 with measuring_type: probabilities\n",
      "[CSD] 0.0.1|DEBUG|2021-10-10 11:54:41]: Executing One Layer circuit with Backend: gaussian, codeword: [-0.7] beta: 0.4 with measuring_type: probabilities\n",
      "[CSD] 0.0.1|DEBUG|2021-10-10 11:54:41]: Executing One Layer circuit with Backend: gaussian, codeword: [-0.7] beta: 0.5 with measuring_type: probabilities\n",
      "[CSD] 0.0.1|DEBUG|2021-10-10 11:54:41]: Executing One Layer circuit with Backend: gaussian, codeword: [-0.7] beta: 0.6000000000000001 with measuring_type: probabilities\n",
      "[CSD] 0.0.1|DEBUG|2021-10-10 11:54:41]: Executing One Layer circuit with Backend: gaussian, codeword: [-0.7] beta: 0.7000000000000001 with measuring_type: probabilities\n",
      "[CSD] 0.0.1|DEBUG|2021-10-10 11:54:41]: Executing One Layer circuit with Backend: gaussian, codeword: [0.7] beta: 0.8 with measuring_type: probabilities\n",
      "[CSD] 0.0.1|DEBUG|2021-10-10 11:54:41]: Executing One Layer circuit with Backend: gaussian, codeword: [-0.7] beta: 0.9 with measuring_type: probabilities\n",
      "[CSD] 0.0.1|DEBUG|2021-10-10 11:54:41]: Executing One Layer circuit with Backend: gaussian, codeword: [0.7] beta: 1.0 with measuring_type: probabilities\n"
     ]
    },
    {
     "data": {
      "text/plain": [
       "[0.387373605815584,\n",
       " 0.697676326071031,\n",
       " 0.778800783071405,\n",
       " 0.6321205588285577,\n",
       " 0.9139311852712283,\n",
       " 0.9607894391523233,\n",
       " 0.9900498337491681,\n",
       " 1.0,\n",
       " 0.8946007754381357,\n",
       " 0.9607894391523231,\n",
       " 0.944423787388517]"
      ]
     },
     "execution_count": 42,
     "metadata": {},
     "output_type": "execute_result"
    }
   ],
   "source": [
    "[CSD().execute(configuration = RunConfiguration({\n",
    "        'alpha': alpha,\n",
    "        'displacement_magnitude': beta,\n",
    "        'backend': Backends.GAUSSIAN,\n",
    "        'number_qumodes': 1,\n",
    "        'number_layers': 1,\n",
    "        'measuring_type': MeasuringTypes.PROBABILITIES,\n",
    "        'codeword_size': 1,\n",
    "        'cutoff_dim': 2\n",
    "    })) for alpha in alphas for beta in betas]"
   ]
  },
  {
   "cell_type": "code",
   "execution_count": 43,
   "id": "e03d9502",
   "metadata": {},
   "outputs": [
    {
     "name": "stderr",
     "output_type": "stream",
     "text": [
      "[CSD] 0.0.1|DEBUG|2021-10-10 11:54:52]: Executing One Layer circuit with Backend: tf, codeword: [0.7] beta: 0.0 with measuring_type: probabilities\n",
      "[CSD] 0.0.1|DEBUG|2021-10-10 11:54:52]: Executing One Layer circuit with Backend: tf, codeword: [-0.7] beta: 0.1 with measuring_type: probabilities\n",
      "[CSD] 0.0.1|DEBUG|2021-10-10 11:54:52]: Executing One Layer circuit with Backend: tf, codeword: [0.7] beta: 0.2 with measuring_type: probabilities\n",
      "[CSD] 0.0.1|DEBUG|2021-10-10 11:54:52]: Executing One Layer circuit with Backend: tf, codeword: [-0.7] beta: 0.30000000000000004 with measuring_type: probabilities\n",
      "[CSD] 0.0.1|DEBUG|2021-10-10 11:54:52]: Executing One Layer circuit with Backend: tf, codeword: [-0.7] beta: 0.4 with measuring_type: probabilities\n",
      "[CSD] 0.0.1|DEBUG|2021-10-10 11:54:52]: Executing One Layer circuit with Backend: tf, codeword: [-0.7] beta: 0.5 with measuring_type: probabilities\n",
      "[CSD] 0.0.1|DEBUG|2021-10-10 11:54:52]: Executing One Layer circuit with Backend: tf, codeword: [0.7] beta: 0.6000000000000001 with measuring_type: probabilities\n",
      "[CSD] 0.0.1|DEBUG|2021-10-10 11:54:52]: Executing One Layer circuit with Backend: tf, codeword: [-0.7] beta: 0.7000000000000001 with measuring_type: probabilities\n",
      "[CSD] 0.0.1|DEBUG|2021-10-10 11:54:53]: Executing One Layer circuit with Backend: tf, codeword: [-0.7] beta: 0.8 with measuring_type: probabilities\n",
      "[CSD] 0.0.1|DEBUG|2021-10-10 11:54:53]: Executing One Layer circuit with Backend: tf, codeword: [-0.7] beta: 0.9 with measuring_type: probabilities\n",
      "[CSD] 0.0.1|DEBUG|2021-10-10 11:54:53]: Executing One Layer circuit with Backend: tf, codeword: [0.7] beta: 1.0 with measuring_type: probabilities\n"
     ]
    },
    {
     "data": {
      "text/plain": [
       "[<tf.Tensor: shape=(), dtype=float32, numpy=0.38737357>,\n",
       " <tf.Tensor: shape=(), dtype=float32, numpy=0.69441694>,\n",
       " <tf.Tensor: shape=(), dtype=float32, numpy=0.5646677>,\n",
       " <tf.Tensor: shape=(), dtype=float32, numpy=0.81974715>,\n",
       " <tf.Tensor: shape=(), dtype=float32, numpy=0.8553197>,\n",
       " <tf.Tensor: shape=(), dtype=float32, numpy=0.86954>,\n",
       " <tf.Tensor: shape=(), dtype=float32, numpy=0.8562176>,\n",
       " <tf.Tensor: shape=(), dtype=float32, numpy=0.8332281>,\n",
       " <tf.Tensor: shape=(), dtype=float32, numpy=0.78613365>,\n",
       " <tf.Tensor: shape=(), dtype=float32, numpy=0.72408974>,\n",
       " <tf.Tensor: shape=(), dtype=float32, numpy=0.9797165>]"
      ]
     },
     "execution_count": 43,
     "metadata": {},
     "output_type": "execute_result"
    }
   ],
   "source": [
    "[CSD().execute(configuration = RunConfiguration({\n",
    "        'alpha': alpha,\n",
    "        'displacement_magnitude': beta,\n",
    "        'backend': Backends.TENSORFLOW,\n",
    "        'number_qumodes': 1,\n",
    "        'number_layers': 1,\n",
    "        'measuring_type': MeasuringTypes.PROBABILITIES,\n",
    "        'codeword_size': 1,\n",
    "        'cutoff_dim': 2\n",
    "    })) for alpha in alphas for beta in betas]"
   ]
  },
  {
   "cell_type": "code",
   "execution_count": 17,
   "id": "807cf011",
   "metadata": {},
   "outputs": [],
   "source": [
    "run_configuration = RunConfiguration({\n",
    "        'alpha': 0.7,\n",
    "        'displacement_magnitude': 0,\n",
    "        'backend': Backends.FOCK,\n",
    "        'number_qumodes': 1,\n",
    "        'number_layers': 1,\n",
    "        'measuring_type': MeasuringTypes.SAMPLING,\n",
    "        'shots': 1000\n",
    "    })"
   ]
  },
  {
   "cell_type": "code",
   "execution_count": 18,
   "id": "e0acf2c7",
   "metadata": {},
   "outputs": [
    {
     "name": "stderr",
     "output_type": "stream",
     "text": [
      "[CSD] 0.0.1|DEBUG|2021-10-08 17:22:39]: Executing One Layer circuit with Backend: fock, alpha: 0.7 beta: 0 with measuring_type: sampling\n"
     ]
    },
    {
     "data": {
      "text/plain": [
       "0.625"
      ]
     },
     "execution_count": 18,
     "metadata": {},
     "output_type": "execute_result"
    }
   ],
   "source": [
    "CSD().execute(configuration=run_configuration)"
   ]
  },
  {
   "cell_type": "code",
   "execution_count": 21,
   "id": "e184ab52",
   "metadata": {},
   "outputs": [
    {
     "name": "stderr",
     "output_type": "stream",
     "text": [
      "[CSD] 0.0.1|DEBUG|2021-10-08 17:30:20]: Executing One Layer circuit with Backend: fock, alpha: 0.7 beta: 0.0 with measuring_type: sampling\n",
      "[CSD] 0.0.1|DEBUG|2021-10-08 17:30:20]: Executing One Layer circuit with Backend: fock, alpha: 0.7 beta: 0.1 with measuring_type: sampling\n",
      "[CSD] 0.0.1|DEBUG|2021-10-08 17:30:20]: Executing One Layer circuit with Backend: fock, alpha: 0.7 beta: 0.2 with measuring_type: sampling\n",
      "[CSD] 0.0.1|DEBUG|2021-10-08 17:30:20]: Executing One Layer circuit with Backend: fock, alpha: 0.7 beta: 0.30000000000000004 with measuring_type: sampling\n",
      "[CSD] 0.0.1|DEBUG|2021-10-08 17:30:20]: Executing One Layer circuit with Backend: fock, alpha: 0.7 beta: 0.4 with measuring_type: sampling\n",
      "[CSD] 0.0.1|DEBUG|2021-10-08 17:30:21]: Executing One Layer circuit with Backend: fock, alpha: 0.7 beta: 0.5 with measuring_type: sampling\n",
      "[CSD] 0.0.1|DEBUG|2021-10-08 17:30:21]: Executing One Layer circuit with Backend: fock, alpha: 0.7 beta: 0.6000000000000001 with measuring_type: sampling\n",
      "[CSD] 0.0.1|DEBUG|2021-10-08 17:30:21]: Executing One Layer circuit with Backend: fock, alpha: 0.7 beta: 0.7000000000000001 with measuring_type: sampling\n",
      "[CSD] 0.0.1|DEBUG|2021-10-08 17:30:21]: Executing One Layer circuit with Backend: fock, alpha: 0.7 beta: 0.8 with measuring_type: sampling\n",
      "[CSD] 0.0.1|DEBUG|2021-10-08 17:30:21]: Executing One Layer circuit with Backend: fock, alpha: 0.7 beta: 0.9 with measuring_type: sampling\n"
     ]
    },
    {
     "data": {
      "text/plain": [
       "[0.65, 0.62, 0.47, 0.36, 0.32, 0.27, 0.15, 0.17, 0.13, 0.08]"
      ]
     },
     "execution_count": 21,
     "metadata": {},
     "output_type": "execute_result"
    }
   ],
   "source": [
    "[CSD().execute(configuration = RunConfiguration({\n",
    "        'alpha': alpha,\n",
    "        'displacement_magnitude': beta,\n",
    "        'backend': Backends.FOCK,\n",
    "        'number_qumodes': 1,\n",
    "        'number_layers': 1,\n",
    "        'measuring_type': MeasuringTypes.SAMPLING,\n",
    "        'shots': 100\n",
    "    })) for alpha in alphas for beta in betas]"
   ]
  },
  {
   "cell_type": "code",
   "execution_count": 22,
   "id": "56b7bdca",
   "metadata": {},
   "outputs": [
    {
     "name": "stderr",
     "output_type": "stream",
     "text": [
      "[CSD] 0.0.1|DEBUG|2021-10-08 17:30:33]: Executing One Layer circuit with Backend: tf, alpha: 0.7 beta: 0.0 with measuring_type: sampling\n",
      "[CSD] 0.0.1|DEBUG|2021-10-08 17:30:33]: Executing One Layer circuit with Backend: tf, alpha: 0.7 beta: 0.1 with measuring_type: sampling\n",
      "[CSD] 0.0.1|DEBUG|2021-10-08 17:30:33]: Executing One Layer circuit with Backend: tf, alpha: 0.7 beta: 0.2 with measuring_type: sampling\n",
      "[CSD] 0.0.1|DEBUG|2021-10-08 17:30:34]: Executing One Layer circuit with Backend: tf, alpha: 0.7 beta: 0.30000000000000004 with measuring_type: sampling\n",
      "[CSD] 0.0.1|DEBUG|2021-10-08 17:30:34]: Executing One Layer circuit with Backend: tf, alpha: 0.7 beta: 0.4 with measuring_type: sampling\n",
      "[CSD] 0.0.1|DEBUG|2021-10-08 17:30:34]: Executing One Layer circuit with Backend: tf, alpha: 0.7 beta: 0.5 with measuring_type: sampling\n",
      "[CSD] 0.0.1|DEBUG|2021-10-08 17:30:34]: Executing One Layer circuit with Backend: tf, alpha: 0.7 beta: 0.6000000000000001 with measuring_type: sampling\n",
      "[CSD] 0.0.1|DEBUG|2021-10-08 17:30:34]: Executing One Layer circuit with Backend: tf, alpha: 0.7 beta: 0.7000000000000001 with measuring_type: sampling\n",
      "[CSD] 0.0.1|DEBUG|2021-10-08 17:30:35]: Executing One Layer circuit with Backend: tf, alpha: 0.7 beta: 0.8 with measuring_type: sampling\n",
      "[CSD] 0.0.1|DEBUG|2021-10-08 17:30:35]: Executing One Layer circuit with Backend: tf, alpha: 0.7 beta: 0.9 with measuring_type: sampling\n"
     ]
    },
    {
     "data": {
      "text/plain": [
       "[0.62, 0.51, 0.37, 0.41, 0.38, 0.24, 0.18, 0.08, 0.09, 0.05]"
      ]
     },
     "execution_count": 22,
     "metadata": {},
     "output_type": "execute_result"
    }
   ],
   "source": [
    "[CSD().execute(configuration = RunConfiguration({\n",
    "        'alpha': alpha,\n",
    "        'displacement_magnitude': beta,\n",
    "        'backend': Backends.TENSORFLOW,\n",
    "        'number_qumodes': 1,\n",
    "        'number_layers': 1,\n",
    "        'measuring_type': MeasuringTypes.SAMPLING,\n",
    "        'shots': 100\n",
    "    })) for alpha in alphas for beta in betas]"
   ]
  },
  {
   "cell_type": "code",
   "execution_count": null,
   "id": "c0ac0c18",
   "metadata": {},
   "outputs": [],
   "source": []
  }
 ],
 "metadata": {
  "kernelspec": {
   "display_name": "Python 3",
   "language": "python",
   "name": "python3"
  },
  "language_info": {
   "codemirror_mode": {
    "name": "ipython",
    "version": 3
   },
   "file_extension": ".py",
   "mimetype": "text/x-python",
   "name": "python",
   "nbconvert_exporter": "python",
   "pygments_lexer": "ipython3",
   "version": "3.9.5"
  }
 },
 "nbformat": 4,
 "nbformat_minor": 5
}
