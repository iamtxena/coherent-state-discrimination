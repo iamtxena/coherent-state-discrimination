{
 "cells": [
  {
   "cell_type": "code",
   "execution_count": 1,
   "id": "618cb378",
   "metadata": {},
   "outputs": [],
   "source": [
    "from csd.utils.util import generate_all_codewords_from_codeword, generate_measurement_matrices"
   ]
  },
  {
   "cell_type": "code",
   "execution_count": 2,
   "id": "5fa4169a",
   "metadata": {},
   "outputs": [],
   "source": [
    "number_modes = 2\n",
    "cutoff_dim = 3"
   ]
  },
  {
   "cell_type": "code",
   "execution_count": 3,
   "id": "29754414",
   "metadata": {},
   "outputs": [],
   "source": [
    "measurement_matrices = generate_measurement_matrices(num_modes=number_modes, cutoff_dim=cutoff_dim)"
   ]
  },
  {
   "cell_type": "code",
   "execution_count": 8,
   "id": "215b9700",
   "metadata": {},
   "outputs": [
    {
     "data": {
      "text/plain": [
       "[array([[1., 0., 0.],\n",
       "        [0., 0., 0.],\n",
       "        [0., 0., 0.]], dtype=float32),\n",
       " array([[0., 1., 1.],\n",
       "        [0., 0., 0.],\n",
       "        [0., 0., 0.]], dtype=float32),\n",
       " array([[0., 0., 0.],\n",
       "        [1., 0., 0.],\n",
       "        [1., 0., 0.]], dtype=float32),\n",
       " array([[0., 0., 0.],\n",
       "        [0., 1., 1.],\n",
       "        [0., 1., 1.]], dtype=float32)]"
      ]
     },
     "execution_count": 8,
     "metadata": {},
     "output_type": "execute_result"
    }
   ],
   "source": [
    "measurement_matrices"
   ]
  },
  {
   "cell_type": "code",
   "execution_count": 4,
   "id": "2e5789e4",
   "metadata": {},
   "outputs": [],
   "source": [
    "import numpy as np"
   ]
  },
  {
   "cell_type": "code",
   "execution_count": 5,
   "id": "351dc3be",
   "metadata": {},
   "outputs": [],
   "source": [
    "alpha_init = 0.1\n",
    "alpha_end = 1.4\n",
    "number_points_to_plot = 16\n",
    "alpha_step = (alpha_end - alpha_init) / number_points_to_plot\n",
    "alphas = list(np.arange(alpha_init, alpha_end, alpha_step))"
   ]
  },
  {
   "cell_type": "code",
   "execution_count": 7,
   "id": "393dbfd9",
   "metadata": {},
   "outputs": [
    {
     "data": {
      "text/plain": [
       "0.6687499999999998"
      ]
     },
     "execution_count": 7,
     "metadata": {},
     "output_type": "execute_result"
    }
   ],
   "source": [
    "alphas[7]"
   ]
  },
  {
   "cell_type": "code",
   "execution_count": 1,
   "id": "16f80f62",
   "metadata": {},
   "outputs": [],
   "source": [
    "from csd.utils.util import save_object_to_disk, load_object_from_file\n",
    "from csd.utils.probability import compute_maximum_likelihood\n",
    "import os\n",
    "os.environ['TF_CPP_MIN_LOG_LEVEL'] = '3'"
   ]
  },
  {
   "cell_type": "code",
   "execution_count": 2,
   "id": "d9645711",
   "metadata": {},
   "outputs": [],
   "source": [
    "batch_success_prob = load_object_from_file('batch_success_prob')\n",
    "output_batch = load_object_from_file('output_batch')\n",
    "guessed_codewords_probabilities = compute_maximum_likelihood(batch_success_probabilities=batch_success_prob,\n",
    "                                                             output_batch=output_batch)\n",
    "input_batch = load_object_from_file('input_batch')"
   ]
  },
  {
   "cell_type": "code",
   "execution_count": 12,
   "id": "42f506ff",
   "metadata": {},
   "outputs": [
    {
     "data": {
      "text/plain": [
       "[{'input_codeword': [0, 0, 0],\n",
       "  'guessed_codeword': [1, 1, 1],\n",
       "  'output_codeword': [0, 0, 0],\n",
       "  'psucc': 0.009605835191905499},\n",
       " {'input_codeword': [0, 0, 0],\n",
       "  'guessed_codeword': [1, 0, 0],\n",
       "  'output_codeword': [0, 0, 1],\n",
       "  'psucc': 0.08120762556791306},\n",
       " {'input_codeword': [0, 0, 0],\n",
       "  'guessed_codeword': [1, 1, 1],\n",
       "  'output_codeword': [0, 1, 0],\n",
       "  'psucc': 0.001613063970580697},\n",
       " {'input_codeword': [0, 0, 0],\n",
       "  'guessed_codeword': [1, 1, 0],\n",
       "  'output_codeword': [0, 1, 1],\n",
       "  'psucc': 0.01363682746887207},\n",
       " {'input_codeword': [0, 0, 0],\n",
       "  'guessed_codeword': [0, 1, 1],\n",
       "  'output_codeword': [1, 0, 0],\n",
       "  'psucc': 0.08096113055944443},\n",
       " {'input_codeword': [0, 0, 0],\n",
       "  'guessed_codeword': [1, 0, 1],\n",
       "  'output_codeword': [1, 0, 1],\n",
       "  'psucc': 0.6844444870948792},\n",
       " {'input_codeword': [0, 0, 0],\n",
       "  'guessed_codeword': [0, 1, 1],\n",
       "  'output_codeword': [1, 1, 0],\n",
       "  'psucc': 0.013595436699688435},\n",
       " {'input_codeword': [0, 0, 0],\n",
       "  'guessed_codeword': [0, 1, 0],\n",
       "  'output_codeword': [1, 1, 1],\n",
       "  'psucc': 0.11493560671806335}]"
      ]
     },
     "execution_count": 12,
     "metadata": {},
     "output_type": "execute_result"
    }
   ],
   "source": [
    "[output_codeword_prob.binary_code for output_codeword_prob in batch_success_prob[0]]"
   ]
  },
  {
   "cell_type": "code",
   "execution_count": 10,
   "id": "05d15e59",
   "metadata": {},
   "outputs": [
    {
     "data": {
      "text/plain": [
       "[{'input_codeword': [1, 1, 0],\n",
       "  'guessed_codeword': [0, 0, 0],\n",
       "  'output_codeword': [0, 0, 0],\n",
       "  'psucc': 0.8079701662063599},\n",
       " {'input_codeword': [1, 0, 0],\n",
       "  'guessed_codeword': [0, 0, 1],\n",
       "  'output_codeword': [0, 0, 1],\n",
       "  'psucc': 0.7439103722572327},\n",
       " {'input_codeword': [1, 1, 0],\n",
       "  'guessed_codeword': [0, 1, 0],\n",
       "  'output_codeword': [0, 1, 0],\n",
       "  'psucc': 0.1415867656469345},\n",
       " {'input_codeword': [1, 0, 0],\n",
       "  'guessed_codeword': [0, 1, 1],\n",
       "  'output_codeword': [0, 1, 1],\n",
       "  'psucc': 0.1273678094148636},\n",
       " {'input_codeword': [0, 1, 0],\n",
       "  'guessed_codeword': [1, 0, 0],\n",
       "  'output_codeword': [1, 0, 0],\n",
       "  'psucc': 0.7434099912643433},\n",
       " {'input_codeword': [0, 0, 0],\n",
       "  'guessed_codeword': [1, 0, 1],\n",
       "  'output_codeword': [1, 0, 1],\n",
       "  'psucc': 0.6844444870948792},\n",
       " {'input_codeword': [0, 1, 0],\n",
       "  'guessed_codeword': [1, 1, 0],\n",
       "  'output_codeword': [1, 1, 0],\n",
       "  'psucc': 0.12779557704925537},\n",
       " {'input_codeword': [0, 0, 0],\n",
       "  'guessed_codeword': [1, 1, 1],\n",
       "  'output_codeword': [1, 1, 1],\n",
       "  'psucc': 0.11493560671806335}]"
      ]
     },
     "execution_count": 10,
     "metadata": {},
     "output_type": "execute_result"
    }
   ],
   "source": [
    "[guessed_codeword_prob.binary_code for guessed_codeword_prob in guessed_codewords_probabilities]"
   ]
  },
  {
   "cell_type": "code",
   "execution_count": 9,
   "id": "643ea9db",
   "metadata": {},
   "outputs": [
    {
     "data": {
      "text/plain": [
       "{'input_codeword': [1, 1, 0],\n",
       " 'guessed_codeword': [0, 0, 0],\n",
       " 'output_codeword': [0, 0, 0],\n",
       " 'psucc': 0.8079701662063599}"
      ]
     },
     "execution_count": 9,
     "metadata": {},
     "output_type": "execute_result"
    }
   ],
   "source": [
    "one_prob.binary_code"
   ]
  },
  {
   "cell_type": "code",
   "execution_count": 5,
   "id": "cfe6cce1",
   "metadata": {},
   "outputs": [
    {
     "data": {
      "text/plain": [
       "[[0, 0, 0], [0, 1, 0], [1, 0, 0], [1, 1, 0]]"
      ]
     },
     "execution_count": 5,
     "metadata": {},
     "output_type": "execute_result"
    }
   ],
   "source": [
    "[codeword.binary_code for codeword in input_batch.codewords]"
   ]
  },
  {
   "cell_type": "code",
   "execution_count": 6,
   "id": "136c0ead",
   "metadata": {},
   "outputs": [
    {
     "data": {
      "text/plain": [
       "[[0, 0, 0],\n",
       " [0, 0, 1],\n",
       " [0, 1, 0],\n",
       " [0, 1, 1],\n",
       " [1, 0, 0],\n",
       " [1, 0, 1],\n",
       " [1, 1, 0],\n",
       " [1, 1, 1]]"
      ]
     },
     "execution_count": 6,
     "metadata": {},
     "output_type": "execute_result"
    }
   ],
   "source": [
    "[codeword.binary_code for codeword in output_batch.codewords]"
   ]
  },
  {
   "cell_type": "code",
   "execution_count": 13,
   "id": "259d7e5a",
   "metadata": {},
   "outputs": [],
   "source": [
    "success_probability_from_guesses = [codeword_success_prob.success_probability for codeword_success_prob in guessed_codewords_probabilities]\n",
    "avg_succ_prob =  sum(success_probability_from_guesses) / input_batch.size"
   ]
  },
  {
   "cell_type": "code",
   "execution_count": 15,
   "id": "515f7757",
   "metadata": {},
   "outputs": [
    {
     "data": {
      "text/plain": [
       "0.87285525"
      ]
     },
     "execution_count": 15,
     "metadata": {},
     "output_type": "execute_result"
    }
   ],
   "source": [
    "avg_succ_prob.numpy()"
   ]
  },
  {
   "cell_type": "code",
   "execution_count": 16,
   "id": "f04e690a",
   "metadata": {},
   "outputs": [
    {
     "data": {
      "text/plain": [
       "0.6687499999999998"
      ]
     },
     "execution_count": 16,
     "metadata": {},
     "output_type": "execute_result"
    }
   ],
   "source": [
    "input_batch.alpha"
   ]
  },
  {
   "cell_type": "code",
   "execution_count": null,
   "id": "1c746234",
   "metadata": {},
   "outputs": [],
   "source": []
  }
 ],
 "metadata": {
  "kernelspec": {
   "display_name": "Python 3 (ipykernel)",
   "language": "python",
   "name": "python3"
  },
  "language_info": {
   "codemirror_mode": {
    "name": "ipython",
    "version": 3
   },
   "file_extension": ".py",
   "mimetype": "text/x-python",
   "name": "python",
   "nbconvert_exporter": "python",
   "pygments_lexer": "ipython3",
   "version": "3.9.7"
  }
 },
 "nbformat": 4,
 "nbformat_minor": 5
}
