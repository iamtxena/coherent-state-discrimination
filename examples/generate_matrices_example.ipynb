{
 "cells": [
  {
   "cell_type": "code",
   "execution_count": 1,
   "id": "618cb378",
   "metadata": {},
   "outputs": [],
   "source": [
    "from csd.util import generate_all_codewords_from_codeword, generate_measurement_matrices"
   ]
  },
  {
   "cell_type": "code",
   "execution_count": 21,
   "id": "5fa4169a",
   "metadata": {},
   "outputs": [],
   "source": [
    "number_modes = 2\n",
    "cutoff_dim = 3"
   ]
  },
  {
   "cell_type": "code",
   "execution_count": 22,
   "id": "29754414",
   "metadata": {},
   "outputs": [],
   "source": [
    "measurement_matrices = generate_measurement_matrices(num_modes=number_modes, cutoff_dim=cutoff_dim)"
   ]
  },
  {
   "cell_type": "code",
   "execution_count": 23,
   "id": "215b9700",
   "metadata": {},
   "outputs": [
    {
     "data": {
      "text/plain": [
       "[array([[1., 0., 0.],\n",
       "        [0., 0., 0.],\n",
       "        [0., 0., 0.]], dtype=float32),\n",
       " array([[0., 1., 1.],\n",
       "        [0., 0., 0.],\n",
       "        [0., 0., 0.]], dtype=float32),\n",
       " array([[0., 0., 0.],\n",
       "        [1., 0., 0.],\n",
       "        [1., 0., 0.]], dtype=float32),\n",
       " array([[0., 0., 0.],\n",
       "        [0., 1., 1.],\n",
       "        [0., 1., 1.]], dtype=float32)]"
      ]
     },
     "execution_count": 23,
     "metadata": {},
     "output_type": "execute_result"
    }
   ],
   "source": [
    "measurement_matrices"
   ]
  },
  {
   "cell_type": "code",
   "execution_count": null,
   "id": "2e5789e4",
   "metadata": {},
   "outputs": [],
   "source": []
  }
 ],
 "metadata": {
  "kernelspec": {
   "display_name": "Python 3 (ipykernel)",
   "language": "python",
   "name": "python3"
  },
  "language_info": {
   "codemirror_mode": {
    "name": "ipython",
    "version": 3
   },
   "file_extension": ".py",
   "mimetype": "text/x-python",
   "name": "python",
   "nbconvert_exporter": "python",
   "pygments_lexer": "ipython3",
   "version": "3.9.7"
  }
 },
 "nbformat": 4,
 "nbformat_minor": 5
}
