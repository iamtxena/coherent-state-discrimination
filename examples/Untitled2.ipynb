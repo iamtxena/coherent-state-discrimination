{
 "cells": [
  {
   "cell_type": "code",
   "execution_count": 1,
   "id": "e9b59767",
   "metadata": {},
   "outputs": [],
   "source": [
    "from csd import CSD\n",
    "from csd.typings.typing import MeasuringTypes, CSDConfiguration, Backends\n",
    "import numpy as np"
   ]
  },
  {
   "cell_type": "code",
   "execution_count": 2,
   "id": "076ecc1a",
   "metadata": {},
   "outputs": [],
   "source": [
    "alphas = list(np.arange(0.05, 1.55, 0.05))"
   ]
  },
  {
   "cell_type": "code",
   "execution_count": 5,
   "id": "582de3da",
   "metadata": {},
   "outputs": [],
   "source": [
    "csd = CSD(csd_config=CSDConfiguration({\n",
    "    'steps': 500,\n",
    "    'cutoff_dim': 10,\n",
    "    'batch_size': 1000,\n",
    "    'architecture': {\n",
    "        'displacement': True,\n",
    "        'squeezing': False,\n",
    "    },\n",
    "    'save_results': True,\n",
    "    'save_plots': True\n",
    "}))"
   ]
  },
  {
   "cell_type": "code",
   "execution_count": 6,
   "id": "954a096e",
   "metadata": {},
   "outputs": [
    {
     "name": "stderr",
     "output_type": "stream",
     "text": [
      "[CSD] 0.0.1|DEBUG|2021-10-17 08:19:29]: Executing One Layer circuit with Backend: fock,  with measuring_type: probabilities and cutoff_dim: 10\n",
      "[CSD] 0.0.1|DEBUG|2021-10-17 08:19:29]: Optimizing for alpha: 0.05\n",
      "[CSD] 0.0.1|DEBUG|2021-10-17 08:19:43]: Optimized for alpha: 0.05 beta: -0.9100964813619766 p_succ: 0.5419580790814739\n",
      "[CSD] 0.0.1|DEBUG|2021-10-17 08:19:43]: _execute_for_one_alpha, took: 13 seconds.\n",
      "[CSD] 0.0.1|DEBUG|2021-10-17 08:19:43]: Optimizing for alpha: 0.1\n",
      "[CSD] 0.0.1|DEBUG|2021-10-17 08:19:51]: Optimized for alpha: 0.1 beta: -0.7296239515079846 p_succ: 0.5844384837376153\n",
      "[CSD] 0.0.1|DEBUG|2021-10-17 08:19:51]: _execute_for_one_alpha, took: 7 seconds.\n",
      "[CSD] 0.0.1|DEBUG|2021-10-17 08:19:51]: Optimizing for alpha: 0.15\n",
      "[CSD] 0.0.1|DEBUG|2021-10-17 08:19:59]: Optimized for alpha: 0.15 beta: -0.6962402973767471 p_succ: 0.6278419318736579\n",
      "[CSD] 0.0.1|DEBUG|2021-10-17 08:19:59]: _execute_for_one_alpha, took: 8 seconds.\n",
      "[CSD] 0.0.1|DEBUG|2021-10-17 08:19:59]: Optimizing for alpha: 0.2\n",
      "[CSD] 0.0.1|DEBUG|2021-10-17 08:20:08]: Optimized for alpha: 0.2 beta: -0.6951539507663271 p_succ: 0.6689921569272236\n",
      "[CSD] 0.0.1|DEBUG|2021-10-17 08:20:08]: _execute_for_one_alpha, took: 8 seconds.\n",
      "[CSD] 0.0.1|DEBUG|2021-10-17 08:20:08]: Optimizing for alpha: 0.25\n",
      "[CSD] 0.0.1|DEBUG|2021-10-17 08:20:16]: Optimized for alpha: 0.25 beta: -0.7051909310862678 p_succ: 0.7075770918450396\n",
      "[CSD] 0.0.1|DEBUG|2021-10-17 08:20:16]: _execute_for_one_alpha, took: 7 seconds.\n",
      "[CSD] 0.0.1|DEBUG|2021-10-17 08:20:16]: Optimizing for alpha: 0.3\n",
      "[CSD] 0.0.1|DEBUG|2021-10-17 08:20:22]: Optimized for alpha: 0.3 beta: -0.6941912484252614 p_succ: 0.7472089351148213\n",
      "[CSD] 0.0.1|DEBUG|2021-10-17 08:20:22]: _execute_for_one_alpha, took: 6 seconds.\n",
      "[CSD] 0.0.1|DEBUG|2021-10-17 08:20:22]: Optimizing for alpha: 0.35\n",
      "[CSD] 0.0.1|DEBUG|2021-10-17 08:20:29]: Optimized for alpha: 0.35 beta: -0.7256846693906833 p_succ: 0.7786305099902716\n",
      "[CSD] 0.0.1|DEBUG|2021-10-17 08:20:29]: _execute_for_one_alpha, took: 6 seconds.\n",
      "[CSD] 0.0.1|DEBUG|2021-10-17 08:20:29]: Optimizing for alpha: 0.4\n",
      "[CSD] 0.0.1|DEBUG|2021-10-17 08:20:35]: Optimized for alpha: 0.4 beta: -0.766324318561193 p_succ: 0.8066930942552563\n",
      "[CSD] 0.0.1|DEBUG|2021-10-17 08:20:35]: _execute_for_one_alpha, took: 6 seconds.\n",
      "[CSD] 0.0.1|DEBUG|2021-10-17 08:20:35]: Optimizing for alpha: 0.45\n",
      "[CSD] 0.0.1|DEBUG|2021-10-17 08:20:42]: Optimized for alpha: 0.45 beta: -0.7720263551325403 p_succ: 0.8366721781021569\n",
      "[CSD] 0.0.1|DEBUG|2021-10-17 08:20:42]: _execute_for_one_alpha, took: 6 seconds.\n",
      "[CSD] 0.0.1|DEBUG|2021-10-17 08:20:42]: Optimizing for alpha: 0.5\n",
      "[CSD] 0.0.1|DEBUG|2021-10-17 08:20:47]: Optimized for alpha: 0.5 beta: -0.7628173036601976 p_succ: 0.8666438568612476\n",
      "[CSD] 0.0.1|DEBUG|2021-10-17 08:20:47]: _execute_for_one_alpha, took: 5 seconds.\n",
      "[CSD] 0.0.1|DEBUG|2021-10-17 08:20:47]: Optimizing for alpha: 0.55\n",
      "[CSD] 0.0.1|DEBUG|2021-10-17 08:20:52]: Optimized for alpha: 0.55 beta: -0.7839682160075985 p_succ: 0.8894632569065384\n",
      "[CSD] 0.0.1|DEBUG|2021-10-17 08:20:52]: _execute_for_one_alpha, took: 5 seconds.\n",
      "[CSD] 0.0.1|DEBUG|2021-10-17 08:20:52]: Optimizing for alpha: 0.6\n",
      "[CSD] 0.0.1|DEBUG|2021-10-17 08:20:58]: Optimized for alpha: 0.6 beta: -0.8125297031742237 p_succ: 0.908642090757539\n",
      "[CSD] 0.0.1|DEBUG|2021-10-17 08:20:58]: _execute_for_one_alpha, took: 5 seconds.\n",
      "[CSD] 0.0.1|DEBUG|2021-10-17 08:20:58]: Optimizing for alpha: 0.65\n",
      "[CSD] 0.0.1|DEBUG|2021-10-17 08:21:03]: Optimized for alpha: 0.65 beta: -0.8311872974513136 p_succ: 0.9269246566487572\n",
      "[CSD] 0.0.1|DEBUG|2021-10-17 08:21:03]: _execute_for_one_alpha, took: 5 seconds.\n",
      "[CSD] 0.0.1|DEBUG|2021-10-17 08:21:03]: Optimizing for alpha: 0.7\n",
      "[CSD] 0.0.1|DEBUG|2021-10-17 08:21:08]: Optimized for alpha: 0.7 beta: -0.844123046989417 p_succ: 0.9437885872518794\n",
      "[CSD] 0.0.1|DEBUG|2021-10-17 08:21:08]: _execute_for_one_alpha, took: 5 seconds.\n",
      "[CSD] 0.0.1|DEBUG|2021-10-17 08:21:08]: Optimizing for alpha: 0.75\n",
      "[CSD] 0.0.1|DEBUG|2021-10-17 08:21:14]: Optimized for alpha: 0.75 beta: -0.8734622344155165 p_succ: 0.9559774042892343\n",
      "[CSD] 0.0.1|DEBUG|2021-10-17 08:21:14]: _execute_for_one_alpha, took: 5 seconds.\n",
      "[CSD] 0.0.1|DEBUG|2021-10-17 08:21:14]: Optimizing for alpha: 0.8\n",
      "[CSD] 0.0.1|DEBUG|2021-10-17 08:21:20]: Optimized for alpha: 0.8 beta: -0.904296817478425 p_succ: 0.9661072097898793\n",
      "[CSD] 0.0.1|DEBUG|2021-10-17 08:21:20]: _execute_for_one_alpha, took: 6 seconds.\n",
      "[CSD] 0.0.1|DEBUG|2021-10-17 08:21:20]: Optimizing for alpha: 0.85\n",
      "[CSD] 0.0.1|DEBUG|2021-10-17 08:21:27]: Optimized for alpha: 0.85 beta: -0.9220221514821344 p_succ: 0.976420871208675\n",
      "[CSD] 0.0.1|DEBUG|2021-10-17 08:21:27]: _execute_for_one_alpha, took: 6 seconds.\n",
      "[CSD] 0.0.1|DEBUG|2021-10-17 08:21:27]: Optimizing for alpha: 0.9\n",
      "[CSD] 0.0.1|DEBUG|2021-10-17 08:21:33]: Optimized for alpha: 0.9 beta: -0.957314461419608 p_succ: 0.9827091238717545\n",
      "[CSD] 0.0.1|DEBUG|2021-10-17 08:21:33]: _execute_for_one_alpha, took: 6 seconds.\n",
      "[CSD] 0.0.1|DEBUG|2021-10-17 08:21:33]: Optimizing for alpha: 0.95\n",
      "[CSD] 0.0.1|DEBUG|2021-10-17 08:21:41]: Optimized for alpha: 0.95 beta: -0.9935066550265206 p_succ: 0.9877372589316853\n",
      "[CSD] 0.0.1|DEBUG|2021-10-17 08:21:41]: _execute_for_one_alpha, took: 7 seconds.\n",
      "[CSD] 0.0.1|DEBUG|2021-10-17 08:21:41]: Optimizing for alpha: 1.0\n",
      "[CSD] 0.0.1|DEBUG|2021-10-17 08:21:46]: Optimized for alpha: 1.0 beta: -1.0316272948753813 p_succ: 0.9915745890027939\n",
      "[CSD] 0.0.1|DEBUG|2021-10-17 08:21:46]: _execute_for_one_alpha, took: 5 seconds.\n",
      "[CSD] 0.0.1|DEBUG|2021-10-17 08:21:46]: Optimizing for alpha: 1.05\n",
      "[CSD] 0.0.1|DEBUG|2021-10-17 08:21:52]: Optimized for alpha: 1.05 beta: -1.0748082749249313 p_succ: 0.9940539490042485\n",
      "[CSD] 0.0.1|DEBUG|2021-10-17 08:21:52]: _execute_for_one_alpha, took: 6 seconds.\n",
      "[CSD] 0.0.1|DEBUG|2021-10-17 08:21:52]: Optimizing for alpha: 1.1\n",
      "[CSD] 0.0.1|DEBUG|2021-10-17 08:22:00]: Optimized for alpha: 1.1 beta: -1.1164906923211195 p_succ: 0.9961663295853925\n",
      "[CSD] 0.0.1|DEBUG|2021-10-17 08:22:00]: _execute_for_one_alpha, took: 7 seconds.\n",
      "[CSD] 0.0.1|DEBUG|2021-10-17 08:22:00]: Optimizing for alpha: 1.15\n",
      "[CSD] 0.0.1|DEBUG|2021-10-17 08:22:07]: Optimized for alpha: 1.15 beta: -1.1613196621176654 p_succ: 0.997513937100074\n",
      "[CSD] 0.0.1|DEBUG|2021-10-17 08:22:07]: _execute_for_one_alpha, took: 7 seconds.\n",
      "[CSD] 0.0.1|DEBUG|2021-10-17 08:22:07]: Optimizing for alpha: 1.2\n",
      "[CSD] 0.0.1|DEBUG|2021-10-17 08:22:18]: Optimized for alpha: 1.2 beta: -1.2075924389578583 p_succ: 0.9984194450642947\n",
      "[CSD] 0.0.1|DEBUG|2021-10-17 08:22:18]: _execute_for_one_alpha, took: 10 seconds.\n",
      "[CSD] 0.0.1|DEBUG|2021-10-17 08:22:18]: Optimizing for alpha: 1.25\n",
      "[CSD] 0.0.1|DEBUG|2021-10-17 08:22:29]: Optimized for alpha: 1.25 beta: -1.2543097231845006 p_succ: 0.999079298812528\n",
      "[CSD] 0.0.1|DEBUG|2021-10-17 08:22:29]: _execute_for_one_alpha, took: 10 seconds.\n",
      "[CSD] 0.0.1|DEBUG|2021-10-17 08:22:29]: Optimizing for alpha: 1.3\n",
      "[CSD] 0.0.1|DEBUG|2021-10-17 08:22:39]: Optimized for alpha: 1.3 beta: -1.3026830385210137 p_succ: 0.9994346509603469\n",
      "[CSD] 0.0.1|DEBUG|2021-10-17 08:22:39]: _execute_for_one_alpha, took: 9 seconds.\n",
      "[CSD] 0.0.1|DEBUG|2021-10-17 08:22:39]: Optimizing for alpha: 1.35\n",
      "[CSD] 0.0.1|DEBUG|2021-10-17 08:22:46]: Optimized for alpha: 1.35 beta: -1.3517153334815701 p_succ: 0.9996372853779176\n",
      "[CSD] 0.0.1|DEBUG|2021-10-17 08:22:46]: _execute_for_one_alpha, took: 7 seconds.\n",
      "[CSD] 0.0.1|DEBUG|2021-10-17 08:22:46]: Optimizing for alpha: 1.4\n",
      "[CSD] 0.0.1|DEBUG|2021-10-17 08:22:55]: Optimized for alpha: 1.4 beta: -1.4006995928323858 p_succ: 0.9997774708615659\n",
      "[CSD] 0.0.1|DEBUG|2021-10-17 08:22:55]: _execute_for_one_alpha, took: 8 seconds.\n",
      "[CSD] 0.0.1|DEBUG|2021-10-17 08:22:55]: Optimizing for alpha: 1.45\n",
      "[CSD] 0.0.1|DEBUG|2021-10-17 08:23:03]: Optimized for alpha: 1.45 beta: -1.450257003143855 p_succ: 0.999819405010024\n",
      "[CSD] 0.0.1|DEBUG|2021-10-17 08:23:03]: _execute_for_one_alpha, took: 7 seconds.\n",
      "[CSD] 0.0.1|DEBUG|2021-10-17 08:23:03]: Optimizing for alpha: 1.5\n",
      "[CSD] 0.0.1|DEBUG|2021-10-17 08:23:10]: Optimized for alpha: 1.5 beta: -1.4997309751187495 p_succ: 0.9998185393532957\n",
      "[CSD] 0.0.1|DEBUG|2021-10-17 08:23:10]: _execute_for_one_alpha, took: 7 seconds.\n",
      "[CSD] 0.0.1|INFO|2021-10-17 08:23:10]: Save results to file\n",
      "[CSD] 0.0.1|INFO|2021-10-17 08:23:10]: Save plot to file\n"
     ]
    },
    {
     "name": "stderr",
     "output_type": "stream",
     "text": [
      "[CSD] 0.0.1|DEBUG|2021-10-17 08:23:10]: execute, took: 3 minutes and 41 seconds.\n",
      "[CSD] 0.0.1|DEBUG|2021-10-17 08:23:10]: Executing One Layer circuit with Backend: gaussian,  with measuring_type: probabilities and cutoff_dim: 10\n",
      "[CSD] 0.0.1|DEBUG|2021-10-17 08:23:10]: Optimizing for alpha: 0.05\n",
      "[CSD] 0.0.1|DEBUG|2021-10-17 08:23:25]: Optimized for alpha: 0.05 beta: -0.885414564314112 p_succ: 0.5417476185926424\n",
      "[CSD] 0.0.1|DEBUG|2021-10-17 08:23:25]: _execute_for_one_alpha, took: 14 seconds.\n",
      "[CSD] 0.0.1|DEBUG|2021-10-17 08:23:25]: Optimizing for alpha: 0.1\n",
      "[CSD] 0.0.1|DEBUG|2021-10-17 08:23:36]: Optimized for alpha: 0.1 beta: -0.5645791055783974 p_succ: 0.5962637858523272\n",
      "[CSD] 0.0.1|DEBUG|2021-10-17 08:23:36]: _execute_for_one_alpha, took: 10 seconds.\n",
      "[CSD] 0.0.1|DEBUG|2021-10-17 08:23:36]: Optimizing for alpha: 0.15\n",
      "[CSD] 0.0.1|DEBUG|2021-10-17 08:23:50]: Optimized for alpha: 0.15 beta: -0.715745820332696 p_succ: 0.626553356601059\n",
      "[CSD] 0.0.1|DEBUG|2021-10-17 08:23:50]: _execute_for_one_alpha, took: 14 seconds.\n",
      "[CSD] 0.0.1|DEBUG|2021-10-17 08:23:50]: Optimizing for alpha: 0.2\n",
      "[CSD] 0.0.1|DEBUG|2021-10-17 08:24:05]: Optimized for alpha: 0.2 beta: -0.72401339435811 p_succ: 0.6664880019708923\n",
      "[CSD] 0.0.1|DEBUG|2021-10-17 08:24:05]: _execute_for_one_alpha, took: 14 seconds.\n",
      "[CSD] 0.0.1|DEBUG|2021-10-17 08:24:05]: Optimizing for alpha: 0.25\n",
      "[CSD] 0.0.1|DEBUG|2021-10-17 08:24:18]: Optimized for alpha: 0.25 beta: -0.69963387337704 p_succ: 0.7082329353733353\n",
      "[CSD] 0.0.1|DEBUG|2021-10-17 08:24:18]: _execute_for_one_alpha, took: 12 seconds.\n",
      "[CSD] 0.0.1|DEBUG|2021-10-17 08:24:18]: Optimizing for alpha: 0.3\n",
      "[CSD] 0.0.1|DEBUG|2021-10-17 08:24:30]: Optimized for alpha: 0.3 beta: -0.807466202341826 p_succ: 0.736705391422016\n",
      "[CSD] 0.0.1|DEBUG|2021-10-17 08:24:30]: _execute_for_one_alpha, took: 12 seconds.\n",
      "[CSD] 0.0.1|DEBUG|2021-10-17 08:24:30]: Optimizing for alpha: 0.35\n",
      "[CSD] 0.0.1|DEBUG|2021-10-17 08:24:43]: Optimized for alpha: 0.35 beta: -0.7654740581097023 p_succ: 0.7739336693060916\n",
      "[CSD] 0.0.1|DEBUG|2021-10-17 08:24:43]: _execute_for_one_alpha, took: 12 seconds.\n",
      "[CSD] 0.0.1|DEBUG|2021-10-17 08:24:43]: Optimizing for alpha: 0.4\n",
      "[CSD] 0.0.1|DEBUG|2021-10-17 08:24:54]: Optimized for alpha: 0.4 beta: -0.7651724526117535 p_succ: 0.8068248093293534\n",
      "[CSD] 0.0.1|DEBUG|2021-10-17 08:24:54]: _execute_for_one_alpha, took: 10 seconds.\n",
      "[CSD] 0.0.1|DEBUG|2021-10-17 08:24:54]: Optimizing for alpha: 0.45\n",
      "[CSD] 0.0.1|DEBUG|2021-10-17 08:25:03]: Optimized for alpha: 0.45 beta: -0.7482101046142298 p_succ: 0.8401630889756094\n",
      "[CSD] 0.0.1|DEBUG|2021-10-17 08:25:03]: _execute_for_one_alpha, took: 9 seconds.\n",
      "[CSD] 0.0.1|DEBUG|2021-10-17 08:25:03]: Optimizing for alpha: 0.5\n",
      "[CSD] 0.0.1|DEBUG|2021-10-17 08:25:12]: Optimized for alpha: 0.5 beta: -0.7620199341339012 p_succ: 0.8667804834943847\n",
      "[CSD] 0.0.1|DEBUG|2021-10-17 08:25:12]: _execute_for_one_alpha, took: 9 seconds.\n",
      "[CSD] 0.0.1|DEBUG|2021-10-17 08:25:12]: Optimizing for alpha: 0.55\n",
      "[CSD] 0.0.1|DEBUG|2021-10-17 08:25:21]: Optimized for alpha: 0.55 beta: -0.8033983154829688 p_succ: 0.8865792365512261\n",
      "[CSD] 0.0.1|DEBUG|2021-10-17 08:25:21]: _execute_for_one_alpha, took: 9 seconds.\n",
      "[CSD] 0.0.1|DEBUG|2021-10-17 08:25:21]: Optimizing for alpha: 0.6\n",
      "[CSD] 0.0.1|DEBUG|2021-10-17 08:25:30]: Optimized for alpha: 0.6 beta: -0.8051196559975924 p_succ: 0.9097790934917953\n",
      "[CSD] 0.0.1|DEBUG|2021-10-17 08:25:30]: _execute_for_one_alpha, took: 9 seconds.\n",
      "[CSD] 0.0.1|DEBUG|2021-10-17 08:25:30]: Optimizing for alpha: 0.65\n",
      "[CSD] 0.0.1|DEBUG|2021-10-17 08:25:39]: Optimized for alpha: 0.65 beta: -0.8181132404998925 p_succ: 0.9290158017964544\n",
      "[CSD] 0.0.1|DEBUG|2021-10-17 08:25:39]: _execute_for_one_alpha, took: 9 seconds.\n",
      "[CSD] 0.0.1|DEBUG|2021-10-17 08:25:39]: Optimizing for alpha: 0.7\n",
      "[CSD] 0.0.1|DEBUG|2021-10-17 08:25:48]: Optimized for alpha: 0.7 beta: -0.8415010746405982 p_succ: 0.94422261810173\n",
      "[CSD] 0.0.1|DEBUG|2021-10-17 08:25:48]: _execute_for_one_alpha, took: 9 seconds.\n",
      "[CSD] 0.0.1|DEBUG|2021-10-17 08:25:48]: Optimizing for alpha: 0.75\n",
      "[CSD] 0.0.1|DEBUG|2021-10-17 08:25:57]: Optimized for alpha: 0.75 beta: -0.8656471496952756 p_succ: 0.9572039826541937\n",
      "[CSD] 0.0.1|DEBUG|2021-10-17 08:25:57]: _execute_for_one_alpha, took: 9 seconds.\n",
      "[CSD] 0.0.1|DEBUG|2021-10-17 08:25:57]: Optimizing for alpha: 0.8\n",
      "[CSD] 0.0.1|DEBUG|2021-10-17 08:26:08]: Optimized for alpha: 0.8 beta: -0.8933036921613562 p_succ: 0.9677212066567848\n",
      "[CSD] 0.0.1|DEBUG|2021-10-17 08:26:08]: _execute_for_one_alpha, took: 10 seconds.\n",
      "[CSD] 0.0.1|DEBUG|2021-10-17 08:26:08]: Optimizing for alpha: 0.85\n",
      "[CSD] 0.0.1|DEBUG|2021-10-17 08:26:19]: Optimized for alpha: 0.85 beta: -0.927702681253248 p_succ: 0.9755638026881674\n",
      "[CSD] 0.0.1|DEBUG|2021-10-17 08:26:19]: _execute_for_one_alpha, took: 10 seconds.\n",
      "[CSD] 0.0.1|DEBUG|2021-10-17 08:26:19]: Optimizing for alpha: 0.9\n",
      "[CSD] 0.0.1|DEBUG|2021-10-17 08:26:30]: Optimized for alpha: 0.9 beta: -0.9584952263830037 p_succ: 0.9825391012596606\n",
      "[CSD] 0.0.1|DEBUG|2021-10-17 08:26:30]: _execute_for_one_alpha, took: 10 seconds.\n",
      "[CSD] 0.0.1|DEBUG|2021-10-17 08:26:30]: Optimizing for alpha: 0.95\n",
      "[CSD] 0.0.1|DEBUG|2021-10-17 08:26:42]: Optimized for alpha: 0.95 beta: -0.9944290881365506 p_succ: 0.9876118323180684\n",
      "[CSD] 0.0.1|DEBUG|2021-10-17 08:26:42]: _execute_for_one_alpha, took: 12 seconds.\n",
      "[CSD] 0.0.1|DEBUG|2021-10-17 08:26:42]: Optimizing for alpha: 1.0\n",
      "[CSD] 0.0.1|DEBUG|2021-10-17 08:27:00]: Optimized for alpha: 1.0 beta: -1.032669079359046 p_succ: 0.9914392196063698\n",
      "[CSD] 0.0.1|DEBUG|2021-10-17 08:27:00]: _execute_for_one_alpha, took: 17 seconds.\n",
      "[CSD] 0.0.1|DEBUG|2021-10-17 08:27:00]: Optimizing for alpha: 1.05\n",
      "[CSD] 0.0.1|DEBUG|2021-10-17 08:27:13]: Optimized for alpha: 1.05 beta: -1.0729680564627833 p_succ: 0.9942730355542424\n",
      "[CSD] 0.0.1|DEBUG|2021-10-17 08:27:13]: _execute_for_one_alpha, took: 12 seconds.\n",
      "[CSD] 0.0.1|DEBUG|2021-10-17 08:27:13]: Optimizing for alpha: 1.1\n",
      "[CSD] 0.0.1|DEBUG|2021-10-17 08:27:25]: Optimized for alpha: 1.1 beta: -1.1160673626093445 p_succ: 0.9962166387798272\n",
      "[CSD] 0.0.1|DEBUG|2021-10-17 08:27:25]: _execute_for_one_alpha, took: 12 seconds.\n",
      "[CSD] 0.0.1|DEBUG|2021-10-17 08:27:25]: Optimizing for alpha: 1.15\n",
      "[CSD] 0.0.1|DEBUG|2021-10-17 08:27:38]: Optimized for alpha: 1.15 beta: -1.1615925982106938 p_succ: 0.9974874192281891\n",
      "[CSD] 0.0.1|DEBUG|2021-10-17 08:27:38]: _execute_for_one_alpha, took: 12 seconds.\n",
      "[CSD] 0.0.1|DEBUG|2021-10-17 08:27:38]: Optimizing for alpha: 1.2\n",
      "[CSD] 0.0.1|DEBUG|2021-10-17 08:27:55]: Optimized for alpha: 1.2 beta: -1.2074672055697693 p_succ: 0.9984372008797645\n",
      "[CSD] 0.0.1|DEBUG|2021-10-17 08:27:55]: _execute_for_one_alpha, took: 16 seconds.\n",
      "[CSD] 0.0.1|DEBUG|2021-10-17 08:27:55]: Optimizing for alpha: 1.25\n",
      "[CSD] 0.0.1|DEBUG|2021-10-17 08:28:13]: Optimized for alpha: 1.25 beta: -1.2546127743420215 p_succ: 0.9990573521178137\n",
      "[CSD] 0.0.1|DEBUG|2021-10-17 08:28:13]: _execute_for_one_alpha, took: 18 seconds.\n",
      "[CSD] 0.0.1|DEBUG|2021-10-17 08:28:13]: Optimizing for alpha: 1.3\n",
      "[CSD] 0.0.1|DEBUG|2021-10-17 08:28:27]: Optimized for alpha: 1.3 beta: -1.3032664807390928 p_succ: 0.9993977220355431\n",
      "[CSD] 0.0.1|DEBUG|2021-10-17 08:28:27]: _execute_for_one_alpha, took: 14 seconds.\n",
      "[CSD] 0.0.1|DEBUG|2021-10-17 08:28:27]: Optimizing for alpha: 1.35\n",
      "[CSD] 0.0.1|DEBUG|2021-10-17 08:28:40]: Optimized for alpha: 1.35 beta: -1.3519449706010613 p_succ: 0.9996497676200261\n",
      "[CSD] 0.0.1|DEBUG|2021-10-17 08:28:40]: _execute_for_one_alpha, took: 12 seconds.\n",
      "[CSD] 0.0.1|DEBUG|2021-10-17 08:28:40]: Optimizing for alpha: 1.4\n",
      "[CSD] 0.0.1|DEBUG|2021-10-17 08:28:55]: Optimized for alpha: 1.4 beta: -1.4010155038812222 p_succ: 0.9998111839390693\n",
      "[CSD] 0.0.1|DEBUG|2021-10-17 08:28:55]: _execute_for_one_alpha, took: 14 seconds.\n",
      "[CSD] 0.0.1|DEBUG|2021-10-17 08:28:55]: Optimizing for alpha: 1.45\n",
      "[CSD] 0.0.1|DEBUG|2021-10-17 08:29:07]: Optimized for alpha: 1.45 beta: -1.45065919782676 p_succ: 0.9998875645580519\n",
      "[CSD] 0.0.1|DEBUG|2021-10-17 08:29:07]: _execute_for_one_alpha, took: 12 seconds.\n",
      "[CSD] 0.0.1|DEBUG|2021-10-17 08:29:07]: Optimizing for alpha: 1.5\n",
      "[CSD] 0.0.1|DEBUG|2021-10-17 08:29:20]: Optimized for alpha: 1.5 beta: -1.5003098066972838 p_succ: 0.9999437774303352\n",
      "[CSD] 0.0.1|DEBUG|2021-10-17 08:29:20]: _execute_for_one_alpha, took: 12 seconds.\n"
     ]
    },
    {
     "name": "stderr",
     "output_type": "stream",
     "text": [
      "[CSD] 0.0.1|INFO|2021-10-17 08:29:20]: Save results to file\n",
      "[CSD] 0.0.1|INFO|2021-10-17 08:29:20]: Save plot to file\n",
      "[CSD] 0.0.1|DEBUG|2021-10-17 08:29:20]: execute, took: 6 minutes and 9 seconds.\n",
      "[CSD] 0.0.1|DEBUG|2021-10-17 08:29:20]: execute_all_backends_and_measuring_types, took: 9 minutes and 51 seconds.\n"
     ]
    },
    {
     "data": {
      "image/png": "[encoded data removed]",
      "text/plain": [
       "<Figure size 720x504 with 1 Axes>"
      ]
     },
     "metadata": {
      "needs_background": "light"
     },
     "output_type": "display_data"
    },
    {
     "data": {
      "image/png": "[encoded data removed]",
      "text/plain": [
       "<Figure size 720x504 with 1 Axes>"
      ]
     },
     "metadata": {
      "needs_background": "light"
     },
     "output_type": "display_data"
    }
   ],
   "source": [
    "results = csd.execute_all_backends_and_measuring_types(\n",
    "    alphas=alphas,\n",
    "    backends=[Backends.FOCK,\n",
    "              Backends.GAUSSIAN],\n",
    "    measuring_types=[MeasuringTypes.PROBABILITIES]\n",
    ")"
   ]
  },
  {
   "cell_type": "code",
   "execution_count": 7,
   "id": "9b12a2ec",
   "metadata": {},
   "outputs": [],
   "source": [
    "from csd.util import save_object_to_disk, load_object_from_file"
   ]
  },
  {
   "cell_type": "code",
   "execution_count": 8,
   "id": "0961a44e",
   "metadata": {},
   "outputs": [],
   "source": [
    "save_object_to_disk(obj=csd, path='results')"
   ]
  },
  {
   "cell_type": "code",
   "execution_count": 9,
   "id": "3dfbd4a8",
   "metadata": {},
   "outputs": [
    {
     "ename": "TypeError",
     "evalue": "__new__() missing 1 required positional argument: 'backend'",
     "output_type": "error",
     "traceback": [
      "\u001b[0;31m---------------------------------------------------------------------------\u001b[0m",
      "\u001b[0;31mTypeError\u001b[0m                                 Traceback (most recent call last)",
      "\u001b[0;32m/tmp/ipykernel_1580219/2190154453.py\u001b[0m in \u001b[0;36m<module>\u001b[0;34m\u001b[0m\n\u001b[0;32m----> 1\u001b[0;31m \u001b[0mloaded_csd\u001b[0m \u001b[0;34m=\u001b[0m \u001b[0mload_object_from_file\u001b[0m\u001b[0;34m(\u001b[0m\u001b[0mname\u001b[0m\u001b[0;34m=\u001b[0m\u001b[0;34m'CSD_20211017_083741'\u001b[0m\u001b[0;34m,\u001b[0m \u001b[0mpath\u001b[0m\u001b[0;34m=\u001b[0m\u001b[0;34m'results'\u001b[0m\u001b[0;34m)\u001b[0m\u001b[0;34m\u001b[0m\u001b[0;34m\u001b[0m\u001b[0m\n\u001b[0m",
      "\u001b[0;32m~/sandbox/coherent-state-discrimination/src/csd/util.py\u001b[0m in \u001b[0;36mload_object_from_file\u001b[0;34m(name, path)\u001b[0m\n\u001b[1;32m     72\u001b[0m     \u001b[0mfixed_path\u001b[0m \u001b[0;34m=\u001b[0m \u001b[0m_fix_path\u001b[0m\u001b[0;34m(\u001b[0m\u001b[0mpath\u001b[0m\u001b[0;34m)\u001b[0m\u001b[0;34m\u001b[0m\u001b[0;34m\u001b[0m\u001b[0m\n\u001b[1;32m     73\u001b[0m     \u001b[0;32mwith\u001b[0m \u001b[0mopen\u001b[0m\u001b[0;34m(\u001b[0m\u001b[0;34mf'{fixed_path}{name}.pkl'\u001b[0m\u001b[0;34m,\u001b[0m \u001b[0;34m'rb'\u001b[0m\u001b[0;34m)\u001b[0m \u001b[0;32mas\u001b[0m \u001b[0mfile\u001b[0m\u001b[0;34m:\u001b[0m\u001b[0;34m\u001b[0m\u001b[0;34m\u001b[0m\u001b[0m\n\u001b[0;32m---> 74\u001b[0;31m         \u001b[0;32mreturn\u001b[0m \u001b[0mpickle\u001b[0m\u001b[0;34m.\u001b[0m\u001b[0mload\u001b[0m\u001b[0;34m(\u001b[0m\u001b[0mfile\u001b[0m\u001b[0;34m)\u001b[0m\u001b[0;34m\u001b[0m\u001b[0;34m\u001b[0m\u001b[0m\n\u001b[0m\u001b[1;32m     75\u001b[0m \u001b[0;34m\u001b[0m\u001b[0m\n\u001b[1;32m     76\u001b[0m \u001b[0;34m\u001b[0m\u001b[0m\n",
      "\u001b[0;31mTypeError\u001b[0m: __new__() missing 1 required positional argument: 'backend'"
     ]
    }
   ],
   "source": [
    "loaded_csd = load_object_from_file(name='CSD_20211017_083741', path='results')"
   ]
  },
  {
   "cell_type": "code",
   "execution_count": 10,
   "id": "dbe89acf",
   "metadata": {},
   "outputs": [
    {
     "ename": "AttributeError",
     "evalue": "'CSD' object has no attribute '__getnewargs__'",
     "output_type": "error",
     "traceback": [
      "\u001b[0;31m---------------------------------------------------------------------------\u001b[0m",
      "\u001b[0;31mAttributeError\u001b[0m                            Traceback (most recent call last)",
      "\u001b[0;32m/tmp/ipykernel_1580219/80184057.py\u001b[0m in \u001b[0;36m<module>\u001b[0;34m\u001b[0m\n\u001b[0;32m----> 1\u001b[0;31m \u001b[0mcsd\u001b[0m\u001b[0;34m.\u001b[0m\u001b[0m__getnewargs__\u001b[0m\u001b[0;34m(\u001b[0m\u001b[0;34m)\u001b[0m\u001b[0;34m\u001b[0m\u001b[0;34m\u001b[0m\u001b[0m\n\u001b[0m",
      "\u001b[0;31mAttributeError\u001b[0m: 'CSD' object has no attribute '__getnewargs__'"
     ]
    }
   ],
   "source": [
    "csd.__getnewargs__()"
   ]
  },
  {
   "cell_type": "code",
   "execution_count": 12,
   "id": "9770d43c",
   "metadata": {},
   "outputs": [
    {
     "ename": "TypeError",
     "evalue": "object.__new__(): not enough arguments",
     "output_type": "error",
     "traceback": [
      "\u001b[0;31m---------------------------------------------------------------------------\u001b[0m",
      "\u001b[0;31mTypeError\u001b[0m                                 Traceback (most recent call last)",
      "\u001b[0;32m/tmp/ipykernel_1580219/1422061619.py\u001b[0m in \u001b[0;36m<module>\u001b[0;34m\u001b[0m\n\u001b[0;32m----> 1\u001b[0;31m \u001b[0mcsd\u001b[0m\u001b[0;34m.\u001b[0m\u001b[0m__new__\u001b[0m\u001b[0;34m(\u001b[0m\u001b[0;34m)\u001b[0m\u001b[0;34m\u001b[0m\u001b[0;34m\u001b[0m\u001b[0m\n\u001b[0m",
      "\u001b[0;31mTypeError\u001b[0m: object.__new__(): not enough arguments"
     ]
    }
   ],
   "source": [
    "csd.__new__()"
   ]
  },
  {
   "cell_type": "code",
   "execution_count": 2,
   "id": "0615366e",
   "metadata": {},
   "outputs": [],
   "source": [
    "from typing import List\n",
    "from csd.batch import Batch\n",
    "# from csd.codeword import CodeWord\n",
    "from csd.codebooks import CodeBooks\n",
    "# import random\n",
    "from csd.codeword import CodeWord\n",
    "\n",
    "import numpy as np"
   ]
  },
  {
   "cell_type": "code",
   "execution_count": 3,
   "id": "f8c339b6",
   "metadata": {},
   "outputs": [],
   "source": [
    "def test_linear_codes(word_size: int = 3, alpha_value: float = 0.6) -> CodeBooks:\n",
    "    batch = Batch(size=0, word_size=word_size, alpha_value=alpha_value, random_words=False)\n",
    "    cb = CodeBooks(batch=batch)\n",
    "    return cb"
   ]
  },
  {
   "cell_type": "code",
   "execution_count": 15,
   "id": "baf2b946",
   "metadata": {},
   "outputs": [],
   "source": [
    "def filter_number_modes_from_codebook(codebook: List[CodeWord]) -> int:\n",
    "    number_codebooks = len(codebook)\n",
    "    if number_codebooks <= 0:\n",
    "        print(f'WARNING: codebook len: {number_codebooks}')\n",
    "        return 0\n",
    "    orig_number_modes = codebook[0].size\n",
    "    if number_codebooks == 1:\n",
    "        print(f'INFO: codebook len: {number_codebooks} & number modes: {orig_number_modes}')\n",
    "        return orig_number_modes\n",
    "    binary_codebook = [codeword.binary_code for codeword in codebook]\n",
    "    # print(f'binary_codebook: {binary_codebook}')\n",
    "    summed_codes = list(map(sum, zip(*binary_codebook)))\n",
    "    # print(f'summed_codes: {summed_codes}')\n",
    "    zero_constant_modes = summed_codes.count(0)\n",
    "    # print(f'zero_constant_modes: {zero_constant_modes}')\n",
    "    one_constant_modes = summed_codes.count(number_codebooks)\n",
    "    if one_constant_modes > 0:\n",
    "        print(f'one_constant_modes: {one_constant_modes}')\n",
    "        print(f'summed_codes: {summed_codes}')\n",
    "    return orig_number_modes - zero_constant_modes - one_constant_modes"
   ]
  },
  {
   "cell_type": "code",
   "execution_count": 29,
   "id": "36f22a0b",
   "metadata": {},
   "outputs": [],
   "source": [
    "def test_filter_modes():\n",
    "    alphas = _get_alphas()\n",
    "    for size in range(2, 8):\n",
    "        for alpha in alphas:\n",
    "            cb = test_linear_codes(word_size=size, alpha_value=alpha)\n",
    "            final_number_modes = [filter_number_modes_from_codebook(codebook=codebook) for codebook in cb.codebooks]\n",
    "            for codebook, final_number_mode in zip(cb.codebooks, final_number_modes):\n",
    "                # print(f'codebook: {codebook}\\nmodes: {codebook[0].size} and '\n",
    "                #       f'final_number_mode: {final_number_mode}')\n",
    "                different_modes = '*' * (codebook[0].size - final_number_mode)\n",
    "                print(f'ALPHA: {np.round(alpha, 2)} modes: {codebook[0].size} and '\n",
    "                      f'final_number_mode: {final_number_mode} {different_modes}')\n",
    "                "
   ]
  },
  {
   "cell_type": "code",
   "execution_count": 2,
   "id": "c3e675d3",
   "metadata": {},
   "outputs": [],
   "source": [
    "def _get_alphas() -> List[float]:\n",
    "    alpha_init = 0.1\n",
    "    alpha_end = 1.4\n",
    "    number_points_to_plot = 16\n",
    "    alpha_step = (alpha_end - alpha_init) / number_points_to_plot\n",
    "    return list(np.arange(alpha_init, alpha_end, alpha_step))"
   ]
  },
  {
   "cell_type": "code",
   "execution_count": 40,
   "id": "1f8f4c85",
   "metadata": {},
   "outputs": [],
   "source": [
    "alphas = _get_alphas()"
   ]
  },
  {
   "cell_type": "code",
   "execution_count": 41,
   "id": "e8606a22",
   "metadata": {},
   "outputs": [
    {
     "data": {
      "text/plain": [
       "[0.1,\n",
       " 0.18125,\n",
       " 0.26249999999999996,\n",
       " 0.34375,\n",
       " 0.42499999999999993,\n",
       " 0.50625,\n",
       " 0.5874999999999999,\n",
       " 0.6687499999999998,\n",
       " 0.7499999999999999,\n",
       " 0.8312499999999999,\n",
       " 0.9124999999999999,\n",
       " 0.9937499999999998,\n",
       " 1.075,\n",
       " 1.15625,\n",
       " 1.2374999999999998,\n",
       " 1.3187499999999999]"
      ]
     },
     "execution_count": 41,
     "metadata": {},
     "output_type": "execute_result"
    }
   ],
   "source": [
    "alphas"
   ]
  },
  {
   "cell_type": "code",
   "execution_count": 43,
   "id": "a45f8646",
   "metadata": {},
   "outputs": [
    {
     "data": {
      "text/plain": [
       "[0.42499999999999993,\n",
       " 0.50625,\n",
       " 0.5874999999999999,\n",
       " 0.6687499999999998,\n",
       " 0.7499999999999999,\n",
       " 0.8312499999999999,\n",
       " 0.9124999999999999,\n",
       " 0.9937499999999998,\n",
       " 1.075,\n",
       " 1.15625,\n",
       " 1.2374999999999998,\n",
       " 1.3187499999999999]"
      ]
     },
     "execution_count": 43,
     "metadata": {},
     "output_type": "execute_result"
    }
   ],
   "source": [
    "alphas[4:]"
   ]
  },
  {
   "cell_type": "code",
   "execution_count": 1,
   "id": "a923fc6a",
   "metadata": {},
   "outputs": [],
   "source": [
    "from csd.best_codebook import BestCodeBook\n",
    "from csd.top5_best_codebooks import Top5_BestCodeBooks\n",
    "import random\n",
    "from typing import Union"
   ]
  },
  {
   "cell_type": "code",
   "execution_count": 4,
   "id": "20bd353f",
   "metadata": {},
   "outputs": [],
   "source": [
    "cbs = test_linear_codes()"
   ]
  },
  {
   "cell_type": "code",
   "execution_count": 7,
   "id": "7f888266",
   "metadata": {},
   "outputs": [],
   "source": [
    "cb = random.choice(cbs.codebooks)\n",
    "measurements = random.choice(cbs.codebooks)"
   ]
  },
  {
   "cell_type": "code",
   "execution_count": 6,
   "id": "ee4f83c0",
   "metadata": {},
   "outputs": [
    {
     "data": {
      "text/plain": [
       "0.6"
      ]
     },
     "execution_count": 6,
     "metadata": {},
     "output_type": "execute_result"
    }
   ],
   "source": [
    "cb[0].alpha"
   ]
  },
  {
   "cell_type": "code",
   "execution_count": 11,
   "id": "40b5b8e0",
   "metadata": {},
   "outputs": [
    {
     "data": {
      "text/plain": [
       "[[0.6, 0.6, 0.6], [0.6, -0.6, -0.6], [-0.6, 0.6, -0.6], [-0.6, -0.6, 0.6]]"
      ]
     },
     "execution_count": 11,
     "metadata": {},
     "output_type": "execute_result"
    }
   ],
   "source": [
    "cb"
   ]
  },
  {
   "cell_type": "code",
   "execution_count": 12,
   "id": "8b514ae0",
   "metadata": {},
   "outputs": [],
   "source": [
    "measurement = [[random.choice([0,1]) for _ in range(codeword.size)] for codeword in cb ]"
   ]
  },
  {
   "cell_type": "code",
   "execution_count": 13,
   "id": "860d4fc3",
   "metadata": {},
   "outputs": [
    {
     "data": {
      "text/plain": [
       "[[1, 1, 0], [0, 0, 0], [1, 0, 1], [1, 0, 0]]"
      ]
     },
     "execution_count": 13,
     "metadata": {},
     "output_type": "execute_result"
    }
   ],
   "source": [
    "measurement"
   ]
  },
  {
   "cell_type": "code",
   "execution_count": 8,
   "id": "c4c8815c",
   "metadata": {},
   "outputs": [],
   "source": [
    "best = BestCodeBook(codebook=cb, measurements=measurements, success_probability=0.8, helstrom_probability=0.87, homodyne_probability=0.85)"
   ]
  },
  {
   "cell_type": "code",
   "execution_count": 9,
   "id": "4330cd65",
   "metadata": {},
   "outputs": [
    {
     "name": "stdout",
     "output_type": "stream",
     "text": [
      "{\"alpha\": 0.6, \"modes\": 3, \"success_probability\": 0.8, \"helstrom_probability\": 0.87, \"homodyne_probability\": 0.85, \"codebook\": [[0, 0, 0], [0, 1, 0], [1, 0, 1], [1, 1, 1]], \"measurements\": [[0, 0, 0], [0, 1, 1], [1, 0, 0], [1, 1, 1]]}\n"
     ]
    }
   ],
   "source": [
    "print(best)"
   ]
  },
  {
   "cell_type": "code",
   "execution_count": 13,
   "id": "d6ec3144",
   "metadata": {},
   "outputs": [],
   "source": [
    "import csv\n",
    "import json"
   ]
  },
  {
   "cell_type": "code",
   "execution_count": 10,
   "id": "3d2213f2",
   "metadata": {},
   "outputs": [],
   "source": [
    "import csv \n",
    "items = [(('fruits', 'apple'), 25), (('vegetables', 'tomato'), 23), (('chocolate', 'kitkat'), 42)]\n",
    "with open('fruits.csv', 'w') as f: \n",
    "    write = csv.writer(f) \n",
    "    write.writerows(items)"
   ]
  },
  {
   "cell_type": "code",
   "execution_count": 19,
   "id": "52dc8030",
   "metadata": {},
   "outputs": [],
   "source": [
    "with open('test.csv', 'w') as f: \n",
    "    write = csv.writer(f) \n",
    "    write.writerow(list(json.loads(best.__str__()).keys()))"
   ]
  },
  {
   "cell_type": "code",
   "execution_count": 18,
   "id": "c8ecae25",
   "metadata": {},
   "outputs": [
    {
     "data": {
      "text/plain": [
       "['alpha',\n",
       " 'modes',\n",
       " 'success_probability',\n",
       " 'helstrom_probability',\n",
       " 'homodyne_probability',\n",
       " 'codebook',\n",
       " 'measurements']"
      ]
     },
     "execution_count": 18,
     "metadata": {},
     "output_type": "execute_result"
    }
   ],
   "source": [
    "list(json.loads(best.__str__()).keys())"
   ]
  },
  {
   "cell_type": "code",
   "execution_count": 20,
   "id": "76e14d6e",
   "metadata": {},
   "outputs": [
    {
     "data": {
      "text/plain": [
       "[0.6,\n",
       " 3,\n",
       " 0.8,\n",
       " 0.87,\n",
       " 0.85,\n",
       " [[0, 0, 0], [0, 1, 0], [1, 0, 1], [1, 1, 1]],\n",
       " [[0, 0, 0], [0, 1, 1], [1, 0, 0], [1, 1, 1]]]"
      ]
     },
     "execution_count": 20,
     "metadata": {},
     "output_type": "execute_result"
    }
   ],
   "source": [
    "list(json.loads(best.__str__()).values())"
   ]
  },
  {
   "cell_type": "code",
   "execution_count": 22,
   "id": "65f2f9ef",
   "metadata": {},
   "outputs": [],
   "source": [
    "with open('test.csv', 'a+', newline='') as f:\n",
    "    write = csv.writer(f)\n",
    "    write.writerow(list(json.loads(best.__str__()).values()))"
   ]
  },
  {
   "cell_type": "code",
   "execution_count": 27,
   "id": "83cbaa5b",
   "metadata": {},
   "outputs": [],
   "source": [
    "alpha = 0.0\n",
    "modes = 0\n",
    "success_probability = 0.0\n",
    "helstrom_probability = 0.0\n",
    "homodyne_probability = 0.0\n",
    "codebook = []\n",
    "measurements = []"
   ]
  },
  {
   "cell_type": "code",
   "execution_count": 37,
   "id": "75ef742c",
   "metadata": {},
   "outputs": [
    {
     "name": "stdout",
     "output_type": "stream",
     "text": [
      "['0.6', '3', '0.8', '0.87', '0.85', '[[0, 0, 0], [0, 1, 0], [1, 0, 1], [1, 1, 1]]', '[[0, 0, 0], [0, 1, 1], [1, 0, 0], [1, 1, 1]]']\n"
     ]
    }
   ],
   "source": [
    "with open('test.csv', 'r') as f:\n",
    "    reader = csv.reader(f)\n",
    "    next(reader)\n",
    "    for row in reader:\n",
    "        print(row)\n",
    "        alpha = float(row[0])\n",
    "        modes = int(row[1])\n",
    "        success_probability = float(row[2])\n",
    "        helstrom_probability = float(row[3])\n",
    "        homodyne_probability = float(row[4])\n",
    "        codebook = json.loads(row[5])\n",
    "        measurements = row[6]\n",
    "        "
   ]
  },
  {
   "cell_type": "code",
   "execution_count": 29,
   "id": "707fa323",
   "metadata": {},
   "outputs": [
    {
     "data": {
      "text/plain": [
       "0.6"
      ]
     },
     "execution_count": 29,
     "metadata": {},
     "output_type": "execute_result"
    }
   ],
   "source": [
    "alpha"
   ]
  },
  {
   "cell_type": "code",
   "execution_count": 30,
   "id": "94538c55",
   "metadata": {},
   "outputs": [
    {
     "data": {
      "text/plain": [
       "3"
      ]
     },
     "execution_count": 30,
     "metadata": {},
     "output_type": "execute_result"
    }
   ],
   "source": [
    "modes"
   ]
  },
  {
   "cell_type": "code",
   "execution_count": 31,
   "id": "a39861fa",
   "metadata": {},
   "outputs": [
    {
     "data": {
      "text/plain": [
       "0.8"
      ]
     },
     "execution_count": 31,
     "metadata": {},
     "output_type": "execute_result"
    }
   ],
   "source": [
    "success_probability"
   ]
  },
  {
   "cell_type": "code",
   "execution_count": 32,
   "id": "da192fdd",
   "metadata": {},
   "outputs": [
    {
     "data": {
      "text/plain": [
       "0.87"
      ]
     },
     "execution_count": 32,
     "metadata": {},
     "output_type": "execute_result"
    }
   ],
   "source": [
    "helstrom_probability"
   ]
  },
  {
   "cell_type": "code",
   "execution_count": 33,
   "id": "7aacbc41",
   "metadata": {},
   "outputs": [
    {
     "data": {
      "text/plain": [
       "0.85"
      ]
     },
     "execution_count": 33,
     "metadata": {},
     "output_type": "execute_result"
    }
   ],
   "source": [
    "homodyne_probability"
   ]
  },
  {
   "cell_type": "code",
   "execution_count": 41,
   "id": "2c2a4636",
   "metadata": {},
   "outputs": [
    {
     "data": {
      "text/plain": [
       "int"
      ]
     },
     "execution_count": 41,
     "metadata": {},
     "output_type": "execute_result"
    }
   ],
   "source": [
    "type(codebook[0][0])"
   ]
  },
  {
   "cell_type": "code",
   "execution_count": null,
   "id": "515d3ea5",
   "metadata": {},
   "outputs": [],
   "source": []
  },
  {
   "cell_type": "code",
   "execution_count": 24,
   "id": "254a2f50",
   "metadata": {},
   "outputs": [
    {
     "data": {
      "text/plain": [
       "''"
      ]
     },
     "execution_count": 24,
     "metadata": {},
     "output_type": "execute_result"
    }
   ],
   "source": [
    "final"
   ]
  },
  {
   "cell_type": "code",
   "execution_count": 2,
   "id": "938bce20",
   "metadata": {},
   "outputs": [],
   "source": [
    "top5 = Top5_BestCodeBooks()"
   ]
  },
  {
   "cell_type": "code",
   "execution_count": 3,
   "id": "1c5b1cca",
   "metadata": {},
   "outputs": [
    {
     "data": {
      "text/plain": [
       "[]"
      ]
     },
     "execution_count": 3,
     "metadata": {},
     "output_type": "execute_result"
    }
   ],
   "source": [
    "top5.top5"
   ]
  },
  {
   "cell_type": "code",
   "execution_count": 5,
   "id": "ca4552c6",
   "metadata": {},
   "outputs": [
    {
     "data": {
      "text/plain": [
       "[1, 2, 3, 4, 5]"
      ]
     },
     "execution_count": 5,
     "metadata": {},
     "output_type": "execute_result"
    }
   ],
   "source": [
    "list(range(1,6))"
   ]
  },
  {
   "cell_type": "code",
   "execution_count": 8,
   "id": "b870e39c",
   "metadata": {},
   "outputs": [
    {
     "data": {
      "text/plain": [
       "0.3634040786380177"
      ]
     },
     "execution_count": 8,
     "metadata": {},
     "output_type": "execute_result"
    }
   ],
   "source": [
    "random.uniform(0, 1)"
   ]
  },
  {
   "cell_type": "code",
   "execution_count": 4,
   "id": "b3ec535f",
   "metadata": {},
   "outputs": [],
   "source": [
    "def _generate_codebooks(word_size: int = 3, alpha_value: float = 0.6) -> CodeBooks:\n",
    "    batch = Batch(size=0, word_size=word_size, alpha_value=alpha_value, random_words=False)\n",
    "    return CodeBooks(batch=batch)\n",
    "\n",
    "\n",
    "def _generate_best_codebook(success_probability: float,\n",
    "                            modes: int = 3,\n",
    "                            alpha_value: float = 0.6,\n",
    "                            helstrom_probability: float = 0.87,\n",
    "                            homodyne_probability: float = 0.85\n",
    "                            ) -> Union[None, BestCodeBook]:\n",
    "    cbs = _generate_codebooks(word_size=modes, alpha_value=alpha_value)\n",
    "    if cbs.size <= 0:\n",
    "        return None\n",
    "    cb = random.choice(cbs.codebooks)\n",
    "    random_measurement = random.choice(cbs.codebooks)\n",
    "    return BestCodeBook(codebook=cb,\n",
    "                        measurements=random_measurement,\n",
    "                        success_probability=success_probability,\n",
    "                        helstrom_probability=helstrom_probability,\n",
    "                        homodyne_probability=homodyne_probability)"
   ]
  },
  {
   "cell_type": "code",
   "execution_count": 5,
   "id": "9a9da35d",
   "metadata": {},
   "outputs": [],
   "source": [
    "alpha=0.75\n",
    "mode=3\n",
    "number_codebooks = 10\n",
    "top5_cbs = Top5_BestCodeBooks()\n",
    "generated_codebooks = 0\n",
    "for _ in range(number_codebooks):\n",
    "    cb = _generate_best_codebook(success_probability=random.uniform(0, 1),\n",
    "                                 modes=mode,\n",
    "                                 alpha_value=alpha)\n",
    "    if cb is None:\n",
    "        continue\n",
    "    top5_cbs.add(potential_best_codebook=cb)\n",
    "    generated_codebooks += 1"
   ]
  },
  {
   "cell_type": "code",
   "execution_count": 6,
   "id": "cd1c12cf",
   "metadata": {},
   "outputs": [
    {
     "data": {
      "text/plain": [
       "[[0.75, 0.75, 0.75],\n",
       " [0.75, -0.75, -0.75],\n",
       " [-0.75, 0.75, 0.75],\n",
       " [-0.75, -0.75, -0.75]]"
      ]
     },
     "execution_count": 6,
     "metadata": {},
     "output_type": "execute_result"
    }
   ],
   "source": [
    "top5_cbs.first.codebook"
   ]
  },
  {
   "cell_type": "code",
   "execution_count": 7,
   "id": "f6575578",
   "metadata": {},
   "outputs": [
    {
     "data": {
      "text/plain": [
       "[BestCodeBook(codebook=[[0.75, 0.75, 0.75], [0.75, -0.75, -0.75], [-0.75, 0.75, 0.75], [-0.75, -0.75, -0.75]], measurements=[[0.75, 0.75, 0.75], [0.75, -0.75, -0.75], [-0.75, 0.75, -0.75], [-0.75, -0.75, 0.75]], success_probability=0.9580290152332657, helstrom_probability=0.87, homodyne_probability=0.85),\n",
       " BestCodeBook(codebook=[[0.75, 0.75, 0.75], [0.75, -0.75, 0.75], [-0.75, 0.75, 0.75], [-0.75, -0.75, 0.75]], measurements=[[0.75, 0.75, 0.75], [0.75, -0.75, 0.75], [-0.75, 0.75, 0.75], [-0.75, -0.75, 0.75]], success_probability=0.8235431220251648, helstrom_probability=0.87, homodyne_probability=0.85),\n",
       " BestCodeBook(codebook=[[0.75, 0.75, 0.75], [0.75, -0.75, -0.75], [-0.75, 0.75, -0.75], [-0.75, -0.75, 0.75]], measurements=[[0.75, 0.75, 0.75], [0.75, -0.75, -0.75], [-0.75, 0.75, -0.75], [-0.75, -0.75, 0.75]], success_probability=0.7958124314824909, helstrom_probability=0.87, homodyne_probability=0.85),\n",
       " BestCodeBook(codebook=[[0.75, 0.75, 0.75], [0.75, -0.75, 0.75], [-0.75, 0.75, -0.75], [-0.75, -0.75, -0.75]], measurements=[[0.75, 0.75, 0.75], [0.75, -0.75, -0.75], [-0.75, 0.75, 0.75], [-0.75, -0.75, -0.75]], success_probability=0.604636672881133, helstrom_probability=0.87, homodyne_probability=0.85),\n",
       " BestCodeBook(codebook=[[0.75, 0.75, 0.75], [0.75, -0.75, -0.75], [-0.75, 0.75, 0.75], [-0.75, -0.75, -0.75]], measurements=[[0.75, 0.75, 0.75], [0.75, -0.75, 0.75], [-0.75, 0.75, -0.75], [-0.75, -0.75, -0.75]], success_probability=0.6035576855366984, helstrom_probability=0.87, homodyne_probability=0.85)]"
      ]
     },
     "execution_count": 7,
     "metadata": {},
     "output_type": "execute_result"
    }
   ],
   "source": [
    "top5_cbs.top5"
   ]
  },
  {
   "cell_type": "code",
   "execution_count": null,
   "id": "0f6ab43f",
   "metadata": {},
   "outputs": [],
   "source": []
  }
 ],
 "metadata": {
  "kernelspec": {
   "display_name": "Python 3 (ipykernel)",
   "language": "python",
   "name": "python3"
  },
  "language_info": {
   "codemirror_mode": {
    "name": "ipython",
    "version": 3
   },
   "file_extension": ".py",
   "mimetype": "text/x-python",
   "name": "python",
   "nbconvert_exporter": "python",
   "pygments_lexer": "ipython3",
   "version": "3.9.7"
  }
 },
 "nbformat": 4,
 "nbformat_minor": 5
}
